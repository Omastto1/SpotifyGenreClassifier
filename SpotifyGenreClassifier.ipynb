{
 "cells": [
  {
   "cell_type": "code",
   "metadata": {
    "id": "2mEgTWaVCCps",
    "cell_id": "00000-e8fb13c8-a817-41a2-a0f8-0b8937baa1d9",
    "deepnote_to_be_reexecuted": false,
    "source_hash": "333d0216",
    "execution_start": 1641336023608,
    "execution_millis": 2427,
    "deepnote_cell_type": "code"
   },
   "source": "import numpy as np\nimport pandas as pd\nimport seaborn as sns\nfrom pandas.api.types import CategoricalDtype\nfrom sklearn.model_selection import train_test_split\nfrom sklearn.metrics import classification_report,confusion_matrix\n\n# !pip install openpyxl\n\npd.set_option('display.max_rows', 50)",
   "execution_count": 1,
   "outputs": []
  },
  {
   "cell_type": "markdown",
   "source": "# New section",
   "metadata": {
    "id": "-ZZY1R4HC2Ss",
    "cell_id": "00001-118fa32f-40c8-4ff6-9a39-17a98f6145e0",
    "deepnote_cell_type": "markdown"
   }
  },
  {
   "cell_type": "code",
   "metadata": {
    "id": "wSMYrMmhDq6N",
    "cell_id": "00002-870cd6fb-5837-402e-b64c-58b1a40b3492",
    "deepnote_to_be_reexecuted": false,
    "source_hash": "9f15e41c",
    "execution_start": 1641336026045,
    "execution_millis": 5144,
    "deepnote_output_heights": [
     520.515625
    ],
    "deepnote_cell_type": "code"
   },
   "source": "songs = pd.read_excel(\"spotify_genre_final.xlsx\")",
   "execution_count": 2,
   "outputs": []
  },
  {
   "cell_type": "code",
   "metadata": {
    "id": "PHFtC5dQD4Ed",
    "cell_id": "00003-37c3b9cf-ae6a-4048-9b1d-f81d4844b4d9",
    "deepnote_to_be_reexecuted": false,
    "source_hash": "98bfabd5",
    "execution_start": 1641336031197,
    "execution_millis": 272,
    "deepnote_cell_type": "code"
   },
   "source": "songs.info()",
   "execution_count": 3,
   "outputs": [
    {
     "name": "stdout",
     "text": "<class 'pandas.core.frame.DataFrame'>\nRangeIndex: 6917 entries, 0 to 6916\nData columns (total 23 columns):\n #   Column                  Non-Null Count  Dtype  \n---  ------                  --------------  -----  \n 0   Genre                   6917 non-null   object \n 1   Title                   6917 non-null   object \n 2   Album_cover_link        6917 non-null   object \n 3   Artist                  6917 non-null   object \n 4   duration_ms             6917 non-null   int64  \n 5   explicit                6917 non-null   bool   \n 6   id                      6917 non-null   object \n 7   popularity              6917 non-null   int64  \n 8   release_date            6917 non-null   object \n 9   release_date_precision  6917 non-null   object \n 10  total_tracks            6917 non-null   int64  \n 11  danceability            6917 non-null   float64\n 12  energy                  6917 non-null   float64\n 13  key                     6917 non-null   int64  \n 14  loudness                6917 non-null   float64\n 15  mode                    6917 non-null   int64  \n 16  speechiness             6917 non-null   float64\n 17  acousticness            6917 non-null   float64\n 18  instrumentalness        6917 non-null   float64\n 19  liveness                6917 non-null   float64\n 20  valence                 6917 non-null   float64\n 21  tempo                   6917 non-null   float64\n 22  time_signature          6917 non-null   int64  \ndtypes: bool(1), float64(9), int64(6), object(7)\nmemory usage: 1.2+ MB\n",
     "output_type": "stream",
     "data": {}
    }
   ]
  },
  {
   "cell_type": "code",
   "metadata": {
    "id": "h0jsdVegD8xN",
    "cell_id": "00004-947d0939-9ffc-4c0b-b6be-845272dc3784",
    "deepnote_to_be_reexecuted": false,
    "source_hash": "802c4427",
    "execution_start": 1641336031224,
    "execution_millis": 5,
    "deepnote_cell_type": "code"
   },
   "source": "songs_by_genre = songs.groupby(\"Genre\")\nsongs_by_artist = songs.groupby(\"Artist\")",
   "execution_count": 4,
   "outputs": []
  },
  {
   "cell_type": "code",
   "metadata": {
    "cell_id": "00005-4935f02a-392d-47f9-ac43-48f99498bf98",
    "deepnote_to_be_reexecuted": false,
    "source_hash": "fcbfb47f",
    "execution_start": 1641336031233,
    "execution_millis": 206,
    "deepnote_cell_type": "code"
   },
   "source": "artists = []\nfor artist, songs in songs_by_artist:\n    artists.append(artist)",
   "execution_count": 5,
   "outputs": []
  },
  {
   "cell_type": "code",
   "metadata": {
    "id": "vJP50oukEGPd",
    "cell_id": "00006-c01197bb-a3dc-48c6-8901-84cb6e856489",
    "deepnote_output_heights": [
     null,
     382.078125,
     null,
     382.078125,
     null,
     382.078125,
     null,
     382.078125,
     null,
     382.078125,
     null,
     382.078125,
     null,
     382.078125
    ],
    "deepnote_to_be_reexecuted": false,
    "source_hash": "4fbcddf0",
    "execution_start": 1641336031445,
    "execution_millis": 1638,
    "deepnote_table_state": {
     "pageSize": 10,
     "pageIndex": 1,
     "filters": [],
     "sortBy": []
    },
    "deepnote_table_loading": false,
    "deepnote_table_invalid": false,
    "deepnote_cell_type": "code"
   },
   "source": "genres = []\nfor genre, songs_group in songs_by_genre:\n  genres.append(genre)\n  print(genre)\n  display(songs_group)",
   "execution_count": 6,
   "outputs": [
    {
     "name": "stdout",
     "text": "edm\n",
     "output_type": "stream",
     "data": {}
    },
    {
     "data": {
      "application/vnd.deepnote.dataframe.v2+json": {
       "row_count": 956,
       "column_count": 23,
       "columns": [
        {
         "name": "Genre",
         "dtype": "object",
         "stats": {
          "unique_count": 1,
          "nan_count": 0,
          "categories": [
           {
            "name": "edm",
            "count": 956
           }
          ]
         }
        },
        {
         "name": "Title",
         "dtype": "object",
         "stats": {
          "unique_count": 935,
          "nan_count": 0,
          "categories": [
           {
            "name": "Alive",
            "count": 3
           },
           {
            "name": "Breathe",
            "count": 3
           },
           {
            "name": "933 others",
            "count": 950
           }
          ]
         }
        },
        {
         "name": "Album_cover_link",
         "dtype": "object",
         "stats": {
          "unique_count": 919,
          "nan_count": 0,
          "categories": [
           {
            "name": "https://i.scdn.co/image/ab67616d0000b2732b83b1f05af0be85caec37e7",
            "count": 3
           },
           {
            "name": "https://i.scdn.co/image/ab67616d0000b273fba6de0b38b0168d480b1a27",
            "count": 3
           },
           {
            "name": "917 others",
            "count": 950
           }
          ]
         }
        },
        {
         "name": "Artist",
         "dtype": "object",
         "stats": {
          "unique_count": 477,
          "nan_count": 0,
          "categories": [
           {
            "name": "Afrojack",
            "count": 3
           },
           {
            "name": "Dillon Francis",
            "count": 3
           },
           {
            "name": "475 others",
            "count": 950
           }
          ]
         }
        },
        {
         "name": "duration_ms",
         "dtype": "int64",
         "stats": {
          "unique_count": 909,
          "nan_count": 0,
          "min": "123200",
          "max": "572354",
          "histogram": [
           {
            "bin_start": 123200,
            "bin_end": 168115.4,
            "count": 179
           },
           {
            "bin_start": 168115.4,
            "bin_end": 213030.8,
            "count": 424
           },
           {
            "bin_start": 213030.8,
            "bin_end": 257946.2,
            "count": 226
           },
           {
            "bin_start": 257946.2,
            "bin_end": 302861.6,
            "count": 79
           },
           {
            "bin_start": 302861.6,
            "bin_end": 347777,
            "count": 30
           },
           {
            "bin_start": 347777,
            "bin_end": 392692.4,
            "count": 10
           },
           {
            "bin_start": 392692.4,
            "bin_end": 437607.8,
            "count": 5
           },
           {
            "bin_start": 437607.8,
            "bin_end": 482523.2,
            "count": 0
           },
           {
            "bin_start": 482523.2,
            "bin_end": 527438.6000000001,
            "count": 1
           },
           {
            "bin_start": 527438.6000000001,
            "bin_end": 572354,
            "count": 2
           }
          ]
         }
        },
        {
         "name": "explicit",
         "dtype": "bool",
         "stats": {
          "unique_count": 2,
          "nan_count": 0,
          "categories": [
           {
            "name": "False",
            "count": 881
           },
           {
            "name": "True",
            "count": 75
           }
          ]
         }
        },
        {
         "name": "id",
         "dtype": "object",
         "stats": {
          "unique_count": 956,
          "nan_count": 0,
          "categories": [
           {
            "name": "29p6UW08MXzwj9thWBW3uF",
            "count": 1
           },
           {
            "name": "7BxIvkfVSgoUUlDcBVff61",
            "count": 1
           },
           {
            "name": "954 others",
            "count": 954
           }
          ]
         }
        },
        {
         "name": "popularity",
         "dtype": "int64",
         "stats": {
          "unique_count": 72,
          "nan_count": 0,
          "min": "0",
          "max": "92",
          "histogram": [
           {
            "bin_start": 0,
            "bin_end": 9.2,
            "count": 1
           },
           {
            "bin_start": 9.2,
            "bin_end": 18.4,
            "count": 3
           },
           {
            "bin_start": 18.4,
            "bin_end": 27.599999999999998,
            "count": 9
           },
           {
            "bin_start": 27.599999999999998,
            "bin_end": 36.8,
            "count": 19
           },
           {
            "bin_start": 36.8,
            "bin_end": 46,
            "count": 115
           },
           {
            "bin_start": 46,
            "bin_end": 55.199999999999996,
            "count": 353
           },
           {
            "bin_start": 55.199999999999996,
            "bin_end": 64.39999999999999,
            "count": 275
           },
           {
            "bin_start": 64.39999999999999,
            "bin_end": 73.6,
            "count": 127
           },
           {
            "bin_start": 73.6,
            "bin_end": 82.8,
            "count": 39
           },
           {
            "bin_start": 82.8,
            "bin_end": 92,
            "count": 15
           }
          ]
         }
        },
        {
         "name": "release_date",
         "dtype": "object",
         "stats": {
          "unique_count": 499,
          "nan_count": 0,
          "categories": [
           {
            "name": "2014-01-01",
            "count": 11
           },
           {
            "name": "2021-10-08",
            "count": 10
           },
           {
            "name": "497 others",
            "count": 935
           }
          ]
         }
        },
        {
         "name": "release_date_precision",
         "dtype": "object",
         "stats": {
          "unique_count": 2,
          "nan_count": 0,
          "categories": [
           {
            "name": "day",
            "count": 948
           },
           {
            "name": "year",
            "count": 8
           }
          ]
         }
        },
        {
         "name": "total_tracks",
         "dtype": "int64",
         "stats": {
          "unique_count": 31,
          "nan_count": 0,
          "min": "1",
          "max": "55",
          "histogram": [
           {
            "bin_start": 1,
            "bin_end": 6.4,
            "count": 707
           },
           {
            "bin_start": 6.4,
            "bin_end": 11.8,
            "count": 79
           },
           {
            "bin_start": 11.8,
            "bin_end": 17.200000000000003,
            "count": 124
           },
           {
            "bin_start": 17.200000000000003,
            "bin_end": 22.6,
            "count": 27
           },
           {
            "bin_start": 22.6,
            "bin_end": 28,
            "count": 6
           },
           {
            "bin_start": 28,
            "bin_end": 33.400000000000006,
            "count": 8
           },
           {
            "bin_start": 33.400000000000006,
            "bin_end": 38.800000000000004,
            "count": 4
           },
           {
            "bin_start": 38.800000000000004,
            "bin_end": 44.2,
            "count": 0
           },
           {
            "bin_start": 44.2,
            "bin_end": 49.6,
            "count": 0
           },
           {
            "bin_start": 49.6,
            "bin_end": 55,
            "count": 1
           }
          ]
         }
        },
        {
         "name": "danceability",
         "dtype": "float64",
         "stats": {
          "unique_count": 421,
          "nan_count": 0,
          "min": "0.239",
          "max": "0.968",
          "histogram": [
           {
            "bin_start": 0.239,
            "bin_end": 0.31189999999999996,
            "count": 7
           },
           {
            "bin_start": 0.31189999999999996,
            "bin_end": 0.3848,
            "count": 20
           },
           {
            "bin_start": 0.3848,
            "bin_end": 0.4577,
            "count": 56
           },
           {
            "bin_start": 0.4577,
            "bin_end": 0.5306,
            "count": 120
           },
           {
            "bin_start": 0.5306,
            "bin_end": 0.6034999999999999,
            "count": 177
           },
           {
            "bin_start": 0.6034999999999999,
            "bin_end": 0.6763999999999999,
            "count": 247
           },
           {
            "bin_start": 0.6763999999999999,
            "bin_end": 0.7493,
            "count": 177
           },
           {
            "bin_start": 0.7493,
            "bin_end": 0.8221999999999999,
            "count": 107
           },
           {
            "bin_start": 0.8221999999999999,
            "bin_end": 0.8950999999999999,
            "count": 39
           },
           {
            "bin_start": 0.8950999999999999,
            "bin_end": 0.968,
            "count": 6
           }
          ]
         }
        },
        {
         "name": "energy",
         "dtype": "float64",
         "stats": {
          "unique_count": 389,
          "nan_count": 0,
          "min": "0.313",
          "max": "0.998",
          "histogram": [
           {
            "bin_start": 0.313,
            "bin_end": 0.3815,
            "count": 3
           },
           {
            "bin_start": 0.3815,
            "bin_end": 0.45,
            "count": 0
           },
           {
            "bin_start": 0.45,
            "bin_end": 0.5185,
            "count": 11
           },
           {
            "bin_start": 0.5185,
            "bin_end": 0.587,
            "count": 48
           },
           {
            "bin_start": 0.587,
            "bin_end": 0.6555,
            "count": 51
           },
           {
            "bin_start": 0.6555,
            "bin_end": 0.724,
            "count": 136
           },
           {
            "bin_start": 0.724,
            "bin_end": 0.7925,
            "count": 158
           },
           {
            "bin_start": 0.7925,
            "bin_end": 0.861,
            "count": 191
           },
           {
            "bin_start": 0.861,
            "bin_end": 0.9295,
            "count": 213
           },
           {
            "bin_start": 0.9295,
            "bin_end": 0.998,
            "count": 145
           }
          ]
         }
        },
        {
         "name": "key",
         "dtype": "int64",
         "stats": {
          "unique_count": 12,
          "nan_count": 0,
          "min": "0",
          "max": "11",
          "histogram": [
           {
            "bin_start": 0,
            "bin_end": 1.1,
            "count": 230
           },
           {
            "bin_start": 1.1,
            "bin_end": 2.2,
            "count": 70
           },
           {
            "bin_start": 2.2,
            "bin_end": 3.3000000000000003,
            "count": 26
           },
           {
            "bin_start": 3.3000000000000003,
            "bin_end": 4.4,
            "count": 61
           },
           {
            "bin_start": 4.4,
            "bin_end": 5.5,
            "count": 73
           },
           {
            "bin_start": 5.5,
            "bin_end": 6.6000000000000005,
            "count": 86
           },
           {
            "bin_start": 6.6000000000000005,
            "bin_end": 7.700000000000001,
            "count": 87
           },
           {
            "bin_start": 7.700000000000001,
            "bin_end": 8.8,
            "count": 86
           },
           {
            "bin_start": 8.8,
            "bin_end": 9.9,
            "count": 72
           },
           {
            "bin_start": 9.9,
            "bin_end": 11,
            "count": 165
           }
          ]
         }
        },
        {
         "name": "loudness",
         "dtype": "float64",
         "stats": {
          "unique_count": 889,
          "nan_count": 0,
          "min": "-13.399",
          "max": "0.856",
          "histogram": [
           {
            "bin_start": -13.399,
            "bin_end": -11.9735,
            "count": 4
           },
           {
            "bin_start": -11.9735,
            "bin_end": -10.547999999999998,
            "count": 4
           },
           {
            "bin_start": -10.547999999999998,
            "bin_end": -9.122499999999999,
            "count": 17
           },
           {
            "bin_start": -9.122499999999999,
            "bin_end": -7.696999999999999,
            "count": 54
           },
           {
            "bin_start": -7.696999999999999,
            "bin_end": -6.2715,
            "count": 134
           },
           {
            "bin_start": -6.2715,
            "bin_end": -4.845999999999998,
            "count": 279
           },
           {
            "bin_start": -4.845999999999998,
            "bin_end": -3.4204999999999988,
            "count": 265
           },
           {
            "bin_start": -3.4204999999999988,
            "bin_end": -1.9949999999999992,
            "count": 159
           },
           {
            "bin_start": -1.9949999999999992,
            "bin_end": -0.5694999999999997,
            "count": 35
           },
           {
            "bin_start": -0.5694999999999997,
            "bin_end": 0.856,
            "count": 5
           }
          ]
         }
        },
        {
         "name": "mode",
         "dtype": "int64",
         "stats": {
          "unique_count": 2,
          "nan_count": 0,
          "min": "0",
          "max": "1",
          "histogram": [
           {
            "bin_start": 0,
            "bin_end": 0.1,
            "count": 472
           },
           {
            "bin_start": 0.1,
            "bin_end": 0.2,
            "count": 0
           },
           {
            "bin_start": 0.2,
            "bin_end": 0.30000000000000004,
            "count": 0
           },
           {
            "bin_start": 0.30000000000000004,
            "bin_end": 0.4,
            "count": 0
           },
           {
            "bin_start": 0.4,
            "bin_end": 0.5,
            "count": 0
           },
           {
            "bin_start": 0.5,
            "bin_end": 0.6000000000000001,
            "count": 0
           },
           {
            "bin_start": 0.6000000000000001,
            "bin_end": 0.7000000000000001,
            "count": 0
           },
           {
            "bin_start": 0.7000000000000001,
            "bin_end": 0.8,
            "count": 0
           },
           {
            "bin_start": 0.8,
            "bin_end": 0.9,
            "count": 0
           },
           {
            "bin_start": 0.9,
            "bin_end": 1,
            "count": 484
           }
          ]
         }
        },
        {
         "name": "speechiness",
         "dtype": "float64",
         "stats": {
          "unique_count": 537,
          "nan_count": 0,
          "min": "0.0251",
          "max": "0.388",
          "histogram": [
           {
            "bin_start": 0.0251,
            "bin_end": 0.06139,
            "count": 553
           },
           {
            "bin_start": 0.06139,
            "bin_end": 0.09768,
            "count": 199
           },
           {
            "bin_start": 0.09768,
            "bin_end": 0.13397,
            "count": 74
           },
           {
            "bin_start": 0.13397,
            "bin_end": 0.17026000000000002,
            "count": 43
           },
           {
            "bin_start": 0.17026000000000002,
            "bin_end": 0.20655,
            "count": 22
           },
           {
            "bin_start": 0.20655,
            "bin_end": 0.24284000000000003,
            "count": 25
           },
           {
            "bin_start": 0.24284000000000003,
            "bin_end": 0.27913000000000004,
            "count": 16
           },
           {
            "bin_start": 0.27913000000000004,
            "bin_end": 0.31542000000000003,
            "count": 11
           },
           {
            "bin_start": 0.31542000000000003,
            "bin_end": 0.35171,
            "count": 10
           },
           {
            "bin_start": 0.35171,
            "bin_end": 0.388,
            "count": 3
           }
          ]
         }
        },
        {
         "name": "acousticness",
         "dtype": "float64",
         "stats": {
          "unique_count": 734,
          "nan_count": 0,
          "min": "1.66e-06",
          "max": "0.785",
          "histogram": [
           {
            "bin_start": 0.00000166,
            "bin_end": 0.078501494,
            "count": 712
           },
           {
            "bin_start": 0.078501494,
            "bin_end": 0.157001328,
            "count": 101
           },
           {
            "bin_start": 0.157001328,
            "bin_end": 0.235501162,
            "count": 63
           },
           {
            "bin_start": 0.235501162,
            "bin_end": 0.31400099600000003,
            "count": 29
           },
           {
            "bin_start": 0.31400099600000003,
            "bin_end": 0.39250083,
            "count": 23
           },
           {
            "bin_start": 0.39250083,
            "bin_end": 0.47100066400000007,
            "count": 11
           },
           {
            "bin_start": 0.47100066400000007,
            "bin_end": 0.549500498,
            "count": 7
           },
           {
            "bin_start": 0.549500498,
            "bin_end": 0.628000332,
            "count": 3
           },
           {
            "bin_start": 0.628000332,
            "bin_end": 0.7065001660000001,
            "count": 6
           },
           {
            "bin_start": 0.7065001660000001,
            "bin_end": 0.785,
            "count": 1
           }
          ]
         }
        },
        {
         "name": "instrumentalness",
         "dtype": "float64",
         "stats": {
          "unique_count": 679,
          "nan_count": 0,
          "min": "0.0",
          "max": "0.973",
          "histogram": [
           {
            "bin_start": 0,
            "bin_end": 0.0973,
            "count": 716
           },
           {
            "bin_start": 0.0973,
            "bin_end": 0.1946,
            "count": 35
           },
           {
            "bin_start": 0.1946,
            "bin_end": 0.2919,
            "count": 28
           },
           {
            "bin_start": 0.2919,
            "bin_end": 0.3892,
            "count": 15
           },
           {
            "bin_start": 0.3892,
            "bin_end": 0.4865,
            "count": 16
           },
           {
            "bin_start": 0.4865,
            "bin_end": 0.5838,
            "count": 27
           },
           {
            "bin_start": 0.5838,
            "bin_end": 0.6811,
            "count": 23
           },
           {
            "bin_start": 0.6811,
            "bin_end": 0.7784,
            "count": 26
           },
           {
            "bin_start": 0.7784,
            "bin_end": 0.8756999999999999,
            "count": 43
           },
           {
            "bin_start": 0.8756999999999999,
            "bin_end": 0.973,
            "count": 27
           }
          ]
         }
        },
        {
         "name": "liveness",
         "dtype": "float64",
         "stats": {
          "unique_count": 516,
          "nan_count": 0,
          "min": "0.0208",
          "max": "0.959",
          "histogram": [
           {
            "bin_start": 0.0208,
            "bin_end": 0.11461999999999999,
            "count": 357
           },
           {
            "bin_start": 0.11461999999999999,
            "bin_end": 0.20843999999999996,
            "count": 286
           },
           {
            "bin_start": 0.20843999999999996,
            "bin_end": 0.3022599999999999,
            "count": 128
           },
           {
            "bin_start": 0.3022599999999999,
            "bin_end": 0.39607999999999993,
            "count": 98
           },
           {
            "bin_start": 0.39607999999999993,
            "bin_end": 0.48989999999999995,
            "count": 29
           },
           {
            "bin_start": 0.48989999999999995,
            "bin_end": 0.5837199999999999,
            "count": 16
           },
           {
            "bin_start": 0.5837199999999999,
            "bin_end": 0.6775399999999999,
            "count": 18
           },
           {
            "bin_start": 0.6775399999999999,
            "bin_end": 0.7713599999999999,
            "count": 12
           },
           {
            "bin_start": 0.7713599999999999,
            "bin_end": 0.86518,
            "count": 6
           },
           {
            "bin_start": 0.86518,
            "bin_end": 0.959,
            "count": 6
           }
          ]
         }
        },
        {
         "name": "valence",
         "dtype": "float64",
         "stats": {
          "unique_count": 572,
          "nan_count": 0,
          "min": "0.026",
          "max": "0.975",
          "histogram": [
           {
            "bin_start": 0.026,
            "bin_end": 0.1209,
            "count": 83
           },
           {
            "bin_start": 0.1209,
            "bin_end": 0.2158,
            "count": 152
           },
           {
            "bin_start": 0.2158,
            "bin_end": 0.31070000000000003,
            "count": 141
           },
           {
            "bin_start": 0.31070000000000003,
            "bin_end": 0.4056,
            "count": 162
           },
           {
            "bin_start": 0.4056,
            "bin_end": 0.5005,
            "count": 132
           },
           {
            "bin_start": 0.5005,
            "bin_end": 0.5954,
            "count": 119
           },
           {
            "bin_start": 0.5954,
            "bin_end": 0.6903,
            "count": 77
           },
           {
            "bin_start": 0.6903,
            "bin_end": 0.7852,
            "count": 47
           },
           {
            "bin_start": 0.7852,
            "bin_end": 0.8801,
            "count": 28
           },
           {
            "bin_start": 0.8801,
            "bin_end": 0.975,
            "count": 15
           }
          ]
         }
        },
        {
         "name": "tempo",
         "dtype": "float64",
         "stats": {
          "unique_count": 828,
          "nan_count": 0,
          "min": "72.533",
          "max": "200.991",
          "histogram": [
           {
            "bin_start": 72.533,
            "bin_end": 85.3788,
            "count": 26
           },
           {
            "bin_start": 85.3788,
            "bin_end": 98.22460000000001,
            "count": 39
           },
           {
            "bin_start": 98.22460000000001,
            "bin_end": 111.0704,
            "count": 70
           },
           {
            "bin_start": 111.0704,
            "bin_end": 123.9162,
            "count": 160
           },
           {
            "bin_start": 123.9162,
            "bin_end": 136.762,
            "count": 466
           },
           {
            "bin_start": 136.762,
            "bin_end": 149.6078,
            "count": 68
           },
           {
            "bin_start": 149.6078,
            "bin_end": 162.45360000000002,
            "count": 74
           },
           {
            "bin_start": 162.45360000000002,
            "bin_end": 175.29940000000002,
            "count": 38
           },
           {
            "bin_start": 175.29940000000002,
            "bin_end": 188.14520000000002,
            "count": 11
           },
           {
            "bin_start": 188.14520000000002,
            "bin_end": 200.991,
            "count": 4
           }
          ]
         }
        },
        {
         "name": "time_signature",
         "dtype": "int64",
         "stats": {
          "unique_count": 4,
          "nan_count": 0,
          "min": "1",
          "max": "5",
          "histogram": [
           {
            "bin_start": 1,
            "bin_end": 1.4,
            "count": 1
           },
           {
            "bin_start": 1.4,
            "bin_end": 1.8,
            "count": 0
           },
           {
            "bin_start": 1.8,
            "bin_end": 2.2,
            "count": 0
           },
           {
            "bin_start": 2.2,
            "bin_end": 2.6,
            "count": 0
           },
           {
            "bin_start": 2.6,
            "bin_end": 3,
            "count": 0
           },
           {
            "bin_start": 3,
            "bin_end": 3.4000000000000004,
            "count": 14
           },
           {
            "bin_start": 3.4000000000000004,
            "bin_end": 3.8000000000000003,
            "count": 0
           },
           {
            "bin_start": 3.8000000000000003,
            "bin_end": 4.2,
            "count": 939
           },
           {
            "bin_start": 4.2,
            "bin_end": 4.6,
            "count": 0
           },
           {
            "bin_start": 4.6,
            "bin_end": 5,
            "count": 2
           }
          ]
         }
        },
        {
         "name": "_deepnote_index_column",
         "dtype": "int64"
        }
       ],
       "rows_top": [
        {
         "Genre": "edm",
         "Title": "Hero",
         "Album_cover_link": "https://i.scdn.co/image/ab67616d0000b27368c13496a915eea4d4325681",
         "Artist": "Afrojack",
         "duration_ms": 171840,
         "explicit": false,
         "id": "29p6UW08MXzwj9thWBW3uF",
         "popularity": 73,
         "release_date": "2021-04-30",
         "release_date_precision": "day",
         "total_tracks": 1,
         "danceability": 0.713,
         "energy": 0.772,
         "key": 2,
         "loudness": -5.032,
         "mode": 1,
         "speechiness": 0.0313,
         "acousticness": 0.157,
         "instrumentalness": 0,
         "liveness": 0.153,
         "valence": 0.523,
         "tempo": 125.001,
         "time_signature": 4,
         "_deepnote_index_column": 2062
        },
        {
         "Genre": "edm",
         "Title": "Real Love (feat. Aleyna Tilki)",
         "Album_cover_link": "https://i.scdn.co/image/ab67616d0000b2738fe23c29f063c6a6ff05bb5d",
         "Artist": "Dillon Francis",
         "duration_ms": 135265,
         "explicit": false,
         "id": "7BxIvkfVSgoUUlDcBVff61",
         "popularity": 48,
         "release_date": "2021-10-05",
         "release_date_precision": "day",
         "total_tracks": 8,
         "danceability": 0.738,
         "energy": 0.793,
         "key": 10,
         "loudness": -4.313,
         "mode": 0,
         "speechiness": 0.0685,
         "acousticness": 0.0496,
         "instrumentalness": 0.0000848,
         "liveness": 0.0522,
         "valence": 0.555,
         "tempo": 124.012,
         "time_signature": 4,
         "_deepnote_index_column": 2063
        },
        {
         "Genre": "edm",
         "Title": "Gotta Be You",
         "Album_cover_link": "https://i.scdn.co/image/ab67616d0000b27329204e387d2575124fbb2811",
         "Artist": "NERVO",
         "duration_ms": 149032,
         "explicit": false,
         "id": "2Q8fFORnsDE6I3RNvSLXSf",
         "popularity": 67,
         "release_date": "2021-01-08",
         "release_date_precision": "day",
         "total_tracks": 1,
         "danceability": 0.642,
         "energy": 0.869,
         "key": 6,
         "loudness": -5.271,
         "mode": 0,
         "speechiness": 0.0452,
         "acousticness": 0.252,
         "instrumentalness": 0.0288,
         "liveness": 0.0708,
         "valence": 0.376,
         "tempo": 123.91,
         "time_signature": 4,
         "_deepnote_index_column": 2064
        },
        {
         "Genre": "edm",
         "Title": "Okay",
         "Album_cover_link": "https://i.scdn.co/image/ab67616d0000b2737dd8c56fe0c5c6a5050c0df0",
         "Artist": "Nicky Romero",
         "duration_ms": 151312,
         "explicit": false,
         "id": "1muUz481pBOMzJ9De3NS6e",
         "popularity": 33,
         "release_date": "2021-09-10",
         "release_date_precision": "day",
         "total_tracks": 15,
         "danceability": 0.513,
         "energy": 0.836,
         "key": 2,
         "loudness": -3.781,
         "mode": 1,
         "speechiness": 0.0579,
         "acousticness": 0.0463,
         "instrumentalness": 0,
         "liveness": 0.128,
         "valence": 0.304,
         "tempo": 124.964,
         "time_signature": 4,
         "_deepnote_index_column": 2065
        },
        {
         "Genre": "edm",
         "Title": "Worst Case",
         "Album_cover_link": "https://i.scdn.co/image/ab67616d0000b273380a162bbc83b1d590f9d2fa",
         "Artist": "3LAU",
         "duration_ms": 178048,
         "explicit": false,
         "id": "3zbbRebB1rzlXJgq7Ufn8V",
         "popularity": 62,
         "release_date": "2021-10-08",
         "release_date_precision": "day",
         "total_tracks": 1,
         "danceability": 0.629,
         "energy": 0.809,
         "key": 6,
         "loudness": -5.775,
         "mode": 0,
         "speechiness": 0.0339,
         "acousticness": 0.00463,
         "instrumentalness": 0.0347,
         "liveness": 0.205,
         "valence": 0.177,
         "tempo": 122.975,
         "time_signature": 4,
         "_deepnote_index_column": 2066
        },
        {
         "Genre": "edm",
         "Title": "Whistle (feat. Bertie Scott)",
         "Album_cover_link": "https://i.scdn.co/image/ab67616d0000b27393af95aa2aee7c636737ddab",
         "Artist": "Laidback Luke",
         "duration_ms": 140156,
         "explicit": false,
         "id": "6hEJvWfNOvTUhLuV1Or1of",
         "popularity": 68,
         "release_date": "2021-04-09",
         "release_date_precision": "day",
         "total_tracks": 1,
         "danceability": 0.832,
         "energy": 0.922,
         "key": 0,
         "loudness": -3.866,
         "mode": 1,
         "speechiness": 0.0712,
         "acousticness": 0.0361,
         "instrumentalness": 0.0274,
         "liveness": 0.109,
         "valence": 0.716,
         "tempo": 127.999,
         "time_signature": 4,
         "_deepnote_index_column": 2067
        },
        {
         "Genre": "edm",
         "Title": "West Coast (feat. Quinn XCII)",
         "Album_cover_link": "https://i.scdn.co/image/ab67616d0000b2731bba73967db46d4ca4591fd5",
         "Artist": "DVBBS",
         "duration_ms": 150819,
         "explicit": false,
         "id": "4fCE1SCDulouoac9Q8XroU",
         "popularity": 68,
         "release_date": "2020-10-16",
         "release_date_precision": "day",
         "total_tracks": 1,
         "danceability": 0.714,
         "energy": 0.798,
         "key": 5,
         "loudness": -4.239,
         "mode": 0,
         "speechiness": 0.0612,
         "acousticness": 0.00248,
         "instrumentalness": 0.000678,
         "liveness": 0.103,
         "valence": 0.659,
         "tempo": 119.017,
         "time_signature": 4,
         "_deepnote_index_column": 2068
        },
        {
         "Genre": "edm",
         "Title": "Breathe (feat. kaspara)",
         "Album_cover_link": "https://i.scdn.co/image/ab67616d0000b27322f90195f1ac196e36ed7eac",
         "Artist": "Syn Cole",
         "duration_ms": 175081,
         "explicit": false,
         "id": "7pDdE5FLqcNCvjxzRzm80r",
         "popularity": 64,
         "release_date": "2021-01-22",
         "release_date_precision": "day",
         "total_tracks": 1,
         "danceability": 0.753,
         "energy": 0.749,
         "key": 6,
         "loudness": -5.214,
         "mode": 1,
         "speechiness": 0.0314,
         "acousticness": 0.0546,
         "instrumentalness": 0.00000439,
         "liveness": 0.166,
         "valence": 0.589,
         "tempo": 121.988,
         "time_signature": 4,
         "_deepnote_index_column": 2069
        },
        {
         "Genre": "edm",
         "Title": "Chasing Stars (feat. James Bay)",
         "Album_cover_link": "https://i.scdn.co/image/ab67616d0000b2739489ebf0074a28c554637780",
         "Artist": "Alesso",
         "duration_ms": 170457,
         "explicit": false,
         "id": "6y6xhAgZjvxy5kR5rigpY3",
         "popularity": 76,
         "release_date": "2021-08-20",
         "release_date_precision": "day",
         "total_tracks": 1,
         "danceability": 0.594,
         "energy": 0.64,
         "key": 10,
         "loudness": -6.865,
         "mode": 1,
         "speechiness": 0.033,
         "acousticness": 0.0169,
         "instrumentalness": 0,
         "liveness": 0.135,
         "valence": 0.492,
         "tempo": 92.871,
         "time_signature": 4,
         "_deepnote_index_column": 2070
        },
        {
         "Genre": "edm",
         "Title": "Bad",
         "Album_cover_link": "https://i.scdn.co/image/ab67616d0000b27395897643725039a68263734c",
         "Artist": "Don Diablo",
         "duration_ms": 169910,
         "explicit": true,
         "id": "1T4U8Q2DRfs6OUg8DEsRZf",
         "popularity": 68,
         "release_date": "2020-03-20",
         "release_date_precision": "day",
         "total_tracks": 1,
         "danceability": 0.791,
         "energy": 0.738,
         "key": 0,
         "loudness": -5.197,
         "mode": 1,
         "speechiness": 0.0732,
         "acousticness": 0.406,
         "instrumentalness": 0.00826,
         "liveness": 0.159,
         "valence": 0.666,
         "tempo": 123.927,
         "time_signature": 4,
         "_deepnote_index_column": 2071
        },
        {
         "Genre": "edm",
         "Title": "This Time (Never Be Alone Again)",
         "Album_cover_link": "https://i.scdn.co/image/ab67616d0000b273a56747d3c015ecfda113da2d",
         "Artist": "Dada Life",
         "duration_ms": 166774,
         "explicit": false,
         "id": "4NfNmtFPQwR7IYoKeBErOp",
         "popularity": 58,
         "release_date": "2020-05-15",
         "release_date_precision": "day",
         "total_tracks": 1,
         "danceability": 0.627,
         "energy": 0.871,
         "key": 7,
         "loudness": -6.307,
         "mode": 0,
         "speechiness": 0.0618,
         "acousticness": 0.0454,
         "instrumentalness": 0.00501,
         "liveness": 0.462,
         "valence": 0.222,
         "tempo": 128.05,
         "time_signature": 4,
         "_deepnote_index_column": 2072
        },
        {
         "Genre": "edm",
         "Title": "On Your Mind",
         "Album_cover_link": "https://i.scdn.co/image/ab67616d0000b27387a4384e128ac4bf8c797ea4",
         "Artist": "Kaskade",
         "duration_ms": 320280,
         "explicit": false,
         "id": "5IpIl6c14WCJhjlIl6poVD",
         "popularity": 62,
         "release_date": "2018-12-07",
         "release_date_precision": "day",
         "total_tracks": 1,
         "danceability": 0.835,
         "energy": 0.828,
         "key": 4,
         "loudness": -4.512,
         "mode": 0,
         "speechiness": 0.0949,
         "acousticness": 0.00235,
         "instrumentalness": 0.743,
         "liveness": 0.0602,
         "valence": 0.178,
         "tempo": 107.995,
         "time_signature": 4,
         "_deepnote_index_column": 2073
        },
        {
         "Genre": "edm",
         "Title": "Stand By You",
         "Album_cover_link": "https://i.scdn.co/image/ab67616d0000b2738601808b455ebeca2b959abd",
         "Artist": "DubVision",
         "duration_ms": 165833,
         "explicit": false,
         "id": "6DrbW5cFbwb1JHcdAXO8tD",
         "popularity": 53,
         "release_date": "2020-11-06",
         "release_date_precision": "day",
         "total_tracks": 2,
         "danceability": 0.609,
         "energy": 0.834,
         "key": 10,
         "loudness": -5.588,
         "mode": 0,
         "speechiness": 0.0722,
         "acousticness": 0.00924,
         "instrumentalness": 0.000243,
         "liveness": 0.307,
         "valence": 0.351,
         "tempo": 126.077,
         "time_signature": 3,
         "_deepnote_index_column": 2074
        },
        {
         "Genre": "edm",
         "Title": "Get Up (Rattle) [feat. Far East Movement] - Vocal Edit",
         "Album_cover_link": "https://i.scdn.co/image/ab67616d0000b27356aa362afd37024d8ba7d98f",
         "Artist": "Bingo Players",
         "duration_ms": 166932,
         "explicit": false,
         "id": "3wLPRjw2XQpmowqXUXb3UF",
         "popularity": 69,
         "release_date": "2012-12-08",
         "release_date_precision": "day",
         "total_tracks": 2,
         "danceability": 0.801,
         "energy": 0.985,
         "key": 7,
         "loudness": -2.69,
         "mode": 1,
         "speechiness": 0.0647,
         "acousticness": 0.0205,
         "instrumentalness": 0.00000686,
         "liveness": 0.297,
         "valence": 0.72,
         "tempo": 127.99,
         "time_signature": 4,
         "_deepnote_index_column": 2075
        },
        {
         "Genre": "edm",
         "Title": "Leave",
         "Album_cover_link": "https://i.scdn.co/image/ab67616d0000b27358a04cd87cd6c228f0a2d060",
         "Artist": "Borgeous",
         "duration_ms": 193640,
         "explicit": false,
         "id": "5Qnk8vP5g9l5SDQKU3qyYQ",
         "popularity": 51,
         "release_date": "2019-01-25",
         "release_date_precision": "day",
         "total_tracks": 1,
         "danceability": 0.762,
         "energy": 0.665,
         "key": 11,
         "loudness": -6.92,
         "mode": 0,
         "speechiness": 0.0471,
         "acousticness": 0.169,
         "instrumentalness": 0,
         "liveness": 0.103,
         "valence": 0.961,
         "tempo": 115.946,
         "time_signature": 4,
         "_deepnote_index_column": 2076
        },
        {
         "Genre": "edm",
         "Title": "Getaway - Koven Remix",
         "Album_cover_link": "https://i.scdn.co/image/0cd0333511252003372c21bd1ea6b7a5fc1c3ff4",
         "Artist": "Tritonal",
         "duration_ms": 203720,
         "explicit": false,
         "id": "10EpXLXKHmNSVKvX7A5hg8",
         "popularity": 57,
         "release_date": "2016-07-08",
         "release_date_precision": "day",
         "total_tracks": 5,
         "danceability": 0.488,
         "energy": 0.914,
         "key": 6,
         "loudness": -2.875,
         "mode": 0,
         "speechiness": 0.223,
         "acousticness": 0.00415,
         "instrumentalness": 0,
         "liveness": 0.158,
         "valence": 0.222,
         "tempo": 172.187,
         "time_signature": 4,
         "_deepnote_index_column": 2077
        },
        {
         "Genre": "edm",
         "Title": "Reload - Radio Edit",
         "Album_cover_link": "https://i.scdn.co/image/ab67616d0000b27370e2e5292928812958927a9a",
         "Artist": "Sebastian Ingrosso",
         "duration_ms": 221272,
         "explicit": false,
         "id": "5jyUBKpmaH670zrXrE0wmO",
         "popularity": 68,
         "release_date": "2013-01-01",
         "release_date_precision": "day",
         "total_tracks": 1,
         "danceability": 0.485,
         "energy": 0.724,
         "key": 9,
         "loudness": -4.633,
         "mode": 0,
         "speechiness": 0.0521,
         "acousticness": 0.0736,
         "instrumentalness": 0,
         "liveness": 0.0631,
         "valence": 0.433,
         "tempo": 128.045,
         "time_signature": 4,
         "_deepnote_index_column": 2078
        },
        {
         "Genre": "edm",
         "Title": "Moth To A Flame (with The Weeknd)",
         "Album_cover_link": "https://i.scdn.co/image/ab67616d0000b2732751f15ff6c8174e540b6fb4",
         "Artist": "Swedish House Mafia",
         "duration_ms": 234000,
         "explicit": false,
         "id": "2gpWyfu7eZ01zzncHpxOtA",
         "popularity": 92,
         "release_date": "2021-10-22",
         "release_date_precision": "day",
         "total_tracks": 1,
         "danceability": 0.542,
         "energy": 0.659,
         "key": 8,
         "loudness": -7.289,
         "mode": 1,
         "speechiness": 0.0389,
         "acousticness": 0.00279,
         "instrumentalness": 0,
         "liveness": 0.105,
         "valence": 0.109,
         "tempo": 120.122,
         "time_signature": 4,
         "_deepnote_index_column": 2079
        },
        {
         "Genre": "edm",
         "Title": "I Want You",
         "Album_cover_link": "https://i.scdn.co/image/ab67616d0000b273a27a7f516d8bf938838810c3",
         "Artist": "Sick Individuals",
         "duration_ms": 186575,
         "explicit": false,
         "id": "40jZdbxLsxIwnTBAUeduF3",
         "popularity": 57,
         "release_date": "2021-07-02",
         "release_date_precision": "day",
         "total_tracks": 1,
         "danceability": 0.673,
         "energy": 0.953,
         "key": 7,
         "loudness": -2.333,
         "mode": 0,
         "speechiness": 0.0461,
         "acousticness": 0.0572,
         "instrumentalness": 0.00000384,
         "liveness": 0.296,
         "valence": 0.62,
         "tempo": 127.921,
         "time_signature": 4,
         "_deepnote_index_column": 2080
        },
        {
         "Genre": "edm",
         "Title": "Wish It Was You",
         "Album_cover_link": "https://i.scdn.co/image/ab67616d0000b27355d3fa8887a0f6424587ec63",
         "Artist": "Audien",
         "duration_ms": 192000,
         "explicit": false,
         "id": "3Dr0xDJwXy6JkiHNJfv5zd",
         "popularity": 59,
         "release_date": "2021-08-27",
         "release_date_precision": "day",
         "total_tracks": 1,
         "danceability": 0.644,
         "energy": 0.616,
         "key": 1,
         "loudness": -3.928,
         "mode": 0,
         "speechiness": 0.0391,
         "acousticness": 0.0927,
         "instrumentalness": 0,
         "liveness": 0.105,
         "valence": 0.467,
         "tempo": 124.957,
         "time_signature": 4,
         "_deepnote_index_column": 2081
        }
       ],
       "rows_bottom": [
        {
         "Genre": "edm",
         "Title": "Known You Before (with Emilie Brandt)",
         "Album_cover_link": "https://i.scdn.co/image/ab67616d0000b2738fba9451ea9d0a04071c3936",
         "Artist": "Jason Ross",
         "duration_ms": 219400,
         "explicit": false,
         "id": "6jFQGfokxpLHtjYHJQosDB",
         "popularity": 45,
         "release_date": "2020-01-24",
         "release_date_precision": "day",
         "total_tracks": 10,
         "danceability": 0.412,
         "energy": 0.671,
         "key": 7,
         "loudness": -6.545,
         "mode": 0,
         "speechiness": 0.0563,
         "acousticness": 0.0137,
         "instrumentalness": 0.00000335,
         "liveness": 0.192,
         "valence": 0.112,
         "tempo": 128.174,
         "time_signature": 4,
         "_deepnote_index_column": 2997
        },
        {
         "Genre": "edm",
         "Title": "Monsters (feat. 24kGoldn)",
         "Album_cover_link": "https://i.scdn.co/image/ab67616d0000b273d7d88c479133a202690899d6",
         "Artist": "Dynoro",
         "duration_ms": 174643,
         "explicit": false,
         "id": "1sc1LUE0z2kiAFG7ZZlcDZ",
         "popularity": 67,
         "release_date": "2021-05-28",
         "release_date_precision": "day",
         "total_tracks": 1,
         "danceability": 0.619,
         "energy": 0.838,
         "key": 1,
         "loudness": -3.383,
         "mode": 0,
         "speechiness": 0.0759,
         "acousticness": 0.0437,
         "instrumentalness": 0,
         "liveness": 0.0834,
         "valence": 0.717,
         "tempo": 130.13,
         "time_signature": 4,
         "_deepnote_index_column": 2998
        },
        {
         "Genre": "edm",
         "Title": "The One",
         "Album_cover_link": "https://i.scdn.co/image/ab67616d0000b2735bde613ddb5c27db12f4ce22",
         "Artist": "Habstrakt",
         "duration_ms": 230288,
         "explicit": false,
         "id": "6U6nzpSvKxju6WA0Kojcxn",
         "popularity": 44,
         "release_date": "2019-08-26",
         "release_date_precision": "day",
         "total_tracks": 2,
         "danceability": 0.779,
         "energy": 0.932,
         "key": 2,
         "loudness": -3.568,
         "mode": 1,
         "speechiness": 0.255,
         "acousticness": 0.00424,
         "instrumentalness": 0.498,
         "liveness": 0.734,
         "valence": 0.211,
         "tempo": 127.983,
         "time_signature": 4,
         "_deepnote_index_column": 2999
        },
        {
         "Genre": "edm",
         "Title": "Came Here for Love",
         "Album_cover_link": "https://i.scdn.co/image/ab67616d0000b273681d6da9a0ab5ff23fadf0f9",
         "Artist": "Sigala",
         "duration_ms": 203386,
         "explicit": false,
         "id": "0mGJTKRIuCOJtiT4YkJHiv",
         "popularity": 63,
         "release_date": "2018-09-28",
         "release_date_precision": "day",
         "total_tracks": 16,
         "danceability": 0.698,
         "energy": 0.869,
         "key": 6,
         "loudness": -3.294,
         "mode": 1,
         "speechiness": 0.0467,
         "acousticness": 0.0223,
         "instrumentalness": 0,
         "liveness": 0.121,
         "valence": 0.715,
         "tempo": 125.007,
         "time_signature": 4,
         "_deepnote_index_column": 3000
        },
        {
         "Genre": "edm",
         "Title": "Epic",
         "Album_cover_link": "https://i.scdn.co/image/ab67616d0000b273273150b80ce3468cd1889f2e",
         "Artist": "Sandro Silva",
         "duration_ms": 360000,
         "explicit": false,
         "id": "5czjqNKeKd6OXtcAPbk0q3",
         "popularity": 45,
         "release_date": "2011-12-06",
         "release_date_precision": "day",
         "total_tracks": 2,
         "danceability": 0.79,
         "energy": 0.945,
         "key": 4,
         "loudness": -2.343,
         "mode": 0,
         "speechiness": 0.0754,
         "acousticness": 0.2,
         "instrumentalness": 0.862,
         "liveness": 0.0705,
         "valence": 0.154,
         "tempo": 128.025,
         "time_signature": 4,
         "_deepnote_index_column": 3001
        },
        {
         "Genre": "edm",
         "Title": "Bone Dry",
         "Album_cover_link": "https://i.scdn.co/image/ab67616d0000b273b3d81f39b58946abfe8ea1cf",
         "Artist": "Tristam",
         "duration_ms": 285000,
         "explicit": false,
         "id": "0adZjn5WV3b0BcZbvSi0y9",
         "popularity": 49,
         "release_date": "2017-06-19",
         "release_date_precision": "day",
         "total_tracks": 1,
         "danceability": 0.553,
         "energy": 0.857,
         "key": 11,
         "loudness": -5.901,
         "mode": 1,
         "speechiness": 0.265,
         "acousticness": 0.372,
         "instrumentalness": 0.000314,
         "liveness": 0.0727,
         "valence": 0.318,
         "tempo": 159.997,
         "time_signature": 4,
         "_deepnote_index_column": 3002
        },
        {
         "Genre": "edm",
         "Title": "Save Me",
         "Album_cover_link": "https://i.scdn.co/image/ab67616d0000b2736eb0f317206d66e00ef50871",
         "Artist": "Party Favor",
         "duration_ms": 127900,
         "explicit": false,
         "id": "6VkomiRtWhCiFs4nzrzNUc",
         "popularity": 57,
         "release_date": "2021-08-06",
         "release_date_precision": "day",
         "total_tracks": 1,
         "danceability": 0.588,
         "energy": 0.725,
         "key": 2,
         "loudness": -7.635,
         "mode": 1,
         "speechiness": 0.0525,
         "acousticness": 0.00705,
         "instrumentalness": 0.297,
         "liveness": 0.183,
         "valence": 0.278,
         "tempo": 150.072,
         "time_signature": 4,
         "_deepnote_index_column": 3003
        },
        {
         "Genre": "edm",
         "Title": "We Might Fall",
         "Album_cover_link": "https://i.scdn.co/image/ab67616d0000b273aa38f9881060b3fd203ea5f1",
         "Artist": "Ghastly",
         "duration_ms": 180000,
         "explicit": false,
         "id": "3KrnkTF84wu0KF3vqVYgEh",
         "popularity": 47,
         "release_date": "2017-05-12",
         "release_date_precision": "day",
         "total_tracks": 1,
         "danceability": 0.326,
         "energy": 0.759,
         "key": 7,
         "loudness": -5.019,
         "mode": 1,
         "speechiness": 0.0599,
         "acousticness": 0.016,
         "instrumentalness": 0.000878,
         "liveness": 0.0804,
         "valence": 0.0797,
         "tempo": 154.555,
         "time_signature": 4,
         "_deepnote_index_column": 3004
        },
        {
         "Genre": "edm",
         "Title": "Homesick (feat. SOUNDR)",
         "Album_cover_link": "https://i.scdn.co/image/ab67616d0000b273c789f1ab2e94ca42d365dffb",
         "Artist": "MitiS",
         "duration_ms": 328275,
         "explicit": false,
         "id": "6LR3DEPjNAIQfpmrT7ishi",
         "popularity": 44,
         "release_date": "2021-04-09",
         "release_date_precision": "day",
         "total_tracks": 12,
         "danceability": 0.374,
         "energy": 0.659,
         "key": 2,
         "loudness": -5.427,
         "mode": 1,
         "speechiness": 0.0438,
         "acousticness": 0.246,
         "instrumentalness": 0.00104,
         "liveness": 0.0991,
         "valence": 0.151,
         "tempo": 173.892,
         "time_signature": 4,
         "_deepnote_index_column": 3005
        },
        {
         "Genre": "edm",
         "Title": "Heaven - DJ Isaac Remix",
         "Album_cover_link": "https://i.scdn.co/image/ab67616d0000b273ea02f55b635dc8c14773cf71",
         "Artist": "Dash Berlin",
         "duration_ms": 198010,
         "explicit": false,
         "id": "6If6tXpbwYs5zBop1AqfwG",
         "popularity": 51,
         "release_date": "2017-04-28",
         "release_date_precision": "day",
         "total_tracks": 4,
         "danceability": 0.3,
         "energy": 0.897,
         "key": 0,
         "loudness": -1.6,
         "mode": 0,
         "speechiness": 0.0481,
         "acousticness": 0.0251,
         "instrumentalness": 0,
         "liveness": 0.328,
         "valence": 0.237,
         "tempo": 150.062,
         "time_signature": 3,
         "_deepnote_index_column": 3006
        },
        {
         "Genre": "edm",
         "Title": "Better",
         "Album_cover_link": "https://i.scdn.co/image/ab67616d0000b2733d0b948cc8b654f320f9e442",
         "Artist": "Valentino Khan",
         "duration_ms": 200000,
         "explicit": true,
         "id": "5xGcpnA8ACSipKcRcYioxh",
         "popularity": 57,
         "release_date": "2019-07-26",
         "release_date_precision": "day",
         "total_tracks": 1,
         "danceability": 0.804,
         "energy": 0.922,
         "key": 8,
         "loudness": -5.678,
         "mode": 1,
         "speechiness": 0.0515,
         "acousticness": 0.00114,
         "instrumentalness": 0.221,
         "liveness": 0.0771,
         "valence": 0.773,
         "tempo": 126.012,
         "time_signature": 4,
         "_deepnote_index_column": 3007
        },
        {
         "Genre": "edm",
         "Title": "Matches - Subtact Remix",
         "Album_cover_link": "https://i.scdn.co/image/ab67616d0000b27362cc1b710243f329d99bfeb5",
         "Artist": "Ephixa",
         "duration_ms": 206896,
         "explicit": false,
         "id": "0QD2NQd8CKPUXpTNzrBUa7",
         "popularity": 47,
         "release_date": "2016-11-08",
         "release_date_precision": "day",
         "total_tracks": 6,
         "danceability": 0.557,
         "energy": 0.864,
         "key": 6,
         "loudness": -5.925,
         "mode": 0,
         "speechiness": 0.0933,
         "acousticness": 0.00144,
         "instrumentalness": 0.00678,
         "liveness": 0.111,
         "valence": 0.378,
         "tempo": 144.987,
         "time_signature": 4,
         "_deepnote_index_column": 3008
        },
        {
         "Genre": "edm",
         "Title": "Soundclash",
         "Album_cover_link": "https://i.scdn.co/image/ab67616d0000b273279537cc56fa8cd2d35167e2",
         "Artist": "Flosstradamus",
         "duration_ms": 199995,
         "explicit": false,
         "id": "2XFak3Sx0XCoXJpPt5TeeR",
         "popularity": 29,
         "release_date": "2015-11-20",
         "release_date_precision": "day",
         "total_tracks": 11,
         "danceability": 0.686,
         "energy": 0.969,
         "key": 11,
         "loudness": -4.46,
         "mode": 0,
         "speechiness": 0.344,
         "acousticness": 0.214,
         "instrumentalness": 0.0000082,
         "liveness": 0.337,
         "valence": 0.789,
         "tempo": 155.003,
         "time_signature": 4,
         "_deepnote_index_column": 3009
        },
        {
         "Genre": "edm",
         "Title": "Friday Feeling",
         "Album_cover_link": "https://i.scdn.co/image/ab67616d0000b273d034fef1ff4391a4a93da46e",
         "Artist": "CALVO",
         "duration_ms": 163064,
         "explicit": false,
         "id": "4Z1si9Bl8F0hLKgX3yIGdP",
         "popularity": 53,
         "release_date": "2021-10-22",
         "release_date_precision": "day",
         "total_tracks": 1,
         "danceability": 0.701,
         "energy": 0.949,
         "key": 7,
         "loudness": -3.898,
         "mode": 0,
         "speechiness": 0.0562,
         "acousticness": 0.0177,
         "instrumentalness": 0,
         "liveness": 0.124,
         "valence": 0.788,
         "tempo": 123.982,
         "time_signature": 4,
         "_deepnote_index_column": 3010
        },
        {
         "Genre": "edm",
         "Title": "The Feeling",
         "Album_cover_link": "https://i.scdn.co/image/ab67616d0000b273f7f0acf9e7c2861332eb00eb",
         "Artist": "Crankdat",
         "duration_ms": 202285,
         "explicit": false,
         "id": "5XlufuPluY6GRBlXZvnZVJ",
         "popularity": 49,
         "release_date": "2021-06-24",
         "release_date_precision": "day",
         "total_tracks": 1,
         "danceability": 0.534,
         "energy": 0.825,
         "key": 4,
         "loudness": -2.773,
         "mode": 0,
         "speechiness": 0.0898,
         "acousticness": 0.143,
         "instrumentalness": 0.000812,
         "liveness": 0.244,
         "valence": 0.204,
         "tempo": 140.08,
         "time_signature": 4,
         "_deepnote_index_column": 3011
        },
        {
         "Genre": "edm",
         "Title": "elise",
         "Album_cover_link": "https://i.scdn.co/image/ab67616d0000b27303d89dcf69f68caf8de6785e",
         "Artist": "Gareth Emery",
         "duration_ms": 234508,
         "explicit": false,
         "id": "7MPHgXUz1JtYD0ozqEQViw",
         "popularity": 56,
         "release_date": "2020-07-10",
         "release_date_precision": "day",
         "total_tracks": 10,
         "danceability": 0.469,
         "energy": 0.525,
         "key": 10,
         "loudness": -12.986,
         "mode": 1,
         "speechiness": 0.0478,
         "acousticness": 0.144,
         "instrumentalness": 0.0000536,
         "liveness": 0.101,
         "valence": 0.14,
         "tempo": 129.967,
         "time_signature": 4,
         "_deepnote_index_column": 3012
        },
        {
         "Genre": "edm",
         "Title": "Break Me",
         "Album_cover_link": "https://i.scdn.co/image/ab67616d0000b273c3bbe6c649ae79ba64877e5c",
         "Artist": "Trivecta",
         "duration_ms": 222631,
         "explicit": false,
         "id": "3cjkfbF4rgqymxtRn7Iv15",
         "popularity": 43,
         "release_date": "2017-07-03",
         "release_date_precision": "day",
         "total_tracks": 1,
         "danceability": 0.407,
         "energy": 0.885,
         "key": 11,
         "loudness": -4.15,
         "mode": 0,
         "speechiness": 0.168,
         "acousticness": 0.0498,
         "instrumentalness": 0.00000284,
         "liveness": 0.346,
         "valence": 0.463,
         "tempo": 75.995,
         "time_signature": 4,
         "_deepnote_index_column": 3013
        },
        {
         "Genre": "edm",
         "Title": "Shiawase - VIP",
         "Album_cover_link": "https://i.scdn.co/image/ab67616d0000b273d1dcf9ce8d292b960e2ea160",
         "Artist": "Dion Timmer",
         "duration_ms": 181750,
         "explicit": false,
         "id": "4mTLnLuHoGhA2xd595OMg1",
         "popularity": 47,
         "release_date": "2020-09-09",
         "release_date_precision": "day",
         "total_tracks": 1,
         "danceability": 0.557,
         "energy": 0.98,
         "key": 8,
         "loudness": -0.563,
         "mode": 1,
         "speechiness": 0.154,
         "acousticness": 0.00612,
         "instrumentalness": 0.000176,
         "liveness": 0.665,
         "valence": 0.5,
         "tempo": 150.096,
         "time_signature": 4,
         "_deepnote_index_column": 3014
        },
        {
         "Genre": "edm",
         "Title": "Left Behinds - Radio Edit",
         "Album_cover_link": "https://i.scdn.co/image/ab67616d0000b2737fff2e5a960342dcf7020e2a",
         "Artist": "Paris Blohm",
         "duration_ms": 180014,
         "explicit": false,
         "id": "2Lmk4VmhPzw6fw3kvKmmUe",
         "popularity": 23,
         "release_date": "2014-08-04",
         "release_date_precision": "day",
         "total_tracks": 2,
         "danceability": 0.488,
         "energy": 0.957,
         "key": 8,
         "loudness": -4.051,
         "mode": 0,
         "speechiness": 0.152,
         "acousticness": 0.00185,
         "instrumentalness": 0.0331,
         "liveness": 0.143,
         "valence": 0.155,
         "tempo": 128.027,
         "time_signature": 4,
         "_deepnote_index_column": 3015
        },
        {
         "Genre": "edm",
         "Title": "R.E.A.L",
         "Album_cover_link": "https://i.scdn.co/image/ab67616d0000b273389ba0aa42dee90da4de9b47",
         "Artist": "Dombresky",
         "duration_ms": 183095,
         "explicit": false,
         "id": "1mK6vQxrBu7tStp3b8G2Z9",
         "popularity": 53,
         "release_date": "2021-10-15",
         "release_date_precision": "day",
         "total_tracks": 1,
         "danceability": 0.8,
         "energy": 0.984,
         "key": 0,
         "loudness": -3.24,
         "mode": 1,
         "speechiness": 0.0741,
         "acousticness": 0.00106,
         "instrumentalness": 0.834,
         "liveness": 0.0348,
         "valence": 0.768,
         "tempo": 126.003,
         "time_signature": 4,
         "_deepnote_index_column": 3016
        },
        {
         "Genre": "edm",
         "Title": "Am I",
         "Album_cover_link": "https://i.scdn.co/image/ab67616d0000b2734717ec245ee79ea38f70b68c",
         "Artist": "Deniz Koyu",
         "duration_ms": 163603,
         "explicit": false,
         "id": "0QsI3ajMaHkyXqgg6XPWqj",
         "popularity": 40,
         "release_date": "2021-11-05",
         "release_date_precision": "day",
         "total_tracks": 2,
         "danceability": 0.738,
         "energy": 0.722,
         "key": 11,
         "loudness": -4.156,
         "mode": 1,
         "speechiness": 0.0423,
         "acousticness": 0.0216,
         "instrumentalness": 0,
         "liveness": 0.468,
         "valence": 0.561,
         "tempo": 125.119,
         "time_signature": 4,
         "_deepnote_index_column": 3017
        }
       ]
      },
      "text/plain": "     Genre                           Title  \\\n2062   edm                            Hero   \n2063   edm  Real Love (feat. Aleyna Tilki)   \n2064   edm                    Gotta Be You   \n2065   edm                            Okay   \n2066   edm                      Worst Case   \n...    ...                             ...   \n3013   edm                        Break Me   \n3014   edm                  Shiawase - VIP   \n3015   edm       Left Behinds - Radio Edit   \n3016   edm                         R.E.A.L   \n3017   edm                            Am I   \n\n                                       Album_cover_link          Artist  \\\n2062  https://i.scdn.co/image/ab67616d0000b27368c134...        Afrojack   \n2063  https://i.scdn.co/image/ab67616d0000b2738fe23c...  Dillon Francis   \n2064  https://i.scdn.co/image/ab67616d0000b27329204e...           NERVO   \n2065  https://i.scdn.co/image/ab67616d0000b2737dd8c5...    Nicky Romero   \n2066  https://i.scdn.co/image/ab67616d0000b273380a16...            3LAU   \n...                                                 ...             ...   \n3013  https://i.scdn.co/image/ab67616d0000b273c3bbe6...        Trivecta   \n3014  https://i.scdn.co/image/ab67616d0000b273d1dcf9...     Dion Timmer   \n3015  https://i.scdn.co/image/ab67616d0000b2737fff2e...     Paris Blohm   \n3016  https://i.scdn.co/image/ab67616d0000b273389ba0...       Dombresky   \n3017  https://i.scdn.co/image/ab67616d0000b2734717ec...      Deniz Koyu   \n\n      duration_ms  explicit                      id  popularity release_date  \\\n2062       171840     False  29p6UW08MXzwj9thWBW3uF          73   2021-04-30   \n2063       135265     False  7BxIvkfVSgoUUlDcBVff61          48   2021-10-05   \n2064       149032     False  2Q8fFORnsDE6I3RNvSLXSf          67   2021-01-08   \n2065       151312     False  1muUz481pBOMzJ9De3NS6e          33   2021-09-10   \n2066       178048     False  3zbbRebB1rzlXJgq7Ufn8V          62   2021-10-08   \n...           ...       ...                     ...         ...          ...   \n3013       222631     False  3cjkfbF4rgqymxtRn7Iv15          43   2017-07-03   \n3014       181750     False  4mTLnLuHoGhA2xd595OMg1          47   2020-09-09   \n3015       180014     False  2Lmk4VmhPzw6fw3kvKmmUe          23   2014-08-04   \n3016       183095     False  1mK6vQxrBu7tStp3b8G2Z9          53   2021-10-15   \n3017       163603     False  0QsI3ajMaHkyXqgg6XPWqj          40   2021-11-05   \n\n     release_date_precision  ...  key  loudness  mode  speechiness  \\\n2062                    day  ...    2    -5.032     1       0.0313   \n2063                    day  ...   10    -4.313     0       0.0685   \n2064                    day  ...    6    -5.271     0       0.0452   \n2065                    day  ...    2    -3.781     1       0.0579   \n2066                    day  ...    6    -5.775     0       0.0339   \n...                     ...  ...  ...       ...   ...          ...   \n3013                    day  ...   11    -4.150     0       0.1680   \n3014                    day  ...    8    -0.563     1       0.1540   \n3015                    day  ...    8    -4.051     0       0.1520   \n3016                    day  ...    0    -3.240     1       0.0741   \n3017                    day  ...   11    -4.156     1       0.0423   \n\n      acousticness  instrumentalness  liveness  valence    tempo  \\\n2062       0.15700          0.000000    0.1530    0.523  125.001   \n2063       0.04960          0.000085    0.0522    0.555  124.012   \n2064       0.25200          0.028800    0.0708    0.376  123.910   \n2065       0.04630          0.000000    0.1280    0.304  124.964   \n2066       0.00463          0.034700    0.2050    0.177  122.975   \n...            ...               ...       ...      ...      ...   \n3013       0.04980          0.000003    0.3460    0.463   75.995   \n3014       0.00612          0.000176    0.6650    0.500  150.096   \n3015       0.00185          0.033100    0.1430    0.155  128.027   \n3016       0.00106          0.834000    0.0348    0.768  126.003   \n3017       0.02160          0.000000    0.4680    0.561  125.119   \n\n      time_signature  \n2062               4  \n2063               4  \n2064               4  \n2065               4  \n2066               4  \n...              ...  \n3013               4  \n3014               4  \n3015               4  \n3016               4  \n3017               4  \n\n[956 rows x 23 columns]",
      "text/html": "<div>\n<style scoped>\n    .dataframe tbody tr th:only-of-type {\n        vertical-align: middle;\n    }\n\n    .dataframe tbody tr th {\n        vertical-align: top;\n    }\n\n    .dataframe thead th {\n        text-align: right;\n    }\n</style>\n<table border=\"1\" class=\"dataframe\">\n  <thead>\n    <tr style=\"text-align: right;\">\n      <th></th>\n      <th>Genre</th>\n      <th>Title</th>\n      <th>Album_cover_link</th>\n      <th>Artist</th>\n      <th>duration_ms</th>\n      <th>explicit</th>\n      <th>id</th>\n      <th>popularity</th>\n      <th>release_date</th>\n      <th>release_date_precision</th>\n      <th>...</th>\n      <th>key</th>\n      <th>loudness</th>\n      <th>mode</th>\n      <th>speechiness</th>\n      <th>acousticness</th>\n      <th>instrumentalness</th>\n      <th>liveness</th>\n      <th>valence</th>\n      <th>tempo</th>\n      <th>time_signature</th>\n    </tr>\n  </thead>\n  <tbody>\n    <tr>\n      <th>2062</th>\n      <td>edm</td>\n      <td>Hero</td>\n      <td>https://i.scdn.co/image/ab67616d0000b27368c134...</td>\n      <td>Afrojack</td>\n      <td>171840</td>\n      <td>False</td>\n      <td>29p6UW08MXzwj9thWBW3uF</td>\n      <td>73</td>\n      <td>2021-04-30</td>\n      <td>day</td>\n      <td>...</td>\n      <td>2</td>\n      <td>-5.032</td>\n      <td>1</td>\n      <td>0.0313</td>\n      <td>0.15700</td>\n      <td>0.000000</td>\n      <td>0.1530</td>\n      <td>0.523</td>\n      <td>125.001</td>\n      <td>4</td>\n    </tr>\n    <tr>\n      <th>2063</th>\n      <td>edm</td>\n      <td>Real Love (feat. Aleyna Tilki)</td>\n      <td>https://i.scdn.co/image/ab67616d0000b2738fe23c...</td>\n      <td>Dillon Francis</td>\n      <td>135265</td>\n      <td>False</td>\n      <td>7BxIvkfVSgoUUlDcBVff61</td>\n      <td>48</td>\n      <td>2021-10-05</td>\n      <td>day</td>\n      <td>...</td>\n      <td>10</td>\n      <td>-4.313</td>\n      <td>0</td>\n      <td>0.0685</td>\n      <td>0.04960</td>\n      <td>0.000085</td>\n      <td>0.0522</td>\n      <td>0.555</td>\n      <td>124.012</td>\n      <td>4</td>\n    </tr>\n    <tr>\n      <th>2064</th>\n      <td>edm</td>\n      <td>Gotta Be You</td>\n      <td>https://i.scdn.co/image/ab67616d0000b27329204e...</td>\n      <td>NERVO</td>\n      <td>149032</td>\n      <td>False</td>\n      <td>2Q8fFORnsDE6I3RNvSLXSf</td>\n      <td>67</td>\n      <td>2021-01-08</td>\n      <td>day</td>\n      <td>...</td>\n      <td>6</td>\n      <td>-5.271</td>\n      <td>0</td>\n      <td>0.0452</td>\n      <td>0.25200</td>\n      <td>0.028800</td>\n      <td>0.0708</td>\n      <td>0.376</td>\n      <td>123.910</td>\n      <td>4</td>\n    </tr>\n    <tr>\n      <th>2065</th>\n      <td>edm</td>\n      <td>Okay</td>\n      <td>https://i.scdn.co/image/ab67616d0000b2737dd8c5...</td>\n      <td>Nicky Romero</td>\n      <td>151312</td>\n      <td>False</td>\n      <td>1muUz481pBOMzJ9De3NS6e</td>\n      <td>33</td>\n      <td>2021-09-10</td>\n      <td>day</td>\n      <td>...</td>\n      <td>2</td>\n      <td>-3.781</td>\n      <td>1</td>\n      <td>0.0579</td>\n      <td>0.04630</td>\n      <td>0.000000</td>\n      <td>0.1280</td>\n      <td>0.304</td>\n      <td>124.964</td>\n      <td>4</td>\n    </tr>\n    <tr>\n      <th>2066</th>\n      <td>edm</td>\n      <td>Worst Case</td>\n      <td>https://i.scdn.co/image/ab67616d0000b273380a16...</td>\n      <td>3LAU</td>\n      <td>178048</td>\n      <td>False</td>\n      <td>3zbbRebB1rzlXJgq7Ufn8V</td>\n      <td>62</td>\n      <td>2021-10-08</td>\n      <td>day</td>\n      <td>...</td>\n      <td>6</td>\n      <td>-5.775</td>\n      <td>0</td>\n      <td>0.0339</td>\n      <td>0.00463</td>\n      <td>0.034700</td>\n      <td>0.2050</td>\n      <td>0.177</td>\n      <td>122.975</td>\n      <td>4</td>\n    </tr>\n    <tr>\n      <th>...</th>\n      <td>...</td>\n      <td>...</td>\n      <td>...</td>\n      <td>...</td>\n      <td>...</td>\n      <td>...</td>\n      <td>...</td>\n      <td>...</td>\n      <td>...</td>\n      <td>...</td>\n      <td>...</td>\n      <td>...</td>\n      <td>...</td>\n      <td>...</td>\n      <td>...</td>\n      <td>...</td>\n      <td>...</td>\n      <td>...</td>\n      <td>...</td>\n      <td>...</td>\n      <td>...</td>\n    </tr>\n    <tr>\n      <th>3013</th>\n      <td>edm</td>\n      <td>Break Me</td>\n      <td>https://i.scdn.co/image/ab67616d0000b273c3bbe6...</td>\n      <td>Trivecta</td>\n      <td>222631</td>\n      <td>False</td>\n      <td>3cjkfbF4rgqymxtRn7Iv15</td>\n      <td>43</td>\n      <td>2017-07-03</td>\n      <td>day</td>\n      <td>...</td>\n      <td>11</td>\n      <td>-4.150</td>\n      <td>0</td>\n      <td>0.1680</td>\n      <td>0.04980</td>\n      <td>0.000003</td>\n      <td>0.3460</td>\n      <td>0.463</td>\n      <td>75.995</td>\n      <td>4</td>\n    </tr>\n    <tr>\n      <th>3014</th>\n      <td>edm</td>\n      <td>Shiawase - VIP</td>\n      <td>https://i.scdn.co/image/ab67616d0000b273d1dcf9...</td>\n      <td>Dion Timmer</td>\n      <td>181750</td>\n      <td>False</td>\n      <td>4mTLnLuHoGhA2xd595OMg1</td>\n      <td>47</td>\n      <td>2020-09-09</td>\n      <td>day</td>\n      <td>...</td>\n      <td>8</td>\n      <td>-0.563</td>\n      <td>1</td>\n      <td>0.1540</td>\n      <td>0.00612</td>\n      <td>0.000176</td>\n      <td>0.6650</td>\n      <td>0.500</td>\n      <td>150.096</td>\n      <td>4</td>\n    </tr>\n    <tr>\n      <th>3015</th>\n      <td>edm</td>\n      <td>Left Behinds - Radio Edit</td>\n      <td>https://i.scdn.co/image/ab67616d0000b2737fff2e...</td>\n      <td>Paris Blohm</td>\n      <td>180014</td>\n      <td>False</td>\n      <td>2Lmk4VmhPzw6fw3kvKmmUe</td>\n      <td>23</td>\n      <td>2014-08-04</td>\n      <td>day</td>\n      <td>...</td>\n      <td>8</td>\n      <td>-4.051</td>\n      <td>0</td>\n      <td>0.1520</td>\n      <td>0.00185</td>\n      <td>0.033100</td>\n      <td>0.1430</td>\n      <td>0.155</td>\n      <td>128.027</td>\n      <td>4</td>\n    </tr>\n    <tr>\n      <th>3016</th>\n      <td>edm</td>\n      <td>R.E.A.L</td>\n      <td>https://i.scdn.co/image/ab67616d0000b273389ba0...</td>\n      <td>Dombresky</td>\n      <td>183095</td>\n      <td>False</td>\n      <td>1mK6vQxrBu7tStp3b8G2Z9</td>\n      <td>53</td>\n      <td>2021-10-15</td>\n      <td>day</td>\n      <td>...</td>\n      <td>0</td>\n      <td>-3.240</td>\n      <td>1</td>\n      <td>0.0741</td>\n      <td>0.00106</td>\n      <td>0.834000</td>\n      <td>0.0348</td>\n      <td>0.768</td>\n      <td>126.003</td>\n      <td>4</td>\n    </tr>\n    <tr>\n      <th>3017</th>\n      <td>edm</td>\n      <td>Am I</td>\n      <td>https://i.scdn.co/image/ab67616d0000b2734717ec...</td>\n      <td>Deniz Koyu</td>\n      <td>163603</td>\n      <td>False</td>\n      <td>0QsI3ajMaHkyXqgg6XPWqj</td>\n      <td>40</td>\n      <td>2021-11-05</td>\n      <td>day</td>\n      <td>...</td>\n      <td>11</td>\n      <td>-4.156</td>\n      <td>1</td>\n      <td>0.0423</td>\n      <td>0.02160</td>\n      <td>0.000000</td>\n      <td>0.4680</td>\n      <td>0.561</td>\n      <td>125.119</td>\n      <td>4</td>\n    </tr>\n  </tbody>\n</table>\n<p>956 rows × 23 columns</p>\n</div>"
     },
     "metadata": {},
     "output_type": "display_data"
    },
    {
     "name": "stdout",
     "text": "hiphop\n",
     "output_type": "stream",
     "data": {}
    },
    {
     "data": {
      "application/vnd.deepnote.dataframe.v2+json": {
       "row_count": 971,
       "column_count": 23,
       "columns": [
        {
         "name": "Genre",
         "dtype": "object",
         "stats": {
          "unique_count": 1,
          "nan_count": 0,
          "categories": [
           {
            "name": "hiphop",
            "count": 971
           }
          ]
         }
        },
        {
         "name": "Title",
         "dtype": "object",
         "stats": {
          "unique_count": 967,
          "nan_count": 0,
          "categories": [
           {
            "name": "Smile",
            "count": 2
           },
           {
            "name": "All Good",
            "count": 2
           },
           {
            "name": "965 others",
            "count": 967
           }
          ]
         }
        },
        {
         "name": "Album_cover_link",
         "dtype": "object",
         "stats": {
          "unique_count": 779,
          "nan_count": 0,
          "categories": [
           {
            "name": "https://i.scdn.co/image/ab67616d0000b27389b56f56323925d57b38944d",
            "count": 3
           },
           {
            "name": "https://i.scdn.co/image/ab67616d0000b2738c7a8e68dc5c20bb72f713f2",
            "count": 3
           },
           {
            "name": "777 others",
            "count": 965
           }
          ]
         }
        },
        {
         "name": "Artist",
         "dtype": "object",
         "stats": {
          "unique_count": 485,
          "nan_count": 0,
          "categories": [
           {
            "name": "A Tribe Called Quest",
            "count": 3
           },
           {
            "name": "Naughty By Nature",
            "count": 3
           },
           {
            "name": "483 others",
            "count": 965
           }
          ]
         }
        },
        {
         "name": "duration_ms",
         "dtype": "int64",
         "stats": {
          "unique_count": 936,
          "nan_count": 0,
          "min": "120986",
          "max": "537813",
          "histogram": [
           {
            "bin_start": 120986,
            "bin_end": 162668.7,
            "count": 63
           },
           {
            "bin_start": 162668.7,
            "bin_end": 204351.4,
            "count": 150
           },
           {
            "bin_start": 204351.4,
            "bin_end": 246034.09999999998,
            "count": 298
           },
           {
            "bin_start": 246034.09999999998,
            "bin_end": 287716.8,
            "count": 277
           },
           {
            "bin_start": 287716.8,
            "bin_end": 329399.5,
            "count": 132
           },
           {
            "bin_start": 329399.5,
            "bin_end": 371082.19999999995,
            "count": 35
           },
           {
            "bin_start": 371082.19999999995,
            "bin_end": 412764.89999999997,
            "count": 9
           },
           {
            "bin_start": 412764.89999999997,
            "bin_end": 454447.6,
            "count": 4
           },
           {
            "bin_start": 454447.6,
            "bin_end": 496130.3,
            "count": 2
           },
           {
            "bin_start": 496130.3,
            "bin_end": 537813,
            "count": 1
           }
          ]
         }
        },
        {
         "name": "explicit",
         "dtype": "bool",
         "stats": {
          "unique_count": 2,
          "nan_count": 0,
          "categories": [
           {
            "name": "True",
            "count": 701
           },
           {
            "name": "False",
            "count": 270
           }
          ]
         }
        },
        {
         "name": "id",
         "dtype": "object",
         "stats": {
          "unique_count": 971,
          "nan_count": 0,
          "categories": [
           {
            "name": "3Ti0GdlrotgwsAVBBugv0I",
            "count": 1
           },
           {
            "name": "1w29UTa5uUvIri2tWtZ12Y",
            "count": 1
           },
           {
            "name": "969 others",
            "count": 969
           }
          ]
         }
        },
        {
         "name": "popularity",
         "dtype": "int64",
         "stats": {
          "unique_count": 65,
          "nan_count": 0,
          "min": "2",
          "max": "91",
          "histogram": [
           {
            "bin_start": 2,
            "bin_end": 10.9,
            "count": 1
           },
           {
            "bin_start": 10.9,
            "bin_end": 19.8,
            "count": 4
           },
           {
            "bin_start": 19.8,
            "bin_end": 28.700000000000003,
            "count": 10
           },
           {
            "bin_start": 28.700000000000003,
            "bin_end": 37.6,
            "count": 64
           },
           {
            "bin_start": 37.6,
            "bin_end": 46.5,
            "count": 142
           },
           {
            "bin_start": 46.5,
            "bin_end": 55.400000000000006,
            "count": 228
           },
           {
            "bin_start": 55.400000000000006,
            "bin_end": 64.30000000000001,
            "count": 248
           },
           {
            "bin_start": 64.30000000000001,
            "bin_end": 73.2,
            "count": 178
           },
           {
            "bin_start": 73.2,
            "bin_end": 82.10000000000001,
            "count": 93
           },
           {
            "bin_start": 82.10000000000001,
            "bin_end": 91,
            "count": 3
           }
          ]
         }
        },
        {
         "name": "release_date",
         "dtype": "object",
         "stats": {
          "unique_count": 534,
          "nan_count": 0,
          "categories": [
           {
            "name": "2003-01-01",
            "count": 17
           },
           {
            "name": "2002-01-01",
            "count": 15
           },
           {
            "name": "532 others",
            "count": 939
           }
          ]
         }
        },
        {
         "name": "release_date_precision",
         "dtype": "object",
         "stats": {
          "unique_count": 2,
          "nan_count": 0,
          "categories": [
           {
            "name": "day",
            "count": 853
           },
           {
            "name": "year",
            "count": 118
           }
          ]
         }
        },
        {
         "name": "total_tracks",
         "dtype": "int64",
         "stats": {
          "unique_count": 41,
          "nan_count": 0,
          "min": "1",
          "max": "100",
          "histogram": [
           {
            "bin_start": 1,
            "bin_end": 10.9,
            "count": 143
           },
           {
            "bin_start": 10.9,
            "bin_end": 20.8,
            "count": 715
           },
           {
            "bin_start": 20.8,
            "bin_end": 30.700000000000003,
            "count": 91
           },
           {
            "bin_start": 30.700000000000003,
            "bin_end": 40.6,
            "count": 17
           },
           {
            "bin_start": 40.6,
            "bin_end": 50.5,
            "count": 4
           },
           {
            "bin_start": 50.5,
            "bin_end": 60.400000000000006,
            "count": 0
           },
           {
            "bin_start": 60.400000000000006,
            "bin_end": 70.3,
            "count": 0
           },
           {
            "bin_start": 70.3,
            "bin_end": 80.2,
            "count": 0
           },
           {
            "bin_start": 80.2,
            "bin_end": 90.10000000000001,
            "count": 0
           },
           {
            "bin_start": 90.10000000000001,
            "bin_end": 100,
            "count": 1
           }
          ]
         }
        },
        {
         "name": "danceability",
         "dtype": "float64",
         "stats": {
          "unique_count": 397,
          "nan_count": 0,
          "min": "0.301",
          "max": "0.974",
          "histogram": [
           {
            "bin_start": 0.301,
            "bin_end": 0.36829999999999996,
            "count": 6
           },
           {
            "bin_start": 0.36829999999999996,
            "bin_end": 0.4356,
            "count": 18
           },
           {
            "bin_start": 0.4356,
            "bin_end": 0.5029,
            "count": 25
           },
           {
            "bin_start": 0.5029,
            "bin_end": 0.5702,
            "count": 54
           },
           {
            "bin_start": 0.5702,
            "bin_end": 0.6375,
            "count": 65
           },
           {
            "bin_start": 0.6375,
            "bin_end": 0.7048,
            "count": 133
           },
           {
            "bin_start": 0.7048,
            "bin_end": 0.7721,
            "count": 211
           },
           {
            "bin_start": 0.7721,
            "bin_end": 0.8393999999999999,
            "count": 207
           },
           {
            "bin_start": 0.8393999999999999,
            "bin_end": 0.9067000000000001,
            "count": 182
           },
           {
            "bin_start": 0.9067000000000001,
            "bin_end": 0.974,
            "count": 70
           }
          ]
         }
        },
        {
         "name": "energy",
         "dtype": "float64",
         "stats": {
          "unique_count": 466,
          "nan_count": 0,
          "min": "0.285",
          "max": "0.993",
          "histogram": [
           {
            "bin_start": 0.285,
            "bin_end": 0.3558,
            "count": 18
           },
           {
            "bin_start": 0.3558,
            "bin_end": 0.4266,
            "count": 29
           },
           {
            "bin_start": 0.4266,
            "bin_end": 0.49739999999999995,
            "count": 77
           },
           {
            "bin_start": 0.49739999999999995,
            "bin_end": 0.5682,
            "count": 132
           },
           {
            "bin_start": 0.5682,
            "bin_end": 0.639,
            "count": 153
           },
           {
            "bin_start": 0.639,
            "bin_end": 0.7098,
            "count": 165
           },
           {
            "bin_start": 0.7098,
            "bin_end": 0.7806,
            "count": 154
           },
           {
            "bin_start": 0.7806,
            "bin_end": 0.8513999999999999,
            "count": 113
           },
           {
            "bin_start": 0.8513999999999999,
            "bin_end": 0.9221999999999999,
            "count": 96
           },
           {
            "bin_start": 0.9221999999999999,
            "bin_end": 0.993,
            "count": 34
           }
          ]
         }
        },
        {
         "name": "key",
         "dtype": "int64",
         "stats": {
          "unique_count": 12,
          "nan_count": 0,
          "min": "0",
          "max": "11",
          "histogram": [
           {
            "bin_start": 0,
            "bin_end": 1.1,
            "count": 254
           },
           {
            "bin_start": 1.1,
            "bin_end": 2.2,
            "count": 70
           },
           {
            "bin_start": 2.2,
            "bin_end": 3.3000000000000003,
            "count": 12
           },
           {
            "bin_start": 3.3000000000000003,
            "bin_end": 4.4,
            "count": 60
           },
           {
            "bin_start": 4.4,
            "bin_end": 5.5,
            "count": 53
           },
           {
            "bin_start": 5.5,
            "bin_end": 6.6000000000000005,
            "count": 96
           },
           {
            "bin_start": 6.6000000000000005,
            "bin_end": 7.700000000000001,
            "count": 100
           },
           {
            "bin_start": 7.700000000000001,
            "bin_end": 8.8,
            "count": 56
           },
           {
            "bin_start": 8.8,
            "bin_end": 9.9,
            "count": 57
           },
           {
            "bin_start": 9.9,
            "bin_end": 11,
            "count": 213
           }
          ]
         }
        },
        {
         "name": "loudness",
         "dtype": "float64",
         "stats": {
          "unique_count": 926,
          "nan_count": 0,
          "min": "-18.943",
          "max": "-0.839",
          "histogram": [
           {
            "bin_start": -18.943,
            "bin_end": -17.1326,
            "count": 3
           },
           {
            "bin_start": -17.1326,
            "bin_end": -15.3222,
            "count": 7
           },
           {
            "bin_start": -15.3222,
            "bin_end": -13.511800000000001,
            "count": 21
           },
           {
            "bin_start": -13.511800000000001,
            "bin_end": -11.7014,
            "count": 62
           },
           {
            "bin_start": -11.7014,
            "bin_end": -9.891,
            "count": 104
           },
           {
            "bin_start": -9.891,
            "bin_end": -8.0806,
            "count": 152
           },
           {
            "bin_start": -8.0806,
            "bin_end": -6.270199999999999,
            "count": 251
           },
           {
            "bin_start": -6.270199999999999,
            "bin_end": -4.4597999999999995,
            "count": 233
           },
           {
            "bin_start": -4.4597999999999995,
            "bin_end": -2.6494,
            "count": 122
           },
           {
            "bin_start": -2.6494,
            "bin_end": -0.839,
            "count": 16
           }
          ]
         }
        },
        {
         "name": "mode",
         "dtype": "int64",
         "stats": {
          "unique_count": 2,
          "nan_count": 0,
          "min": "0",
          "max": "1",
          "histogram": [
           {
            "bin_start": 0,
            "bin_end": 0.1,
            "count": 453
           },
           {
            "bin_start": 0.1,
            "bin_end": 0.2,
            "count": 0
           },
           {
            "bin_start": 0.2,
            "bin_end": 0.30000000000000004,
            "count": 0
           },
           {
            "bin_start": 0.30000000000000004,
            "bin_end": 0.4,
            "count": 0
           },
           {
            "bin_start": 0.4,
            "bin_end": 0.5,
            "count": 0
           },
           {
            "bin_start": 0.5,
            "bin_end": 0.6000000000000001,
            "count": 0
           },
           {
            "bin_start": 0.6000000000000001,
            "bin_end": 0.7000000000000001,
            "count": 0
           },
           {
            "bin_start": 0.7000000000000001,
            "bin_end": 0.8,
            "count": 0
           },
           {
            "bin_start": 0.8,
            "bin_end": 0.9,
            "count": 0
           },
           {
            "bin_start": 0.9,
            "bin_end": 1,
            "count": 518
           }
          ]
         }
        },
        {
         "name": "speechiness",
         "dtype": "float64",
         "stats": {
          "unique_count": 454,
          "nan_count": 0,
          "min": "0.0294",
          "max": "0.398",
          "histogram": [
           {
            "bin_start": 0.0294,
            "bin_end": 0.06626,
            "count": 108
           },
           {
            "bin_start": 0.06626,
            "bin_end": 0.10312,
            "count": 99
           },
           {
            "bin_start": 0.10312,
            "bin_end": 0.13998000000000002,
            "count": 81
           },
           {
            "bin_start": 0.13998000000000002,
            "bin_end": 0.17684000000000002,
            "count": 83
           },
           {
            "bin_start": 0.17684000000000002,
            "bin_end": 0.21370000000000003,
            "count": 91
           },
           {
            "bin_start": 0.21370000000000003,
            "bin_end": 0.25056,
            "count": 112
           },
           {
            "bin_start": 0.25056,
            "bin_end": 0.28742,
            "count": 123
           },
           {
            "bin_start": 0.28742,
            "bin_end": 0.32428,
            "count": 109
           },
           {
            "bin_start": 0.32428,
            "bin_end": 0.36114,
            "count": 104
           },
           {
            "bin_start": 0.36114,
            "bin_end": 0.398,
            "count": 61
           }
          ]
         }
        },
        {
         "name": "acousticness",
         "dtype": "float64",
         "stats": {
          "unique_count": 711,
          "nan_count": 0,
          "min": "0.000183",
          "max": "0.874",
          "histogram": [
           {
            "bin_start": 0.000183,
            "bin_end": 0.0875647,
            "count": 515
           },
           {
            "bin_start": 0.0875647,
            "bin_end": 0.17494639999999997,
            "count": 167
           },
           {
            "bin_start": 0.17494639999999997,
            "bin_end": 0.26232809999999995,
            "count": 108
           },
           {
            "bin_start": 0.26232809999999995,
            "bin_end": 0.34970979999999996,
            "count": 60
           },
           {
            "bin_start": 0.34970979999999996,
            "bin_end": 0.43709149999999997,
            "count": 43
           },
           {
            "bin_start": 0.43709149999999997,
            "bin_end": 0.5244732,
            "count": 28
           },
           {
            "bin_start": 0.5244732,
            "bin_end": 0.6118549,
            "count": 26
           },
           {
            "bin_start": 0.6118549,
            "bin_end": 0.6992366,
            "count": 13
           },
           {
            "bin_start": 0.6992366,
            "bin_end": 0.7866183,
            "count": 5
           },
           {
            "bin_start": 0.7866183,
            "bin_end": 0.874,
            "count": 6
           }
          ]
         }
        },
        {
         "name": "instrumentalness",
         "dtype": "float64",
         "stats": {
          "unique_count": 421,
          "nan_count": 0,
          "min": "0.0",
          "max": "0.892",
          "histogram": [
           {
            "bin_start": 0,
            "bin_end": 0.0892,
            "count": 943
           },
           {
            "bin_start": 0.0892,
            "bin_end": 0.1784,
            "count": 3
           },
           {
            "bin_start": 0.1784,
            "bin_end": 0.2676,
            "count": 6
           },
           {
            "bin_start": 0.2676,
            "bin_end": 0.3568,
            "count": 4
           },
           {
            "bin_start": 0.3568,
            "bin_end": 0.446,
            "count": 1
           },
           {
            "bin_start": 0.446,
            "bin_end": 0.5352,
            "count": 3
           },
           {
            "bin_start": 0.5352,
            "bin_end": 0.6244000000000001,
            "count": 0
           },
           {
            "bin_start": 0.6244000000000001,
            "bin_end": 0.7136,
            "count": 1
           },
           {
            "bin_start": 0.7136,
            "bin_end": 0.8028,
            "count": 3
           },
           {
            "bin_start": 0.8028,
            "bin_end": 0.892,
            "count": 7
           }
          ]
         }
        },
        {
         "name": "liveness",
         "dtype": "float64",
         "stats": {
          "unique_count": 554,
          "nan_count": 0,
          "min": "0.026",
          "max": "0.946",
          "histogram": [
           {
            "bin_start": 0.026,
            "bin_end": 0.118,
            "count": 418
           },
           {
            "bin_start": 0.118,
            "bin_end": 0.21,
            "count": 209
           },
           {
            "bin_start": 0.21,
            "bin_end": 0.30200000000000005,
            "count": 124
           },
           {
            "bin_start": 0.30200000000000005,
            "bin_end": 0.394,
            "count": 117
           },
           {
            "bin_start": 0.394,
            "bin_end": 0.486,
            "count": 35
           },
           {
            "bin_start": 0.486,
            "bin_end": 0.5780000000000001,
            "count": 13
           },
           {
            "bin_start": 0.5780000000000001,
            "bin_end": 0.67,
            "count": 24
           },
           {
            "bin_start": 0.67,
            "bin_end": 0.762,
            "count": 10
           },
           {
            "bin_start": 0.762,
            "bin_end": 0.854,
            "count": 14
           },
           {
            "bin_start": 0.854,
            "bin_end": 0.946,
            "count": 7
           }
          ]
         }
        },
        {
         "name": "valence",
         "dtype": "float64",
         "stats": {
          "unique_count": 544,
          "nan_count": 0,
          "min": "0.0384",
          "max": "0.973",
          "histogram": [
           {
            "bin_start": 0.0384,
            "bin_end": 0.13186,
            "count": 13
           },
           {
            "bin_start": 0.13186,
            "bin_end": 0.22532,
            "count": 35
           },
           {
            "bin_start": 0.22532,
            "bin_end": 0.31878,
            "count": 43
           },
           {
            "bin_start": 0.31878,
            "bin_end": 0.41224,
            "count": 88
           },
           {
            "bin_start": 0.41224,
            "bin_end": 0.5057,
            "count": 110
           },
           {
            "bin_start": 0.5057,
            "bin_end": 0.59916,
            "count": 144
           },
           {
            "bin_start": 0.59916,
            "bin_end": 0.69262,
            "count": 169
           },
           {
            "bin_start": 0.69262,
            "bin_end": 0.78608,
            "count": 178
           },
           {
            "bin_start": 0.78608,
            "bin_end": 0.87954,
            "count": 121
           },
           {
            "bin_start": 0.87954,
            "bin_end": 0.973,
            "count": 70
           }
          ]
         }
        },
        {
         "name": "tempo",
         "dtype": "float64",
         "stats": {
          "unique_count": 951,
          "nan_count": 0,
          "min": "52.145",
          "max": "205.66",
          "histogram": [
           {
            "bin_start": 52.145,
            "bin_end": 67.4965,
            "count": 2
           },
           {
            "bin_start": 67.4965,
            "bin_end": 82.848,
            "count": 67
           },
           {
            "bin_start": 82.848,
            "bin_end": 98.1995,
            "count": 418
           },
           {
            "bin_start": 98.1995,
            "bin_end": 113.55099999999999,
            "count": 185
           },
           {
            "bin_start": 113.55099999999999,
            "bin_end": 128.9025,
            "count": 70
           },
           {
            "bin_start": 128.9025,
            "bin_end": 144.254,
            "count": 81
           },
           {
            "bin_start": 144.254,
            "bin_end": 159.60549999999998,
            "count": 43
           },
           {
            "bin_start": 159.60549999999998,
            "bin_end": 174.957,
            "count": 56
           },
           {
            "bin_start": 174.957,
            "bin_end": 190.30849999999998,
            "count": 35
           },
           {
            "bin_start": 190.30849999999998,
            "bin_end": 205.66,
            "count": 14
           }
          ]
         }
        },
        {
         "name": "time_signature",
         "dtype": "int64",
         "stats": {
          "unique_count": 4,
          "nan_count": 0,
          "min": "1",
          "max": "5",
          "histogram": [
           {
            "bin_start": 1,
            "bin_end": 1.4,
            "count": 6
           },
           {
            "bin_start": 1.4,
            "bin_end": 1.8,
            "count": 0
           },
           {
            "bin_start": 1.8,
            "bin_end": 2.2,
            "count": 0
           },
           {
            "bin_start": 2.2,
            "bin_end": 2.6,
            "count": 0
           },
           {
            "bin_start": 2.6,
            "bin_end": 3,
            "count": 0
           },
           {
            "bin_start": 3,
            "bin_end": 3.4000000000000004,
            "count": 6
           },
           {
            "bin_start": 3.4000000000000004,
            "bin_end": 3.8000000000000003,
            "count": 0
           },
           {
            "bin_start": 3.8000000000000003,
            "bin_end": 4.2,
            "count": 947
           },
           {
            "bin_start": 4.2,
            "bin_end": 4.6,
            "count": 0
           },
           {
            "bin_start": 4.6,
            "bin_end": 5,
            "count": 12
           }
          ]
         }
        },
        {
         "name": "_deepnote_index_column",
         "dtype": "int64"
        }
       ],
       "rows_top": [
        {
         "Genre": "hiphop",
         "Title": "Can I Kick It?",
         "Album_cover_link": "https://i.scdn.co/image/ab67616d0000b2734ba1fe238a517021ebcc2ace",
         "Artist": "A Tribe Called Quest",
         "duration_ms": 251573,
         "explicit": false,
         "id": "3Ti0GdlrotgwsAVBBugv0I",
         "popularity": 70,
         "release_date": "1990-04-17",
         "release_date_precision": "day",
         "total_tracks": 17,
         "danceability": 0.848,
         "energy": 0.666,
         "key": 0,
         "loudness": -6.547,
         "mode": 1,
         "speechiness": 0.274,
         "acousticness": 0.173,
         "instrumentalness": 0.000699,
         "liveness": 0.129,
         "valence": 0.744,
         "tempo": 96.662,
         "time_signature": 4,
         "_deepnote_index_column": 5215
        },
        {
         "Genre": "hiphop",
         "Title": "Hip Hop Hooray",
         "Album_cover_link": "https://i.scdn.co/image/ab67616d0000b27393e4dd713aeeeada502e5428",
         "Artist": "Naughty By Nature",
         "duration_ms": 267266,
         "explicit": false,
         "id": "1w29UTa5uUvIri2tWtZ12Y",
         "popularity": 66,
         "release_date": "1993-02-23",
         "release_date_precision": "day",
         "total_tracks": 14,
         "danceability": 0.862,
         "energy": 0.642,
         "key": 6,
         "loudness": -13.652,
         "mode": 0,
         "speechiness": 0.101,
         "acousticness": 0.102,
         "instrumentalness": 0,
         "liveness": 0.272,
         "valence": 0.765,
         "tempo": 99.201,
         "time_signature": 4,
         "_deepnote_index_column": 5216
        },
        {
         "Genre": "hiphop",
         "Title": "Ms. Fat Booty",
         "Album_cover_link": "https://i.scdn.co/image/ab67616d0000b27389b56f56323925d57b38944d",
         "Artist": "Mos Def",
         "duration_ms": 223546,
         "explicit": true,
         "id": "0IVAlb0cFCH1cQ974iR1TU",
         "popularity": 70,
         "release_date": "1999-10-12",
         "release_date_precision": "day",
         "total_tracks": 17,
         "danceability": 0.782,
         "energy": 0.589,
         "key": 1,
         "loudness": -4.827,
         "mode": 1,
         "speechiness": 0.189,
         "acousticness": 0.148,
         "instrumentalness": 0,
         "liveness": 0.164,
         "valence": 0.869,
         "tempo": 90.438,
         "time_signature": 4,
         "_deepnote_index_column": 5217
        },
        {
         "Genre": "hiphop",
         "Title": "Don't Sweat The Technique",
         "Album_cover_link": "https://i.scdn.co/image/ab67616d0000b273d552416cafb8792b442655b2",
         "Artist": "Eric B. & Rakim",
         "duration_ms": 262800,
         "explicit": false,
         "id": "48ZUwXrEOhaXLCxvmRYhZv",
         "popularity": 62,
         "release_date": "1992-01-01",
         "release_date_precision": "day",
         "total_tracks": 12,
         "danceability": 0.737,
         "energy": 0.89,
         "key": 4,
         "loudness": -8.443,
         "mode": 1,
         "speechiness": 0.158,
         "acousticness": 0.00556,
         "instrumentalness": 0.00171,
         "liveness": 0.0801,
         "valence": 0.809,
         "tempo": 105.848,
         "time_signature": 4,
         "_deepnote_index_column": 5218
        },
        {
         "Genre": "hiphop",
         "Title": "Passin' Me By",
         "Album_cover_link": "https://i.scdn.co/image/ab67616d0000b2739ec4abd35652fafe34ee7dfb",
         "Artist": "The Pharcyde",
         "duration_ms": 303493,
         "explicit": false,
         "id": "4G3dZN9o3o2X4VKwt4CLts",
         "popularity": 69,
         "release_date": "1992-11-24",
         "release_date_precision": "day",
         "total_tracks": 16,
         "danceability": 0.759,
         "energy": 0.756,
         "key": 4,
         "loudness": -8.145,
         "mode": 0,
         "speechiness": 0.266,
         "acousticness": 0.0903,
         "instrumentalness": 0.00000236,
         "liveness": 0.265,
         "valence": 0.613,
         "tempo": 87.059,
         "time_signature": 4,
         "_deepnote_index_column": 5219
        },
        {
         "Genre": "hiphop",
         "Title": "Tonight's Da Night",
         "Album_cover_link": "https://i.scdn.co/image/ab67616d0000b2733397cc60078359cce2ed2874",
         "Artist": "Redman",
         "duration_ms": 201373,
         "explicit": true,
         "id": "67mtN6BlsJR0LVyzvNZnGt",
         "popularity": 64,
         "release_date": "1992-01-01",
         "release_date_precision": "day",
         "total_tracks": 21,
         "danceability": 0.697,
         "energy": 0.687,
         "key": 6,
         "loudness": -11.111,
         "mode": 1,
         "speechiness": 0.379,
         "acousticness": 0.26,
         "instrumentalness": 0.000048,
         "liveness": 0.403,
         "valence": 0.866,
         "tempo": 90.247,
         "time_signature": 4,
         "_deepnote_index_column": 5220
        },
        {
         "Genre": "hiphop",
         "Title": "Children's Story",
         "Album_cover_link": "https://i.scdn.co/image/ab67616d0000b273a5234ad1d0dbc9dfc94c5ee5",
         "Artist": "Slick Rick",
         "duration_ms": 242040,
         "explicit": true,
         "id": "15HgR9Ht4obJOcMG4wregp",
         "popularity": 61,
         "release_date": "1988-11-01",
         "release_date_precision": "day",
         "total_tracks": 17,
         "danceability": 0.904,
         "energy": 0.577,
         "key": 1,
         "loudness": -7.293,
         "mode": 1,
         "speechiness": 0.132,
         "acousticness": 0.125,
         "instrumentalness": 0,
         "liveness": 0.115,
         "valence": 0.7,
         "tempo": 102.691,
         "time_signature": 4,
         "_deepnote_index_column": 5221
        },
        {
         "Genre": "hiphop",
         "Title": "Got Your Money (feat. Kelis)",
         "Album_cover_link": "https://i.scdn.co/image/ab67616d0000b273282eb5b255691e46a5bf5aad",
         "Artist": "ODB",
         "duration_ms": 239546,
         "explicit": true,
         "id": "6YYd5MLpu45J0uLrMdivF7",
         "popularity": 68,
         "release_date": "1999",
         "release_date_precision": "year",
         "total_tracks": 13,
         "danceability": 0.934,
         "energy": 0.459,
         "key": 1,
         "loudness": -7.654,
         "mode": 1,
         "speechiness": 0.189,
         "acousticness": 0.0516,
         "instrumentalness": 0,
         "liveness": 0.222,
         "valence": 0.697,
         "tempo": 103.04,
         "time_signature": 4,
         "_deepnote_index_column": 5222
        },
        {
         "Genre": "hiphop",
         "Title": "Full Clip",
         "Album_cover_link": "https://i.scdn.co/image/ab67616d0000b273adb5dbf4251255a00146d8eb",
         "Artist": "Gang Starr",
         "duration_ms": 217440,
         "explicit": true,
         "id": "30oTS7bm0aH3p7lqjEIu8q",
         "popularity": 64,
         "release_date": "1999-07-13",
         "release_date_precision": "day",
         "total_tracks": 33,
         "danceability": 0.875,
         "energy": 0.745,
         "key": 1,
         "loudness": -5.878,
         "mode": 1,
         "speechiness": 0.269,
         "acousticness": 0.0227,
         "instrumentalness": 0.00000237,
         "liveness": 0.287,
         "valence": 0.749,
         "tempo": 95.201,
         "time_signature": 4,
         "_deepnote_index_column": 5223
        },
        {
         "Genre": "hiphop",
         "Title": "Sound of da Police",
         "Album_cover_link": "https://i.scdn.co/image/ab67616d0000b273db6b0860c8fc65d67c76775f",
         "Artist": "KRS-One",
         "duration_ms": 258506,
         "explicit": false,
         "id": "3Y6XWs8xMlCngyIxNOFnsp",
         "popularity": 64,
         "release_date": "1993-09-03",
         "release_date_precision": "day",
         "total_tracks": 14,
         "danceability": 0.794,
         "energy": 0.95,
         "key": 1,
         "loudness": -8.78,
         "mode": 1,
         "speechiness": 0.294,
         "acousticness": 0.124,
         "instrumentalness": 0.0000771,
         "liveness": 0.133,
         "valence": 0.324,
         "tempo": 94.984,
         "time_signature": 4,
         "_deepnote_index_column": 5224
        },
        {
         "Genre": "hiphop",
         "Title": "Still Not a Player (feat. Joe) - Radio Version",
         "Album_cover_link": "https://i.scdn.co/image/ab67616d0000b2738c7a8e68dc5c20bb72f713f2",
         "Artist": "Big Pun",
         "duration_ms": 236800,
         "explicit": false,
         "id": "3GKL13lkM5nRc4zC1lIOrR",
         "popularity": 69,
         "release_date": "1998-04-28",
         "release_date_precision": "day",
         "total_tracks": 24,
         "danceability": 0.9,
         "energy": 0.619,
         "key": 4,
         "loudness": -6.518,
         "mode": 0,
         "speechiness": 0.312,
         "acousticness": 0.203,
         "instrumentalness": 0.00156,
         "liveness": 0.0647,
         "valence": 0.864,
         "tempo": 94.121,
         "time_signature": 4,
         "_deepnote_index_column": 5225
        },
        {
         "Genre": "hiphop",
         "Title": "He Got Game",
         "Album_cover_link": "https://i.scdn.co/image/ab67616d0000b273331c8f13fb4bbf72670f77c7",
         "Artist": "Public Enemy",
         "duration_ms": 286200,
         "explicit": true,
         "id": "7aRGb3vZGMLNpK2PEdUjdA",
         "popularity": 59,
         "release_date": "1998-04-21",
         "release_date_precision": "day",
         "total_tracks": 13,
         "danceability": 0.825,
         "energy": 0.639,
         "key": 4,
         "loudness": -6.607,
         "mode": 1,
         "speechiness": 0.185,
         "acousticness": 0.0731,
         "instrumentalness": 0.0225,
         "liveness": 0.0612,
         "valence": 0.866,
         "tempo": 97.389,
         "time_signature": 4,
         "_deepnote_index_column": 5226
        },
        {
         "Genre": "hiphop",
         "Title": "Strictly Business",
         "Album_cover_link": "https://i.scdn.co/image/ab67616d0000b27393d12611d0665f9bb15cc79f",
         "Artist": "EPMD",
         "duration_ms": 285413,
         "explicit": false,
         "id": "1xZdjsAGrY4BUIbIlYy3EX",
         "popularity": 49,
         "release_date": "1988-06-07",
         "release_date_precision": "day",
         "total_tracks": 10,
         "danceability": 0.712,
         "energy": 0.895,
         "key": 10,
         "loudness": -4.212,
         "mode": 0,
         "speechiness": 0.254,
         "acousticness": 0.181,
         "instrumentalness": 0.000018,
         "liveness": 0.108,
         "valence": 0.727,
         "tempo": 96.338,
         "time_signature": 4,
         "_deepnote_index_column": 5227
        },
        {
         "Genre": "hiphop",
         "Title": "Shadowboxin'",
         "Album_cover_link": "https://i.scdn.co/image/ab67616d0000b27384b6abc19fb31fb382378bbc",
         "Artist": "GZA",
         "duration_ms": 209973,
         "explicit": true,
         "id": "7bp5DfkdK1OAvNJ1U4HfDA",
         "popularity": 65,
         "release_date": "1995-11-07",
         "release_date_precision": "day",
         "total_tracks": 13,
         "danceability": 0.704,
         "energy": 0.642,
         "key": 1,
         "loudness": -10.11,
         "mode": 1,
         "speechiness": 0.39,
         "acousticness": 0.00704,
         "instrumentalness": 0.00000143,
         "liveness": 0.161,
         "valence": 0.72,
         "tempo": 92.09,
         "time_signature": 4,
         "_deepnote_index_column": 5228
        },
        {
         "Genre": "hiphop",
         "Title": "I'll Be There For You/You're All I Need To Get By - Puff Daddy Mix",
         "Album_cover_link": "https://i.scdn.co/image/ab67616d0000b273eac07404afec33248030ae90",
         "Artist": "Method Man",
         "duration_ms": 309946,
         "explicit": false,
         "id": "6C3yPXYG2NJYlIYVe5J7hv",
         "popularity": 62,
         "release_date": "2014-09-16",
         "release_date_precision": "day",
         "total_tracks": 26,
         "danceability": 0.722,
         "energy": 0.745,
         "key": 4,
         "loudness": -6.059,
         "mode": 0,
         "speechiness": 0.0536,
         "acousticness": 0.151,
         "instrumentalness": 0.00000626,
         "liveness": 0.337,
         "valence": 0.607,
         "tempo": 95.021,
         "time_signature": 4,
         "_deepnote_index_column": 5229
        },
        {
         "Genre": "hiphop",
         "Title": "When I B On Tha Mic",
         "Album_cover_link": "https://i.scdn.co/image/ab67616d0000b273788e4b609c57229f355b96b8",
         "Artist": "Rakim",
         "duration_ms": 222933,
         "explicit": true,
         "id": "2p9sprAX27D6U5cuSE9NsM",
         "popularity": 64,
         "release_date": "1999-01-01",
         "release_date_precision": "day",
         "total_tracks": 17,
         "danceability": 0.836,
         "energy": 0.484,
         "key": 2,
         "loudness": -7.332,
         "mode": 1,
         "speechiness": 0.327,
         "acousticness": 0.0454,
         "instrumentalness": 0,
         "liveness": 0.0557,
         "valence": 0.839,
         "tempo": 95.941,
         "time_signature": 4,
         "_deepnote_index_column": 5230
        },
        {
         "Genre": "hiphop",
         "Title": "Put It On",
         "Album_cover_link": "https://i.scdn.co/image/ab67616d0000b273f22da4550a4de3cefb5afc0b",
         "Artist": "Big L",
         "duration_ms": 217626,
         "explicit": false,
         "id": "6JI5wNWYdBw68GZjOMmgK5",
         "popularity": 63,
         "release_date": "1995-03-28",
         "release_date_precision": "day",
         "total_tracks": 12,
         "danceability": 0.711,
         "energy": 0.62,
         "key": 11,
         "loudness": -10.174,
         "mode": 0,
         "speechiness": 0.212,
         "acousticness": 0.0175,
         "instrumentalness": 0,
         "liveness": 0.134,
         "valence": 0.805,
         "tempo": 179.817,
         "time_signature": 4,
         "_deepnote_index_column": 5231
        },
        {
         "Genre": "hiphop",
         "Title": "C.R.E.A.M. (Cash Rules Everything Around Me) (feat. Method Man, Raekwon, Inspectah Deck & Buddha Mo…",
         "Album_cover_link": "https://i.scdn.co/image/ab67616d0000b2735901aaa980d3e714bf01171c",
         "Artist": "Wu-Tang Clan",
         "duration_ms": 252186,
         "explicit": true,
         "id": "119c93MHjrDLJTApCVGpvx",
         "popularity": 74,
         "release_date": "1993-11-09",
         "release_date_precision": "day",
         "total_tracks": 15,
         "danceability": 0.479,
         "energy": 0.549,
         "key": 11,
         "loudness": -10.551,
         "mode": 0,
         "speechiness": 0.373,
         "acousticness": 0.57,
         "instrumentalness": 0.0235,
         "liveness": 0.127,
         "valence": 0.576,
         "tempo": 180.985,
         "time_signature": 4,
         "_deepnote_index_column": 5232
        },
        {
         "Genre": "hiphop",
         "Title": "Warm It Up, Kane",
         "Album_cover_link": "https://i.scdn.co/image/ab67616d0000b27375f7661c21b85aab0126f80c",
         "Artist": "Big Daddy Kane",
         "duration_ms": 254026,
         "explicit": false,
         "id": "6l1tmVO6bRmV7kSMsYaHZm",
         "popularity": 53,
         "release_date": "1989",
         "release_date_precision": "year",
         "total_tracks": 17,
         "danceability": 0.878,
         "energy": 0.311,
         "key": 1,
         "loudness": -17.401,
         "mode": 1,
         "speechiness": 0.324,
         "acousticness": 0.0953,
         "instrumentalness": 0,
         "liveness": 0.0808,
         "valence": 0.486,
         "tempo": 117.759,
         "time_signature": 4,
         "_deepnote_index_column": 5233
        },
        {
         "Genre": "hiphop",
         "Title": "Rock Co.Kane Flow (feat. MF Doom)",
         "Album_cover_link": "https://i.scdn.co/image/ab67616d0000b2731570a07919f28483c25c0254",
         "Artist": "De La Soul",
         "duration_ms": 185266,
         "explicit": true,
         "id": "6RBMpENxbx74lTdR5SBcaF",
         "popularity": 57,
         "release_date": "2004-10-05",
         "release_date_precision": "day",
         "total_tracks": 13,
         "danceability": 0.733,
         "energy": 0.67,
         "key": 10,
         "loudness": -3.532,
         "mode": 0,
         "speechiness": 0.132,
         "acousticness": 0.119,
         "instrumentalness": 0,
         "liveness": 0.442,
         "valence": 0.763,
         "tempo": 86.983,
         "time_signature": 4,
         "_deepnote_index_column": 5234
        }
       ],
       "rows_bottom": [
        {
         "Genre": "hiphop",
         "Title": "Back That Thang Up",
         "Album_cover_link": "https://i.scdn.co/image/ab67616d0000b273370a7296e61c5cac42d52c5a",
         "Artist": "JUVENILE",
         "duration_ms": 273786,
         "explicit": false,
         "id": "5jbKpvtoxZB14tbnBafMuL",
         "popularity": 54,
         "release_date": "2004",
         "release_date_precision": "year",
         "total_tracks": 17,
         "danceability": 0.718,
         "energy": 0.708,
         "key": 7,
         "loudness": -5.229,
         "mode": 1,
         "speechiness": 0.289,
         "acousticness": 0.0807,
         "instrumentalness": 0,
         "liveness": 0.132,
         "valence": 0.49,
         "tempo": 191.601,
         "time_signature": 4,
         "_deepnote_index_column": 6165
        },
        {
         "Genre": "hiphop",
         "Title": "Mr. Hood at Piocallee Jewelry / Crackpot",
         "Album_cover_link": "https://i.scdn.co/image/ab67616d0000b2736f6643b487dd2913da698d0d",
         "Artist": "KMD",
         "duration_ms": 169333,
         "explicit": false,
         "id": "10RHHwMAsp8hpF6zsxAwpY",
         "popularity": 36,
         "release_date": "1991",
         "release_date_precision": "year",
         "total_tracks": 18,
         "danceability": 0.854,
         "energy": 0.43,
         "key": 2,
         "loudness": -16.207,
         "mode": 1,
         "speechiness": 0.358,
         "acousticness": 0.367,
         "instrumentalness": 0,
         "liveness": 0.61,
         "valence": 0.455,
         "tempo": 107.57,
         "time_signature": 4,
         "_deepnote_index_column": 6166
        },
        {
         "Genre": "hiphop",
         "Title": "The Setup",
         "Album_cover_link": "https://i.scdn.co/image/ab67616d0000b273eb252b9956a0ca5a38447060",
         "Artist": "Obie Trice",
         "duration_ms": 193000,
         "explicit": true,
         "id": "6uzesxG4dlBg3faZmzL6Qs",
         "popularity": 55,
         "release_date": "2003-01-01",
         "release_date_precision": "day",
         "total_tracks": 17,
         "danceability": 0.908,
         "energy": 0.738,
         "key": 1,
         "loudness": -4.933,
         "mode": 1,
         "speechiness": 0.271,
         "acousticness": 0.143,
         "instrumentalness": 0,
         "liveness": 0.0829,
         "valence": 0.79,
         "tempo": 95.954,
         "time_signature": 4,
         "_deepnote_index_column": 6167
        },
        {
         "Genre": "hiphop",
         "Title": "The Mission",
         "Album_cover_link": "https://i.scdn.co/image/ab67616d0000b2734657755495adcd7548121a79",
         "Artist": "Special Ed",
         "duration_ms": 235200,
         "explicit": false,
         "id": "2XQIn9lQSAn6Ea3IG4XOh6",
         "popularity": 29,
         "release_date": "1990-04-01",
         "release_date_precision": "day",
         "total_tracks": 10,
         "danceability": 0.862,
         "energy": 0.705,
         "key": 1,
         "loudness": -11.065,
         "mode": 1,
         "speechiness": 0.149,
         "acousticness": 0.128,
         "instrumentalness": 0.0000215,
         "liveness": 0.193,
         "valence": 0.745,
         "tempo": 101.646,
         "time_signature": 4,
         "_deepnote_index_column": 6168
        },
        {
         "Genre": "hiphop",
         "Title": "True Honey Buns (Dat Freak Shit)",
         "Album_cover_link": "https://i.scdn.co/image/ab67616d0000b27344016e2326d59e4dd362ea5e",
         "Artist": "Bahamadia",
         "duration_ms": 221640,
         "explicit": true,
         "id": "5zhA0hcJGQmiFkGtx19eOT",
         "popularity": 40,
         "release_date": "1996-01-01",
         "release_date_precision": "day",
         "total_tracks": 16,
         "danceability": 0.774,
         "energy": 0.68,
         "key": 3,
         "loudness": -9.17,
         "mode": 0,
         "speechiness": 0.275,
         "acousticness": 0.109,
         "instrumentalness": 0,
         "liveness": 0.0995,
         "valence": 0.854,
         "tempo": 82.989,
         "time_signature": 4,
         "_deepnote_index_column": 6169
        },
        {
         "Genre": "hiphop",
         "Title": "Back (feat. Yo Gotti)",
         "Album_cover_link": "https://i.scdn.co/image/ab67616d0000b2735e28cf3d6a2d428f85ec399f",
         "Artist": "Jeezy",
         "duration_ms": 188559,
         "explicit": true,
         "id": "5OtK4qowbxqNC2dueZR3ju",
         "popularity": 60,
         "release_date": "2020-11-20",
         "release_date_precision": "day",
         "total_tracks": 15,
         "danceability": 0.806,
         "energy": 0.718,
         "key": 2,
         "loudness": -4.213,
         "mode": 0,
         "speechiness": 0.0898,
         "acousticness": 0.131,
         "instrumentalness": 0,
         "liveness": 0.398,
         "valence": 0.586,
         "tempo": 98.526,
         "time_signature": 4,
         "_deepnote_index_column": 6170
        },
        {
         "Genre": "hiphop",
         "Title": "Sugar (Gimme Some) [feat. Cee-Lo & Ludacris]",
         "Album_cover_link": "https://i.scdn.co/image/ab67616d0000b2739e3bc0ca77a4a1233fe8ade2",
         "Artist": "Trick Daddy",
         "duration_ms": 245106,
         "explicit": true,
         "id": "7x6SuiiH3fcrsAgfkp2OwQ",
         "popularity": 56,
         "release_date": "2004-10-26",
         "release_date_precision": "day",
         "total_tracks": 16,
         "danceability": 0.822,
         "energy": 0.673,
         "key": 4,
         "loudness": -6.141,
         "mode": 0,
         "speechiness": 0.228,
         "acousticness": 0.144,
         "instrumentalness": 0,
         "liveness": 0.323,
         "valence": 0.85,
         "tempo": 120.02,
         "time_signature": 4,
         "_deepnote_index_column": 6171
        },
        {
         "Genre": "hiphop",
         "Title": "So Fly (J. Period Remix)",
         "Album_cover_link": "https://i.scdn.co/image/ab67616d0000b273b0bea562f683bdb5469e495d",
         "Artist": "Nate Dogg",
         "duration_ms": 185813,
         "explicit": true,
         "id": "7IMt6vPcCbtNqXay4Zp9ya",
         "popularity": 58,
         "release_date": "2015-04-14",
         "release_date_precision": "day",
         "total_tracks": 44,
         "danceability": 0.605,
         "energy": 0.602,
         "key": 0,
         "loudness": -6.837,
         "mode": 0,
         "speechiness": 0.398,
         "acousticness": 0.177,
         "instrumentalness": 0,
         "liveness": 0.405,
         "valence": 0.829,
         "tempo": 82.261,
         "time_signature": 4,
         "_deepnote_index_column": 6172
        },
        {
         "Genre": "hiphop",
         "Title": "I Go To Work",
         "Album_cover_link": "https://i.scdn.co/image/ab67616d0000b273355e395396ecd687a7307811",
         "Artist": "Kool Moe Dee",
         "duration_ms": 282093,
         "explicit": false,
         "id": "6tGtBvK6DezcjbtUxXGyxe",
         "popularity": 40,
         "release_date": "1989-05-12",
         "release_date_precision": "day",
         "total_tracks": 10,
         "danceability": 0.847,
         "energy": 0.828,
         "key": 6,
         "loudness": -12.497,
         "mode": 1,
         "speechiness": 0.0795,
         "acousticness": 0.137,
         "instrumentalness": 0.00000153,
         "liveness": 0.101,
         "valence": 0.451,
         "tempo": 125.764,
         "time_signature": 4,
         "_deepnote_index_column": 6173
        },
        {
         "Genre": "hiphop",
         "Title": "A Nightmare on My Street",
         "Album_cover_link": "https://i.scdn.co/image/ab67616d0000b2730806b26ea2977572feca831f",
         "Artist": "DJ Jazzy Jeff & The Fresh Prince",
         "duration_ms": 294826,
         "explicit": false,
         "id": "2aRjuScpka878tUWOsLYpQ",
         "popularity": 51,
         "release_date": "1988-03-29",
         "release_date_precision": "day",
         "total_tracks": 17,
         "danceability": 0.722,
         "energy": 0.486,
         "key": 2,
         "loudness": -17.081,
         "mode": 1,
         "speechiness": 0.128,
         "acousticness": 0.0332,
         "instrumentalness": 0,
         "liveness": 0.111,
         "valence": 0.625,
         "tempo": 170.626,
         "time_signature": 4,
         "_deepnote_index_column": 6174
        },
        {
         "Genre": "hiphop",
         "Title": "Bloody Money",
         "Album_cover_link": "https://i.scdn.co/image/ab67616d0000b2738a15c266c27c98601ae6cac5",
         "Artist": "Capone-N-Noreaga",
         "duration_ms": 274146,
         "explicit": true,
         "id": "3iG4WlH1GlZkiWDZi41M0C",
         "popularity": 40,
         "release_date": "1997-06-17",
         "release_date_precision": "day",
         "total_tracks": 20,
         "danceability": 0.877,
         "energy": 0.853,
         "key": 1,
         "loudness": -6.852,
         "mode": 1,
         "speechiness": 0.225,
         "acousticness": 0.0125,
         "instrumentalness": 0.00178,
         "liveness": 0.245,
         "valence": 0.484,
         "tempo": 91.9,
         "time_signature": 4,
         "_deepnote_index_column": 6175
        },
        {
         "Genre": "hiphop",
         "Title": "Racks in the Middle (feat. Roddy Ricch and Hit-Boy)",
         "Album_cover_link": "https://i.scdn.co/image/ab67616d0000b273799fa9172d18a7944a5f7cef",
         "Artist": "Nipsey Hussle",
         "duration_ms": 233277,
         "explicit": true,
         "id": "6ya8ejoKgw906Y8LWclqrp",
         "popularity": 66,
         "release_date": "2019-02-15",
         "release_date_precision": "day",
         "total_tracks": 1,
         "danceability": 0.671,
         "energy": 0.833,
         "key": 5,
         "loudness": -5.152,
         "mode": 0,
         "speechiness": 0.395,
         "acousticness": 0.0825,
         "instrumentalness": 0,
         "liveness": 0.0726,
         "valence": 0.702,
         "tempo": 79.351,
         "time_signature": 4,
         "_deepnote_index_column": 6176
        },
        {
         "Genre": "hiphop",
         "Title": "Fight Music",
         "Album_cover_link": "https://i.scdn.co/image/ab67616d0000b2739f2ea05aa0ad163b4bf35b89",
         "Artist": "D12",
         "duration_ms": 261093,
         "explicit": true,
         "id": "3vBv2Tp0kHyBDUBZJr9GXQ",
         "popularity": 65,
         "release_date": "2001-01-01",
         "release_date_precision": "day",
         "total_tracks": 19,
         "danceability": 0.75,
         "energy": 0.849,
         "key": 0,
         "loudness": -3.097,
         "mode": 1,
         "speechiness": 0.264,
         "acousticness": 0.0803,
         "instrumentalness": 0,
         "liveness": 0.333,
         "valence": 0.771,
         "tempo": 89.501,
         "time_signature": 4,
         "_deepnote_index_column": 6177
        },
        {
         "Genre": "hiphop",
         "Title": "Dead And Gone",
         "Album_cover_link": "https://i.scdn.co/image/ab67616d0000b273b6d4478c6f91f1cb2d326c78",
         "Artist": "T.I.",
         "duration_ms": 299746,
         "explicit": true,
         "id": "7IhsLJMqdxoo7YAZjaSMru",
         "popularity": 69,
         "release_date": "2008-09-07",
         "release_date_precision": "day",
         "total_tracks": 16,
         "danceability": 0.713,
         "energy": 0.746,
         "key": 0,
         "loudness": -4.99,
         "mode": 1,
         "speechiness": 0.259,
         "acousticness": 0.0402,
         "instrumentalness": 0,
         "liveness": 0.601,
         "valence": 0.47,
         "tempo": 135.021,
         "time_signature": 4,
         "_deepnote_index_column": 6178
        },
        {
         "Genre": "hiphop",
         "Title": "Feet On The Ground",
         "Album_cover_link": "https://i.scdn.co/image/ab67616d0000b2731177a3d99ae52f2ec4630604",
         "Artist": "Blu",
         "duration_ms": 297875,
         "explicit": false,
         "id": "7AOYq2uBwuB8uaSJj8Cq6F",
         "popularity": 39,
         "release_date": "2019-08-16",
         "release_date_precision": "day",
         "total_tracks": 8,
         "danceability": 0.693,
         "energy": 0.648,
         "key": 4,
         "loudness": -8.465,
         "mode": 0,
         "speechiness": 0.0931,
         "acousticness": 0.00958,
         "instrumentalness": 0.0000323,
         "liveness": 0.846,
         "valence": 0.815,
         "tempo": 88.005,
         "time_signature": 4,
         "_deepnote_index_column": 6179
        },
        {
         "Genre": "hiphop",
         "Title": "21 & Over",
         "Album_cover_link": "https://i.scdn.co/image/ab67616d0000b273eb112b7080ea65f681da71ed",
         "Artist": "Statik Selektah",
         "duration_ms": 167134,
         "explicit": true,
         "id": "2GzcSJ4sCf1kaon4Z8hA5e",
         "popularity": 48,
         "release_date": "2013-06-18",
         "release_date_precision": "day",
         "total_tracks": 18,
         "danceability": 0.632,
         "energy": 0.746,
         "key": 6,
         "loudness": -6.257,
         "mode": 0,
         "speechiness": 0.288,
         "acousticness": 0.0354,
         "instrumentalness": 0.000895,
         "liveness": 0.115,
         "valence": 0.381,
         "tempo": 90.045,
         "time_signature": 4,
         "_deepnote_index_column": 6180
        },
        {
         "Genre": "hiphop",
         "Title": "I'm A Swing It",
         "Album_cover_link": "https://i.scdn.co/image/ab67616d0000b273fdfb1a2e81616f4cbd2b6544",
         "Artist": "House Of Pain",
         "duration_ms": 223800,
         "explicit": true,
         "id": "4Zgl65eYgR2WhvGDGlv2mz",
         "popularity": 48,
         "release_date": "1994",
         "release_date_precision": "year",
         "total_tracks": 15,
         "danceability": 0.861,
         "energy": 0.573,
         "key": 11,
         "loudness": -10.184,
         "mode": 1,
         "speechiness": 0.12,
         "acousticness": 0.0122,
         "instrumentalness": 0.00455,
         "liveness": 0.0891,
         "valence": 0.448,
         "tempo": 99.036,
         "time_signature": 4,
         "_deepnote_index_column": 6181
        },
        {
         "Genre": "hiphop",
         "Title": "Here I Go",
         "Album_cover_link": "https://i.scdn.co/image/ab67616d0000b2736d7a087d784c8e4b26d59732",
         "Artist": "Mystikal",
         "duration_ms": 345066,
         "explicit": true,
         "id": "0Sizq91V0brNa9RBpMfeOB",
         "popularity": 48,
         "release_date": "1995-10-09",
         "release_date_precision": "day",
         "total_tracks": 15,
         "danceability": 0.727,
         "energy": 0.661,
         "key": 6,
         "loudness": -4.992,
         "mode": 0,
         "speechiness": 0.0731,
         "acousticness": 0.355,
         "instrumentalness": 0,
         "liveness": 0.3,
         "valence": 0.511,
         "tempo": 84.974,
         "time_signature": 4,
         "_deepnote_index_column": 6182
        },
        {
         "Genre": "hiphop",
         "Title": "One Call Away",
         "Album_cover_link": "https://i.scdn.co/image/ab67616d0000b273f9aefc986924f7e9e5e71b74",
         "Artist": "Chingy",
         "duration_ms": 276800,
         "explicit": false,
         "id": "0UNTBB02C1aB55Fu4H63qd",
         "popularity": 62,
         "release_date": "2003-01-01",
         "release_date_precision": "day",
         "total_tracks": 17,
         "danceability": 0.765,
         "energy": 0.821,
         "key": 4,
         "loudness": -5.926,
         "mode": 0,
         "speechiness": 0.183,
         "acousticness": 0.0918,
         "instrumentalness": 0,
         "liveness": 0.217,
         "valence": 0.962,
         "tempo": 162.519,
         "time_signature": 4,
         "_deepnote_index_column": 6183
        },
        {
         "Genre": "hiphop",
         "Title": "Spontaneous - 13 MC's Deep",
         "Album_cover_link": "https://i.scdn.co/image/ab67616d0000b273ec8d442b703f90eaf0b3f15b",
         "Artist": "Leaders of the New School",
         "duration_ms": 279173,
         "explicit": true,
         "id": "0CMO9nOUMmpJ1SBgvglfMa",
         "popularity": 28,
         "release_date": "1993-09-21",
         "release_date_precision": "day",
         "total_tracks": 17,
         "danceability": 0.88,
         "energy": 0.458,
         "key": 7,
         "loudness": -12.636,
         "mode": 1,
         "speechiness": 0.339,
         "acousticness": 0.308,
         "instrumentalness": 0.0000356,
         "liveness": 0.107,
         "valence": 0.287,
         "tempo": 98.033,
         "time_signature": 4,
         "_deepnote_index_column": 6184
        },
        {
         "Genre": "hiphop",
         "Title": "The I.N.C. Ride",
         "Album_cover_link": "https://i.scdn.co/image/ab67616d0000b273ead3418d92456c9f3778a947",
         "Artist": "Masta Ace Incorporated",
         "duration_ms": 250266,
         "explicit": true,
         "id": "37iYAAUVZezZRmgTGnWbhY",
         "popularity": 42,
         "release_date": "1995-01-01",
         "release_date_precision": "day",
         "total_tracks": 16,
         "danceability": 0.767,
         "energy": 0.553,
         "key": 11,
         "loudness": -8.509,
         "mode": 0,
         "speechiness": 0.0485,
         "acousticness": 0.0775,
         "instrumentalness": 0.312,
         "liveness": 0.0979,
         "valence": 0.649,
         "tempo": 95.072,
         "time_signature": 4,
         "_deepnote_index_column": 6185
        }
       ]
      },
      "text/plain": "       Genre                       Title  \\\n5215  hiphop              Can I Kick It?   \n5216  hiphop              Hip Hop Hooray   \n5217  hiphop               Ms. Fat Booty   \n5218  hiphop   Don't Sweat The Technique   \n5219  hiphop               Passin' Me By   \n...      ...                         ...   \n6181  hiphop              I'm A Swing It   \n6182  hiphop                   Here I Go   \n6183  hiphop               One Call Away   \n6184  hiphop  Spontaneous - 13 MC's Deep   \n6185  hiphop             The I.N.C. Ride   \n\n                                       Album_cover_link  \\\n5215  https://i.scdn.co/image/ab67616d0000b2734ba1fe...   \n5216  https://i.scdn.co/image/ab67616d0000b27393e4dd...   \n5217  https://i.scdn.co/image/ab67616d0000b27389b56f...   \n5218  https://i.scdn.co/image/ab67616d0000b273d55241...   \n5219  https://i.scdn.co/image/ab67616d0000b2739ec4ab...   \n...                                                 ...   \n6181  https://i.scdn.co/image/ab67616d0000b273fdfb1a...   \n6182  https://i.scdn.co/image/ab67616d0000b2736d7a08...   \n6183  https://i.scdn.co/image/ab67616d0000b273f9aefc...   \n6184  https://i.scdn.co/image/ab67616d0000b273ec8d44...   \n6185  https://i.scdn.co/image/ab67616d0000b273ead341...   \n\n                         Artist  duration_ms  explicit  \\\n5215       A Tribe Called Quest       251573     False   \n5216          Naughty By Nature       267266     False   \n5217                    Mos Def       223546      True   \n5218            Eric B. & Rakim       262800     False   \n5219               The Pharcyde       303493     False   \n...                         ...          ...       ...   \n6181              House Of Pain       223800      True   \n6182                   Mystikal       345066      True   \n6183                     Chingy       276800     False   \n6184  Leaders of the New School       279173      True   \n6185     Masta Ace Incorporated       250266      True   \n\n                          id  popularity release_date release_date_precision  \\\n5215  3Ti0GdlrotgwsAVBBugv0I          70   1990-04-17                    day   \n5216  1w29UTa5uUvIri2tWtZ12Y          66   1993-02-23                    day   \n5217  0IVAlb0cFCH1cQ974iR1TU          70   1999-10-12                    day   \n5218  48ZUwXrEOhaXLCxvmRYhZv          62   1992-01-01                    day   \n5219  4G3dZN9o3o2X4VKwt4CLts          69   1992-11-24                    day   \n...                      ...         ...          ...                    ...   \n6181  4Zgl65eYgR2WhvGDGlv2mz          48         1994                   year   \n6182  0Sizq91V0brNa9RBpMfeOB          48   1995-10-09                    day   \n6183  0UNTBB02C1aB55Fu4H63qd          62   2003-01-01                    day   \n6184  0CMO9nOUMmpJ1SBgvglfMa          28   1993-09-21                    day   \n6185  37iYAAUVZezZRmgTGnWbhY          42   1995-01-01                    day   \n\n      ...  key  loudness  mode  speechiness  acousticness  instrumentalness  \\\n5215  ...    0    -6.547     1       0.2740       0.17300          0.000699   \n5216  ...    6   -13.652     0       0.1010       0.10200          0.000000   \n5217  ...    1    -4.827     1       0.1890       0.14800          0.000000   \n5218  ...    4    -8.443     1       0.1580       0.00556          0.001710   \n5219  ...    4    -8.145     0       0.2660       0.09030          0.000002   \n...   ...  ...       ...   ...          ...           ...               ...   \n6181  ...   11   -10.184     1       0.1200       0.01220          0.004550   \n6182  ...    6    -4.992     0       0.0731       0.35500          0.000000   \n6183  ...    4    -5.926     0       0.1830       0.09180          0.000000   \n6184  ...    7   -12.636     1       0.3390       0.30800          0.000036   \n6185  ...   11    -8.509     0       0.0485       0.07750          0.312000   \n\n      liveness  valence    tempo  time_signature  \n5215    0.1290    0.744   96.662               4  \n5216    0.2720    0.765   99.201               4  \n5217    0.1640    0.869   90.438               4  \n5218    0.0801    0.809  105.848               4  \n5219    0.2650    0.613   87.059               4  \n...        ...      ...      ...             ...  \n6181    0.0891    0.448   99.036               4  \n6182    0.3000    0.511   84.974               4  \n6183    0.2170    0.962  162.519               4  \n6184    0.1070    0.287   98.033               4  \n6185    0.0979    0.649   95.072               4  \n\n[971 rows x 23 columns]",
      "text/html": "<div>\n<style scoped>\n    .dataframe tbody tr th:only-of-type {\n        vertical-align: middle;\n    }\n\n    .dataframe tbody tr th {\n        vertical-align: top;\n    }\n\n    .dataframe thead th {\n        text-align: right;\n    }\n</style>\n<table border=\"1\" class=\"dataframe\">\n  <thead>\n    <tr style=\"text-align: right;\">\n      <th></th>\n      <th>Genre</th>\n      <th>Title</th>\n      <th>Album_cover_link</th>\n      <th>Artist</th>\n      <th>duration_ms</th>\n      <th>explicit</th>\n      <th>id</th>\n      <th>popularity</th>\n      <th>release_date</th>\n      <th>release_date_precision</th>\n      <th>...</th>\n      <th>key</th>\n      <th>loudness</th>\n      <th>mode</th>\n      <th>speechiness</th>\n      <th>acousticness</th>\n      <th>instrumentalness</th>\n      <th>liveness</th>\n      <th>valence</th>\n      <th>tempo</th>\n      <th>time_signature</th>\n    </tr>\n  </thead>\n  <tbody>\n    <tr>\n      <th>5215</th>\n      <td>hiphop</td>\n      <td>Can I Kick It?</td>\n      <td>https://i.scdn.co/image/ab67616d0000b2734ba1fe...</td>\n      <td>A Tribe Called Quest</td>\n      <td>251573</td>\n      <td>False</td>\n      <td>3Ti0GdlrotgwsAVBBugv0I</td>\n      <td>70</td>\n      <td>1990-04-17</td>\n      <td>day</td>\n      <td>...</td>\n      <td>0</td>\n      <td>-6.547</td>\n      <td>1</td>\n      <td>0.2740</td>\n      <td>0.17300</td>\n      <td>0.000699</td>\n      <td>0.1290</td>\n      <td>0.744</td>\n      <td>96.662</td>\n      <td>4</td>\n    </tr>\n    <tr>\n      <th>5216</th>\n      <td>hiphop</td>\n      <td>Hip Hop Hooray</td>\n      <td>https://i.scdn.co/image/ab67616d0000b27393e4dd...</td>\n      <td>Naughty By Nature</td>\n      <td>267266</td>\n      <td>False</td>\n      <td>1w29UTa5uUvIri2tWtZ12Y</td>\n      <td>66</td>\n      <td>1993-02-23</td>\n      <td>day</td>\n      <td>...</td>\n      <td>6</td>\n      <td>-13.652</td>\n      <td>0</td>\n      <td>0.1010</td>\n      <td>0.10200</td>\n      <td>0.000000</td>\n      <td>0.2720</td>\n      <td>0.765</td>\n      <td>99.201</td>\n      <td>4</td>\n    </tr>\n    <tr>\n      <th>5217</th>\n      <td>hiphop</td>\n      <td>Ms. Fat Booty</td>\n      <td>https://i.scdn.co/image/ab67616d0000b27389b56f...</td>\n      <td>Mos Def</td>\n      <td>223546</td>\n      <td>True</td>\n      <td>0IVAlb0cFCH1cQ974iR1TU</td>\n      <td>70</td>\n      <td>1999-10-12</td>\n      <td>day</td>\n      <td>...</td>\n      <td>1</td>\n      <td>-4.827</td>\n      <td>1</td>\n      <td>0.1890</td>\n      <td>0.14800</td>\n      <td>0.000000</td>\n      <td>0.1640</td>\n      <td>0.869</td>\n      <td>90.438</td>\n      <td>4</td>\n    </tr>\n    <tr>\n      <th>5218</th>\n      <td>hiphop</td>\n      <td>Don't Sweat The Technique</td>\n      <td>https://i.scdn.co/image/ab67616d0000b273d55241...</td>\n      <td>Eric B. &amp; Rakim</td>\n      <td>262800</td>\n      <td>False</td>\n      <td>48ZUwXrEOhaXLCxvmRYhZv</td>\n      <td>62</td>\n      <td>1992-01-01</td>\n      <td>day</td>\n      <td>...</td>\n      <td>4</td>\n      <td>-8.443</td>\n      <td>1</td>\n      <td>0.1580</td>\n      <td>0.00556</td>\n      <td>0.001710</td>\n      <td>0.0801</td>\n      <td>0.809</td>\n      <td>105.848</td>\n      <td>4</td>\n    </tr>\n    <tr>\n      <th>5219</th>\n      <td>hiphop</td>\n      <td>Passin' Me By</td>\n      <td>https://i.scdn.co/image/ab67616d0000b2739ec4ab...</td>\n      <td>The Pharcyde</td>\n      <td>303493</td>\n      <td>False</td>\n      <td>4G3dZN9o3o2X4VKwt4CLts</td>\n      <td>69</td>\n      <td>1992-11-24</td>\n      <td>day</td>\n      <td>...</td>\n      <td>4</td>\n      <td>-8.145</td>\n      <td>0</td>\n      <td>0.2660</td>\n      <td>0.09030</td>\n      <td>0.000002</td>\n      <td>0.2650</td>\n      <td>0.613</td>\n      <td>87.059</td>\n      <td>4</td>\n    </tr>\n    <tr>\n      <th>...</th>\n      <td>...</td>\n      <td>...</td>\n      <td>...</td>\n      <td>...</td>\n      <td>...</td>\n      <td>...</td>\n      <td>...</td>\n      <td>...</td>\n      <td>...</td>\n      <td>...</td>\n      <td>...</td>\n      <td>...</td>\n      <td>...</td>\n      <td>...</td>\n      <td>...</td>\n      <td>...</td>\n      <td>...</td>\n      <td>...</td>\n      <td>...</td>\n      <td>...</td>\n      <td>...</td>\n    </tr>\n    <tr>\n      <th>6181</th>\n      <td>hiphop</td>\n      <td>I'm A Swing It</td>\n      <td>https://i.scdn.co/image/ab67616d0000b273fdfb1a...</td>\n      <td>House Of Pain</td>\n      <td>223800</td>\n      <td>True</td>\n      <td>4Zgl65eYgR2WhvGDGlv2mz</td>\n      <td>48</td>\n      <td>1994</td>\n      <td>year</td>\n      <td>...</td>\n      <td>11</td>\n      <td>-10.184</td>\n      <td>1</td>\n      <td>0.1200</td>\n      <td>0.01220</td>\n      <td>0.004550</td>\n      <td>0.0891</td>\n      <td>0.448</td>\n      <td>99.036</td>\n      <td>4</td>\n    </tr>\n    <tr>\n      <th>6182</th>\n      <td>hiphop</td>\n      <td>Here I Go</td>\n      <td>https://i.scdn.co/image/ab67616d0000b2736d7a08...</td>\n      <td>Mystikal</td>\n      <td>345066</td>\n      <td>True</td>\n      <td>0Sizq91V0brNa9RBpMfeOB</td>\n      <td>48</td>\n      <td>1995-10-09</td>\n      <td>day</td>\n      <td>...</td>\n      <td>6</td>\n      <td>-4.992</td>\n      <td>0</td>\n      <td>0.0731</td>\n      <td>0.35500</td>\n      <td>0.000000</td>\n      <td>0.3000</td>\n      <td>0.511</td>\n      <td>84.974</td>\n      <td>4</td>\n    </tr>\n    <tr>\n      <th>6183</th>\n      <td>hiphop</td>\n      <td>One Call Away</td>\n      <td>https://i.scdn.co/image/ab67616d0000b273f9aefc...</td>\n      <td>Chingy</td>\n      <td>276800</td>\n      <td>False</td>\n      <td>0UNTBB02C1aB55Fu4H63qd</td>\n      <td>62</td>\n      <td>2003-01-01</td>\n      <td>day</td>\n      <td>...</td>\n      <td>4</td>\n      <td>-5.926</td>\n      <td>0</td>\n      <td>0.1830</td>\n      <td>0.09180</td>\n      <td>0.000000</td>\n      <td>0.2170</td>\n      <td>0.962</td>\n      <td>162.519</td>\n      <td>4</td>\n    </tr>\n    <tr>\n      <th>6184</th>\n      <td>hiphop</td>\n      <td>Spontaneous - 13 MC's Deep</td>\n      <td>https://i.scdn.co/image/ab67616d0000b273ec8d44...</td>\n      <td>Leaders of the New School</td>\n      <td>279173</td>\n      <td>True</td>\n      <td>0CMO9nOUMmpJ1SBgvglfMa</td>\n      <td>28</td>\n      <td>1993-09-21</td>\n      <td>day</td>\n      <td>...</td>\n      <td>7</td>\n      <td>-12.636</td>\n      <td>1</td>\n      <td>0.3390</td>\n      <td>0.30800</td>\n      <td>0.000036</td>\n      <td>0.1070</td>\n      <td>0.287</td>\n      <td>98.033</td>\n      <td>4</td>\n    </tr>\n    <tr>\n      <th>6185</th>\n      <td>hiphop</td>\n      <td>The I.N.C. Ride</td>\n      <td>https://i.scdn.co/image/ab67616d0000b273ead341...</td>\n      <td>Masta Ace Incorporated</td>\n      <td>250266</td>\n      <td>True</td>\n      <td>37iYAAUVZezZRmgTGnWbhY</td>\n      <td>42</td>\n      <td>1995-01-01</td>\n      <td>day</td>\n      <td>...</td>\n      <td>11</td>\n      <td>-8.509</td>\n      <td>0</td>\n      <td>0.0485</td>\n      <td>0.07750</td>\n      <td>0.312000</td>\n      <td>0.0979</td>\n      <td>0.649</td>\n      <td>95.072</td>\n      <td>4</td>\n    </tr>\n  </tbody>\n</table>\n<p>971 rows × 23 columns</p>\n</div>"
     },
     "metadata": {},
     "output_type": "display_data"
    },
    {
     "name": "stdout",
     "text": "latin\n",
     "output_type": "stream",
     "data": {}
    },
    {
     "data": {
      "application/vnd.deepnote.dataframe.v2+json": {
       "row_count": 1036,
       "column_count": 23,
       "columns": [
        {
         "name": "Genre",
         "dtype": "object",
         "stats": {
          "unique_count": 1,
          "nan_count": 0,
          "categories": [
           {
            "name": "latin",
            "count": 1036
           }
          ]
         }
        },
        {
         "name": "Title",
         "dtype": "object",
         "stats": {
          "unique_count": 1020,
          "nan_count": 0,
          "categories": [
           {
            "name": "Dile",
            "count": 3
           },
           {
            "name": "Te Amo",
            "count": 2
           },
           {
            "name": "1018 others",
            "count": 1031
           }
          ]
         }
        },
        {
         "name": "Album_cover_link",
         "dtype": "object",
         "stats": {
          "unique_count": 880,
          "nan_count": 0,
          "categories": [
           {
            "name": "https://i.scdn.co/image/ab67616d0000b273ef0d4234e1a645740f77d59c",
            "count": 3
           },
           {
            "name": "https://i.scdn.co/image/ab67616d0000b273f1bd89fe6542ac73b8555f73",
            "count": 3
           },
           {
            "name": "878 others",
            "count": 1030
           }
          ]
         }
        },
        {
         "name": "Artist",
         "dtype": "object",
         "stats": {
          "unique_count": 517,
          "nan_count": 0,
          "categories": [
           {
            "name": "Aventura",
            "count": 3
           },
           {
            "name": "Wisin",
            "count": 3
           },
           {
            "name": "515 others",
            "count": 1030
           }
          ]
         }
        },
        {
         "name": "duration_ms",
         "dtype": "int64",
         "stats": {
          "unique_count": 1008,
          "nan_count": 0,
          "min": "126739",
          "max": "579255",
          "histogram": [
           {
            "bin_start": 126739,
            "bin_end": 171990.6,
            "count": 51
           },
           {
            "bin_start": 171990.6,
            "bin_end": 217242.2,
            "count": 339
           },
           {
            "bin_start": 217242.2,
            "bin_end": 262493.8,
            "count": 422
           },
           {
            "bin_start": 262493.8,
            "bin_end": 307745.4,
            "count": 183
           },
           {
            "bin_start": 307745.4,
            "bin_end": 352997,
            "count": 28
           },
           {
            "bin_start": 352997,
            "bin_end": 398248.6,
            "count": 10
           },
           {
            "bin_start": 398248.6,
            "bin_end": 443500.2,
            "count": 1
           },
           {
            "bin_start": 443500.2,
            "bin_end": 488751.8,
            "count": 1
           },
           {
            "bin_start": 488751.8,
            "bin_end": 534003.3999999999,
            "count": 0
           },
           {
            "bin_start": 534003.3999999999,
            "bin_end": 579255,
            "count": 1
           }
          ]
         }
        },
        {
         "name": "explicit",
         "dtype": "bool",
         "stats": {
          "unique_count": 2,
          "nan_count": 0,
          "categories": [
           {
            "name": "False",
            "count": 944
           },
           {
            "name": "True",
            "count": 92
           }
          ]
         }
        },
        {
         "name": "id",
         "dtype": "object",
         "stats": {
          "unique_count": 1036,
          "nan_count": 0,
          "categories": [
           {
            "name": "2vmfvSoZBFAt9hhRoEByLi",
            "count": 1
           },
           {
            "name": "43qcs9NpJhDxtG91zxFkj7",
            "count": 1
           },
           {
            "name": "1034 others",
            "count": 1034
           }
          ]
         }
        },
        {
         "name": "popularity",
         "dtype": "int64",
         "stats": {
          "unique_count": 84,
          "nan_count": 0,
          "min": "0",
          "max": "92",
          "histogram": [
           {
            "bin_start": 0,
            "bin_end": 9.2,
            "count": 5
           },
           {
            "bin_start": 9.2,
            "bin_end": 18.4,
            "count": 16
           },
           {
            "bin_start": 18.4,
            "bin_end": 27.599999999999998,
            "count": 21
           },
           {
            "bin_start": 27.599999999999998,
            "bin_end": 36.8,
            "count": 39
           },
           {
            "bin_start": 36.8,
            "bin_end": 46,
            "count": 93
           },
           {
            "bin_start": 46,
            "bin_end": 55.199999999999996,
            "count": 223
           },
           {
            "bin_start": 55.199999999999996,
            "bin_end": 64.39999999999999,
            "count": 275
           },
           {
            "bin_start": 64.39999999999999,
            "bin_end": 73.6,
            "count": 265
           },
           {
            "bin_start": 73.6,
            "bin_end": 82.8,
            "count": 82
           },
           {
            "bin_start": 82.8,
            "bin_end": 92,
            "count": 17
           }
          ]
         }
        },
        {
         "name": "release_date",
         "dtype": "object",
         "stats": {
          "unique_count": 584,
          "nan_count": 0,
          "categories": [
           {
            "name": "2008-01-01",
            "count": 20
           },
           {
            "name": "2009-01-01",
            "count": 20
           },
           {
            "name": "582 others",
            "count": 996
           }
          ]
         }
        },
        {
         "name": "release_date_precision",
         "dtype": "object",
         "stats": {
          "unique_count": 2,
          "nan_count": 0,
          "categories": [
           {
            "name": "day",
            "count": 907
           },
           {
            "name": "year",
            "count": 129
           }
          ]
         }
        },
        {
         "name": "total_tracks",
         "dtype": "int64",
         "stats": {
          "unique_count": 33,
          "nan_count": 0,
          "min": "1",
          "max": "125",
          "histogram": [
           {
            "bin_start": 1,
            "bin_end": 13.4,
            "count": 666
           },
           {
            "bin_start": 13.4,
            "bin_end": 25.8,
            "count": 343
           },
           {
            "bin_start": 25.8,
            "bin_end": 38.2,
            "count": 22
           },
           {
            "bin_start": 38.2,
            "bin_end": 50.6,
            "count": 0
           },
           {
            "bin_start": 50.6,
            "bin_end": 63,
            "count": 0
           },
           {
            "bin_start": 63,
            "bin_end": 75.4,
            "count": 1
           },
           {
            "bin_start": 75.4,
            "bin_end": 87.8,
            "count": 0
           },
           {
            "bin_start": 87.8,
            "bin_end": 100.2,
            "count": 2
           },
           {
            "bin_start": 100.2,
            "bin_end": 112.60000000000001,
            "count": 0
           },
           {
            "bin_start": 112.60000000000001,
            "bin_end": 125,
            "count": 2
           }
          ]
         }
        },
        {
         "name": "danceability",
         "dtype": "float64",
         "stats": {
          "unique_count": 438,
          "nan_count": 0,
          "min": "0.278",
          "max": "0.979",
          "histogram": [
           {
            "bin_start": 0.278,
            "bin_end": 0.3481,
            "count": 10
           },
           {
            "bin_start": 0.3481,
            "bin_end": 0.4182,
            "count": 20
           },
           {
            "bin_start": 0.4182,
            "bin_end": 0.4883,
            "count": 33
           },
           {
            "bin_start": 0.4883,
            "bin_end": 0.5584,
            "count": 72
           },
           {
            "bin_start": 0.5584,
            "bin_end": 0.6285000000000001,
            "count": 116
           },
           {
            "bin_start": 0.6285000000000001,
            "bin_end": 0.6986,
            "count": 174
           },
           {
            "bin_start": 0.6986,
            "bin_end": 0.7686999999999999,
            "count": 254
           },
           {
            "bin_start": 0.7686999999999999,
            "bin_end": 0.8388,
            "count": 221
           },
           {
            "bin_start": 0.8388,
            "bin_end": 0.9089,
            "count": 102
           },
           {
            "bin_start": 0.9089,
            "bin_end": 0.979,
            "count": 34
           }
          ]
         }
        },
        {
         "name": "energy",
         "dtype": "float64",
         "stats": {
          "unique_count": 464,
          "nan_count": 0,
          "min": "0.128",
          "max": "0.997",
          "histogram": [
           {
            "bin_start": 0.128,
            "bin_end": 0.2149,
            "count": 4
           },
           {
            "bin_start": 0.2149,
            "bin_end": 0.3018,
            "count": 11
           },
           {
            "bin_start": 0.3018,
            "bin_end": 0.38870000000000005,
            "count": 27
           },
           {
            "bin_start": 0.38870000000000005,
            "bin_end": 0.4756,
            "count": 50
           },
           {
            "bin_start": 0.4756,
            "bin_end": 0.5625,
            "count": 79
           },
           {
            "bin_start": 0.5625,
            "bin_end": 0.6494000000000001,
            "count": 145
           },
           {
            "bin_start": 0.6494000000000001,
            "bin_end": 0.7363000000000001,
            "count": 228
           },
           {
            "bin_start": 0.7363000000000001,
            "bin_end": 0.8232,
            "count": 217
           },
           {
            "bin_start": 0.8232,
            "bin_end": 0.9101,
            "count": 216
           },
           {
            "bin_start": 0.9101,
            "bin_end": 0.997,
            "count": 59
           }
          ]
         }
        },
        {
         "name": "key",
         "dtype": "int64",
         "stats": {
          "unique_count": 12,
          "nan_count": 0,
          "min": "0",
          "max": "11",
          "histogram": [
           {
            "bin_start": 0,
            "bin_end": 1.1,
            "count": 229
           },
           {
            "bin_start": 1.1,
            "bin_end": 2.2,
            "count": 89
           },
           {
            "bin_start": 2.2,
            "bin_end": 3.3000000000000003,
            "count": 30
           },
           {
            "bin_start": 3.3000000000000003,
            "bin_end": 4.4,
            "count": 77
           },
           {
            "bin_start": 4.4,
            "bin_end": 5.5,
            "count": 81
           },
           {
            "bin_start": 5.5,
            "bin_end": 6.6000000000000005,
            "count": 70
           },
           {
            "bin_start": 6.6000000000000005,
            "bin_end": 7.700000000000001,
            "count": 110
           },
           {
            "bin_start": 7.700000000000001,
            "bin_end": 8.8,
            "count": 86
           },
           {
            "bin_start": 8.8,
            "bin_end": 9.9,
            "count": 119
           },
           {
            "bin_start": 9.9,
            "bin_end": 11,
            "count": 145
           }
          ]
         }
        },
        {
         "name": "loudness",
         "dtype": "float64",
         "stats": {
          "unique_count": 956,
          "nan_count": 0,
          "min": "-17.53",
          "max": "-0.739",
          "histogram": [
           {
            "bin_start": -17.53,
            "bin_end": -15.850900000000001,
            "count": 2
           },
           {
            "bin_start": -15.850900000000001,
            "bin_end": -14.171800000000001,
            "count": 10
           },
           {
            "bin_start": -14.171800000000001,
            "bin_end": -12.492700000000001,
            "count": 21
           },
           {
            "bin_start": -12.492700000000001,
            "bin_end": -10.813600000000001,
            "count": 31
           },
           {
            "bin_start": -10.813600000000001,
            "bin_end": -9.134500000000001,
            "count": 44
           },
           {
            "bin_start": -9.134500000000001,
            "bin_end": -7.455400000000001,
            "count": 130
           },
           {
            "bin_start": -7.455400000000001,
            "bin_end": -5.776300000000001,
            "count": 289
           },
           {
            "bin_start": -5.776300000000001,
            "bin_end": -4.097200000000001,
            "count": 326
           },
           {
            "bin_start": -4.097200000000001,
            "bin_end": -2.418100000000001,
            "count": 168
           },
           {
            "bin_start": -2.418100000000001,
            "bin_end": -0.739,
            "count": 15
           }
          ]
         }
        },
        {
         "name": "mode",
         "dtype": "int64",
         "stats": {
          "unique_count": 2,
          "nan_count": 0,
          "min": "0",
          "max": "1",
          "histogram": [
           {
            "bin_start": 0,
            "bin_end": 0.1,
            "count": 377
           },
           {
            "bin_start": 0.1,
            "bin_end": 0.2,
            "count": 0
           },
           {
            "bin_start": 0.2,
            "bin_end": 0.30000000000000004,
            "count": 0
           },
           {
            "bin_start": 0.30000000000000004,
            "bin_end": 0.4,
            "count": 0
           },
           {
            "bin_start": 0.4,
            "bin_end": 0.5,
            "count": 0
           },
           {
            "bin_start": 0.5,
            "bin_end": 0.6000000000000001,
            "count": 0
           },
           {
            "bin_start": 0.6000000000000001,
            "bin_end": 0.7000000000000001,
            "count": 0
           },
           {
            "bin_start": 0.7000000000000001,
            "bin_end": 0.8,
            "count": 0
           },
           {
            "bin_start": 0.8,
            "bin_end": 0.9,
            "count": 0
           },
           {
            "bin_start": 0.9,
            "bin_end": 1,
            "count": 659
           }
          ]
         }
        },
        {
         "name": "speechiness",
         "dtype": "float64",
         "stats": {
          "unique_count": 573,
          "nan_count": 0,
          "min": "0.0233",
          "max": "0.384",
          "histogram": [
           {
            "bin_start": 0.0233,
            "bin_end": 0.059370000000000006,
            "count": 606
           },
           {
            "bin_start": 0.059370000000000006,
            "bin_end": 0.09544000000000001,
            "count": 180
           },
           {
            "bin_start": 0.09544000000000001,
            "bin_end": 0.13151000000000002,
            "count": 79
           },
           {
            "bin_start": 0.13151000000000002,
            "bin_end": 0.16758,
            "count": 60
           },
           {
            "bin_start": 0.16758,
            "bin_end": 0.20365,
            "count": 31
           },
           {
            "bin_start": 0.20365,
            "bin_end": 0.23972000000000004,
            "count": 29
           },
           {
            "bin_start": 0.23972000000000004,
            "bin_end": 0.27579000000000004,
            "count": 19
           },
           {
            "bin_start": 0.27579000000000004,
            "bin_end": 0.31186,
            "count": 17
           },
           {
            "bin_start": 0.31186,
            "bin_end": 0.34793,
            "count": 6
           },
           {
            "bin_start": 0.34793,
            "bin_end": 0.384,
            "count": 9
           }
          ]
         }
        },
        {
         "name": "acousticness",
         "dtype": "float64",
         "stats": {
          "unique_count": 682,
          "nan_count": 0,
          "min": "0.000157",
          "max": "0.933",
          "histogram": [
           {
            "bin_start": 0.000157,
            "bin_end": 0.09344130000000002,
            "count": 264
           },
           {
            "bin_start": 0.09344130000000002,
            "bin_end": 0.18672560000000002,
            "count": 200
           },
           {
            "bin_start": 0.18672560000000002,
            "bin_end": 0.2800099000000001,
            "count": 162
           },
           {
            "bin_start": 0.2800099000000001,
            "bin_end": 0.3732942000000001,
            "count": 105
           },
           {
            "bin_start": 0.3732942000000001,
            "bin_end": 0.46657850000000006,
            "count": 91
           },
           {
            "bin_start": 0.46657850000000006,
            "bin_end": 0.5598628000000001,
            "count": 77
           },
           {
            "bin_start": 0.5598628000000001,
            "bin_end": 0.6531471000000001,
            "count": 57
           },
           {
            "bin_start": 0.6531471000000001,
            "bin_end": 0.7464314000000001,
            "count": 39
           },
           {
            "bin_start": 0.7464314000000001,
            "bin_end": 0.8397157000000001,
            "count": 23
           },
           {
            "bin_start": 0.8397157000000001,
            "bin_end": 0.933,
            "count": 18
           }
          ]
         }
        },
        {
         "name": "instrumentalness",
         "dtype": "float64",
         "stats": {
          "unique_count": 457,
          "nan_count": 0,
          "min": "0.0",
          "max": "0.341",
          "histogram": [
           {
            "bin_start": 0,
            "bin_end": 0.034100000000000005,
            "count": 1016
           },
           {
            "bin_start": 0.034100000000000005,
            "bin_end": 0.06820000000000001,
            "count": 7
           },
           {
            "bin_start": 0.06820000000000001,
            "bin_end": 0.10230000000000002,
            "count": 4
           },
           {
            "bin_start": 0.10230000000000002,
            "bin_end": 0.13640000000000002,
            "count": 3
           },
           {
            "bin_start": 0.13640000000000002,
            "bin_end": 0.17050000000000004,
            "count": 2
           },
           {
            "bin_start": 0.17050000000000004,
            "bin_end": 0.20460000000000003,
            "count": 0
           },
           {
            "bin_start": 0.20460000000000003,
            "bin_end": 0.23870000000000002,
            "count": 0
           },
           {
            "bin_start": 0.23870000000000002,
            "bin_end": 0.27280000000000004,
            "count": 1
           },
           {
            "bin_start": 0.27280000000000004,
            "bin_end": 0.30690000000000006,
            "count": 1
           },
           {
            "bin_start": 0.30690000000000006,
            "bin_end": 0.341,
            "count": 2
           }
          ]
         }
        },
        {
         "name": "liveness",
         "dtype": "float64",
         "stats": {
          "unique_count": 536,
          "nan_count": 0,
          "min": "0.015",
          "max": "0.96",
          "histogram": [
           {
            "bin_start": 0.015,
            "bin_end": 0.1095,
            "count": 437
           },
           {
            "bin_start": 0.1095,
            "bin_end": 0.20400000000000001,
            "count": 312
           },
           {
            "bin_start": 0.20400000000000001,
            "bin_end": 0.2985,
            "count": 126
           },
           {
            "bin_start": 0.2985,
            "bin_end": 0.393,
            "count": 98
           },
           {
            "bin_start": 0.393,
            "bin_end": 0.48750000000000004,
            "count": 24
           },
           {
            "bin_start": 0.48750000000000004,
            "bin_end": 0.582,
            "count": 7
           },
           {
            "bin_start": 0.582,
            "bin_end": 0.6765,
            "count": 7
           },
           {
            "bin_start": 0.6765,
            "bin_end": 0.771,
            "count": 12
           },
           {
            "bin_start": 0.771,
            "bin_end": 0.8655,
            "count": 3
           },
           {
            "bin_start": 0.8655,
            "bin_end": 0.96,
            "count": 10
           }
          ]
         }
        },
        {
         "name": "valence",
         "dtype": "float64",
         "stats": {
          "unique_count": 542,
          "nan_count": 0,
          "min": "0.11",
          "max": "0.975",
          "histogram": [
           {
            "bin_start": 0.11,
            "bin_end": 0.1965,
            "count": 23
           },
           {
            "bin_start": 0.1965,
            "bin_end": 0.283,
            "count": 39
           },
           {
            "bin_start": 0.283,
            "bin_end": 0.36949999999999994,
            "count": 65
           },
           {
            "bin_start": 0.36949999999999994,
            "bin_end": 0.45599999999999996,
            "count": 61
           },
           {
            "bin_start": 0.45599999999999996,
            "bin_end": 0.5425,
            "count": 80
           },
           {
            "bin_start": 0.5425,
            "bin_end": 0.6289999999999999,
            "count": 119
           },
           {
            "bin_start": 0.6289999999999999,
            "bin_end": 0.7154999999999999,
            "count": 120
           },
           {
            "bin_start": 0.7154999999999999,
            "bin_end": 0.8019999999999999,
            "count": 154
           },
           {
            "bin_start": 0.8019999999999999,
            "bin_end": 0.8885,
            "count": 175
           },
           {
            "bin_start": 0.8885,
            "bin_end": 0.975,
            "count": 200
           }
          ]
         }
        },
        {
         "name": "tempo",
         "dtype": "float64",
         "stats": {
          "unique_count": 990,
          "nan_count": 0,
          "min": "59.098",
          "max": "214.025",
          "histogram": [
           {
            "bin_start": 59.098,
            "bin_end": 74.5907,
            "count": 4
           },
           {
            "bin_start": 74.5907,
            "bin_end": 90.08340000000001,
            "count": 116
           },
           {
            "bin_start": 90.08340000000001,
            "bin_end": 105.57610000000001,
            "count": 281
           },
           {
            "bin_start": 105.57610000000001,
            "bin_end": 121.06880000000001,
            "count": 107
           },
           {
            "bin_start": 121.06880000000001,
            "bin_end": 136.56150000000002,
            "count": 242
           },
           {
            "bin_start": 136.56150000000002,
            "bin_end": 152.05420000000004,
            "count": 108
           },
           {
            "bin_start": 152.05420000000004,
            "bin_end": 167.54690000000002,
            "count": 44
           },
           {
            "bin_start": 167.54690000000002,
            "bin_end": 183.0396,
            "count": 113
           },
           {
            "bin_start": 183.0396,
            "bin_end": 198.53230000000002,
            "count": 16
           },
           {
            "bin_start": 198.53230000000002,
            "bin_end": 214.025,
            "count": 5
           }
          ]
         }
        },
        {
         "name": "time_signature",
         "dtype": "int64",
         "stats": {
          "unique_count": 3,
          "nan_count": 0,
          "min": "3",
          "max": "5",
          "histogram": [
           {
            "bin_start": 3,
            "bin_end": 3.2,
            "count": 26
           },
           {
            "bin_start": 3.2,
            "bin_end": 3.4,
            "count": 0
           },
           {
            "bin_start": 3.4,
            "bin_end": 3.6,
            "count": 0
           },
           {
            "bin_start": 3.6,
            "bin_end": 3.8,
            "count": 0
           },
           {
            "bin_start": 3.8,
            "bin_end": 4,
            "count": 0
           },
           {
            "bin_start": 4,
            "bin_end": 4.2,
            "count": 1006
           },
           {
            "bin_start": 4.2,
            "bin_end": 4.4,
            "count": 0
           },
           {
            "bin_start": 4.4,
            "bin_end": 4.6,
            "count": 0
           },
           {
            "bin_start": 4.6,
            "bin_end": 4.8,
            "count": 0
           },
           {
            "bin_start": 4.8,
            "bin_end": 5,
            "count": 4
           }
          ]
         }
        },
        {
         "name": "_deepnote_index_column",
         "dtype": "int64"
        }
       ],
       "rows_top": [
        {
         "Genre": "latin",
         "Title": "Volví",
         "Album_cover_link": "https://i.scdn.co/image/ab67616d0000b27312bcec4f18ee130369ce170c",
         "Artist": "Aventura",
         "duration_ms": 230125,
         "explicit": true,
         "id": "2vmfvSoZBFAt9hhRoEByLi",
         "popularity": 91,
         "release_date": "2021-08-03",
         "release_date_precision": "day",
         "total_tracks": 1,
         "danceability": 0.725,
         "energy": 0.86,
         "key": 1,
         "loudness": -3.726,
         "mode": 1,
         "speechiness": 0.182,
         "acousticness": 0.422,
         "instrumentalness": 0.000284,
         "liveness": 0.0674,
         "valence": 0.791,
         "tempo": 175.896,
         "time_signature": 4,
         "_deepnote_index_column": 3018
        },
        {
         "Genre": "latin",
         "Title": "Fiel - Remix",
         "Album_cover_link": "https://i.scdn.co/image/ab67616d0000b2737725ef758fa90bc18f0cd261",
         "Artist": "Wisin",
         "duration_ms": 349546,
         "explicit": true,
         "id": "43qcs9NpJhDxtG91zxFkj7",
         "popularity": 83,
         "release_date": "2021-06-15",
         "release_date_precision": "day",
         "total_tracks": 1,
         "danceability": 0.839,
         "energy": 0.711,
         "key": 6,
         "loudness": -4.733,
         "mode": 0,
         "speechiness": 0.0473,
         "acousticness": 0.398,
         "instrumentalness": 0.00000202,
         "liveness": 0.118,
         "valence": 0.573,
         "tempo": 97.99,
         "time_signature": 4,
         "_deepnote_index_column": 3019
        },
        {
         "Genre": "latin",
         "Title": "Andas En Mi Cabeza",
         "Album_cover_link": "https://i.scdn.co/image/ab67616d0000b2736df5cc472d61a635abab06cf",
         "Artist": "Chino & Nacho",
         "duration_ms": 247493,
         "explicit": false,
         "id": "23WI5V2eD4EyGKxSl7Pyeq",
         "popularity": 74,
         "release_date": "2016-02-19",
         "release_date_precision": "day",
         "total_tracks": 1,
         "danceability": 0.671,
         "energy": 0.954,
         "key": 9,
         "loudness": -1.87,
         "mode": 1,
         "speechiness": 0.13,
         "acousticness": 0.0244,
         "instrumentalness": 0,
         "liveness": 0.111,
         "valence": 0.556,
         "tempo": 104.114,
         "time_signature": 4,
         "_deepnote_index_column": 3020
        },
        {
         "Genre": "latin",
         "Title": "Otra vez (feat. J Balvin)",
         "Album_cover_link": "https://i.scdn.co/image/ab67616d0000b27382eabf564ddc57325a84dd50",
         "Artist": "Zion & Lennox",
         "duration_ms": 209453,
         "explicit": false,
         "id": "3QwBODjSEzelZyVjxPOHdq",
         "popularity": 75,
         "release_date": "2016-09-30",
         "release_date_precision": "day",
         "total_tracks": 18,
         "danceability": 0.832,
         "energy": 0.772,
         "key": 10,
         "loudness": -5.429,
         "mode": 1,
         "speechiness": 0.1,
         "acousticness": 0.0559,
         "instrumentalness": 0.000486,
         "liveness": 0.44,
         "valence": 0.704,
         "tempo": 96.016,
         "time_signature": 4,
         "_deepnote_index_column": 3021
        },
        {
         "Genre": "latin",
         "Title": "Quiero Bailar",
         "Album_cover_link": "https://i.scdn.co/image/ab67616d0000b2738666a2cf0aa216872f3bdd90",
         "Artist": "Ivy Queen",
         "duration_ms": 184506,
         "explicit": false,
         "id": "1EyH5BK5Cx5XzQyEDks0fT",
         "popularity": 61,
         "release_date": "2004-01-01",
         "release_date_precision": "day",
         "total_tracks": 22,
         "danceability": 0.853,
         "energy": 0.846,
         "key": 5,
         "loudness": -5.261,
         "mode": 1,
         "speechiness": 0.0951,
         "acousticness": 0.3,
         "instrumentalness": 0,
         "liveness": 0.294,
         "valence": 0.737,
         "tempo": 95.027,
         "time_signature": 4,
         "_deepnote_index_column": 3022
        },
        {
         "Genre": "latin",
         "Title": "Picky",
         "Album_cover_link": "https://i.scdn.co/image/ab67616d0000b2739e30a33d6d1456c8b978942b",
         "Artist": "Joey Montana",
         "duration_ms": 182746,
         "explicit": false,
         "id": "4tPL9PeVZY4c0jUPtSD5nx",
         "popularity": 72,
         "release_date": "2016-09-09",
         "release_date_precision": "day",
         "total_tracks": 13,
         "danceability": 0.783,
         "energy": 0.748,
         "key": 8,
         "loudness": -4.683,
         "mode": 1,
         "speechiness": 0.0892,
         "acousticness": 0.147,
         "instrumentalness": 0,
         "liveness": 0.173,
         "valence": 0.806,
         "tempo": 93.222,
         "time_signature": 4,
         "_deepnote_index_column": 3023
        },
        {
         "Genre": "latin",
         "Title": "Permitame",
         "Album_cover_link": "https://i.scdn.co/image/ab67616d0000b273d43d9417ff284b7555221c46",
         "Artist": "Tony Dize",
         "duration_ms": 185013,
         "explicit": false,
         "id": "0X5jHsNHshuHNfAWs1sxQ5",
         "popularity": 68,
         "release_date": "2008-01-01",
         "release_date_precision": "day",
         "total_tracks": 1,
         "danceability": 0.629,
         "energy": 0.668,
         "key": 8,
         "loudness": -6.974,
         "mode": 1,
         "speechiness": 0.15,
         "acousticness": 0.0287,
         "instrumentalness": 0,
         "liveness": 0.159,
         "valence": 0.904,
         "tempo": 214.025,
         "time_signature": 4,
         "_deepnote_index_column": 3024
        },
        {
         "Genre": "latin",
         "Title": "Ven Bailalo - Reggaeton Mix",
         "Album_cover_link": "https://i.scdn.co/image/ab67616d0000b27357e33683aac47215e18e6598",
         "Artist": "Angel Y Khriz",
         "duration_ms": 252773,
         "explicit": false,
         "id": "5nZYc9ZDMhlXv6iWahZTU8",
         "popularity": 74,
         "release_date": "2005-07-22",
         "release_date_precision": "day",
         "total_tracks": 2,
         "danceability": 0.675,
         "energy": 0.919,
         "key": 11,
         "loudness": -6.075,
         "mode": 0,
         "speechiness": 0.0366,
         "acousticness": 0.0606,
         "instrumentalness": 0.00653,
         "liveness": 0.103,
         "valence": 0.726,
         "tempo": 97.017,
         "time_signature": 4,
         "_deepnote_index_column": 3025
        },
        {
         "Genre": "latin",
         "Title": "Caraluna",
         "Album_cover_link": "https://i.scdn.co/image/ab67616d0000b273e1f4c211ce1ef95454bbbcc4",
         "Artist": "Bacilos",
         "duration_ms": 266160,
         "explicit": false,
         "id": "7DhYjNLksXZhbRQeheAums",
         "popularity": 74,
         "release_date": "2002-06-25",
         "release_date_precision": "day",
         "total_tracks": 11,
         "danceability": 0.76,
         "energy": 0.773,
         "key": 9,
         "loudness": -5.314,
         "mode": 1,
         "speechiness": 0.0675,
         "acousticness": 0.176,
         "instrumentalness": 0,
         "liveness": 0.1,
         "valence": 0.895,
         "tempo": 102.789,
         "time_signature": 4,
         "_deepnote_index_column": 3026
        },
        {
         "Genre": "latin",
         "Title": "Sensacion Del Bloque",
         "Album_cover_link": "https://i.scdn.co/image/ab67616d0000b27395efcedfc7f85ef8bc0a37b6",
         "Artist": "De La Ghetto",
         "duration_ms": 182186,
         "explicit": true,
         "id": "5clFSlfkCRlhnH1cAQjSBi",
         "popularity": 72,
         "release_date": "2006-01-01",
         "release_date_precision": "day",
         "total_tracks": 13,
         "danceability": 0.709,
         "energy": 0.726,
         "key": 7,
         "loudness": -7.129,
         "mode": 1,
         "speechiness": 0.0411,
         "acousticness": 0.0977,
         "instrumentalness": 0,
         "liveness": 0.301,
         "valence": 0.404,
         "tempo": 92.006,
         "time_signature": 4,
         "_deepnote_index_column": 3027
        },
        {
         "Genre": "latin",
         "Title": "Despacito",
         "Album_cover_link": "https://i.scdn.co/image/ab67616d0000b273ef0d4234e1a645740f77d59c",
         "Artist": "Luis Fonsi",
         "duration_ms": 229360,
         "explicit": false,
         "id": "6habFhsOp2NvshLv26DqMb",
         "popularity": 79,
         "release_date": "2019-02-01",
         "release_date_precision": "day",
         "total_tracks": 15,
         "danceability": 0.655,
         "energy": 0.797,
         "key": 2,
         "loudness": -4.787,
         "mode": 1,
         "speechiness": 0.153,
         "acousticness": 0.198,
         "instrumentalness": 0,
         "liveness": 0.067,
         "valence": 0.839,
         "tempo": 177.928,
         "time_signature": 4,
         "_deepnote_index_column": 3028
        },
        {
         "Genre": "latin",
         "Title": "Mi Cama Huele a Ti",
         "Album_cover_link": "https://i.scdn.co/image/ab67616d0000b27303a4d44c6c81faf1a913fdd6",
         "Artist": "Tito \"El Bambino\"",
         "duration_ms": 225573,
         "explicit": false,
         "id": "6YLJCOynR32U4YXtsvzTdC",
         "popularity": 65,
         "release_date": "2009-03-03",
         "release_date_precision": "day",
         "total_tracks": 14,
         "danceability": 0.738,
         "energy": 0.85,
         "key": 7,
         "loudness": -5.818,
         "mode": 0,
         "speechiness": 0.0403,
         "acousticness": 0.0775,
         "instrumentalness": 0,
         "liveness": 0.162,
         "valence": 0.678,
         "tempo": 94.999,
         "time_signature": 4,
         "_deepnote_index_column": 3029
        },
        {
         "Genre": "latin",
         "Title": "Amor del Bueno",
         "Album_cover_link": "https://i.scdn.co/image/ab67616d0000b27351b341dbfd3dbe6747e53112",
         "Artist": "Reyli Barba",
         "duration_ms": 242026,
         "explicit": false,
         "id": "2G74yhtIMW8tJY5I83dS4Z",
         "popularity": 73,
         "release_date": "2004-09-14",
         "release_date_precision": "day",
         "total_tracks": 12,
         "danceability": 0.77,
         "energy": 0.373,
         "key": 1,
         "loudness": -6.931,
         "mode": 1,
         "speechiness": 0.0328,
         "acousticness": 0.317,
         "instrumentalness": 0,
         "liveness": 0.217,
         "valence": 0.293,
         "tempo": 131.975,
         "time_signature": 4,
         "_deepnote_index_column": 3030
        },
        {
         "Genre": "latin",
         "Title": "Encantadora",
         "Album_cover_link": "https://i.scdn.co/image/ab67616d0000b2732ee867d4b66ff0577b3e0744",
         "Artist": "Yandel",
         "duration_ms": 240093,
         "explicit": false,
         "id": "7LABrQFfRYcZUqUwng0Heb",
         "popularity": 71,
         "release_date": "2015-11-06",
         "release_date_precision": "day",
         "total_tracks": 16,
         "danceability": 0.662,
         "energy": 0.874,
         "key": 8,
         "loudness": -4.509,
         "mode": 1,
         "speechiness": 0.0471,
         "acousticness": 0.147,
         "instrumentalness": 0,
         "liveness": 0.141,
         "valence": 0.926,
         "tempo": 169.943,
         "time_signature": 4,
         "_deepnote_index_column": 3031
        },
        {
         "Genre": "latin",
         "Title": "DPM (De Pxta Madre)",
         "Album_cover_link": "https://i.scdn.co/image/ab67616d0000b2733912891cff887a937afe5039",
         "Artist": "Kany García",
         "duration_ms": 181684,
         "explicit": false,
         "id": "37vqi0b9BqN0XN7QHLHTQ8",
         "popularity": 69,
         "release_date": "2021-09-08",
         "release_date_precision": "day",
         "total_tracks": 1,
         "danceability": 0.495,
         "energy": 0.672,
         "key": 2,
         "loudness": -6.246,
         "mode": 1,
         "speechiness": 0.259,
         "acousticness": 0.538,
         "instrumentalness": 0,
         "liveness": 0.126,
         "valence": 0.687,
         "tempo": 170.166,
         "time_signature": 4,
         "_deepnote_index_column": 3032
        },
        {
         "Genre": "latin",
         "Title": "Pepas",
         "Album_cover_link": "https://i.scdn.co/image/ab67616d0000b273f1bd89fe6542ac73b8555f73",
         "Artist": "Farruko",
         "duration_ms": 287120,
         "explicit": true,
         "id": "2B4GHvToeLTOBB4QLzW3Ni",
         "popularity": 84,
         "release_date": "2021-10-01",
         "release_date_precision": "day",
         "total_tracks": 25,
         "danceability": 0.762,
         "energy": 0.766,
         "key": 7,
         "loudness": -3.955,
         "mode": 1,
         "speechiness": 0.0343,
         "acousticness": 0.00776,
         "instrumentalness": 0.0000698,
         "liveness": 0.128,
         "valence": 0.442,
         "tempo": 130.001,
         "time_signature": 4,
         "_deepnote_index_column": 3033
        },
        {
         "Genre": "latin",
         "Title": "Tú No Eres Para Mi",
         "Album_cover_link": "https://i.scdn.co/image/ab67616d0000b2737cd896965a4d7fbd23396939",
         "Artist": "Fanny Lu",
         "duration_ms": 205666,
         "explicit": false,
         "id": "3df4fSoW5zsdNi5Wf3K5RP",
         "popularity": 72,
         "release_date": "2008-01-01",
         "release_date_precision": "day",
         "total_tracks": 11,
         "danceability": 0.859,
         "energy": 0.905,
         "key": 5,
         "loudness": -5.02,
         "mode": 1,
         "speechiness": 0.0336,
         "acousticness": 0.0474,
         "instrumentalness": 0,
         "liveness": 0.214,
         "valence": 0.914,
         "tempo": 124.983,
         "time_signature": 4,
         "_deepnote_index_column": 3034
        },
        {
         "Genre": "latin",
         "Title": "Es Por Tí",
         "Album_cover_link": "https://i.scdn.co/image/ab67616d0000b27323a1613112c1ecf946f51177",
         "Artist": "Juanes",
         "duration_ms": 250693,
         "explicit": false,
         "id": "3b1IQflSLrgzYQPGFzI9cl",
         "popularity": 74,
         "release_date": "2002-01-01",
         "release_date_precision": "day",
         "total_tracks": 12,
         "danceability": 0.696,
         "energy": 0.758,
         "key": 4,
         "loudness": -6.076,
         "mode": 1,
         "speechiness": 0.0264,
         "acousticness": 0.17,
         "instrumentalness": 0.0000333,
         "liveness": 0.189,
         "valence": 0.859,
         "tempo": 129.943,
         "time_signature": 4,
         "_deepnote_index_column": 3035
        },
        {
         "Genre": "latin",
         "Title": "5 Letras",
         "Album_cover_link": "https://i.scdn.co/image/ab67616d0000b27329d73e11d466d6dd8917173f",
         "Artist": "Alexis y Fido",
         "duration_ms": 195573,
         "explicit": false,
         "id": "0tDSgSmZsbxCkdkfUPjg59",
         "popularity": 66,
         "release_date": "2007-09-28",
         "release_date_precision": "day",
         "total_tracks": 14,
         "danceability": 0.82,
         "energy": 0.788,
         "key": 6,
         "loudness": -5.478,
         "mode": 0,
         "speechiness": 0.191,
         "acousticness": 0.272,
         "instrumentalness": 0.00000165,
         "liveness": 0.0404,
         "valence": 0.648,
         "tempo": 93.961,
         "time_signature": 4,
         "_deepnote_index_column": 3036
        },
        {
         "Genre": "latin",
         "Title": "Colgando en tus manos (con Marta Sánchez)",
         "Album_cover_link": "https://i.scdn.co/image/ab67616d0000b2731f91da617b2e5527d58d2453",
         "Artist": "Carlos Baute",
         "duration_ms": 230280,
         "explicit": false,
         "id": "3UI9I3e1g1y5T3SMfdgfGO",
         "popularity": 75,
         "release_date": "2009",
         "release_date_precision": "year",
         "total_tracks": 16,
         "danceability": 0.836,
         "energy": 0.637,
         "key": 6,
         "loudness": -4.803,
         "mode": 1,
         "speechiness": 0.0367,
         "acousticness": 0.535,
         "instrumentalness": 0,
         "liveness": 0.129,
         "valence": 0.875,
         "tempo": 120.025,
         "time_signature": 4,
         "_deepnote_index_column": 3037
        }
       ],
       "rows_bottom": [
        {
         "Genre": "latin",
         "Title": "Permiso",
         "Album_cover_link": "https://i.scdn.co/image/ab67616d0000b2737d130bd9fb2e496d2b1189e9",
         "Artist": "Gadiel",
         "duration_ms": 189160,
         "explicit": false,
         "id": "1bC7Mio04J3W4x9dtZeYH0",
         "popularity": 32,
         "release_date": "2016-10-21",
         "release_date_precision": "day",
         "total_tracks": 15,
         "danceability": 0.795,
         "energy": 0.816,
         "key": 1,
         "loudness": -4.831,
         "mode": 0,
         "speechiness": 0.117,
         "acousticness": 0.0271,
         "instrumentalness": 0,
         "liveness": 0.0913,
         "valence": 0.704,
         "tempo": 81.983,
         "time_signature": 4,
         "_deepnote_index_column": 4033
        },
        {
         "Genre": "latin",
         "Title": "Se fué",
         "Album_cover_link": "https://i.scdn.co/image/ab67616d0000b27300ccfc3adac769d867d50303",
         "Artist": "Laura Pausini",
         "duration_ms": 280666,
         "explicit": false,
         "id": "5oQadhkuEdEhtdVn0QceyZ",
         "popularity": 65,
         "release_date": "1994-11-22",
         "release_date_precision": "day",
         "total_tracks": 10,
         "danceability": 0.734,
         "energy": 0.594,
         "key": 2,
         "loudness": -7.006,
         "mode": 1,
         "speechiness": 0.0252,
         "acousticness": 0.622,
         "instrumentalness": 0,
         "liveness": 0.094,
         "valence": 0.573,
         "tempo": 104.043,
         "time_signature": 4,
         "_deepnote_index_column": 4034
        },
        {
         "Genre": "latin",
         "Title": "Casi",
         "Album_cover_link": "https://i.scdn.co/image/ab67616d0000b2730499327d72c965e2a13370b5",
         "Artist": "Soraya",
         "duration_ms": 248893,
         "explicit": false,
         "id": "2G0bGPXxuN3IsgzH8rghB7",
         "popularity": 47,
         "release_date": "2003-01-01",
         "release_date_precision": "day",
         "total_tracks": 12,
         "danceability": 0.608,
         "energy": 0.731,
         "key": 4,
         "loudness": -5.525,
         "mode": 1,
         "speechiness": 0.0403,
         "acousticness": 0.0818,
         "instrumentalness": 0,
         "liveness": 0.203,
         "valence": 0.537,
         "tempo": 94.95,
         "time_signature": 4,
         "_deepnote_index_column": 4035
        },
        {
         "Genre": "latin",
         "Title": "Llegó la Cripta",
         "Album_cover_link": "https://i.scdn.co/image/ab67616d0000b273716082d97378fa94945c6089",
         "Artist": "El Chombo",
         "duration_ms": 147304,
         "explicit": true,
         "id": "7Eo3fkg16MzIgv9SxxSonH",
         "popularity": 51,
         "release_date": "1999",
         "release_date_precision": "year",
         "total_tracks": 29,
         "danceability": 0.919,
         "energy": 0.848,
         "key": 7,
         "loudness": -10.511,
         "mode": 1,
         "speechiness": 0.165,
         "acousticness": 0.0078,
         "instrumentalness": 0.0406,
         "liveness": 0.338,
         "valence": 0.959,
         "tempo": 109.183,
         "time_signature": 4,
         "_deepnote_index_column": 4036
        },
        {
         "Genre": "latin",
         "Title": "Borracho Y Loco",
         "Album_cover_link": "https://i.scdn.co/image/ab67616d0000b273fdfaeb43aaee6b4a235cfa1f",
         "Artist": "Luis Vargas",
         "duration_ms": 200437,
         "explicit": false,
         "id": "4KtYHts2AdkhcV9x2MGbWt",
         "popularity": 46,
         "release_date": "2019-09-20",
         "release_date_precision": "day",
         "total_tracks": 10,
         "danceability": 0.752,
         "energy": 0.589,
         "key": 9,
         "loudness": -9.145,
         "mode": 0,
         "speechiness": 0.119,
         "acousticness": 0.0336,
         "instrumentalness": 0,
         "liveness": 0.0903,
         "valence": 0.745,
         "tempo": 130.041,
         "time_signature": 4,
         "_deepnote_index_column": 4037
        },
        {
         "Genre": "latin",
         "Title": "Por Fin Te Encontré",
         "Album_cover_link": "https://i.scdn.co/image/ab67616d0000b2733981b932cc802632d6a45c67",
         "Artist": "Cali Y El Dandee",
         "duration_ms": 250836,
         "explicit": false,
         "id": "2DAULesb1U4Qz4FSTZpEUJ",
         "popularity": 71,
         "release_date": "2015-09-24",
         "release_date_precision": "day",
         "total_tracks": 1,
         "danceability": 0.645,
         "energy": 0.821,
         "key": 11,
         "loudness": -3.679,
         "mode": 1,
         "speechiness": 0.213,
         "acousticness": 0.0492,
         "instrumentalness": 0,
         "liveness": 0.193,
         "valence": 0.844,
         "tempo": 179.968,
         "time_signature": 4,
         "_deepnote_index_column": 4038
        },
        {
         "Genre": "latin",
         "Title": "El Hombre de Tu Vida",
         "Album_cover_link": "https://i.scdn.co/image/ab67616d0000b2736021f9e1f0ef546d1e46b626",
         "Artist": "Joe Veras",
         "duration_ms": 293533,
         "explicit": false,
         "id": "3f9d4UXihDnTq9X6SNEG1j",
         "popularity": 51,
         "release_date": "2018-04-27",
         "release_date_precision": "day",
         "total_tracks": 11,
         "danceability": 0.808,
         "energy": 0.315,
         "key": 8,
         "loudness": -11.47,
         "mode": 1,
         "speechiness": 0.0587,
         "acousticness": 0.1,
         "instrumentalness": 0.000105,
         "liveness": 0.109,
         "valence": 0.592,
         "tempo": 120.663,
         "time_signature": 4,
         "_deepnote_index_column": 4039
        },
        {
         "Genre": "latin",
         "Title": "No (feat. Natalia Jiménez)",
         "Album_cover_link": "https://i.scdn.co/image/ab67616d0000b273ffb3041d0fb31c36493247dc",
         "Artist": "Ednita Nazario",
         "duration_ms": 229613,
         "explicit": false,
         "id": "4V5wH7mzVASQ3kqR6tHKup",
         "popularity": 44,
         "release_date": "2007-12-11",
         "release_date_precision": "day",
         "total_tracks": 13,
         "danceability": 0.63,
         "energy": 0.649,
         "key": 1,
         "loudness": -7.629,
         "mode": 0,
         "speechiness": 0.0272,
         "acousticness": 0.0112,
         "instrumentalness": 0,
         "liveness": 0.141,
         "valence": 0.72,
         "tempo": 106.461,
         "time_signature": 3,
         "_deepnote_index_column": 4040
        },
        {
         "Genre": "latin",
         "Title": "Burbujas de Amor",
         "Album_cover_link": "https://i.scdn.co/image/ab67616d0000b273601ae4dcef034fad703ca664",
         "Artist": "Juan Luis Guerra 4.40",
         "duration_ms": 250920,
         "explicit": false,
         "id": "0TarPYIjJndYucFUOMce8P",
         "popularity": 68,
         "release_date": "1990-01-01",
         "release_date_precision": "day",
         "total_tracks": 10,
         "danceability": 0.621,
         "energy": 0.675,
         "key": 0,
         "loudness": -5.941,
         "mode": 1,
         "speechiness": 0.0305,
         "acousticness": 0.295,
         "instrumentalness": 0,
         "liveness": 0.174,
         "valence": 0.747,
         "tempo": 125.122,
         "time_signature": 4,
         "_deepnote_index_column": 4041
        },
        {
         "Genre": "latin",
         "Title": "Mi Niña - Bachata Version",
         "Album_cover_link": "https://i.scdn.co/image/ab67616d0000b273a00c6097927bce717cfe9e6a",
         "Artist": "Los Toros Band",
         "duration_ms": 240026,
         "explicit": false,
         "id": "3Ed337L8k9XN4Cje0mr7p6",
         "popularity": 51,
         "release_date": "2000-01-01",
         "release_date_precision": "day",
         "total_tracks": 8,
         "danceability": 0.887,
         "energy": 0.66,
         "key": 10,
         "loudness": -4.299,
         "mode": 0,
         "speechiness": 0.0352,
         "acousticness": 0.316,
         "instrumentalness": 0,
         "liveness": 0.0721,
         "valence": 0.959,
         "tempo": 129.968,
         "time_signature": 4,
         "_deepnote_index_column": 4042
        },
        {
         "Genre": "latin",
         "Title": "Busco Un Confidente",
         "Album_cover_link": "https://i.scdn.co/image/6a11a6c397179fca2f8dc1f6fa1d0dff80ad8190",
         "Artist": "Alex Bueno",
         "duration_ms": 235000,
         "explicit": false,
         "id": "6B52JCVw2F1ZjlkNjzq2Rc",
         "popularity": 52,
         "release_date": "1998-10-27",
         "release_date_precision": "day",
         "total_tracks": 11,
         "danceability": 0.949,
         "energy": 0.614,
         "key": 2,
         "loudness": -4.719,
         "mode": 1,
         "speechiness": 0.0495,
         "acousticness": 0.6,
         "instrumentalness": 0,
         "liveness": 0.236,
         "valence": 0.954,
         "tempo": 133.026,
         "time_signature": 4,
         "_deepnote_index_column": 4043
        },
        {
         "Genre": "latin",
         "Title": "Si Te Digo la Verdad",
         "Album_cover_link": "https://i.scdn.co/image/ab67616d0000b2739f93b648f74d1ab87da99304",
         "Artist": "Gocho",
         "duration_ms": 212573,
         "explicit": true,
         "id": "6hof4yrROmugHc1xDcXMij",
         "popularity": 33,
         "release_date": "2011-06-18",
         "release_date_precision": "day",
         "total_tracks": 13,
         "danceability": 0.604,
         "energy": 0.858,
         "key": 8,
         "loudness": -4.13,
         "mode": 1,
         "speechiness": 0.0419,
         "acousticness": 0.139,
         "instrumentalness": 0,
         "liveness": 0.0659,
         "valence": 0.739,
         "tempo": 102.055,
         "time_signature": 4,
         "_deepnote_index_column": 4044
        },
        {
         "Genre": "latin",
         "Title": "Despues de Ti No Hay Nada",
         "Album_cover_link": "https://i.scdn.co/image/ab67616d0000b273e5ac821f5f4f8fd0e664008c",
         "Artist": "Domenic Marte",
         "duration_ms": 249720,
         "explicit": false,
         "id": "6hphtwFPNsd3lClhzthhOo",
         "popularity": 39,
         "release_date": "2013-11-12",
         "release_date_precision": "day",
         "total_tracks": 16,
         "danceability": 0.814,
         "energy": 0.635,
         "key": 2,
         "loudness": -7.434,
         "mode": 1,
         "speechiness": 0.0336,
         "acousticness": 0.574,
         "instrumentalness": 0,
         "liveness": 0.0919,
         "valence": 0.961,
         "tempo": 127.029,
         "time_signature": 4,
         "_deepnote_index_column": 4045
        },
        {
         "Genre": "latin",
         "Title": "Caliente",
         "Album_cover_link": "https://i.scdn.co/image/ab67616d0000b273d9fe8dd4517fda2ec0210dec",
         "Artist": "Cheka",
         "duration_ms": 237290,
         "explicit": false,
         "id": "0RA29eVOn8cPy3aVXA7Hur",
         "popularity": 40,
         "release_date": "2016-02-29",
         "release_date_precision": "day",
         "total_tracks": 18,
         "danceability": 0.712,
         "energy": 0.416,
         "key": 11,
         "loudness": -7.517,
         "mode": 1,
         "speechiness": 0.0789,
         "acousticness": 0.553,
         "instrumentalness": 0.0563,
         "liveness": 0.394,
         "valence": 0.606,
         "tempo": 159.821,
         "time_signature": 4,
         "_deepnote_index_column": 4046
        },
        {
         "Genre": "latin",
         "Title": "Los Pobres Tambien LLoran",
         "Album_cover_link": "https://i.scdn.co/image/ab67616d0000b2733fa03aad789c7333210894af",
         "Artist": "Teodoro Reyes",
         "duration_ms": 216800,
         "explicit": false,
         "id": "2PcQcYs9O2akTO3uCgRdGg",
         "popularity": 47,
         "release_date": "1997",
         "release_date_precision": "year",
         "total_tracks": 10,
         "danceability": 0.648,
         "energy": 0.456,
         "key": 0,
         "loudness": -8.401,
         "mode": 1,
         "speechiness": 0.0311,
         "acousticness": 0.611,
         "instrumentalness": 0.00000155,
         "liveness": 0.209,
         "valence": 0.961,
         "tempo": 141.189,
         "time_signature": 4,
         "_deepnote_index_column": 4047
        },
        {
         "Genre": "latin",
         "Title": "Una Confusion",
         "Album_cover_link": "https://i.scdn.co/image/ab67616d0000b2734c43fbcf18d000bd2a33d065",
         "Artist": "LU",
         "duration_ms": 321533,
         "explicit": false,
         "id": "5HSZXCBwRb5yq6UJDDhTWH",
         "popularity": 45,
         "release_date": "2004-02-10",
         "release_date_precision": "day",
         "total_tracks": 10,
         "danceability": 0.532,
         "energy": 0.855,
         "key": 1,
         "loudness": -4.24,
         "mode": 1,
         "speechiness": 0.0313,
         "acousticness": 0.0528,
         "instrumentalness": 0,
         "liveness": 0.173,
         "valence": 0.291,
         "tempo": 92.027,
         "time_signature": 4,
         "_deepnote_index_column": 4048
        },
        {
         "Genre": "latin",
         "Title": "Desnudos",
         "Album_cover_link": "https://i.scdn.co/image/ab67616d0000b27380513cdca75cb97eb8423020",
         "Artist": "Daniel Santacruz",
         "duration_ms": 198000,
         "explicit": false,
         "id": "2bqv853XoPpL6tEzr40pfE",
         "popularity": 46,
         "release_date": "2018-05-25",
         "release_date_precision": "day",
         "total_tracks": 17,
         "danceability": 0.7,
         "energy": 0.773,
         "key": 3,
         "loudness": -5.258,
         "mode": 0,
         "speechiness": 0.0482,
         "acousticness": 0.455,
         "instrumentalness": 0.0023,
         "liveness": 0.383,
         "valence": 0.9,
         "tempo": 129.982,
         "time_signature": 4,
         "_deepnote_index_column": 4049
        },
        {
         "Genre": "latin",
         "Title": "Amor Escondido",
         "Album_cover_link": "https://i.scdn.co/image/ab67616d0000b2734caf83d4fae7d9eafa4d13ca",
         "Artist": "Cruzito",
         "duration_ms": 210000,
         "explicit": false,
         "id": "7icnNUsk49I1aa9lfJ9bB5",
         "popularity": 21,
         "release_date": "2018-06-12",
         "release_date_precision": "day",
         "total_tracks": 12,
         "danceability": 0.724,
         "energy": 0.593,
         "key": 9,
         "loudness": -8.753,
         "mode": 0,
         "speechiness": 0.0492,
         "acousticness": 0.0421,
         "instrumentalness": 0.0000474,
         "liveness": 0.278,
         "valence": 0.67,
         "tempo": 89.951,
         "time_signature": 4,
         "_deepnote_index_column": 4050
        },
        {
         "Genre": "latin",
         "Title": "Que Levante la Mano",
         "Album_cover_link": "https://i.scdn.co/image/ab67616d0000b2730bc13685df268539821b090d",
         "Artist": "Joseph Fonseca",
         "duration_ms": 237560,
         "explicit": false,
         "id": "4mPgxlYJlHWiy5BrzKxBe1",
         "popularity": 46,
         "release_date": "2002-01-01",
         "release_date_precision": "day",
         "total_tracks": 12,
         "danceability": 0.813,
         "energy": 0.875,
         "key": 5,
         "loudness": -4.116,
         "mode": 0,
         "speechiness": 0.0379,
         "acousticness": 0.343,
         "instrumentalness": 0.000107,
         "liveness": 0.253,
         "valence": 0.923,
         "tempo": 119.937,
         "time_signature": 4,
         "_deepnote_index_column": 4051
        },
        {
         "Genre": "latin",
         "Title": "Tu Secreto",
         "Album_cover_link": "https://i.scdn.co/image/ab67616d0000b27347d42fed8ce25bf8898068da",
         "Artist": "Elvis Martinez",
         "duration_ms": 211226,
         "explicit": false,
         "id": "4AKtpixRxtQQhy7OCYJbhL",
         "popularity": 41,
         "release_date": "2000-05-01",
         "release_date_precision": "day",
         "total_tracks": 11,
         "danceability": 0.947,
         "energy": 0.565,
         "key": 11,
         "loudness": -6.661,
         "mode": 1,
         "speechiness": 0.0519,
         "acousticness": 0.0893,
         "instrumentalness": 0.00000673,
         "liveness": 0.137,
         "valence": 0.965,
         "tempo": 129.926,
         "time_signature": 4,
         "_deepnote_index_column": 4052
        },
        {
         "Genre": "latin",
         "Title": "Mi Bebe - Remix",
         "Album_cover_link": "https://i.scdn.co/image/ab67616d0000b2736f64c936b5bf4a010051cd23",
         "Artist": "Baby Ranks",
         "duration_ms": 182946,
         "explicit": false,
         "id": "3xqzyI3n74PvzpiEMdJarl",
         "popularity": 27,
         "release_date": "2020-10-12",
         "release_date_precision": "day",
         "total_tracks": 1,
         "danceability": 0.702,
         "energy": 0.843,
         "key": 0,
         "loudness": -2.605,
         "mode": 1,
         "speechiness": 0.149,
         "acousticness": 0.198,
         "instrumentalness": 0,
         "liveness": 0.0812,
         "valence": 0.813,
         "tempo": 179.982,
         "time_signature": 4,
         "_deepnote_index_column": 4053
        }
       ]
      },
      "text/plain": "      Genre                      Title  \\\n3018  latin                      Volví   \n3019  latin               Fiel - Remix   \n3020  latin         Andas En Mi Cabeza   \n3021  latin  Otra vez (feat. J Balvin)   \n3022  latin              Quiero Bailar   \n...     ...                        ...   \n4049  latin                   Desnudos   \n4050  latin             Amor Escondido   \n4051  latin        Que Levante la Mano   \n4052  latin                 Tu Secreto   \n4053  latin            Mi Bebe - Remix   \n\n                                       Album_cover_link            Artist  \\\n3018  https://i.scdn.co/image/ab67616d0000b27312bcec...          Aventura   \n3019  https://i.scdn.co/image/ab67616d0000b2737725ef...             Wisin   \n3020  https://i.scdn.co/image/ab67616d0000b2736df5cc...     Chino & Nacho   \n3021  https://i.scdn.co/image/ab67616d0000b27382eabf...     Zion & Lennox   \n3022  https://i.scdn.co/image/ab67616d0000b2738666a2...         Ivy Queen   \n...                                                 ...               ...   \n4049  https://i.scdn.co/image/ab67616d0000b27380513c...  Daniel Santacruz   \n4050  https://i.scdn.co/image/ab67616d0000b2734caf83...           Cruzito   \n4051  https://i.scdn.co/image/ab67616d0000b2730bc136...    Joseph Fonseca   \n4052  https://i.scdn.co/image/ab67616d0000b27347d42f...    Elvis Martinez   \n4053  https://i.scdn.co/image/ab67616d0000b2736f64c9...        Baby Ranks   \n\n      duration_ms  explicit                      id  popularity release_date  \\\n3018       230125      True  2vmfvSoZBFAt9hhRoEByLi          91   2021-08-03   \n3019       349546      True  43qcs9NpJhDxtG91zxFkj7          83   2021-06-15   \n3020       247493     False  23WI5V2eD4EyGKxSl7Pyeq          74   2016-02-19   \n3021       209453     False  3QwBODjSEzelZyVjxPOHdq          75   2016-09-30   \n3022       184506     False  1EyH5BK5Cx5XzQyEDks0fT          61   2004-01-01   \n...           ...       ...                     ...         ...          ...   \n4049       198000     False  2bqv853XoPpL6tEzr40pfE          46   2018-05-25   \n4050       210000     False  7icnNUsk49I1aa9lfJ9bB5          21   2018-06-12   \n4051       237560     False  4mPgxlYJlHWiy5BrzKxBe1          46   2002-01-01   \n4052       211226     False  4AKtpixRxtQQhy7OCYJbhL          41   2000-05-01   \n4053       182946     False  3xqzyI3n74PvzpiEMdJarl          27   2020-10-12   \n\n     release_date_precision  ...  key  loudness  mode  speechiness  \\\n3018                    day  ...    1    -3.726     1       0.1820   \n3019                    day  ...    6    -4.733     0       0.0473   \n3020                    day  ...    9    -1.870     1       0.1300   \n3021                    day  ...   10    -5.429     1       0.1000   \n3022                    day  ...    5    -5.261     1       0.0951   \n...                     ...  ...  ...       ...   ...          ...   \n4049                    day  ...    3    -5.258     0       0.0482   \n4050                    day  ...    9    -8.753     0       0.0492   \n4051                    day  ...    5    -4.116     0       0.0379   \n4052                    day  ...   11    -6.661     1       0.0519   \n4053                    day  ...    0    -2.605     1       0.1490   \n\n      acousticness  instrumentalness  liveness  valence    tempo  \\\n3018        0.4220          0.000284    0.0674    0.791  175.896   \n3019        0.3980          0.000002    0.1180    0.573   97.990   \n3020        0.0244          0.000000    0.1110    0.556  104.114   \n3021        0.0559          0.000486    0.4400    0.704   96.016   \n3022        0.3000          0.000000    0.2940    0.737   95.027   \n...            ...               ...       ...      ...      ...   \n4049        0.4550          0.002300    0.3830    0.900  129.982   \n4050        0.0421          0.000047    0.2780    0.670   89.951   \n4051        0.3430          0.000107    0.2530    0.923  119.937   \n4052        0.0893          0.000007    0.1370    0.965  129.926   \n4053        0.1980          0.000000    0.0812    0.813  179.982   \n\n      time_signature  \n3018               4  \n3019               4  \n3020               4  \n3021               4  \n3022               4  \n...              ...  \n4049               4  \n4050               4  \n4051               4  \n4052               4  \n4053               4  \n\n[1036 rows x 23 columns]",
      "text/html": "<div>\n<style scoped>\n    .dataframe tbody tr th:only-of-type {\n        vertical-align: middle;\n    }\n\n    .dataframe tbody tr th {\n        vertical-align: top;\n    }\n\n    .dataframe thead th {\n        text-align: right;\n    }\n</style>\n<table border=\"1\" class=\"dataframe\">\n  <thead>\n    <tr style=\"text-align: right;\">\n      <th></th>\n      <th>Genre</th>\n      <th>Title</th>\n      <th>Album_cover_link</th>\n      <th>Artist</th>\n      <th>duration_ms</th>\n      <th>explicit</th>\n      <th>id</th>\n      <th>popularity</th>\n      <th>release_date</th>\n      <th>release_date_precision</th>\n      <th>...</th>\n      <th>key</th>\n      <th>loudness</th>\n      <th>mode</th>\n      <th>speechiness</th>\n      <th>acousticness</th>\n      <th>instrumentalness</th>\n      <th>liveness</th>\n      <th>valence</th>\n      <th>tempo</th>\n      <th>time_signature</th>\n    </tr>\n  </thead>\n  <tbody>\n    <tr>\n      <th>3018</th>\n      <td>latin</td>\n      <td>Volví</td>\n      <td>https://i.scdn.co/image/ab67616d0000b27312bcec...</td>\n      <td>Aventura</td>\n      <td>230125</td>\n      <td>True</td>\n      <td>2vmfvSoZBFAt9hhRoEByLi</td>\n      <td>91</td>\n      <td>2021-08-03</td>\n      <td>day</td>\n      <td>...</td>\n      <td>1</td>\n      <td>-3.726</td>\n      <td>1</td>\n      <td>0.1820</td>\n      <td>0.4220</td>\n      <td>0.000284</td>\n      <td>0.0674</td>\n      <td>0.791</td>\n      <td>175.896</td>\n      <td>4</td>\n    </tr>\n    <tr>\n      <th>3019</th>\n      <td>latin</td>\n      <td>Fiel - Remix</td>\n      <td>https://i.scdn.co/image/ab67616d0000b2737725ef...</td>\n      <td>Wisin</td>\n      <td>349546</td>\n      <td>True</td>\n      <td>43qcs9NpJhDxtG91zxFkj7</td>\n      <td>83</td>\n      <td>2021-06-15</td>\n      <td>day</td>\n      <td>...</td>\n      <td>6</td>\n      <td>-4.733</td>\n      <td>0</td>\n      <td>0.0473</td>\n      <td>0.3980</td>\n      <td>0.000002</td>\n      <td>0.1180</td>\n      <td>0.573</td>\n      <td>97.990</td>\n      <td>4</td>\n    </tr>\n    <tr>\n      <th>3020</th>\n      <td>latin</td>\n      <td>Andas En Mi Cabeza</td>\n      <td>https://i.scdn.co/image/ab67616d0000b2736df5cc...</td>\n      <td>Chino &amp; Nacho</td>\n      <td>247493</td>\n      <td>False</td>\n      <td>23WI5V2eD4EyGKxSl7Pyeq</td>\n      <td>74</td>\n      <td>2016-02-19</td>\n      <td>day</td>\n      <td>...</td>\n      <td>9</td>\n      <td>-1.870</td>\n      <td>1</td>\n      <td>0.1300</td>\n      <td>0.0244</td>\n      <td>0.000000</td>\n      <td>0.1110</td>\n      <td>0.556</td>\n      <td>104.114</td>\n      <td>4</td>\n    </tr>\n    <tr>\n      <th>3021</th>\n      <td>latin</td>\n      <td>Otra vez (feat. J Balvin)</td>\n      <td>https://i.scdn.co/image/ab67616d0000b27382eabf...</td>\n      <td>Zion &amp; Lennox</td>\n      <td>209453</td>\n      <td>False</td>\n      <td>3QwBODjSEzelZyVjxPOHdq</td>\n      <td>75</td>\n      <td>2016-09-30</td>\n      <td>day</td>\n      <td>...</td>\n      <td>10</td>\n      <td>-5.429</td>\n      <td>1</td>\n      <td>0.1000</td>\n      <td>0.0559</td>\n      <td>0.000486</td>\n      <td>0.4400</td>\n      <td>0.704</td>\n      <td>96.016</td>\n      <td>4</td>\n    </tr>\n    <tr>\n      <th>3022</th>\n      <td>latin</td>\n      <td>Quiero Bailar</td>\n      <td>https://i.scdn.co/image/ab67616d0000b2738666a2...</td>\n      <td>Ivy Queen</td>\n      <td>184506</td>\n      <td>False</td>\n      <td>1EyH5BK5Cx5XzQyEDks0fT</td>\n      <td>61</td>\n      <td>2004-01-01</td>\n      <td>day</td>\n      <td>...</td>\n      <td>5</td>\n      <td>-5.261</td>\n      <td>1</td>\n      <td>0.0951</td>\n      <td>0.3000</td>\n      <td>0.000000</td>\n      <td>0.2940</td>\n      <td>0.737</td>\n      <td>95.027</td>\n      <td>4</td>\n    </tr>\n    <tr>\n      <th>...</th>\n      <td>...</td>\n      <td>...</td>\n      <td>...</td>\n      <td>...</td>\n      <td>...</td>\n      <td>...</td>\n      <td>...</td>\n      <td>...</td>\n      <td>...</td>\n      <td>...</td>\n      <td>...</td>\n      <td>...</td>\n      <td>...</td>\n      <td>...</td>\n      <td>...</td>\n      <td>...</td>\n      <td>...</td>\n      <td>...</td>\n      <td>...</td>\n      <td>...</td>\n      <td>...</td>\n    </tr>\n    <tr>\n      <th>4049</th>\n      <td>latin</td>\n      <td>Desnudos</td>\n      <td>https://i.scdn.co/image/ab67616d0000b27380513c...</td>\n      <td>Daniel Santacruz</td>\n      <td>198000</td>\n      <td>False</td>\n      <td>2bqv853XoPpL6tEzr40pfE</td>\n      <td>46</td>\n      <td>2018-05-25</td>\n      <td>day</td>\n      <td>...</td>\n      <td>3</td>\n      <td>-5.258</td>\n      <td>0</td>\n      <td>0.0482</td>\n      <td>0.4550</td>\n      <td>0.002300</td>\n      <td>0.3830</td>\n      <td>0.900</td>\n      <td>129.982</td>\n      <td>4</td>\n    </tr>\n    <tr>\n      <th>4050</th>\n      <td>latin</td>\n      <td>Amor Escondido</td>\n      <td>https://i.scdn.co/image/ab67616d0000b2734caf83...</td>\n      <td>Cruzito</td>\n      <td>210000</td>\n      <td>False</td>\n      <td>7icnNUsk49I1aa9lfJ9bB5</td>\n      <td>21</td>\n      <td>2018-06-12</td>\n      <td>day</td>\n      <td>...</td>\n      <td>9</td>\n      <td>-8.753</td>\n      <td>0</td>\n      <td>0.0492</td>\n      <td>0.0421</td>\n      <td>0.000047</td>\n      <td>0.2780</td>\n      <td>0.670</td>\n      <td>89.951</td>\n      <td>4</td>\n    </tr>\n    <tr>\n      <th>4051</th>\n      <td>latin</td>\n      <td>Que Levante la Mano</td>\n      <td>https://i.scdn.co/image/ab67616d0000b2730bc136...</td>\n      <td>Joseph Fonseca</td>\n      <td>237560</td>\n      <td>False</td>\n      <td>4mPgxlYJlHWiy5BrzKxBe1</td>\n      <td>46</td>\n      <td>2002-01-01</td>\n      <td>day</td>\n      <td>...</td>\n      <td>5</td>\n      <td>-4.116</td>\n      <td>0</td>\n      <td>0.0379</td>\n      <td>0.3430</td>\n      <td>0.000107</td>\n      <td>0.2530</td>\n      <td>0.923</td>\n      <td>119.937</td>\n      <td>4</td>\n    </tr>\n    <tr>\n      <th>4052</th>\n      <td>latin</td>\n      <td>Tu Secreto</td>\n      <td>https://i.scdn.co/image/ab67616d0000b27347d42f...</td>\n      <td>Elvis Martinez</td>\n      <td>211226</td>\n      <td>False</td>\n      <td>4AKtpixRxtQQhy7OCYJbhL</td>\n      <td>41</td>\n      <td>2000-05-01</td>\n      <td>day</td>\n      <td>...</td>\n      <td>11</td>\n      <td>-6.661</td>\n      <td>1</td>\n      <td>0.0519</td>\n      <td>0.0893</td>\n      <td>0.000007</td>\n      <td>0.1370</td>\n      <td>0.965</td>\n      <td>129.926</td>\n      <td>4</td>\n    </tr>\n    <tr>\n      <th>4053</th>\n      <td>latin</td>\n      <td>Mi Bebe - Remix</td>\n      <td>https://i.scdn.co/image/ab67616d0000b2736f64c9...</td>\n      <td>Baby Ranks</td>\n      <td>182946</td>\n      <td>False</td>\n      <td>3xqzyI3n74PvzpiEMdJarl</td>\n      <td>27</td>\n      <td>2020-10-12</td>\n      <td>day</td>\n      <td>...</td>\n      <td>0</td>\n      <td>-2.605</td>\n      <td>1</td>\n      <td>0.1490</td>\n      <td>0.1980</td>\n      <td>0.000000</td>\n      <td>0.0812</td>\n      <td>0.813</td>\n      <td>179.982</td>\n      <td>4</td>\n    </tr>\n  </tbody>\n</table>\n<p>1036 rows × 23 columns</p>\n</div>"
     },
     "metadata": {},
     "output_type": "display_data"
    },
    {
     "name": "stdout",
     "text": "pop\n",
     "output_type": "stream",
     "data": {}
    },
    {
     "data": {
      "application/vnd.deepnote.dataframe.v2+json": {
       "row_count": 1161,
       "column_count": 23,
       "columns": [
        {
         "name": "Genre",
         "dtype": "object",
         "stats": {
          "unique_count": 1,
          "nan_count": 0,
          "categories": [
           {
            "name": "pop",
            "count": 1161
           }
          ]
         }
        },
        {
         "name": "Title",
         "dtype": "object",
         "stats": {
          "unique_count": 1136,
          "nan_count": 0,
          "categories": [
           {
            "name": "Butterflies",
            "count": 4
           },
           {
            "name": "Ghost",
            "count": 3
           },
           {
            "name": "1134 others",
            "count": 1154
           }
          ]
         }
        },
        {
         "name": "Album_cover_link",
         "dtype": "object",
         "stats": {
          "unique_count": 1010,
          "nan_count": 0,
          "categories": [
           {
            "name": "https://i.scdn.co/image/ab67616d0000b2738d0a75346badc30c8b845be9",
            "count": 3
           },
           {
            "name": "https://i.scdn.co/image/ab67616d0000b273e19d9c548f323ab0f0299d36",
            "count": 3
           },
           {
            "name": "1008 others",
            "count": 1155
           }
          ]
         }
        },
        {
         "name": "Artist",
         "dtype": "object",
         "stats": {
          "unique_count": 581,
          "nan_count": 0,
          "categories": [
           {
            "name": "Camila Cabello",
            "count": 3
           },
           {
            "name": "Julia Michaels",
            "count": 3
           },
           {
            "name": "579 others",
            "count": 1155
           }
          ]
         }
        },
        {
         "name": "duration_ms",
         "dtype": "int64",
         "stats": {
          "unique_count": 1133,
          "nan_count": 0,
          "min": "121250",
          "max": "484146",
          "histogram": [
           {
            "bin_start": 121250,
            "bin_end": 157539.6,
            "count": 82
           },
           {
            "bin_start": 157539.6,
            "bin_end": 193829.2,
            "count": 368
           },
           {
            "bin_start": 193829.2,
            "bin_end": 230118.8,
            "count": 450
           },
           {
            "bin_start": 230118.8,
            "bin_end": 266408.4,
            "count": 193
           },
           {
            "bin_start": 266408.4,
            "bin_end": 302698,
            "count": 55
           },
           {
            "bin_start": 302698,
            "bin_end": 338987.6,
            "count": 10
           },
           {
            "bin_start": 338987.6,
            "bin_end": 375277.19999999995,
            "count": 1
           },
           {
            "bin_start": 375277.19999999995,
            "bin_end": 411566.8,
            "count": 1
           },
           {
            "bin_start": 411566.8,
            "bin_end": 447856.39999999997,
            "count": 0
           },
           {
            "bin_start": 447856.39999999997,
            "bin_end": 484146,
            "count": 1
           }
          ]
         }
        },
        {
         "name": "explicit",
         "dtype": "bool",
         "stats": {
          "unique_count": 2,
          "nan_count": 0,
          "categories": [
           {
            "name": "False",
            "count": 896
           },
           {
            "name": "True",
            "count": 265
           }
          ]
         }
        },
        {
         "name": "id",
         "dtype": "object",
         "stats": {
          "unique_count": 1161,
          "nan_count": 0,
          "categories": [
           {
            "name": "1058fW9H3fZA6QjYCdOBad",
            "count": 1
           },
           {
            "name": "5WtfUKzXircvW8l5aaVZWT",
            "count": 1
           },
           {
            "name": "1159 others",
            "count": 1159
           }
          ]
         }
        },
        {
         "name": "popularity",
         "dtype": "int64",
         "stats": {
          "unique_count": 70,
          "nan_count": 0,
          "min": "1",
          "max": "100",
          "histogram": [
           {
            "bin_start": 1,
            "bin_end": 10.9,
            "count": 3
           },
           {
            "bin_start": 10.9,
            "bin_end": 20.8,
            "count": 1
           },
           {
            "bin_start": 20.8,
            "bin_end": 30.700000000000003,
            "count": 9
           },
           {
            "bin_start": 30.700000000000003,
            "bin_end": 40.6,
            "count": 7
           },
           {
            "bin_start": 40.6,
            "bin_end": 50.5,
            "count": 44
           },
           {
            "bin_start": 50.5,
            "bin_end": 60.400000000000006,
            "count": 144
           },
           {
            "bin_start": 60.400000000000006,
            "bin_end": 70.3,
            "count": 421
           },
           {
            "bin_start": 70.3,
            "bin_end": 80.2,
            "count": 402
           },
           {
            "bin_start": 80.2,
            "bin_end": 90.10000000000001,
            "count": 122
           },
           {
            "bin_start": 90.10000000000001,
            "bin_end": 100,
            "count": 8
           }
          ]
         }
        },
        {
         "name": "release_date",
         "dtype": "object",
         "stats": {
          "unique_count": 579,
          "nan_count": 0,
          "categories": [
           {
            "name": "2013-01-01",
            "count": 20
           },
           {
            "name": "2014-01-01",
            "count": 16
           },
           {
            "name": "577 others",
            "count": 1125
           }
          ]
         }
        },
        {
         "name": "release_date_precision",
         "dtype": "object",
         "stats": {
          "unique_count": 2,
          "nan_count": 0,
          "categories": [
           {
            "name": "day",
            "count": 1126
           },
           {
            "name": "year",
            "count": 35
           }
          ]
         }
        },
        {
         "name": "total_tracks",
         "dtype": "int64",
         "stats": {
          "unique_count": 33,
          "nan_count": 0,
          "min": "1",
          "max": "56",
          "histogram": [
           {
            "bin_start": 1,
            "bin_end": 6.5,
            "count": 377
           },
           {
            "bin_start": 6.5,
            "bin_end": 12,
            "count": 197
           },
           {
            "bin_start": 12,
            "bin_end": 17.5,
            "count": 464
           },
           {
            "bin_start": 17.5,
            "bin_end": 23,
            "count": 95
           },
           {
            "bin_start": 23,
            "bin_end": 28.5,
            "count": 17
           },
           {
            "bin_start": 28.5,
            "bin_end": 34,
            "count": 7
           },
           {
            "bin_start": 34,
            "bin_end": 39.5,
            "count": 2
           },
           {
            "bin_start": 39.5,
            "bin_end": 45,
            "count": 0
           },
           {
            "bin_start": 45,
            "bin_end": 50.5,
            "count": 1
           },
           {
            "bin_start": 50.5,
            "bin_end": 56,
            "count": 1
           }
          ]
         }
        },
        {
         "name": "danceability",
         "dtype": "float64",
         "stats": {
          "unique_count": 468,
          "nan_count": 0,
          "min": "0.188",
          "max": "0.983",
          "histogram": [
           {
            "bin_start": 0.188,
            "bin_end": 0.26749999999999996,
            "count": 6
           },
           {
            "bin_start": 0.26749999999999996,
            "bin_end": 0.347,
            "count": 18
           },
           {
            "bin_start": 0.347,
            "bin_end": 0.4265,
            "count": 58
           },
           {
            "bin_start": 0.4265,
            "bin_end": 0.506,
            "count": 98
           },
           {
            "bin_start": 0.506,
            "bin_end": 0.5854999999999999,
            "count": 179
           },
           {
            "bin_start": 0.5854999999999999,
            "bin_end": 0.6649999999999999,
            "count": 243
           },
           {
            "bin_start": 0.6649999999999999,
            "bin_end": 0.7444999999999999,
            "count": 290
           },
           {
            "bin_start": 0.7444999999999999,
            "bin_end": 0.8239999999999998,
            "count": 168
           },
           {
            "bin_start": 0.8239999999999998,
            "bin_end": 0.9035,
            "count": 75
           },
           {
            "bin_start": 0.9035,
            "bin_end": 0.983,
            "count": 26
           }
          ]
         }
        },
        {
         "name": "energy",
         "dtype": "float64",
         "stats": {
          "unique_count": 572,
          "nan_count": 0,
          "min": "0.0848",
          "max": "0.97",
          "histogram": [
           {
            "bin_start": 0.0848,
            "bin_end": 0.17332,
            "count": 15
           },
           {
            "bin_start": 0.17332,
            "bin_end": 0.26184,
            "count": 28
           },
           {
            "bin_start": 0.26184,
            "bin_end": 0.35036,
            "count": 72
           },
           {
            "bin_start": 0.35036,
            "bin_end": 0.43888,
            "count": 111
           },
           {
            "bin_start": 0.43888,
            "bin_end": 0.5274,
            "count": 132
           },
           {
            "bin_start": 0.5274,
            "bin_end": 0.61592,
            "count": 174
           },
           {
            "bin_start": 0.61592,
            "bin_end": 0.70444,
            "count": 197
           },
           {
            "bin_start": 0.70444,
            "bin_end": 0.79296,
            "count": 208
           },
           {
            "bin_start": 0.79296,
            "bin_end": 0.88148,
            "count": 165
           },
           {
            "bin_start": 0.88148,
            "bin_end": 0.97,
            "count": 59
           }
          ]
         }
        },
        {
         "name": "key",
         "dtype": "int64",
         "stats": {
          "unique_count": 12,
          "nan_count": 0,
          "min": "0",
          "max": "11",
          "histogram": [
           {
            "bin_start": 0,
            "bin_end": 1.1,
            "count": 263
           },
           {
            "bin_start": 1.1,
            "bin_end": 2.2,
            "count": 92
           },
           {
            "bin_start": 2.2,
            "bin_end": 3.3000000000000003,
            "count": 38
           },
           {
            "bin_start": 3.3000000000000003,
            "bin_end": 4.4,
            "count": 84
           },
           {
            "bin_start": 4.4,
            "bin_end": 5.5,
            "count": 109
           },
           {
            "bin_start": 5.5,
            "bin_end": 6.6000000000000005,
            "count": 90
           },
           {
            "bin_start": 6.6000000000000005,
            "bin_end": 7.700000000000001,
            "count": 104
           },
           {
            "bin_start": 7.700000000000001,
            "bin_end": 8.8,
            "count": 100
           },
           {
            "bin_start": 8.8,
            "bin_end": 9.9,
            "count": 93
           },
           {
            "bin_start": 9.9,
            "bin_end": 11,
            "count": 188
           }
          ]
         }
        },
        {
         "name": "loudness",
         "dtype": "float64",
         "stats": {
          "unique_count": 1087,
          "nan_count": 0,
          "min": "-16.339",
          "max": "-1.856",
          "histogram": [
           {
            "bin_start": -16.339,
            "bin_end": -14.890699999999999,
            "count": 5
           },
           {
            "bin_start": -14.890699999999999,
            "bin_end": -13.4424,
            "count": 8
           },
           {
            "bin_start": -13.4424,
            "bin_end": -11.9941,
            "count": 9
           },
           {
            "bin_start": -11.9941,
            "bin_end": -10.5458,
            "count": 37
           },
           {
            "bin_start": -10.5458,
            "bin_end": -9.0975,
            "count": 65
           },
           {
            "bin_start": -9.0975,
            "bin_end": -7.649199999999999,
            "count": 149
           },
           {
            "bin_start": -7.649199999999999,
            "bin_end": -6.200899999999999,
            "count": 278
           },
           {
            "bin_start": -6.200899999999999,
            "bin_end": -4.752599999999999,
            "count": 335
           },
           {
            "bin_start": -4.752599999999999,
            "bin_end": -3.3042999999999996,
            "count": 214
           },
           {
            "bin_start": -3.3042999999999996,
            "bin_end": -1.856,
            "count": 61
           }
          ]
         }
        },
        {
         "name": "mode",
         "dtype": "int64",
         "stats": {
          "unique_count": 2,
          "nan_count": 0,
          "min": "0",
          "max": "1",
          "histogram": [
           {
            "bin_start": 0,
            "bin_end": 0.1,
            "count": 421
           },
           {
            "bin_start": 0.1,
            "bin_end": 0.2,
            "count": 0
           },
           {
            "bin_start": 0.2,
            "bin_end": 0.30000000000000004,
            "count": 0
           },
           {
            "bin_start": 0.30000000000000004,
            "bin_end": 0.4,
            "count": 0
           },
           {
            "bin_start": 0.4,
            "bin_end": 0.5,
            "count": 0
           },
           {
            "bin_start": 0.5,
            "bin_end": 0.6000000000000001,
            "count": 0
           },
           {
            "bin_start": 0.6000000000000001,
            "bin_end": 0.7000000000000001,
            "count": 0
           },
           {
            "bin_start": 0.7000000000000001,
            "bin_end": 0.8,
            "count": 0
           },
           {
            "bin_start": 0.8,
            "bin_end": 0.9,
            "count": 0
           },
           {
            "bin_start": 0.9,
            "bin_end": 1,
            "count": 740
           }
          ]
         }
        },
        {
         "name": "speechiness",
         "dtype": "float64",
         "stats": {
          "unique_count": 596,
          "nan_count": 0,
          "min": "0.024",
          "max": "0.352",
          "histogram": [
           {
            "bin_start": 0.024,
            "bin_end": 0.056799999999999996,
            "count": 649
           },
           {
            "bin_start": 0.056799999999999996,
            "bin_end": 0.08959999999999999,
            "count": 216
           },
           {
            "bin_start": 0.08959999999999999,
            "bin_end": 0.12239999999999998,
            "count": 109
           },
           {
            "bin_start": 0.12239999999999998,
            "bin_end": 0.15519999999999998,
            "count": 61
           },
           {
            "bin_start": 0.15519999999999998,
            "bin_end": 0.18799999999999997,
            "count": 33
           },
           {
            "bin_start": 0.18799999999999997,
            "bin_end": 0.22079999999999997,
            "count": 28
           },
           {
            "bin_start": 0.22079999999999997,
            "bin_end": 0.2536,
            "count": 24
           },
           {
            "bin_start": 0.2536,
            "bin_end": 0.2864,
            "count": 19
           },
           {
            "bin_start": 0.2864,
            "bin_end": 0.3192,
            "count": 13
           },
           {
            "bin_start": 0.3192,
            "bin_end": 0.352,
            "count": 9
           }
          ]
         }
        },
        {
         "name": "acousticness",
         "dtype": "float64",
         "stats": {
          "unique_count": 851,
          "nan_count": 0,
          "min": "6.52e-05",
          "max": "0.983",
          "histogram": [
           {
            "bin_start": 0.0000652,
            "bin_end": 0.09835868,
            "count": 485
           },
           {
            "bin_start": 0.09835868,
            "bin_end": 0.19665216,
            "count": 184
           },
           {
            "bin_start": 0.19665216,
            "bin_end": 0.29494564,
            "count": 124
           },
           {
            "bin_start": 0.29494564,
            "bin_end": 0.39323912,
            "count": 79
           },
           {
            "bin_start": 0.39323912,
            "bin_end": 0.4915326,
            "count": 55
           },
           {
            "bin_start": 0.4915326,
            "bin_end": 0.58982608,
            "count": 52
           },
           {
            "bin_start": 0.58982608,
            "bin_end": 0.68811956,
            "count": 46
           },
           {
            "bin_start": 0.68811956,
            "bin_end": 0.78641304,
            "count": 50
           },
           {
            "bin_start": 0.78641304,
            "bin_end": 0.88470652,
            "count": 48
           },
           {
            "bin_start": 0.88470652,
            "bin_end": 0.983,
            "count": 38
           }
          ]
         }
        },
        {
         "name": "instrumentalness",
         "dtype": "float64",
         "stats": {
          "unique_count": 475,
          "nan_count": 0,
          "min": "0.0",
          "max": "0.896",
          "histogram": [
           {
            "bin_start": 0,
            "bin_end": 0.0896,
            "count": 1128
           },
           {
            "bin_start": 0.0896,
            "bin_end": 0.1792,
            "count": 13
           },
           {
            "bin_start": 0.1792,
            "bin_end": 0.2688,
            "count": 5
           },
           {
            "bin_start": 0.2688,
            "bin_end": 0.3584,
            "count": 1
           },
           {
            "bin_start": 0.3584,
            "bin_end": 0.448,
            "count": 2
           },
           {
            "bin_start": 0.448,
            "bin_end": 0.5376,
            "count": 1
           },
           {
            "bin_start": 0.5376,
            "bin_end": 0.6272,
            "count": 2
           },
           {
            "bin_start": 0.6272,
            "bin_end": 0.7168,
            "count": 3
           },
           {
            "bin_start": 0.7168,
            "bin_end": 0.8064,
            "count": 4
           },
           {
            "bin_start": 0.8064,
            "bin_end": 0.896,
            "count": 2
           }
          ]
         }
        },
        {
         "name": "liveness",
         "dtype": "float64",
         "stats": {
          "unique_count": 521,
          "nan_count": 0,
          "min": "0.0205",
          "max": "0.788",
          "histogram": [
           {
            "bin_start": 0.0205,
            "bin_end": 0.09725000000000002,
            "count": 330
           },
           {
            "bin_start": 0.09725000000000002,
            "bin_end": 0.17400000000000002,
            "count": 510
           },
           {
            "bin_start": 0.17400000000000002,
            "bin_end": 0.25075000000000003,
            "count": 128
           },
           {
            "bin_start": 0.25075000000000003,
            "bin_end": 0.32750000000000007,
            "count": 91
           },
           {
            "bin_start": 0.32750000000000007,
            "bin_end": 0.40425000000000005,
            "count": 54
           },
           {
            "bin_start": 0.40425000000000005,
            "bin_end": 0.4810000000000001,
            "count": 24
           },
           {
            "bin_start": 0.4810000000000001,
            "bin_end": 0.5577500000000001,
            "count": 7
           },
           {
            "bin_start": 0.5577500000000001,
            "bin_end": 0.6345000000000001,
            "count": 9
           },
           {
            "bin_start": 0.6345000000000001,
            "bin_end": 0.71125,
            "count": 6
           },
           {
            "bin_start": 0.71125,
            "bin_end": 0.788,
            "count": 2
           }
          ]
         }
        },
        {
         "name": "valence",
         "dtype": "float64",
         "stats": {
          "unique_count": 633,
          "nan_count": 0,
          "min": "0.035",
          "max": "0.976",
          "histogram": [
           {
            "bin_start": 0.035,
            "bin_end": 0.1291,
            "count": 46
           },
           {
            "bin_start": 0.1291,
            "bin_end": 0.22319999999999998,
            "count": 113
           },
           {
            "bin_start": 0.22319999999999998,
            "bin_end": 0.3173,
            "count": 148
           },
           {
            "bin_start": 0.3173,
            "bin_end": 0.4114,
            "count": 182
           },
           {
            "bin_start": 0.4114,
            "bin_end": 0.5055,
            "count": 180
           },
           {
            "bin_start": 0.5055,
            "bin_end": 0.5996,
            "count": 163
           },
           {
            "bin_start": 0.5996,
            "bin_end": 0.6937,
            "count": 115
           },
           {
            "bin_start": 0.6937,
            "bin_end": 0.7878,
            "count": 102
           },
           {
            "bin_start": 0.7878,
            "bin_end": 0.8818999999999999,
            "count": 68
           },
           {
            "bin_start": 0.8818999999999999,
            "bin_end": 0.976,
            "count": 44
           }
          ]
         }
        },
        {
         "name": "tempo",
         "dtype": "float64",
         "stats": {
          "unique_count": 1122,
          "nan_count": 0,
          "min": "57.526",
          "max": "210.857",
          "histogram": [
           {
            "bin_start": 57.526,
            "bin_end": 72.8591,
            "count": 14
           },
           {
            "bin_start": 72.8591,
            "bin_end": 88.1922,
            "count": 120
           },
           {
            "bin_start": 88.1922,
            "bin_end": 103.52529999999999,
            "count": 221
           },
           {
            "bin_start": 103.52529999999999,
            "bin_end": 118.85839999999999,
            "count": 232
           },
           {
            "bin_start": 118.85839999999999,
            "bin_end": 134.1915,
            "count": 299
           },
           {
            "bin_start": 134.1915,
            "bin_end": 149.5246,
            "count": 117
           },
           {
            "bin_start": 149.5246,
            "bin_end": 164.8577,
            "count": 68
           },
           {
            "bin_start": 164.8577,
            "bin_end": 180.1908,
            "count": 66
           },
           {
            "bin_start": 180.1908,
            "bin_end": 195.5239,
            "count": 19
           },
           {
            "bin_start": 195.5239,
            "bin_end": 210.857,
            "count": 5
           }
          ]
         }
        },
        {
         "name": "time_signature",
         "dtype": "int64",
         "stats": {
          "unique_count": 4,
          "nan_count": 0,
          "min": "1",
          "max": "5",
          "histogram": [
           {
            "bin_start": 1,
            "bin_end": 1.4,
            "count": 4
           },
           {
            "bin_start": 1.4,
            "bin_end": 1.8,
            "count": 0
           },
           {
            "bin_start": 1.8,
            "bin_end": 2.2,
            "count": 0
           },
           {
            "bin_start": 2.2,
            "bin_end": 2.6,
            "count": 0
           },
           {
            "bin_start": 2.6,
            "bin_end": 3,
            "count": 0
           },
           {
            "bin_start": 3,
            "bin_end": 3.4000000000000004,
            "count": 61
           },
           {
            "bin_start": 3.4000000000000004,
            "bin_end": 3.8000000000000003,
            "count": 0
           },
           {
            "bin_start": 3.8000000000000003,
            "bin_end": 4.2,
            "count": 1081
           },
           {
            "bin_start": 4.2,
            "bin_end": 4.6,
            "count": 0
           },
           {
            "bin_start": 4.6,
            "bin_end": 5,
            "count": 15
           }
          ]
         }
        },
        {
         "name": "_deepnote_index_column",
         "dtype": "int64"
        }
       ],
       "rows_top": [
        {
         "Genre": "pop",
         "Title": "Don't Go Yet",
         "Album_cover_link": "https://i.scdn.co/image/ab67616d0000b273d24bb6aa36842e45bdd3d1cc",
         "Artist": "Camila Cabello",
         "duration_ms": 164842,
         "explicit": false,
         "id": "1058fW9H3fZA6QjYCdOBad",
         "popularity": 88,
         "release_date": "2021-07-23",
         "release_date_precision": "day",
         "total_tracks": 1,
         "danceability": 0.666,
         "energy": 0.796,
         "key": 10,
         "loudness": -6.967,
         "mode": 0,
         "speechiness": 0.103,
         "acousticness": 0.0492,
         "instrumentalness": 0,
         "liveness": 0.0442,
         "valence": 0.61,
         "tempo": 110.108,
         "time_signature": 4,
         "_deepnote_index_column": 4054
        },
        {
         "Genre": "pop",
         "Title": "What A Time (feat. Niall Horan)",
         "Album_cover_link": "https://i.scdn.co/image/ab67616d0000b2737e706949994bcef39b09da4e",
         "Artist": "Julia Michaels",
         "duration_ms": 173306,
         "explicit": false,
         "id": "5WtfUKzXircvW8l5aaVZWT",
         "popularity": 84,
         "release_date": "2019-01-24",
         "release_date_precision": "day",
         "total_tracks": 6,
         "danceability": 0.516,
         "energy": 0.467,
         "key": 0,
         "loudness": -6.184,
         "mode": 1,
         "speechiness": 0.0302,
         "acousticness": 0.662,
         "instrumentalness": 0,
         "liveness": 0.0853,
         "valence": 0.386,
         "tempo": 132.861,
         "time_signature": 4,
         "_deepnote_index_column": 4055
        },
        {
         "Genre": "pop",
         "Title": "Scars To Your Beautiful",
         "Album_cover_link": "https://i.scdn.co/image/ab67616d0000b273e3ae597159d6c2541c4ee61b",
         "Artist": "Alessia Cara",
         "duration_ms": 230226,
         "explicit": false,
         "id": "0prNGof3XqfTvNDxHonvdK",
         "popularity": 73,
         "release_date": "2015-11-13",
         "release_date_precision": "day",
         "total_tracks": 13,
         "danceability": 0.573,
         "energy": 0.739,
         "key": 0,
         "loudness": -5.74,
         "mode": 1,
         "speechiness": 0.129,
         "acousticness": 0.0285,
         "instrumentalness": 0,
         "liveness": 0.111,
         "valence": 0.451,
         "tempo": 97.085,
         "time_signature": 4,
         "_deepnote_index_column": 4056
        },
        {
         "Genre": "pop",
         "Title": "Dusk Till Dawn (feat. Sia) - Radio Edit",
         "Album_cover_link": "https://i.scdn.co/image/ab67616d0000b2732bdcb339402ebd78651f09c8",
         "Artist": "ZAYN",
         "duration_ms": 239000,
         "explicit": false,
         "id": "3e7sxremeOE3wTySiOhGiP",
         "popularity": 76,
         "release_date": "2018-12-14",
         "release_date_precision": "day",
         "total_tracks": 29,
         "danceability": 0.259,
         "energy": 0.437,
         "key": 11,
         "loudness": -6.589,
         "mode": 0,
         "speechiness": 0.0386,
         "acousticness": 0.102,
         "instrumentalness": 0.00000132,
         "liveness": 0.106,
         "valence": 0.0951,
         "tempo": 180.042,
         "time_signature": 4,
         "_deepnote_index_column": 4057
        },
        {
         "Genre": "pop",
         "Title": "Reckless",
         "Album_cover_link": "https://i.scdn.co/image/ab67616d0000b273fe32f37b07c7894097aafd52",
         "Artist": "Madison Beer",
         "duration_ms": 203384,
         "explicit": false,
         "id": "5ajjAnNRh8bxFvaVHzpPjh",
         "popularity": 83,
         "release_date": "2021-06-04",
         "release_date_precision": "day",
         "total_tracks": 1,
         "danceability": 0.386,
         "energy": 0.426,
         "key": 3,
         "loudness": -6.642,
         "mode": 1,
         "speechiness": 0.0363,
         "acousticness": 0.807,
         "instrumentalness": 0,
         "liveness": 0.14,
         "valence": 0.261,
         "tempo": 180.104,
         "time_signature": 3,
         "_deepnote_index_column": 4058
        },
        {
         "Genre": "pop",
         "Title": "Lose You To Love Me",
         "Album_cover_link": "https://i.scdn.co/image/ab67616d0000b2732abcc266597eb46f897a8666",
         "Artist": "Selena Gomez",
         "duration_ms": 206458,
         "explicit": false,
         "id": "4l0Mvzj72xxOpRrp6h8nHi",
         "popularity": 82,
         "release_date": "2020-01-10",
         "release_date_precision": "day",
         "total_tracks": 13,
         "danceability": 0.488,
         "energy": 0.343,
         "key": 4,
         "loudness": -8.985,
         "mode": 1,
         "speechiness": 0.0436,
         "acousticness": 0.556,
         "instrumentalness": 0,
         "liveness": 0.21,
         "valence": 0.0978,
         "tempo": 102.819,
         "time_signature": 4,
         "_deepnote_index_column": 4059
        },
        {
         "Genre": "pop",
         "Title": "Lush Life",
         "Album_cover_link": "https://i.scdn.co/image/ab67616d0000b2739e1683774b22648f4f178ed3",
         "Artist": "Zara Larsson",
         "duration_ms": 201122,
         "explicit": false,
         "id": "1rIKgCH4H52lrvDcz50hS8",
         "popularity": 77,
         "release_date": "2017-03-17",
         "release_date_precision": "day",
         "total_tracks": 15,
         "danceability": 0.694,
         "energy": 0.712,
         "key": 7,
         "loudness": -3.923,
         "mode": 0,
         "speechiness": 0.046,
         "acousticness": 0.132,
         "instrumentalness": 0,
         "liveness": 0.211,
         "valence": 0.799,
         "tempo": 98.023,
         "time_signature": 4,
         "_deepnote_index_column": 4060
        },
        {
         "Genre": "pop",
         "Title": "Strawberries & Cigarettes",
         "Album_cover_link": "https://i.scdn.co/image/ab67616d0000b273c9eb4c87e1d7f5353908b712",
         "Artist": "Troye Sivan",
         "duration_ms": 201538,
         "explicit": false,
         "id": "3afkJSKX0EAMsJXTZnDXXJ",
         "popularity": 81,
         "release_date": "2018-03-16",
         "release_date_precision": "day",
         "total_tracks": 1,
         "danceability": 0.578,
         "energy": 0.537,
         "key": 9,
         "loudness": -8.676,
         "mode": 1,
         "speechiness": 0.0832,
         "acousticness": 0.162,
         "instrumentalness": 0,
         "liveness": 0.076,
         "valence": 0.25,
         "tempo": 83.909,
         "time_signature": 4,
         "_deepnote_index_column": 4061
        },
        {
         "Genre": "pop",
         "Title": "Heart Attack",
         "Album_cover_link": "https://i.scdn.co/image/ab67616d0000b273aadb13ae608f6af20528409b",
         "Artist": "Demi Lovato",
         "duration_ms": 210840,
         "explicit": false,
         "id": "1V6gIisPpYqgFeWbMLI0bA",
         "popularity": 79,
         "release_date": "2013-01-01",
         "release_date_precision": "day",
         "total_tracks": 13,
         "danceability": 0.504,
         "energy": 0.785,
         "key": 8,
         "loudness": -4.802,
         "mode": 1,
         "speechiness": 0.104,
         "acousticness": 0.0738,
         "instrumentalness": 0,
         "liveness": 0.239,
         "valence": 0.502,
         "tempo": 173.968,
         "time_signature": 4,
         "_deepnote_index_column": 4062
        },
        {
         "Genre": "pop",
         "Title": "Love Me Like You Do - From \"Fifty Shades Of Grey\"",
         "Album_cover_link": "https://i.scdn.co/image/ab67616d0000b2736bdee14242f244d9d6ddf2fd",
         "Artist": "Ellie Goulding",
         "duration_ms": 252534,
         "explicit": false,
         "id": "3zHq9ouUJQFQRf3cm1rRLu",
         "popularity": 79,
         "release_date": "2015-11-06",
         "release_date_precision": "day",
         "total_tracks": 22,
         "danceability": 0.262,
         "energy": 0.606,
         "key": 8,
         "loudness": -6.646,
         "mode": 1,
         "speechiness": 0.0484,
         "acousticness": 0.247,
         "instrumentalness": 0,
         "liveness": 0.125,
         "valence": 0.275,
         "tempo": 189.857,
         "time_signature": 4,
         "_deepnote_index_column": 4063
        },
        {
         "Genre": "pop",
         "Title": "Let Me Go (with Alesso, Florida Georgia Line & watt)",
         "Album_cover_link": "https://i.scdn.co/image/ab67616d0000b273523eb48df1fa22b6d450833e",
         "Artist": "Hailee Steinfeld",
         "duration_ms": 174800,
         "explicit": false,
         "id": "5Gu0PDLN4YJeW75PpBSg9p",
         "popularity": 77,
         "release_date": "2017-09-08",
         "release_date_precision": "day",
         "total_tracks": 1,
         "danceability": 0.664,
         "energy": 0.708,
         "key": 8,
         "loudness": -4.154,
         "mode": 1,
         "speechiness": 0.0474,
         "acousticness": 0.0337,
         "instrumentalness": 0,
         "liveness": 0.0841,
         "valence": 0.742,
         "tempo": 103.07,
         "time_signature": 4,
         "_deepnote_index_column": 4064
        },
        {
         "Genre": "pop",
         "Title": "Work from Home (feat. Ty Dolla $ign)",
         "Album_cover_link": "https://i.scdn.co/image/ab67616d0000b273d03fa6f4e758282b7920b5c8",
         "Artist": "Fifth Harmony",
         "duration_ms": 214480,
         "explicit": false,
         "id": "4tCtwWceOPWzenK2HAIJSb",
         "popularity": 77,
         "release_date": "2016-05-27",
         "release_date_precision": "day",
         "total_tracks": 12,
         "danceability": 0.803,
         "energy": 0.585,
         "key": 8,
         "loudness": -5.861,
         "mode": 1,
         "speechiness": 0.0432,
         "acousticness": 0.103,
         "instrumentalness": 0.00000394,
         "liveness": 0.0644,
         "valence": 0.593,
         "tempo": 105.017,
         "time_signature": 4,
         "_deepnote_index_column": 4065
        },
        {
         "Genre": "pop",
         "Title": "Without Me",
         "Album_cover_link": "https://i.scdn.co/image/ab67616d0000b2737636e1c9e67eaafc9f49aefd",
         "Artist": "Halsey",
         "duration_ms": 201660,
         "explicit": true,
         "id": "6FZDfxM3a3UCqtzo5pxSLZ",
         "popularity": 77,
         "release_date": "2020-01-17",
         "release_date_precision": "day",
         "total_tracks": 16,
         "danceability": 0.752,
         "energy": 0.488,
         "key": 6,
         "loudness": -7.05,
         "mode": 1,
         "speechiness": 0.0705,
         "acousticness": 0.297,
         "instrumentalness": 0.00000911,
         "liveness": 0.0936,
         "valence": 0.533,
         "tempo": 136.041,
         "time_signature": 4,
         "_deepnote_index_column": 4066
        },
        {
         "Genre": "pop",
         "Title": "Meant to Be (feat. Florida Georgia Line)",
         "Album_cover_link": "https://i.scdn.co/image/ab67616d0000b27361fe6d3a50c0beaa3cfe33e9",
         "Artist": "Bebe Rexha",
         "duration_ms": 164205,
         "explicit": false,
         "id": "4e4fqjx0Izh4svvTef1z7e",
         "popularity": 70,
         "release_date": "2018-06-22",
         "release_date_precision": "day",
         "total_tracks": 14,
         "danceability": 0.642,
         "energy": 0.772,
         "key": 10,
         "loudness": -6.61,
         "mode": 1,
         "speechiness": 0.0848,
         "acousticness": 0.0476,
         "instrumentalness": 0,
         "liveness": 0.0646,
         "valence": 0.589,
         "tempo": 153.995,
         "time_signature": 4,
         "_deepnote_index_column": 4067
        },
        {
         "Genre": "pop",
         "Title": "Habits (Stay High)",
         "Album_cover_link": "https://i.scdn.co/image/ab67616d0000b273edbdf62135e9112a98bffa0c",
         "Artist": "Tove Lo",
         "duration_ms": 209160,
         "explicit": false,
         "id": "14OxJlLdcHNpgsm4DRwDOB",
         "popularity": 74,
         "release_date": "2014-01-01",
         "release_date_precision": "day",
         "total_tracks": 16,
         "danceability": 0.729,
         "energy": 0.65,
         "key": 5,
         "loudness": -3.539,
         "mode": 1,
         "speechiness": 0.0313,
         "acousticness": 0.0702,
         "instrumentalness": 0.0000669,
         "liveness": 0.0829,
         "valence": 0.347,
         "tempo": 110.02,
         "time_signature": 4,
         "_deepnote_index_column": 4068
        },
        {
         "Genre": "pop",
         "Title": "Prisoner (feat. Dua Lipa)",
         "Album_cover_link": "https://i.scdn.co/image/ab67616d0000b2738cffb7c6c40759eaf8a5a142",
         "Artist": "Miley Cyrus",
         "duration_ms": 169333,
         "explicit": false,
         "id": "2Oycxb8QbPkpHTo8ZrmG0B",
         "popularity": 76,
         "release_date": "2020-11-27",
         "release_date_precision": "day",
         "total_tracks": 15,
         "danceability": 0.781,
         "energy": 0.67,
         "key": 3,
         "loudness": -3.912,
         "mode": 0,
         "speechiness": 0.0452,
         "acousticness": 0.0103,
         "instrumentalness": 0,
         "liveness": 0.0761,
         "valence": 0.595,
         "tempo": 127.99,
         "time_signature": 4,
         "_deepnote_index_column": 4069
        },
        {
         "Genre": "pop",
         "Title": "This Town",
         "Album_cover_link": "https://i.scdn.co/image/ab67616d0000b2735bac234d5511248b248caf36",
         "Artist": "Niall Horan",
         "duration_ms": 232852,
         "explicit": false,
         "id": "0qvzXomUDJVaUboy2wMfiS",
         "popularity": 78,
         "release_date": "2017-10-20",
         "release_date_precision": "day",
         "total_tracks": 13,
         "danceability": 0.677,
         "energy": 0.401,
         "key": 9,
         "loudness": -8.467,
         "mode": 1,
         "speechiness": 0.0308,
         "acousticness": 0.712,
         "instrumentalness": 0,
         "liveness": 0.116,
         "valence": 0.195,
         "tempo": 111.825,
         "time_signature": 4,
         "_deepnote_index_column": 4070
        },
        {
         "Genre": "pop",
         "Title": "Somebody To You",
         "Album_cover_link": "https://i.scdn.co/image/ab67616d0000b2739f89b8390933e9ccb3673c89",
         "Artist": "The Vamps",
         "duration_ms": 185097,
         "explicit": false,
         "id": "6VrLYoQKdhu1Jruei06t65",
         "popularity": 77,
         "release_date": "2014-01-01",
         "release_date_precision": "day",
         "total_tracks": 15,
         "danceability": 0.526,
         "energy": 0.818,
         "key": 3,
         "loudness": -5.952,
         "mode": 1,
         "speechiness": 0.0358,
         "acousticness": 0.0587,
         "instrumentalness": 0,
         "liveness": 0.333,
         "valence": 0.896,
         "tempo": 171.96,
         "time_signature": 4,
         "_deepnote_index_column": 4071
        },
        {
         "Genre": "pop",
         "Title": "Bang Bang",
         "Album_cover_link": "https://i.scdn.co/image/ab67616d0000b273853048f8a21f1112fb559cce",
         "Artist": "Jessie J",
         "duration_ms": 199373,
         "explicit": false,
         "id": "1rW6UUZRQWW34j4zCQDkfX",
         "popularity": 41,
         "release_date": "2014-10-13",
         "release_date_precision": "day",
         "total_tracks": 12,
         "danceability": 0.706,
         "energy": 0.783,
         "key": 0,
         "loudness": -3.441,
         "mode": 0,
         "speechiness": 0.1,
         "acousticness": 0.315,
         "instrumentalness": 0,
         "liveness": 0.373,
         "valence": 0.739,
         "tempo": 150.045,
         "time_signature": 4,
         "_deepnote_index_column": 4072
        },
        {
         "Genre": "pop",
         "Title": "Jealous - Remix",
         "Album_cover_link": "https://i.scdn.co/image/ab67616d0000b2733721c00c751f3596b38ffdad",
         "Artist": "Nick Jonas",
         "duration_ms": 222186,
         "explicit": true,
         "id": "5NQJnRpJHRaupdegphntQT",
         "popularity": 67,
         "release_date": "2015-11-20",
         "release_date_precision": "day",
         "total_tracks": 21,
         "danceability": 0.684,
         "energy": 0.71,
         "key": 11,
         "loudness": -3.614,
         "mode": 0,
         "speechiness": 0.0779,
         "acousticness": 0.0132,
         "instrumentalness": 0,
         "liveness": 0.444,
         "valence": 0.451,
         "tempo": 93.007,
         "time_signature": 4,
         "_deepnote_index_column": 4073
        }
       ],
       "rows_bottom": [
        {
         "Genre": "pop",
         "Title": "Favorite T-Shirt - Acoustic",
         "Album_cover_link": "https://i.scdn.co/image/ab67616d0000b27363a24ce685b18bfa0474671d",
         "Artist": "Jake Scott",
         "duration_ms": 188442,
         "explicit": false,
         "id": "2PR4jVXzyjCky2PkONvipq",
         "popularity": 61,
         "release_date": "2019-11-08",
         "release_date_precision": "day",
         "total_tracks": 1,
         "danceability": 0.82,
         "energy": 0.26,
         "key": 9,
         "loudness": -14.473,
         "mode": 1,
         "speechiness": 0.0759,
         "acousticness": 0.757,
         "instrumentalness": 0,
         "liveness": 0.144,
         "valence": 0.641,
         "tempo": 114.943,
         "time_signature": 4,
         "_deepnote_index_column": 5194
        },
        {
         "Genre": "pop",
         "Title": "Day Dreaming",
         "Album_cover_link": "https://i.scdn.co/image/ab67616d0000b273b8930c6ded15853219d6f3cf",
         "Artist": "Jack & Jack",
         "duration_ms": 211226,
         "explicit": false,
         "id": "2JRLoT6z48Pfihyj1s1u77",
         "popularity": 54,
         "release_date": "2019-01-25",
         "release_date_precision": "day",
         "total_tracks": 12,
         "danceability": 0.752,
         "energy": 0.59,
         "key": 10,
         "loudness": -5.688,
         "mode": 1,
         "speechiness": 0.0259,
         "acousticness": 0.071,
         "instrumentalness": 0.00000976,
         "liveness": 0.095,
         "valence": 0.353,
         "tempo": 101.241,
         "time_signature": 3,
         "_deepnote_index_column": 5195
        },
        {
         "Genre": "pop",
         "Title": "Mama Said",
         "Album_cover_link": "https://i.scdn.co/image/ab67616d0000b2739c2ba50154a64c3c898ec7e2",
         "Artist": "Lukas Graham",
         "duration_ms": 206756,
         "explicit": false,
         "id": "7675gjlUZzneYiMrQ9Inx8",
         "popularity": 46,
         "release_date": "2015-06-16",
         "release_date_precision": "day",
         "total_tracks": 12,
         "danceability": 0.748,
         "energy": 0.867,
         "key": 7,
         "loudness": -4.715,
         "mode": 0,
         "speechiness": 0.0536,
         "acousticness": 0.0229,
         "instrumentalness": 0.0000128,
         "liveness": 0.392,
         "valence": 0.531,
         "tempo": 84.005,
         "time_signature": 4,
         "_deepnote_index_column": 5196
        },
        {
         "Genre": "pop",
         "Title": "Girl on Fire",
         "Album_cover_link": "https://i.scdn.co/image/ab67616d0000b273a4fe49eb27e8152710e7a590",
         "Artist": "Alicia Keys",
         "duration_ms": 224920,
         "explicit": false,
         "id": "4esOae7i4rqTbAu9o5Pxco",
         "popularity": 77,
         "release_date": "2012-11-18",
         "release_date_precision": "day",
         "total_tracks": 4,
         "danceability": 0.482,
         "energy": 0.706,
         "key": 9,
         "loudness": -5.762,
         "mode": 1,
         "speechiness": 0.0607,
         "acousticness": 0.135,
         "instrumentalness": 0.00106,
         "liveness": 0.105,
         "valence": 0.144,
         "tempo": 92.513,
         "time_signature": 4,
         "_deepnote_index_column": 5197
        },
        {
         "Genre": "pop",
         "Title": "Don't Kill My High",
         "Album_cover_link": "https://i.scdn.co/image/ab67616d0000b273bd7fda695042d6a9f4c8074a",
         "Artist": "Lost Kings",
         "duration_ms": 180333,
         "explicit": true,
         "id": "09yhMTRqQ1I1dniu3PoIQi",
         "popularity": 63,
         "release_date": "2019-01-18",
         "release_date_precision": "day",
         "total_tracks": 6,
         "danceability": 0.674,
         "energy": 0.932,
         "key": 8,
         "loudness": -4.876,
         "mode": 1,
         "speechiness": 0.0718,
         "acousticness": 0.0363,
         "instrumentalness": 0,
         "liveness": 0.0576,
         "valence": 0.826,
         "tempo": 144.039,
         "time_signature": 4,
         "_deepnote_index_column": 5198
        },
        {
         "Genre": "pop",
         "Title": "COFFIN (feat. Eminem)",
         "Album_cover_link": "https://i.scdn.co/image/ab67616d0000b2738e59b60132f8d99895ab4803",
         "Artist": "Jessie Reyez",
         "duration_ms": 261773,
         "explicit": true,
         "id": "4HqPiUgeE9z0MHLXkgUQkQ",
         "popularity": 59,
         "release_date": "2020-03-27",
         "release_date_precision": "day",
         "total_tracks": 14,
         "danceability": 0.585,
         "energy": 0.594,
         "key": 9,
         "loudness": -5.342,
         "mode": 1,
         "speechiness": 0.332,
         "acousticness": 0.354,
         "instrumentalness": 0.0000536,
         "liveness": 0.0921,
         "valence": 0.138,
         "tempo": 184.013,
         "time_signature": 3,
         "_deepnote_index_column": 5199
        },
        {
         "Genre": "pop",
         "Title": "ex i never had",
         "Album_cover_link": "https://i.scdn.co/image/ab67616d0000b2732d9e8e3e016cf68d53536c64",
         "Artist": "LANY",
         "duration_ms": 201442,
         "explicit": false,
         "id": "1NAyq9TrQIpLHWStUX4xAQ",
         "popularity": 71,
         "release_date": "2021-09-03",
         "release_date_precision": "day",
         "total_tracks": 12,
         "danceability": 0.65,
         "energy": 0.388,
         "key": 10,
         "loudness": -7.065,
         "mode": 1,
         "speechiness": 0.0332,
         "acousticness": 0.306,
         "instrumentalness": 0,
         "liveness": 0.114,
         "valence": 0.628,
         "tempo": 96.001,
         "time_signature": 4,
         "_deepnote_index_column": 5200
        },
        {
         "Genre": "pop",
         "Title": "Run",
         "Album_cover_link": "https://i.scdn.co/image/ab67616d0000b273e6ad6ae83f74c9e3eb3132ab",
         "Artist": "Leona Lewis",
         "duration_ms": 314720,
         "explicit": false,
         "id": "4hrAKlxfblnG7llBEEX7TR",
         "popularity": 64,
         "release_date": "2007",
         "release_date_precision": "year",
         "total_tracks": 17,
         "danceability": 0.285,
         "energy": 0.462,
         "key": 5,
         "loudness": -6.166,
         "mode": 0,
         "speechiness": 0.0291,
         "acousticness": 0.428,
         "instrumentalness": 0.00000561,
         "liveness": 0.122,
         "valence": 0.0923,
         "tempo": 142.365,
         "time_signature": 4,
         "_deepnote_index_column": 5201
        },
        {
         "Genre": "pop",
         "Title": "Could've Been (feat. Bryson Tiller)",
         "Album_cover_link": "https://i.scdn.co/image/ab67616d0000b2732066a381ebbbb1f8312764e7",
         "Artist": "H.E.R.",
         "duration_ms": 252746,
         "explicit": false,
         "id": "6oEVnWKgPqIEPc53OYDNqG",
         "popularity": 74,
         "release_date": "2019-08-30",
         "release_date_precision": "day",
         "total_tracks": 19,
         "danceability": 0.45,
         "energy": 0.352,
         "key": 1,
         "loudness": -11.733,
         "mode": 0,
         "speechiness": 0.267,
         "acousticness": 0.649,
         "instrumentalness": 0.0000038,
         "liveness": 0.249,
         "valence": 0.408,
         "tempo": 102.679,
         "time_signature": 4,
         "_deepnote_index_column": 5202
        },
        {
         "Genre": "pop",
         "Title": "Brad Pitt",
         "Album_cover_link": "https://i.scdn.co/image/ab67616d0000b2733c9c662d9f721ce237688462",
         "Artist": "MØ",
         "duration_ms": 181706,
         "explicit": false,
         "id": "603NmSpDReeERhC8heOeVB",
         "popularity": 60,
         "release_date": "2021-11-12",
         "release_date_precision": "day",
         "total_tracks": 4,
         "danceability": 0.737,
         "energy": 0.603,
         "key": 0,
         "loudness": -3.732,
         "mode": 0,
         "speechiness": 0.0555,
         "acousticness": 0.0189,
         "instrumentalness": 0.0000792,
         "liveness": 0.0624,
         "valence": 0.422,
         "tempo": 130.932,
         "time_signature": 4,
         "_deepnote_index_column": 5203
        },
        {
         "Genre": "pop",
         "Title": "Devil I Know",
         "Album_cover_link": "https://i.scdn.co/image/ab67616d0000b27332ef63bcb552e1e9c1ecf475",
         "Artist": "Allie X",
         "duration_ms": 172880,
         "explicit": false,
         "id": "4GSqiK9YdVNhilXMFtCiQB",
         "popularity": 56,
         "release_date": "2020-02-21",
         "release_date_precision": "day",
         "total_tracks": 12,
         "danceability": 0.51,
         "energy": 0.536,
         "key": 1,
         "loudness": -5.988,
         "mode": 1,
         "speechiness": 0.0399,
         "acousticness": 0.0217,
         "instrumentalness": 0.00000729,
         "liveness": 0.0869,
         "valence": 0.384,
         "tempo": 90.763,
         "time_signature": 4,
         "_deepnote_index_column": 5204
        },
        {
         "Genre": "pop",
         "Title": "Heroes (we could be)",
         "Album_cover_link": "https://i.scdn.co/image/ab67616d0000b27301de15d5e4fcd13cd1ac18b0",
         "Artist": "Alesso",
         "duration_ms": 210013,
         "explicit": false,
         "id": "05XtssRLI22p8wLFIr7Vrl",
         "popularity": 57,
         "release_date": "2015-05-25",
         "release_date_precision": "day",
         "total_tracks": 17,
         "danceability": 0.503,
         "energy": 0.748,
         "key": 5,
         "loudness": -4.124,
         "mode": 1,
         "speechiness": 0.0619,
         "acousticness": 0.0305,
         "instrumentalness": 0,
         "liveness": 0.343,
         "valence": 0.356,
         "tempo": 125.896,
         "time_signature": 4,
         "_deepnote_index_column": 5205
        },
        {
         "Genre": "pop",
         "Title": "Don't Let Me Down",
         "Album_cover_link": "https://i.scdn.co/image/ab67616d0000b27364bfc7bf0318a4e32b434b56",
         "Artist": "Conor Maynard",
         "duration_ms": 164129,
         "explicit": false,
         "id": "4ks6j7JsfJorc1tb4THJo8",
         "popularity": 63,
         "release_date": "2016-08-05",
         "release_date_precision": "day",
         "total_tracks": 13,
         "danceability": 0.446,
         "energy": 0.37,
         "key": 9,
         "loudness": -8.447,
         "mode": 1,
         "speechiness": 0.0464,
         "acousticness": 0.913,
         "instrumentalness": 0,
         "liveness": 0.126,
         "valence": 0.209,
         "tempo": 108.58,
         "time_signature": 3,
         "_deepnote_index_column": 5206
        },
        {
         "Genre": "pop",
         "Title": "After You (feat. Calle Lehmann)",
         "Album_cover_link": "https://i.scdn.co/image/ab67616d0000b2736b709a2f4b49f628d6ab2326",
         "Artist": "Gryffin",
         "duration_ms": 224569,
         "explicit": false,
         "id": "6DiogHhtwkVgUHUDUJVuXV",
         "popularity": 70,
         "release_date": "2021-10-27",
         "release_date_precision": "day",
         "total_tracks": 1,
         "danceability": 0.511,
         "energy": 0.804,
         "key": 4,
         "loudness": -3.808,
         "mode": 1,
         "speechiness": 0.0433,
         "acousticness": 0.0619,
         "instrumentalness": 0,
         "liveness": 0.0873,
         "valence": 0.484,
         "tempo": 145.055,
         "time_signature": 4,
         "_deepnote_index_column": 5207
        },
        {
         "Genre": "pop",
         "Title": "She Used To Be Mine",
         "Album_cover_link": "https://i.scdn.co/image/ab67616d0000b2737acf0cb659dceb25ddbfd39a",
         "Artist": "Sara Bareilles",
         "duration_ms": 250266,
         "explicit": false,
         "id": "2D4BSm5Z8Hq5zYbSgJwEOh",
         "popularity": 69,
         "release_date": "2015-11-06",
         "release_date_precision": "day",
         "total_tracks": 12,
         "danceability": 0.397,
         "energy": 0.303,
         "key": 5,
         "loudness": -7.508,
         "mode": 1,
         "speechiness": 0.0435,
         "acousticness": 0.381,
         "instrumentalness": 0,
         "liveness": 0.101,
         "valence": 0.172,
         "tempo": 81.05,
         "time_signature": 4,
         "_deepnote_index_column": 5208
        },
        {
         "Genre": "pop",
         "Title": "Na Na",
         "Album_cover_link": "https://i.scdn.co/image/ab67616d0000b273abcdf61f87ddbbe1c5b7c951",
         "Artist": "Trey Songz",
         "duration_ms": 231906,
         "explicit": false,
         "id": "1lKuCdRnJbaDr2GZEGqid7",
         "popularity": 1,
         "release_date": "2014-06-19",
         "release_date_precision": "day",
         "total_tracks": 13,
         "danceability": 0.67,
         "energy": 0.476,
         "key": 9,
         "loudness": -6.253,
         "mode": 0,
         "speechiness": 0.0406,
         "acousticness": 0.328,
         "instrumentalness": 0,
         "liveness": 0.104,
         "valence": 0.235,
         "tempo": 96.975,
         "time_signature": 4,
         "_deepnote_index_column": 5209
        },
        {
         "Genre": "pop",
         "Title": "Loved You Once",
         "Album_cover_link": "https://i.scdn.co/image/ab67616d0000b27316a9f3a56507399734e43e72",
         "Artist": "Clara Mae",
         "duration_ms": 148603,
         "explicit": false,
         "id": "6cc7nzmG4iClAyl47BOf2Z",
         "popularity": 55,
         "release_date": "2020-08-28",
         "release_date_precision": "day",
         "total_tracks": 8,
         "danceability": 0.445,
         "energy": 0.436,
         "key": 4,
         "loudness": -5.988,
         "mode": 1,
         "speechiness": 0.042,
         "acousticness": 0.655,
         "instrumentalness": 0,
         "liveness": 0.157,
         "valence": 0.308,
         "tempo": 77.732,
         "time_signature": 3,
         "_deepnote_index_column": 5210
        },
        {
         "Genre": "pop",
         "Title": "Moment",
         "Album_cover_link": "https://i.scdn.co/image/ab67616d0000b27350aa87e1dea05ba3155bbbb2",
         "Artist": "Victoria Monét",
         "duration_ms": 179413,
         "explicit": true,
         "id": "6rSUrh8ErKSKfbH0t0IzCM",
         "popularity": 62,
         "release_date": "2020-08-07",
         "release_date_precision": "day",
         "total_tracks": 9,
         "danceability": 0.571,
         "energy": 0.431,
         "key": 1,
         "loudness": -8.889,
         "mode": 1,
         "speechiness": 0.0547,
         "acousticness": 0.637,
         "instrumentalness": 0.00524,
         "liveness": 0.122,
         "valence": 0.361,
         "tempo": 130.111,
         "time_signature": 4,
         "_deepnote_index_column": 5211
        },
        {
         "Genre": "pop",
         "Title": "Still the Same (feat. Boy In Space)",
         "Album_cover_link": "https://i.scdn.co/image/ab67616d0000b273f212e12c9429983f566eca52",
         "Artist": "SHY Martin",
         "duration_ms": 178139,
         "explicit": false,
         "id": "0f8xPdFJ6SdlHJwkxpdw2Q",
         "popularity": 61,
         "release_date": "2020-02-28",
         "release_date_precision": "day",
         "total_tracks": 1,
         "danceability": 0.658,
         "energy": 0.473,
         "key": 4,
         "loudness": -7.632,
         "mode": 1,
         "speechiness": 0.0463,
         "acousticness": 0.367,
         "instrumentalness": 0,
         "liveness": 0.187,
         "valence": 0.563,
         "tempo": 98.022,
         "time_signature": 4,
         "_deepnote_index_column": 5212
        },
        {
         "Genre": "pop",
         "Title": "Sway With Me (with GALXARA)",
         "Album_cover_link": "https://i.scdn.co/image/ab67616d0000b2730ec95779b64062cd2fad8a5c",
         "Artist": "Saweetie",
         "duration_ms": 168018,
         "explicit": false,
         "id": "5gqLY5H1ZyT3BScVr0nDMs",
         "popularity": 63,
         "release_date": "2020-01-31",
         "release_date_precision": "day",
         "total_tracks": 1,
         "danceability": 0.621,
         "energy": 0.849,
         "key": 3,
         "loudness": -4.243,
         "mode": 0,
         "speechiness": 0.0489,
         "acousticness": 0.00468,
         "instrumentalness": 0.000005,
         "liveness": 0.328,
         "valence": 0.875,
         "tempo": 130.979,
         "time_signature": 4,
         "_deepnote_index_column": 5213
        },
        {
         "Genre": "pop",
         "Title": "Confidently Lost",
         "Album_cover_link": "https://i.scdn.co/image/ab67616d0000b273ca158241af817ff9e7a35a4e",
         "Artist": "Sabrina Claudio",
         "duration_ms": 209885,
         "explicit": false,
         "id": "3cQmqM0awej9iAESjhKrI9",
         "popularity": 61,
         "release_date": "2017-03-02",
         "release_date_precision": "day",
         "total_tracks": 7,
         "danceability": 0.666,
         "energy": 0.39,
         "key": 5,
         "loudness": -8.575,
         "mode": 1,
         "speechiness": 0.0838,
         "acousticness": 0.272,
         "instrumentalness": 0.00000939,
         "liveness": 0.111,
         "valence": 0.325,
         "tempo": 113.866,
         "time_signature": 4,
         "_deepnote_index_column": 5214
        }
       ]
      },
      "text/plain": "     Genre                                    Title  \\\n4054   pop                             Don't Go Yet   \n4055   pop          What A Time (feat. Niall Horan)   \n4056   pop                  Scars To Your Beautiful   \n4057   pop  Dusk Till Dawn (feat. Sia) - Radio Edit   \n4058   pop                                 Reckless   \n...    ...                                      ...   \n5210   pop                           Loved You Once   \n5211   pop                                   Moment   \n5212   pop      Still the Same (feat. Boy In Space)   \n5213   pop              Sway With Me (with GALXARA)   \n5214   pop                         Confidently Lost   \n\n                                       Album_cover_link           Artist  \\\n4054  https://i.scdn.co/image/ab67616d0000b273d24bb6...   Camila Cabello   \n4055  https://i.scdn.co/image/ab67616d0000b2737e7069...   Julia Michaels   \n4056  https://i.scdn.co/image/ab67616d0000b273e3ae59...     Alessia Cara   \n4057  https://i.scdn.co/image/ab67616d0000b2732bdcb3...             ZAYN   \n4058  https://i.scdn.co/image/ab67616d0000b273fe32f3...     Madison Beer   \n...                                                 ...              ...   \n5210  https://i.scdn.co/image/ab67616d0000b27316a9f3...        Clara Mae   \n5211  https://i.scdn.co/image/ab67616d0000b27350aa87...   Victoria Monét   \n5212  https://i.scdn.co/image/ab67616d0000b273f212e1...       SHY Martin   \n5213  https://i.scdn.co/image/ab67616d0000b2730ec957...         Saweetie   \n5214  https://i.scdn.co/image/ab67616d0000b273ca1582...  Sabrina Claudio   \n\n      duration_ms  explicit                      id  popularity release_date  \\\n4054       164842     False  1058fW9H3fZA6QjYCdOBad          88   2021-07-23   \n4055       173306     False  5WtfUKzXircvW8l5aaVZWT          84   2019-01-24   \n4056       230226     False  0prNGof3XqfTvNDxHonvdK          73   2015-11-13   \n4057       239000     False  3e7sxremeOE3wTySiOhGiP          76   2018-12-14   \n4058       203384     False  5ajjAnNRh8bxFvaVHzpPjh          83   2021-06-04   \n...           ...       ...                     ...         ...          ...   \n5210       148603     False  6cc7nzmG4iClAyl47BOf2Z          55   2020-08-28   \n5211       179413      True  6rSUrh8ErKSKfbH0t0IzCM          62   2020-08-07   \n5212       178139     False  0f8xPdFJ6SdlHJwkxpdw2Q          61   2020-02-28   \n5213       168018     False  5gqLY5H1ZyT3BScVr0nDMs          63   2020-01-31   \n5214       209885     False  3cQmqM0awej9iAESjhKrI9          61   2017-03-02   \n\n     release_date_precision  ...  key  loudness  mode  speechiness  \\\n4054                    day  ...   10    -6.967     0       0.1030   \n4055                    day  ...    0    -6.184     1       0.0302   \n4056                    day  ...    0    -5.740     1       0.1290   \n4057                    day  ...   11    -6.589     0       0.0386   \n4058                    day  ...    3    -6.642     1       0.0363   \n...                     ...  ...  ...       ...   ...          ...   \n5210                    day  ...    4    -5.988     1       0.0420   \n5211                    day  ...    1    -8.889     1       0.0547   \n5212                    day  ...    4    -7.632     1       0.0463   \n5213                    day  ...    3    -4.243     0       0.0489   \n5214                    day  ...    5    -8.575     1       0.0838   \n\n      acousticness  instrumentalness  liveness  valence    tempo  \\\n4054       0.04920          0.000000    0.0442   0.6100  110.108   \n4055       0.66200          0.000000    0.0853   0.3860  132.861   \n4056       0.02850          0.000000    0.1110   0.4510   97.085   \n4057       0.10200          0.000001    0.1060   0.0951  180.042   \n4058       0.80700          0.000000    0.1400   0.2610  180.104   \n...            ...               ...       ...      ...      ...   \n5210       0.65500          0.000000    0.1570   0.3080   77.732   \n5211       0.63700          0.005240    0.1220   0.3610  130.111   \n5212       0.36700          0.000000    0.1870   0.5630   98.022   \n5213       0.00468          0.000005    0.3280   0.8750  130.979   \n5214       0.27200          0.000009    0.1110   0.3250  113.866   \n\n      time_signature  \n4054               4  \n4055               4  \n4056               4  \n4057               4  \n4058               3  \n...              ...  \n5210               3  \n5211               4  \n5212               4  \n5213               4  \n5214               4  \n\n[1161 rows x 23 columns]",
      "text/html": "<div>\n<style scoped>\n    .dataframe tbody tr th:only-of-type {\n        vertical-align: middle;\n    }\n\n    .dataframe tbody tr th {\n        vertical-align: top;\n    }\n\n    .dataframe thead th {\n        text-align: right;\n    }\n</style>\n<table border=\"1\" class=\"dataframe\">\n  <thead>\n    <tr style=\"text-align: right;\">\n      <th></th>\n      <th>Genre</th>\n      <th>Title</th>\n      <th>Album_cover_link</th>\n      <th>Artist</th>\n      <th>duration_ms</th>\n      <th>explicit</th>\n      <th>id</th>\n      <th>popularity</th>\n      <th>release_date</th>\n      <th>release_date_precision</th>\n      <th>...</th>\n      <th>key</th>\n      <th>loudness</th>\n      <th>mode</th>\n      <th>speechiness</th>\n      <th>acousticness</th>\n      <th>instrumentalness</th>\n      <th>liveness</th>\n      <th>valence</th>\n      <th>tempo</th>\n      <th>time_signature</th>\n    </tr>\n  </thead>\n  <tbody>\n    <tr>\n      <th>4054</th>\n      <td>pop</td>\n      <td>Don't Go Yet</td>\n      <td>https://i.scdn.co/image/ab67616d0000b273d24bb6...</td>\n      <td>Camila Cabello</td>\n      <td>164842</td>\n      <td>False</td>\n      <td>1058fW9H3fZA6QjYCdOBad</td>\n      <td>88</td>\n      <td>2021-07-23</td>\n      <td>day</td>\n      <td>...</td>\n      <td>10</td>\n      <td>-6.967</td>\n      <td>0</td>\n      <td>0.1030</td>\n      <td>0.04920</td>\n      <td>0.000000</td>\n      <td>0.0442</td>\n      <td>0.6100</td>\n      <td>110.108</td>\n      <td>4</td>\n    </tr>\n    <tr>\n      <th>4055</th>\n      <td>pop</td>\n      <td>What A Time (feat. Niall Horan)</td>\n      <td>https://i.scdn.co/image/ab67616d0000b2737e7069...</td>\n      <td>Julia Michaels</td>\n      <td>173306</td>\n      <td>False</td>\n      <td>5WtfUKzXircvW8l5aaVZWT</td>\n      <td>84</td>\n      <td>2019-01-24</td>\n      <td>day</td>\n      <td>...</td>\n      <td>0</td>\n      <td>-6.184</td>\n      <td>1</td>\n      <td>0.0302</td>\n      <td>0.66200</td>\n      <td>0.000000</td>\n      <td>0.0853</td>\n      <td>0.3860</td>\n      <td>132.861</td>\n      <td>4</td>\n    </tr>\n    <tr>\n      <th>4056</th>\n      <td>pop</td>\n      <td>Scars To Your Beautiful</td>\n      <td>https://i.scdn.co/image/ab67616d0000b273e3ae59...</td>\n      <td>Alessia Cara</td>\n      <td>230226</td>\n      <td>False</td>\n      <td>0prNGof3XqfTvNDxHonvdK</td>\n      <td>73</td>\n      <td>2015-11-13</td>\n      <td>day</td>\n      <td>...</td>\n      <td>0</td>\n      <td>-5.740</td>\n      <td>1</td>\n      <td>0.1290</td>\n      <td>0.02850</td>\n      <td>0.000000</td>\n      <td>0.1110</td>\n      <td>0.4510</td>\n      <td>97.085</td>\n      <td>4</td>\n    </tr>\n    <tr>\n      <th>4057</th>\n      <td>pop</td>\n      <td>Dusk Till Dawn (feat. Sia) - Radio Edit</td>\n      <td>https://i.scdn.co/image/ab67616d0000b2732bdcb3...</td>\n      <td>ZAYN</td>\n      <td>239000</td>\n      <td>False</td>\n      <td>3e7sxremeOE3wTySiOhGiP</td>\n      <td>76</td>\n      <td>2018-12-14</td>\n      <td>day</td>\n      <td>...</td>\n      <td>11</td>\n      <td>-6.589</td>\n      <td>0</td>\n      <td>0.0386</td>\n      <td>0.10200</td>\n      <td>0.000001</td>\n      <td>0.1060</td>\n      <td>0.0951</td>\n      <td>180.042</td>\n      <td>4</td>\n    </tr>\n    <tr>\n      <th>4058</th>\n      <td>pop</td>\n      <td>Reckless</td>\n      <td>https://i.scdn.co/image/ab67616d0000b273fe32f3...</td>\n      <td>Madison Beer</td>\n      <td>203384</td>\n      <td>False</td>\n      <td>5ajjAnNRh8bxFvaVHzpPjh</td>\n      <td>83</td>\n      <td>2021-06-04</td>\n      <td>day</td>\n      <td>...</td>\n      <td>3</td>\n      <td>-6.642</td>\n      <td>1</td>\n      <td>0.0363</td>\n      <td>0.80700</td>\n      <td>0.000000</td>\n      <td>0.1400</td>\n      <td>0.2610</td>\n      <td>180.104</td>\n      <td>3</td>\n    </tr>\n    <tr>\n      <th>...</th>\n      <td>...</td>\n      <td>...</td>\n      <td>...</td>\n      <td>...</td>\n      <td>...</td>\n      <td>...</td>\n      <td>...</td>\n      <td>...</td>\n      <td>...</td>\n      <td>...</td>\n      <td>...</td>\n      <td>...</td>\n      <td>...</td>\n      <td>...</td>\n      <td>...</td>\n      <td>...</td>\n      <td>...</td>\n      <td>...</td>\n      <td>...</td>\n      <td>...</td>\n      <td>...</td>\n    </tr>\n    <tr>\n      <th>5210</th>\n      <td>pop</td>\n      <td>Loved You Once</td>\n      <td>https://i.scdn.co/image/ab67616d0000b27316a9f3...</td>\n      <td>Clara Mae</td>\n      <td>148603</td>\n      <td>False</td>\n      <td>6cc7nzmG4iClAyl47BOf2Z</td>\n      <td>55</td>\n      <td>2020-08-28</td>\n      <td>day</td>\n      <td>...</td>\n      <td>4</td>\n      <td>-5.988</td>\n      <td>1</td>\n      <td>0.0420</td>\n      <td>0.65500</td>\n      <td>0.000000</td>\n      <td>0.1570</td>\n      <td>0.3080</td>\n      <td>77.732</td>\n      <td>3</td>\n    </tr>\n    <tr>\n      <th>5211</th>\n      <td>pop</td>\n      <td>Moment</td>\n      <td>https://i.scdn.co/image/ab67616d0000b27350aa87...</td>\n      <td>Victoria Monét</td>\n      <td>179413</td>\n      <td>True</td>\n      <td>6rSUrh8ErKSKfbH0t0IzCM</td>\n      <td>62</td>\n      <td>2020-08-07</td>\n      <td>day</td>\n      <td>...</td>\n      <td>1</td>\n      <td>-8.889</td>\n      <td>1</td>\n      <td>0.0547</td>\n      <td>0.63700</td>\n      <td>0.005240</td>\n      <td>0.1220</td>\n      <td>0.3610</td>\n      <td>130.111</td>\n      <td>4</td>\n    </tr>\n    <tr>\n      <th>5212</th>\n      <td>pop</td>\n      <td>Still the Same (feat. Boy In Space)</td>\n      <td>https://i.scdn.co/image/ab67616d0000b273f212e1...</td>\n      <td>SHY Martin</td>\n      <td>178139</td>\n      <td>False</td>\n      <td>0f8xPdFJ6SdlHJwkxpdw2Q</td>\n      <td>61</td>\n      <td>2020-02-28</td>\n      <td>day</td>\n      <td>...</td>\n      <td>4</td>\n      <td>-7.632</td>\n      <td>1</td>\n      <td>0.0463</td>\n      <td>0.36700</td>\n      <td>0.000000</td>\n      <td>0.1870</td>\n      <td>0.5630</td>\n      <td>98.022</td>\n      <td>4</td>\n    </tr>\n    <tr>\n      <th>5213</th>\n      <td>pop</td>\n      <td>Sway With Me (with GALXARA)</td>\n      <td>https://i.scdn.co/image/ab67616d0000b2730ec957...</td>\n      <td>Saweetie</td>\n      <td>168018</td>\n      <td>False</td>\n      <td>5gqLY5H1ZyT3BScVr0nDMs</td>\n      <td>63</td>\n      <td>2020-01-31</td>\n      <td>day</td>\n      <td>...</td>\n      <td>3</td>\n      <td>-4.243</td>\n      <td>0</td>\n      <td>0.0489</td>\n      <td>0.00468</td>\n      <td>0.000005</td>\n      <td>0.3280</td>\n      <td>0.8750</td>\n      <td>130.979</td>\n      <td>4</td>\n    </tr>\n    <tr>\n      <th>5214</th>\n      <td>pop</td>\n      <td>Confidently Lost</td>\n      <td>https://i.scdn.co/image/ab67616d0000b273ca1582...</td>\n      <td>Sabrina Claudio</td>\n      <td>209885</td>\n      <td>False</td>\n      <td>3cQmqM0awej9iAESjhKrI9</td>\n      <td>61</td>\n      <td>2017-03-02</td>\n      <td>day</td>\n      <td>...</td>\n      <td>5</td>\n      <td>-8.575</td>\n      <td>1</td>\n      <td>0.0838</td>\n      <td>0.27200</td>\n      <td>0.000009</td>\n      <td>0.1110</td>\n      <td>0.3250</td>\n      <td>113.866</td>\n      <td>4</td>\n    </tr>\n  </tbody>\n</table>\n<p>1161 rows × 23 columns</p>\n</div>"
     },
     "metadata": {},
     "output_type": "display_data"
    },
    {
     "name": "stdout",
     "text": "r&b\n",
     "output_type": "stream",
     "data": {}
    },
    {
     "data": {
      "application/vnd.deepnote.dataframe.v2+json": {
       "row_count": 731,
       "column_count": 23,
       "columns": [
        {
         "name": "Genre",
         "dtype": "object",
         "stats": {
          "unique_count": 1,
          "nan_count": 0,
          "categories": [
           {
            "name": "r&b",
            "count": 731
           }
          ]
         }
        },
        {
         "name": "Title",
         "dtype": "object",
         "stats": {
          "unique_count": 716,
          "nan_count": 0,
          "categories": [
           {
            "name": "You",
            "count": 4
           },
           {
            "name": "Love",
            "count": 2
           },
           {
            "name": "714 others",
            "count": 725
           }
          ]
         }
        },
        {
         "name": "Album_cover_link",
         "dtype": "object",
         "stats": {
          "unique_count": 612,
          "nan_count": 0,
          "categories": [
           {
            "name": "https://i.scdn.co/image/ab67616d0000b2737f4d76801f629dd0e9923c5c",
            "count": 3
           },
           {
            "name": "https://i.scdn.co/image/ab67616d0000b2730964495c05612ade9e056b84",
            "count": 3
           },
           {
            "name": "610 others",
            "count": 725
           }
          ]
         }
        },
        {
         "name": "Artist",
         "dtype": "object",
         "stats": {
          "unique_count": 365,
          "nan_count": 0,
          "categories": [
           {
            "name": "Fantasia",
            "count": 3
           },
           {
            "name": "Keyshia Cole",
            "count": 3
           },
           {
            "name": "363 others",
            "count": 725
           }
          ]
         }
        },
        {
         "name": "duration_ms",
         "dtype": "int64",
         "stats": {
          "unique_count": 715,
          "nan_count": 0,
          "min": "121364",
          "max": "489733",
          "histogram": [
           {
            "bin_start": 121364,
            "bin_end": 158200.9,
            "count": 16
           },
           {
            "bin_start": 158200.9,
            "bin_end": 195037.8,
            "count": 82
           },
           {
            "bin_start": 195037.8,
            "bin_end": 231874.7,
            "count": 185
           },
           {
            "bin_start": 231874.7,
            "bin_end": 268711.6,
            "count": 247
           },
           {
            "bin_start": 268711.6,
            "bin_end": 305548.5,
            "count": 135
           },
           {
            "bin_start": 305548.5,
            "bin_end": 342385.4,
            "count": 42
           },
           {
            "bin_start": 342385.4,
            "bin_end": 379222.30000000005,
            "count": 12
           },
           {
            "bin_start": 379222.30000000005,
            "bin_end": 416059.2,
            "count": 8
           },
           {
            "bin_start": 416059.2,
            "bin_end": 452896.10000000003,
            "count": 3
           },
           {
            "bin_start": 452896.10000000003,
            "bin_end": 489733,
            "count": 1
           }
          ]
         }
        },
        {
         "name": "explicit",
         "dtype": "bool",
         "stats": {
          "unique_count": 2,
          "nan_count": 0,
          "categories": [
           {
            "name": "False",
            "count": 539
           },
           {
            "name": "True",
            "count": 192
           }
          ]
         }
        },
        {
         "name": "id",
         "dtype": "object",
         "stats": {
          "unique_count": 731,
          "nan_count": 0,
          "categories": [
           {
            "name": "4iuNZTcvT9diFySSzVsnVS",
            "count": 1
           },
           {
            "name": "0W4NhJhcqKCqEP2GIpDCDq",
            "count": 1
           },
           {
            "name": "729 others",
            "count": 729
           }
          ]
         }
        },
        {
         "name": "popularity",
         "dtype": "int64",
         "stats": {
          "unique_count": 73,
          "nan_count": 0,
          "min": "0",
          "max": "86",
          "histogram": [
           {
            "bin_start": 0,
            "bin_end": 8.6,
            "count": 8
           },
           {
            "bin_start": 8.6,
            "bin_end": 17.2,
            "count": 6
           },
           {
            "bin_start": 17.2,
            "bin_end": 25.799999999999997,
            "count": 3
           },
           {
            "bin_start": 25.799999999999997,
            "bin_end": 34.4,
            "count": 24
           },
           {
            "bin_start": 34.4,
            "bin_end": 43,
            "count": 50
           },
           {
            "bin_start": 43,
            "bin_end": 51.599999999999994,
            "count": 141
           },
           {
            "bin_start": 51.599999999999994,
            "bin_end": 60.199999999999996,
            "count": 227
           },
           {
            "bin_start": 60.199999999999996,
            "bin_end": 68.8,
            "count": 157
           },
           {
            "bin_start": 68.8,
            "bin_end": 77.39999999999999,
            "count": 97
           },
           {
            "bin_start": 77.39999999999999,
            "bin_end": 86,
            "count": 18
           }
          ]
         }
        },
        {
         "name": "release_date",
         "dtype": "object",
         "stats": {
          "unique_count": 414,
          "nan_count": 0,
          "categories": [
           {
            "name": "2000-01-01",
            "count": 14
           },
           {
            "name": "2009-01-01",
            "count": 12
           },
           {
            "name": "412 others",
            "count": 705
           }
          ]
         }
        },
        {
         "name": "release_date_precision",
         "dtype": "object",
         "stats": {
          "unique_count": 2,
          "nan_count": 0,
          "categories": [
           {
            "name": "day",
            "count": 648
           },
           {
            "name": "year",
            "count": 83
           }
          ]
         }
        },
        {
         "name": "total_tracks",
         "dtype": "int64",
         "stats": {
          "unique_count": 32,
          "nan_count": 0,
          "min": "1",
          "max": "100",
          "histogram": [
           {
            "bin_start": 1,
            "bin_end": 10.9,
            "count": 178
           },
           {
            "bin_start": 10.9,
            "bin_end": 20.8,
            "count": 527
           },
           {
            "bin_start": 20.8,
            "bin_end": 30.700000000000003,
            "count": 17
           },
           {
            "bin_start": 30.700000000000003,
            "bin_end": 40.6,
            "count": 5
           },
           {
            "bin_start": 40.6,
            "bin_end": 50.5,
            "count": 0
           },
           {
            "bin_start": 50.5,
            "bin_end": 60.400000000000006,
            "count": 0
           },
           {
            "bin_start": 60.400000000000006,
            "bin_end": 70.3,
            "count": 0
           },
           {
            "bin_start": 70.3,
            "bin_end": 80.2,
            "count": 1
           },
           {
            "bin_start": 80.2,
            "bin_end": 90.10000000000001,
            "count": 0
           },
           {
            "bin_start": 90.10000000000001,
            "bin_end": 100,
            "count": 3
           }
          ]
         }
        },
        {
         "name": "danceability",
         "dtype": "float64",
         "stats": {
          "unique_count": 363,
          "nan_count": 0,
          "min": "0.231",
          "max": "0.963",
          "histogram": [
           {
            "bin_start": 0.231,
            "bin_end": 0.3042,
            "count": 4
           },
           {
            "bin_start": 0.3042,
            "bin_end": 0.3774,
            "count": 7
           },
           {
            "bin_start": 0.3774,
            "bin_end": 0.4506,
            "count": 33
           },
           {
            "bin_start": 0.4506,
            "bin_end": 0.5238,
            "count": 47
           },
           {
            "bin_start": 0.5238,
            "bin_end": 0.597,
            "count": 71
           },
           {
            "bin_start": 0.597,
            "bin_end": 0.6702,
            "count": 151
           },
           {
            "bin_start": 0.6702,
            "bin_end": 0.7434,
            "count": 200
           },
           {
            "bin_start": 0.7434,
            "bin_end": 0.8166,
            "count": 135
           },
           {
            "bin_start": 0.8166,
            "bin_end": 0.8898,
            "count": 61
           },
           {
            "bin_start": 0.8898,
            "bin_end": 0.963,
            "count": 22
           }
          ]
         }
        },
        {
         "name": "energy",
         "dtype": "float64",
         "stats": {
          "unique_count": 423,
          "nan_count": 0,
          "min": "0.139",
          "max": "0.966",
          "histogram": [
           {
            "bin_start": 0.139,
            "bin_end": 0.2217,
            "count": 5
           },
           {
            "bin_start": 0.2217,
            "bin_end": 0.3044,
            "count": 15
           },
           {
            "bin_start": 0.3044,
            "bin_end": 0.3871,
            "count": 55
           },
           {
            "bin_start": 0.3871,
            "bin_end": 0.4698,
            "count": 117
           },
           {
            "bin_start": 0.4698,
            "bin_end": 0.5525,
            "count": 162
           },
           {
            "bin_start": 0.5525,
            "bin_end": 0.6352,
            "count": 141
           },
           {
            "bin_start": 0.6352,
            "bin_end": 0.7179,
            "count": 105
           },
           {
            "bin_start": 0.7179,
            "bin_end": 0.8006,
            "count": 73
           },
           {
            "bin_start": 0.8006,
            "bin_end": 0.8833,
            "count": 46
           },
           {
            "bin_start": 0.8833,
            "bin_end": 0.966,
            "count": 12
           }
          ]
         }
        },
        {
         "name": "key",
         "dtype": "int64",
         "stats": {
          "unique_count": 12,
          "nan_count": 0,
          "min": "0",
          "max": "11",
          "histogram": [
           {
            "bin_start": 0,
            "bin_end": 1.1,
            "count": 153
           },
           {
            "bin_start": 1.1,
            "bin_end": 2.2,
            "count": 48
           },
           {
            "bin_start": 2.2,
            "bin_end": 3.3000000000000003,
            "count": 20
           },
           {
            "bin_start": 3.3000000000000003,
            "bin_end": 4.4,
            "count": 42
           },
           {
            "bin_start": 4.4,
            "bin_end": 5.5,
            "count": 69
           },
           {
            "bin_start": 5.5,
            "bin_end": 6.6000000000000005,
            "count": 64
           },
           {
            "bin_start": 6.6000000000000005,
            "bin_end": 7.700000000000001,
            "count": 66
           },
           {
            "bin_start": 7.700000000000001,
            "bin_end": 8.8,
            "count": 92
           },
           {
            "bin_start": 8.8,
            "bin_end": 9.9,
            "count": 54
           },
           {
            "bin_start": 9.9,
            "bin_end": 11,
            "count": 123
           }
          ]
         }
        },
        {
         "name": "loudness",
         "dtype": "float64",
         "stats": {
          "unique_count": 699,
          "nan_count": 0,
          "min": "-16.669",
          "max": "-1.916",
          "histogram": [
           {
            "bin_start": -16.669,
            "bin_end": -15.1937,
            "count": 3
           },
           {
            "bin_start": -15.1937,
            "bin_end": -13.7184,
            "count": 10
           },
           {
            "bin_start": -13.7184,
            "bin_end": -12.2431,
            "count": 18
           },
           {
            "bin_start": -12.2431,
            "bin_end": -10.767800000000001,
            "count": 36
           },
           {
            "bin_start": -10.767800000000001,
            "bin_end": -9.2925,
            "count": 101
           },
           {
            "bin_start": -9.2925,
            "bin_end": -7.8172,
            "count": 135
           },
           {
            "bin_start": -7.8172,
            "bin_end": -6.341900000000001,
            "count": 169
           },
           {
            "bin_start": -6.341900000000001,
            "bin_end": -4.8666,
            "count": 168
           },
           {
            "bin_start": -4.8666,
            "bin_end": -3.3912999999999993,
            "count": 77
           },
           {
            "bin_start": -3.3912999999999993,
            "bin_end": -1.916,
            "count": 14
           }
          ]
         }
        },
        {
         "name": "mode",
         "dtype": "int64",
         "stats": {
          "unique_count": 2,
          "nan_count": 0,
          "min": "0",
          "max": "1",
          "histogram": [
           {
            "bin_start": 0,
            "bin_end": 0.1,
            "count": 383
           },
           {
            "bin_start": 0.1,
            "bin_end": 0.2,
            "count": 0
           },
           {
            "bin_start": 0.2,
            "bin_end": 0.30000000000000004,
            "count": 0
           },
           {
            "bin_start": 0.30000000000000004,
            "bin_end": 0.4,
            "count": 0
           },
           {
            "bin_start": 0.4,
            "bin_end": 0.5,
            "count": 0
           },
           {
            "bin_start": 0.5,
            "bin_end": 0.6000000000000001,
            "count": 0
           },
           {
            "bin_start": 0.6000000000000001,
            "bin_end": 0.7000000000000001,
            "count": 0
           },
           {
            "bin_start": 0.7000000000000001,
            "bin_end": 0.8,
            "count": 0
           },
           {
            "bin_start": 0.8,
            "bin_end": 0.9,
            "count": 0
           },
           {
            "bin_start": 0.9,
            "bin_end": 1,
            "count": 348
           }
          ]
         }
        },
        {
         "name": "speechiness",
         "dtype": "float64",
         "stats": {
          "unique_count": 485,
          "nan_count": 0,
          "min": "0.0231",
          "max": "0.386",
          "histogram": [
           {
            "bin_start": 0.0231,
            "bin_end": 0.05939,
            "count": 335
           },
           {
            "bin_start": 0.05939,
            "bin_end": 0.09568,
            "count": 139
           },
           {
            "bin_start": 0.09568,
            "bin_end": 0.13197,
            "count": 79
           },
           {
            "bin_start": 0.13197,
            "bin_end": 0.16826000000000002,
            "count": 45
           },
           {
            "bin_start": 0.16826000000000002,
            "bin_end": 0.20455,
            "count": 41
           },
           {
            "bin_start": 0.20455,
            "bin_end": 0.24084000000000003,
            "count": 26
           },
           {
            "bin_start": 0.24084000000000003,
            "bin_end": 0.27713000000000004,
            "count": 24
           },
           {
            "bin_start": 0.27713000000000004,
            "bin_end": 0.31342000000000003,
            "count": 19
           },
           {
            "bin_start": 0.31342000000000003,
            "bin_end": 0.34971,
            "count": 12
           },
           {
            "bin_start": 0.34971,
            "bin_end": 0.386,
            "count": 11
           }
          ]
         }
        },
        {
         "name": "acousticness",
         "dtype": "float64",
         "stats": {
          "unique_count": 569,
          "nan_count": 0,
          "min": "0.000204",
          "max": "0.922",
          "histogram": [
           {
            "bin_start": 0.000204,
            "bin_end": 0.0923836,
            "count": 273
           },
           {
            "bin_start": 0.0923836,
            "bin_end": 0.1845632,
            "count": 127
           },
           {
            "bin_start": 0.1845632,
            "bin_end": 0.27674279999999996,
            "count": 98
           },
           {
            "bin_start": 0.27674279999999996,
            "bin_end": 0.3689224,
            "count": 68
           },
           {
            "bin_start": 0.3689224,
            "bin_end": 0.461102,
            "count": 47
           },
           {
            "bin_start": 0.461102,
            "bin_end": 0.5532815999999999,
            "count": 35
           },
           {
            "bin_start": 0.5532815999999999,
            "bin_end": 0.6454612,
            "count": 27
           },
           {
            "bin_start": 0.6454612,
            "bin_end": 0.7376408,
            "count": 26
           },
           {
            "bin_start": 0.7376408,
            "bin_end": 0.8298204,
            "count": 21
           },
           {
            "bin_start": 0.8298204,
            "bin_end": 0.922,
            "count": 9
           }
          ]
         }
        },
        {
         "name": "instrumentalness",
         "dtype": "float64",
         "stats": {
          "unique_count": 316,
          "nan_count": 0,
          "min": "0.0",
          "max": "0.557",
          "histogram": [
           {
            "bin_start": 0,
            "bin_end": 0.055700000000000006,
            "count": 721
           },
           {
            "bin_start": 0.055700000000000006,
            "bin_end": 0.11140000000000001,
            "count": 4
           },
           {
            "bin_start": 0.11140000000000001,
            "bin_end": 0.16710000000000003,
            "count": 3
           },
           {
            "bin_start": 0.16710000000000003,
            "bin_end": 0.22280000000000003,
            "count": 1
           },
           {
            "bin_start": 0.22280000000000003,
            "bin_end": 0.2785,
            "count": 0
           },
           {
            "bin_start": 0.2785,
            "bin_end": 0.33420000000000005,
            "count": 0
           },
           {
            "bin_start": 0.33420000000000005,
            "bin_end": 0.3899,
            "count": 0
           },
           {
            "bin_start": 0.3899,
            "bin_end": 0.44560000000000005,
            "count": 0
           },
           {
            "bin_start": 0.44560000000000005,
            "bin_end": 0.5013000000000001,
            "count": 1
           },
           {
            "bin_start": 0.5013000000000001,
            "bin_end": 0.557,
            "count": 1
           }
          ]
         }
        },
        {
         "name": "liveness",
         "dtype": "float64",
         "stats": {
          "unique_count": 444,
          "nan_count": 0,
          "min": "0.0224",
          "max": "0.891",
          "histogram": [
           {
            "bin_start": 0.0224,
            "bin_end": 0.10926000000000001,
            "count": 346
           },
           {
            "bin_start": 0.10926000000000001,
            "bin_end": 0.19612000000000002,
            "count": 222
           },
           {
            "bin_start": 0.19612000000000002,
            "bin_end": 0.28298,
            "count": 56
           },
           {
            "bin_start": 0.28298,
            "bin_end": 0.36984,
            "count": 62
           },
           {
            "bin_start": 0.36984,
            "bin_end": 0.4567,
            "count": 17
           },
           {
            "bin_start": 0.4567,
            "bin_end": 0.54356,
            "count": 9
           },
           {
            "bin_start": 0.54356,
            "bin_end": 0.63042,
            "count": 5
           },
           {
            "bin_start": 0.63042,
            "bin_end": 0.71728,
            "count": 9
           },
           {
            "bin_start": 0.71728,
            "bin_end": 0.8041400000000001,
            "count": 3
           },
           {
            "bin_start": 0.8041400000000001,
            "bin_end": 0.891,
            "count": 2
           }
          ]
         }
        },
        {
         "name": "valence",
         "dtype": "float64",
         "stats": {
          "unique_count": 480,
          "nan_count": 0,
          "min": "0.0397",
          "max": "0.972",
          "histogram": [
           {
            "bin_start": 0.0397,
            "bin_end": 0.13293,
            "count": 17
           },
           {
            "bin_start": 0.13293,
            "bin_end": 0.22616000000000003,
            "count": 63
           },
           {
            "bin_start": 0.22616000000000003,
            "bin_end": 0.31939,
            "count": 64
           },
           {
            "bin_start": 0.31939,
            "bin_end": 0.41262000000000004,
            "count": 115
           },
           {
            "bin_start": 0.41262000000000004,
            "bin_end": 0.50585,
            "count": 83
           },
           {
            "bin_start": 0.50585,
            "bin_end": 0.59908,
            "count": 101
           },
           {
            "bin_start": 0.59908,
            "bin_end": 0.69231,
            "count": 87
           },
           {
            "bin_start": 0.69231,
            "bin_end": 0.78554,
            "count": 113
           },
           {
            "bin_start": 0.78554,
            "bin_end": 0.87877,
            "count": 58
           },
           {
            "bin_start": 0.87877,
            "bin_end": 0.972,
            "count": 30
           }
          ]
         }
        },
        {
         "name": "tempo",
         "dtype": "float64",
         "stats": {
          "unique_count": 726,
          "nan_count": 0,
          "min": "59.561",
          "max": "203.862",
          "histogram": [
           {
            "bin_start": 59.561,
            "bin_end": 73.9911,
            "count": 25
           },
           {
            "bin_start": 73.9911,
            "bin_end": 88.4212,
            "count": 95
           },
           {
            "bin_start": 88.4212,
            "bin_end": 102.85130000000001,
            "count": 181
           },
           {
            "bin_start": 102.85130000000001,
            "bin_end": 117.28139999999999,
            "count": 115
           },
           {
            "bin_start": 117.28139999999999,
            "bin_end": 131.7115,
            "count": 135
           },
           {
            "bin_start": 131.7115,
            "bin_end": 146.1416,
            "count": 91
           },
           {
            "bin_start": 146.1416,
            "bin_end": 160.5717,
            "count": 31
           },
           {
            "bin_start": 160.5717,
            "bin_end": 175.0018,
            "count": 24
           },
           {
            "bin_start": 175.0018,
            "bin_end": 189.4319,
            "count": 24
           },
           {
            "bin_start": 189.4319,
            "bin_end": 203.862,
            "count": 10
           }
          ]
         }
        },
        {
         "name": "time_signature",
         "dtype": "int64",
         "stats": {
          "unique_count": 4,
          "nan_count": 0,
          "min": "1",
          "max": "5",
          "histogram": [
           {
            "bin_start": 1,
            "bin_end": 1.4,
            "count": 3
           },
           {
            "bin_start": 1.4,
            "bin_end": 1.8,
            "count": 0
           },
           {
            "bin_start": 1.8,
            "bin_end": 2.2,
            "count": 0
           },
           {
            "bin_start": 2.2,
            "bin_end": 2.6,
            "count": 0
           },
           {
            "bin_start": 2.6,
            "bin_end": 3,
            "count": 0
           },
           {
            "bin_start": 3,
            "bin_end": 3.4000000000000004,
            "count": 29
           },
           {
            "bin_start": 3.4000000000000004,
            "bin_end": 3.8000000000000003,
            "count": 0
           },
           {
            "bin_start": 3.8000000000000003,
            "bin_end": 4.2,
            "count": 684
           },
           {
            "bin_start": 4.2,
            "bin_end": 4.6,
            "count": 0
           },
           {
            "bin_start": 4.6,
            "bin_end": 5,
            "count": 15
           }
          ]
         }
        },
        {
         "name": "_deepnote_index_column",
         "dtype": "int64"
        }
       ],
       "rows_top": [
        {
         "Genre": "r&b",
         "Title": "When I See U",
         "Album_cover_link": "https://i.scdn.co/image/ab67616d0000b273484cce125a34453bb05461eb",
         "Artist": "Fantasia",
         "duration_ms": 217346,
         "explicit": false,
         "id": "4iuNZTcvT9diFySSzVsnVS",
         "popularity": 70,
         "release_date": "2006-12-09",
         "release_date_precision": "day",
         "total_tracks": 14,
         "danceability": 0.569,
         "energy": 0.596,
         "key": 8,
         "loudness": -6.486,
         "mode": 1,
         "speechiness": 0.172,
         "acousticness": 0.452,
         "instrumentalness": 0.0000792,
         "liveness": 0.205,
         "valence": 0.754,
         "tempo": 93.135,
         "time_signature": 4,
         "_deepnote_index_column": 6186
        },
        {
         "Genre": "r&b",
         "Title": "Love",
         "Album_cover_link": "https://i.scdn.co/image/ab67616d0000b2732cc2323c681b3f84cdc8379a",
         "Artist": "Keyshia Cole",
         "duration_ms": 255333,
         "explicit": false,
         "id": "0W4NhJhcqKCqEP2GIpDCDq",
         "popularity": 74,
         "release_date": "2005-01-01",
         "release_date_precision": "day",
         "total_tracks": 12,
         "danceability": 0.688,
         "energy": 0.519,
         "key": 5,
         "loudness": -4.285,
         "mode": 1,
         "speechiness": 0.0283,
         "acousticness": 0.064,
         "instrumentalness": 0,
         "liveness": 0.1,
         "valence": 0.318,
         "tempo": 116.714,
         "time_signature": 4,
         "_deepnote_index_column": 6187
        },
        {
         "Genre": "r&b",
         "Title": "Angel of Mine",
         "Album_cover_link": "https://i.scdn.co/image/ab67616d0000b273fb8bcea0096e616a864189fa",
         "Artist": "Monica",
         "duration_ms": 250173,
         "explicit": false,
         "id": "1AM1o0mKbgAK5oMpY8B3Z7",
         "popularity": 66,
         "release_date": "1998-07-13",
         "release_date_precision": "day",
         "total_tracks": 13,
         "danceability": 0.592,
         "energy": 0.562,
         "key": 10,
         "loudness": -6.869,
         "mode": 0,
         "speechiness": 0.0239,
         "acousticness": 0.00373,
         "instrumentalness": 0.0000323,
         "liveness": 0.223,
         "valence": 0.208,
         "tempo": 90.16,
         "time_signature": 4,
         "_deepnote_index_column": 6188
        },
        {
         "Genre": "r&b",
         "Title": "Officially Missing You",
         "Album_cover_link": "https://i.scdn.co/image/ab67616d0000b27373891035db78b08e4a5deffd",
         "Artist": "Tamia",
         "duration_ms": 242466,
         "explicit": false,
         "id": "4IFYR5smTnHYCLP82AiDrJ",
         "popularity": 55,
         "release_date": "2004",
         "release_date_precision": "year",
         "total_tracks": 14,
         "danceability": 0.476,
         "energy": 0.407,
         "key": 4,
         "loudness": -9.239,
         "mode": 0,
         "speechiness": 0.0368,
         "acousticness": 0.247,
         "instrumentalness": 0,
         "liveness": 0.144,
         "valence": 0.226,
         "tempo": 178.258,
         "time_signature": 4,
         "_deepnote_index_column": 6189
        },
        {
         "Genre": "r&b",
         "Title": "Pick Up Your Feelings",
         "Album_cover_link": "https://i.scdn.co/image/ab67616d0000b273293ac9b3c56eac680cd63208",
         "Artist": "Jazmine Sullivan",
         "duration_ms": 229413,
         "explicit": false,
         "id": "2I7CJZLo2nDqGuzZJA1XlZ",
         "popularity": 61,
         "release_date": "2021-01-07",
         "release_date_precision": "day",
         "total_tracks": 14,
         "danceability": 0.758,
         "energy": 0.413,
         "key": 2,
         "loudness": -6.239,
         "mode": 0,
         "speechiness": 0.0464,
         "acousticness": 0.321,
         "instrumentalness": 0,
         "liveness": 0.117,
         "valence": 0.599,
         "tempo": 85.46,
         "time_signature": 3,
         "_deepnote_index_column": 6190
        },
        {
         "Genre": "r&b",
         "Title": "Love Like This",
         "Album_cover_link": "https://i.scdn.co/image/ab67616d0000b2737dcc4d585c525dc7c6176ecb",
         "Artist": "Faith Evans",
         "duration_ms": 275706,
         "explicit": false,
         "id": "7MQywXGHEev7JmwwIzMcao",
         "popularity": 67,
         "release_date": "1998",
         "release_date_precision": "year",
         "total_tracks": 15,
         "danceability": 0.767,
         "energy": 0.551,
         "key": 0,
         "loudness": -7.328,
         "mode": 1,
         "speechiness": 0.0616,
         "acousticness": 0.00364,
         "instrumentalness": 0,
         "liveness": 0.0451,
         "valence": 0.796,
         "tempo": 100.904,
         "time_signature": 4,
         "_deepnote_index_column": 6191
        },
        {
         "Genre": "r&b",
         "Title": "The Boy Is Mine",
         "Album_cover_link": "https://i.scdn.co/image/ab67616d0000b27389c9590c941cec56429f2456",
         "Artist": "Brandy",
         "duration_ms": 294786,
         "explicit": false,
         "id": "6sHsXIJoEN5JpdkGMQDJxt",
         "popularity": 67,
         "release_date": "1998-05-29",
         "release_date_precision": "day",
         "total_tracks": 16,
         "danceability": 0.704,
         "energy": 0.707,
         "key": 1,
         "loudness": -6.537,
         "mode": 0,
         "speechiness": 0.0391,
         "acousticness": 0.539,
         "instrumentalness": 0.00106,
         "liveness": 0.318,
         "valence": 0.761,
         "tempo": 93.145,
         "time_signature": 4,
         "_deepnote_index_column": 6192
        },
        {
         "Genre": "r&b",
         "Title": "Lady Marmalade - Moulin Rouge/Soundtrack Version",
         "Album_cover_link": "https://i.scdn.co/image/ab67616d0000b273f4edb1118ffdcb6a2484f9e1",
         "Artist": "MÃ½a",
         "duration_ms": 265826,
         "explicit": false,
         "id": "4c1KhkZPTPQH8lI79faqXX",
         "popularity": 51,
         "release_date": "2001-01-01",
         "release_date_precision": "day",
         "total_tracks": 4,
         "danceability": 0.758,
         "energy": 0.814,
         "key": 5,
         "loudness": -3.668,
         "mode": 1,
         "speechiness": 0.0563,
         "acousticness": 0.0166,
         "instrumentalness": 0.0000103,
         "liveness": 0.636,
         "valence": 0.626,
         "tempo": 109.902,
         "time_signature": 4,
         "_deepnote_index_column": 6193
        },
        {
         "Genre": "r&b",
         "Title": "U Know What's Up (feat. Lisa \"Left Eye\" Lopes)",
         "Album_cover_link": "https://i.scdn.co/image/ab67616d0000b2733b970f005df5b59e8ec25d5e",
         "Artist": "Donell Jones",
         "duration_ms": 243733,
         "explicit": true,
         "id": "5PMKzsUsTpZZGsCcJBuhP2",
         "popularity": 65,
         "release_date": "1999-05-29",
         "release_date_precision": "day",
         "total_tracks": 13,
         "danceability": 0.854,
         "energy": 0.543,
         "key": 8,
         "loudness": -6.166,
         "mode": 0,
         "speechiness": 0.0844,
         "acousticness": 0.0402,
         "instrumentalness": 0.0000573,
         "liveness": 0.0419,
         "valence": 0.868,
         "tempo": 103.032,
         "time_signature": 4,
         "_deepnote_index_column": 6194
        },
        {
         "Genre": "r&b",
         "Title": "Pony",
         "Album_cover_link": "https://i.scdn.co/image/ab67616d0000b2735b8f8e73d5b5e43c9603c179",
         "Artist": "Ginuwine",
         "duration_ms": 251933,
         "explicit": false,
         "id": "3JMgXc6VCoGbFDZG0KxHHC",
         "popularity": 37,
         "release_date": "2020-03-06",
         "release_date_precision": "day",
         "total_tracks": 100,
         "danceability": 0.728,
         "energy": 0.537,
         "key": 8,
         "loudness": -10.66,
         "mode": 0,
         "speechiness": 0.103,
         "acousticness": 0.000767,
         "instrumentalness": 0.00529,
         "liveness": 0.296,
         "valence": 0.966,
         "tempo": 142.029,
         "time_signature": 4,
         "_deepnote_index_column": 6195
        },
        {
         "Genre": "r&b",
         "Title": "Weak",
         "Album_cover_link": "https://i.scdn.co/image/ab67616d0000b273f56546aac4f5d002c4c3d705",
         "Artist": "SWV",
         "duration_ms": 291906,
         "explicit": false,
         "id": "71EHOyEOhNx1SzTebRRyng",
         "popularity": 67,
         "release_date": "1992-10-27",
         "release_date_precision": "day",
         "total_tracks": 15,
         "danceability": 0.693,
         "energy": 0.533,
         "key": 2,
         "loudness": -10.954,
         "mode": 0,
         "speechiness": 0.0402,
         "acousticness": 0.107,
         "instrumentalness": 0,
         "liveness": 0.0695,
         "valence": 0.568,
         "tempo": 127.661,
         "time_signature": 4,
         "_deepnote_index_column": 6196
        },
        {
         "Genre": "r&b",
         "Title": "They Don't Know",
         "Album_cover_link": "https://i.scdn.co/image/ab67616d0000b2732031c5101b6b462748ef91f0",
         "Artist": "Jon B.",
         "duration_ms": 274666,
         "explicit": false,
         "id": "0b5w1gamS9f239Sms9guAB",
         "popularity": 60,
         "release_date": "1997-04-21",
         "release_date_precision": "day",
         "total_tracks": 15,
         "danceability": 0.699,
         "energy": 0.388,
         "key": 6,
         "loudness": -10.722,
         "mode": 1,
         "speechiness": 0.0531,
         "acousticness": 0.588,
         "instrumentalness": 0.00000198,
         "liveness": 0.0658,
         "valence": 0.566,
         "tempo": 125.858,
         "time_signature": 4,
         "_deepnote_index_column": 6197
        },
        {
         "Genre": "r&b",
         "Title": "How You Gonna Act Like That",
         "Album_cover_link": "https://i.scdn.co/image/ab67616d0000b2737138a6d4985a7502385e57cc",
         "Artist": "Tyrese",
         "duration_ms": 294693,
         "explicit": false,
         "id": "3OUApyz3jDB3syGUNGqB1d",
         "popularity": 61,
         "release_date": "2002-12-01",
         "release_date_precision": "day",
         "total_tracks": 14,
         "danceability": 0.733,
         "energy": 0.521,
         "key": 3,
         "loudness": -3.657,
         "mode": 0,
         "speechiness": 0.0457,
         "acousticness": 0.107,
         "instrumentalness": 0,
         "liveness": 0.0692,
         "valence": 0.525,
         "tempo": 112.913,
         "time_signature": 4,
         "_deepnote_index_column": 6198
        },
        {
         "Genre": "r&b",
         "Title": "Just Kickin' It",
         "Album_cover_link": "https://i.scdn.co/image/ab67616d0000b273f507492d036ddfa6ae09350b",
         "Artist": "Xscape",
         "duration_ms": 204173,
         "explicit": true,
         "id": "2CG9mGkKC6IQE5lEjDioEi",
         "popularity": 52,
         "release_date": "1993-10-12",
         "release_date_precision": "day",
         "total_tracks": 11,
         "danceability": 0.692,
         "energy": 0.353,
         "key": 1,
         "loudness": -12.872,
         "mode": 0,
         "speechiness": 0.0613,
         "acousticness": 0.0571,
         "instrumentalness": 0.0000226,
         "liveness": 0.579,
         "valence": 0.73,
         "tempo": 80.902,
         "time_signature": 4,
         "_deepnote_index_column": 6199
        },
        {
         "Genre": "r&b",
         "Title": "How Deep Is Your Love",
         "Album_cover_link": "https://i.scdn.co/image/ab67616d0000b273677c540448268b663711ca81",
         "Artist": "Dru Hill",
         "duration_ms": 243360,
         "explicit": true,
         "id": "60NvAO9lx0KmBNAVHIlWN6",
         "popularity": 61,
         "release_date": "1998-01-01",
         "release_date_precision": "day",
         "total_tracks": 17,
         "danceability": 0.729,
         "energy": 0.434,
         "key": 3,
         "loudness": -9.111,
         "mode": 0,
         "speechiness": 0.079,
         "acousticness": 0.0473,
         "instrumentalness": 0.0000123,
         "liveness": 0.314,
         "valence": 0.743,
         "tempo": 94.411,
         "time_signature": 4,
         "_deepnote_index_column": 6200
        },
        {
         "Genre": "r&b",
         "Title": "Faded Pictures",
         "Album_cover_link": "https://i.scdn.co/image/ab67616d0000b273bfdf49d9acafd5f5493f6616",
         "Artist": "Case",
         "duration_ms": 229773,
         "explicit": false,
         "id": "1CAw3ethNuSDPf3E7luSFF",
         "popularity": 60,
         "release_date": "1999-01-01",
         "release_date_precision": "day",
         "total_tracks": 14,
         "danceability": 0.705,
         "energy": 0.511,
         "key": 6,
         "loudness": -7.422,
         "mode": 0,
         "speechiness": 0.202,
         "acousticness": 0.125,
         "instrumentalness": 0.00000172,
         "liveness": 0.153,
         "valence": 0.581,
         "tempo": 82.011,
         "time_signature": 4,
         "_deepnote_index_column": 6201
        },
        {
         "Genre": "r&b",
         "Title": "Love and War",
         "Album_cover_link": "https://i.scdn.co/image/ab67616d0000b273a05c4211fd18f4a7362b9551",
         "Artist": "Tamar Braxton",
         "duration_ms": 241920,
         "explicit": false,
         "id": "3fLBmhcgWkPI47LfVQ8paB",
         "popularity": 55,
         "release_date": "2013-09-03",
         "release_date_precision": "day",
         "total_tracks": 14,
         "danceability": 0.27,
         "energy": 0.58,
         "key": 8,
         "loudness": -5.717,
         "mode": 0,
         "speechiness": 0.039,
         "acousticness": 0.469,
         "instrumentalness": 0,
         "liveness": 0.343,
         "valence": 0.242,
         "tempo": 179.919,
         "time_signature": 3,
         "_deepnote_index_column": 6202
        },
        {
         "Genre": "r&b",
         "Title": "Where the Party At (feat. Nelly)",
         "Album_cover_link": "https://i.scdn.co/image/ab67616d0000b2735fac2aabbb52ff9fc4c1faa1",
         "Artist": "Jagged Edge",
         "duration_ms": 232573,
         "explicit": false,
         "id": "5mNV8Mz59bzyuQ53gTw0c0",
         "popularity": 68,
         "release_date": "2001-07-03",
         "release_date_precision": "day",
         "total_tracks": 14,
         "danceability": 0.596,
         "energy": 0.661,
         "key": 5,
         "loudness": -6.239,
         "mode": 0,
         "speechiness": 0.226,
         "acousticness": 0.31,
         "instrumentalness": 0,
         "liveness": 0.0847,
         "valence": 0.86,
         "tempo": 129.491,
         "time_signature": 5,
         "_deepnote_index_column": 6203
        },
        {
         "Genre": "r&b",
         "Title": "Put That Woman First",
         "Album_cover_link": "https://i.scdn.co/image/ab67616d0000b273ba9bf148fa6968489ae05640",
         "Artist": "Jaheim",
         "duration_ms": 245773,
         "explicit": true,
         "id": "3OQu3z3okKVmWxSXTTHak5",
         "popularity": 56,
         "release_date": "2002-11-05",
         "release_date_precision": "day",
         "total_tracks": 15,
         "danceability": 0.649,
         "energy": 0.536,
         "key": 5,
         "loudness": -8.804,
         "mode": 0,
         "speechiness": 0.132,
         "acousticness": 0.492,
         "instrumentalness": 0,
         "liveness": 0.184,
         "valence": 0.513,
         "tempo": 78.935,
         "time_signature": 4,
         "_deepnote_index_column": 6204
        },
        {
         "Genre": "r&b",
         "Title": "1 Thing",
         "Album_cover_link": "https://i.scdn.co/image/ab67616d0000b27315dd2fc9aa1109bbe1456916",
         "Artist": "Amerie",
         "duration_ms": 238760,
         "explicit": false,
         "id": "1mnqraQ8oV8MX92rdOFLWW",
         "popularity": 63,
         "release_date": "2005",
         "release_date_precision": "year",
         "total_tracks": 13,
         "danceability": 0.612,
         "energy": 0.961,
         "key": 10,
         "loudness": -3.078,
         "mode": 0,
         "speechiness": 0.333,
         "acousticness": 0.107,
         "instrumentalness": 0.0000417,
         "liveness": 0.0413,
         "valence": 0.867,
         "tempo": 129.873,
         "time_signature": 5,
         "_deepnote_index_column": 6205
        }
       ],
       "rows_bottom": [
        {
         "Genre": "r&b",
         "Title": "Mad At Me.",
         "Album_cover_link": "https://i.scdn.co/image/ab67616d0000b27387edea951eda6b132e3b677f",
         "Artist": "Kiana LedÃ©",
         "duration_ms": 135373,
         "explicit": true,
         "id": "0xJWNEUYTU5tle6ezjf0gE",
         "popularity": 61,
         "release_date": "2020-04-03",
         "release_date_precision": "day",
         "total_tracks": 17,
         "danceability": 0.735,
         "energy": 0.585,
         "key": 0,
         "loudness": -5.111,
         "mode": 0,
         "speechiness": 0.211,
         "acousticness": 0.0775,
         "instrumentalness": 0.00000713,
         "liveness": 0.0996,
         "valence": 0.447,
         "tempo": 82.429,
         "time_signature": 4,
         "_deepnote_index_column": 6896
        },
        {
         "Genre": "r&b",
         "Title": "Free Your Mind",
         "Album_cover_link": "https://i.scdn.co/image/ab67616d0000b27350638bf4b6a49dce27bc4ff5",
         "Artist": "En Vogue",
         "duration_ms": 293105,
         "explicit": false,
         "id": "2vG1yrWSMiL6egg6w4e9ma",
         "popularity": 58,
         "release_date": "1992-03-24",
         "release_date_precision": "day",
         "total_tracks": 13,
         "danceability": 0.765,
         "energy": 0.831,
         "key": 7,
         "loudness": -6.522,
         "mode": 1,
         "speechiness": 0.0565,
         "acousticness": 0.0894,
         "instrumentalness": 0,
         "liveness": 0.393,
         "valence": 0.809,
         "tempo": 100.026,
         "time_signature": 4,
         "_deepnote_index_column": 6897
        },
        {
         "Genre": "r&b",
         "Title": "On Bended Knee",
         "Album_cover_link": "https://i.scdn.co/image/ab67616d0000b2736b3b28022871bae1a5d0f057",
         "Artist": "Boyz II Men",
         "duration_ms": 329800,
         "explicit": false,
         "id": "7MYmo0JJJDmu4MZTSAF9y3",
         "popularity": 58,
         "release_date": "1994-01-01",
         "release_date_precision": "day",
         "total_tracks": 13,
         "danceability": 0.631,
         "energy": 0.516,
         "key": 8,
         "loudness": -8.225,
         "mode": 1,
         "speechiness": 0.0353,
         "acousticness": 0.413,
         "instrumentalness": 0,
         "liveness": 0.115,
         "valence": 0.18,
         "tempo": 116.654,
         "time_signature": 4,
         "_deepnote_index_column": 6898
        },
        {
         "Genre": "r&b",
         "Title": "Don't Be Afraid",
         "Album_cover_link": "https://i.scdn.co/image/ab67616d0000b2731991b035b77763869c03ceb7",
         "Artist": "Aaron Hall",
         "duration_ms": 323866,
         "explicit": false,
         "id": "348jKLMN7BOooOajwrDLhO",
         "popularity": 31,
         "release_date": "1993-01-01",
         "release_date_precision": "day",
         "total_tracks": 15,
         "danceability": 0.784,
         "energy": 0.561,
         "key": 1,
         "loudness": -6.876,
         "mode": 1,
         "speechiness": 0.112,
         "acousticness": 0.0295,
         "instrumentalness": 0.000776,
         "liveness": 0.0844,
         "valence": 0.606,
         "tempo": 197.141,
         "time_signature": 4,
         "_deepnote_index_column": 6899
        },
        {
         "Genre": "r&b",
         "Title": "She Don't (feat. Ty Dolla $Ign)",
         "Album_cover_link": "https://i.scdn.co/image/ab67616d0000b27340aba43042f328ad560b4be4",
         "Artist": "Ella Mai",
         "duration_ms": 264097,
         "explicit": true,
         "id": "01JPQ87UHeGysPVwTqMJHK",
         "popularity": 69,
         "release_date": "2016-02-15",
         "release_date_precision": "day",
         "total_tracks": 6,
         "danceability": 0.649,
         "energy": 0.478,
         "key": 7,
         "loudness": -7.503,
         "mode": 0,
         "speechiness": 0.0481,
         "acousticness": 0.274,
         "instrumentalness": 0,
         "liveness": 0.176,
         "valence": 0.151,
         "tempo": 99.967,
         "time_signature": 4,
         "_deepnote_index_column": 6900
        },
        {
         "Genre": "r&b",
         "Title": "Crush on You (feat. Lil' Cease) - Remix",
         "Album_cover_link": "https://i.scdn.co/image/ab67616d0000b27391f6cb891257c05f4460ba7f",
         "Artist": "Lil' Kim",
         "duration_ms": 275946,
         "explicit": false,
         "id": "2LP2uDQQ7eLMcUVE4aOpAV",
         "popularity": 59,
         "release_date": "1997-06-30",
         "release_date_precision": "day",
         "total_tracks": 8,
         "danceability": 0.748,
         "energy": 0.693,
         "key": 11,
         "loudness": -7.832,
         "mode": 0,
         "speechiness": 0.278,
         "acousticness": 0.282,
         "instrumentalness": 0,
         "liveness": 0.123,
         "valence": 0.768,
         "tempo": 88.802,
         "time_signature": 4,
         "_deepnote_index_column": 6901
        },
        {
         "Genre": "r&b",
         "Title": "Shining Star",
         "Album_cover_link": "https://i.scdn.co/image/ab67616d0000b273ceeefaefa180fef9c0680a40",
         "Artist": "Lil' Mo",
         "duration_ms": 195555,
         "explicit": true,
         "id": "3jiNwnZ0xJ9z8yzBvRkaRW",
         "popularity": 32,
         "release_date": "2021-07-08",
         "release_date_precision": "day",
         "total_tracks": 1,
         "danceability": 0.661,
         "energy": 0.77,
         "key": 0,
         "loudness": -5.884,
         "mode": 1,
         "speechiness": 0.0467,
         "acousticness": 0.00677,
         "instrumentalness": 0,
         "liveness": 0.322,
         "valence": 0.298,
         "tempo": 108.111,
         "time_signature": 4,
         "_deepnote_index_column": 6902
        },
        {
         "Genre": "r&b",
         "Title": "You",
         "Album_cover_link": "https://i.scdn.co/image/ab67616d0000b273e837569b3bb3e9820b5c318b",
         "Artist": "Monifah",
         "duration_ms": 263400,
         "explicit": false,
         "id": "02vWCg2NNFgPb5VDkaA5g6",
         "popularity": 32,
         "release_date": "1996-01-01",
         "release_date_precision": "day",
         "total_tracks": 15,
         "danceability": 0.626,
         "energy": 0.547,
         "key": 8,
         "loudness": -5.567,
         "mode": 0,
         "speechiness": 0.0688,
         "acousticness": 0.267,
         "instrumentalness": 0.00000369,
         "liveness": 0.19,
         "valence": 0.49,
         "tempo": 76.066,
         "time_signature": 4,
         "_deepnote_index_column": 6903
        },
        {
         "Genre": "r&b",
         "Title": "While We're Young",
         "Album_cover_link": "https://i.scdn.co/image/ab67616d0000b2737ccc8005498d9f75b03333c2",
         "Artist": "JhenÃ© Aiko",
         "duration_ms": 236160,
         "explicit": true,
         "id": "4mL59LVbKgOpEACxraGYdr",
         "popularity": 72,
         "release_date": "2017-09-22",
         "release_date_precision": "day",
         "total_tracks": 22,
         "danceability": 0.649,
         "energy": 0.791,
         "key": 2,
         "loudness": -6.013,
         "mode": 1,
         "speechiness": 0.193,
         "acousticness": 0.104,
         "instrumentalness": 0.00000197,
         "liveness": 0.108,
         "valence": 0.811,
         "tempo": 128.023,
         "time_signature": 4,
         "_deepnote_index_column": 6904
        },
        {
         "Genre": "r&b",
         "Title": "I Luv Your Girl",
         "Album_cover_link": "https://i.scdn.co/image/ab67616d0000b273c0272c5b4cba114ea0fb9e5c",
         "Artist": "The-Dream",
         "duration_ms": 267866,
         "explicit": true,
         "id": "3wkNK8tJZ2stygNJm8RCRD",
         "popularity": 61,
         "release_date": "2007-01-01",
         "release_date_precision": "day",
         "total_tracks": 12,
         "danceability": 0.723,
         "energy": 0.322,
         "key": 8,
         "loudness": -9.702,
         "mode": 1,
         "speechiness": 0.0341,
         "acousticness": 0.014,
         "instrumentalness": 0,
         "liveness": 0.119,
         "valence": 0.0406,
         "tempo": 90.063,
         "time_signature": 4,
         "_deepnote_index_column": 6905
        },
        {
         "Genre": "r&b",
         "Title": "Like You've Never Been - Get up on It - Remix",
         "Album_cover_link": "https://i.scdn.co/image/ab67616d0000b27307c914ad86c2914b292520bd",
         "Artist": "Kut Klose",
         "duration_ms": 286000,
         "explicit": false,
         "id": "05oL46UiSbYZuKPQleXO69",
         "popularity": 31,
         "release_date": "1995-02-21",
         "release_date_precision": "day",
         "total_tracks": 11,
         "danceability": 0.747,
         "energy": 0.576,
         "key": 2,
         "loudness": -6.991,
         "mode": 0,
         "speechiness": 0.0438,
         "acousticness": 0.015,
         "instrumentalness": 0.000112,
         "liveness": 0.129,
         "valence": 0.4,
         "tempo": 125.552,
         "time_signature": 4,
         "_deepnote_index_column": 6906
        },
        {
         "Genre": "r&b",
         "Title": "Sometimes Dancin'",
         "Album_cover_link": "https://i.scdn.co/image/ab67616d0000b27309f1bb99a848c77c21f4f121",
         "Artist": "Brownstone",
         "duration_ms": 301933,
         "explicit": false,
         "id": "10yCqBhJHRSApHAOcI5RtM",
         "popularity": 39,
         "release_date": "1993-06-01",
         "release_date_precision": "day",
         "total_tracks": 12,
         "danceability": 0.662,
         "energy": 0.573,
         "key": 1,
         "loudness": -9.381,
         "mode": 1,
         "speechiness": 0.0426,
         "acousticness": 0.0651,
         "instrumentalness": 0.000384,
         "liveness": 0.0588,
         "valence": 0.782,
         "tempo": 75.873,
         "time_signature": 4,
         "_deepnote_index_column": 6907
        },
        {
         "Genre": "r&b",
         "Title": "Stay Flo",
         "Album_cover_link": "https://i.scdn.co/image/ab67616d0000b273b1150f77ae2fbf0d5b4715fc",
         "Artist": "Solange",
         "duration_ms": 175706,
         "explicit": true,
         "id": "6GCIYIWUBSLontW6divqsw",
         "popularity": 62,
         "release_date": "2019-03-01",
         "release_date_precision": "day",
         "total_tracks": 19,
         "danceability": 0.823,
         "energy": 0.558,
         "key": 9,
         "loudness": -7.119,
         "mode": 1,
         "speechiness": 0.0278,
         "acousticness": 0.397,
         "instrumentalness": 0.0000203,
         "liveness": 0.0821,
         "valence": 0.674,
         "tempo": 155.974,
         "time_signature": 4,
         "_deepnote_index_column": 6908
        },
        {
         "Genre": "r&b",
         "Title": "Regret",
         "Album_cover_link": "https://i.scdn.co/image/ab67616d0000b273752d521c2d767afa6e99ed72",
         "Artist": "LeToya",
         "duration_ms": 245293,
         "explicit": false,
         "id": "0n6Rakh2ND1JR03sXEviS2",
         "popularity": 40,
         "release_date": "2009-01-01",
         "release_date_precision": "day",
         "total_tracks": 15,
         "danceability": 0.692,
         "energy": 0.714,
         "key": 5,
         "loudness": -5.602,
         "mode": 0,
         "speechiness": 0.354,
         "acousticness": 0.0151,
         "instrumentalness": 0,
         "liveness": 0.067,
         "valence": 0.501,
         "tempo": 179.975,
         "time_signature": 4,
         "_deepnote_index_column": 6909
        },
        {
         "Genre": "r&b",
         "Title": "Unappreciated",
         "Album_cover_link": "https://i.scdn.co/image/ab67616d0000b273a77aa5b5a8bd7322f93ad90b",
         "Artist": "Cherish",
         "duration_ms": 235333,
         "explicit": false,
         "id": "5ZelMPn7vupvsTToUTvcbF",
         "popularity": 51,
         "release_date": "2006-01-01",
         "release_date_precision": "day",
         "total_tracks": 12,
         "danceability": 0.735,
         "energy": 0.521,
         "key": 7,
         "loudness": -6.696,
         "mode": 0,
         "speechiness": 0.0876,
         "acousticness": 0.0888,
         "instrumentalness": 0,
         "liveness": 0.065,
         "valence": 0.374,
         "tempo": 77.01,
         "time_signature": 4,
         "_deepnote_index_column": 6910
        },
        {
         "Genre": "r&b",
         "Title": "Like a Boy",
         "Album_cover_link": "https://i.scdn.co/image/ab67616d0000b2738136c2c2762cba40cb51f9aa",
         "Artist": "Ciara",
         "duration_ms": 237053,
         "explicit": false,
         "id": "358bOvBiZCS9fRzNYosw6c",
         "popularity": 66,
         "release_date": "2006",
         "release_date_precision": "year",
         "total_tracks": 20,
         "danceability": 0.701,
         "energy": 0.724,
         "key": 0,
         "loudness": -5.751,
         "mode": 0,
         "speechiness": 0.145,
         "acousticness": 0.267,
         "instrumentalness": 0,
         "liveness": 0.0867,
         "valence": 0.425,
         "tempo": 132.035,
         "time_signature": 4,
         "_deepnote_index_column": 6911
        },
        {
         "Genre": "r&b",
         "Title": "Moment",
         "Album_cover_link": "https://i.scdn.co/image/ab67616d0000b27350aa87e1dea05ba3155bbbb2",
         "Artist": "Victoria MonÃ©t",
         "duration_ms": 179413,
         "explicit": true,
         "id": "6rSUrh8ErKSKfbH0t0IzCM",
         "popularity": 62,
         "release_date": "2020-08-07",
         "release_date_precision": "day",
         "total_tracks": 9,
         "danceability": 0.571,
         "energy": 0.431,
         "key": 1,
         "loudness": -8.889,
         "mode": 1,
         "speechiness": 0.0547,
         "acousticness": 0.637,
         "instrumentalness": 0.00524,
         "liveness": 0.122,
         "valence": 0.361,
         "tempo": 130.111,
         "time_signature": 4,
         "_deepnote_index_column": 6912
        },
        {
         "Genre": "r&b",
         "Title": "If I Was the One",
         "Album_cover_link": "https://i.scdn.co/image/ab67616d0000b2733abb0129f180c6117beec28d",
         "Artist": "Ruff Endz",
         "duration_ms": 266866,
         "explicit": false,
         "id": "1iNO6V1JBTSy9aaiLrOHkZ",
         "popularity": 1,
         "release_date": "2000-07-22",
         "release_date_precision": "day",
         "total_tracks": 14,
         "danceability": 0.627,
         "energy": 0.405,
         "key": 10,
         "loudness": -7.189,
         "mode": 1,
         "speechiness": 0.0335,
         "acousticness": 0.368,
         "instrumentalness": 0,
         "liveness": 0.0972,
         "valence": 0.298,
         "tempo": 111.832,
         "time_signature": 4,
         "_deepnote_index_column": 6913
        },
        {
         "Genre": "r&b",
         "Title": "I Don't Care",
         "Album_cover_link": "https://i.scdn.co/image/ab67616d0000b273436ead2203d1b97635443987",
         "Artist": "Elle Varner",
         "duration_ms": 186466,
         "explicit": false,
         "id": "6PxzCYqI60zgJLxxgs1vme",
         "popularity": 34,
         "release_date": "2012-08-03",
         "release_date_precision": "day",
         "total_tracks": 11,
         "danceability": 0.507,
         "energy": 0.832,
         "key": 9,
         "loudness": -4.746,
         "mode": 1,
         "speechiness": 0.211,
         "acousticness": 0.0901,
         "instrumentalness": 0,
         "liveness": 0.164,
         "valence": 0.578,
         "tempo": 84.917,
         "time_signature": 4,
         "_deepnote_index_column": 6914
        },
        {
         "Genre": "r&b",
         "Title": "Complicated",
         "Album_cover_link": "https://i.scdn.co/image/ab67616d0000b273dc377a0424b221fbb6212729",
         "Artist": "Leela James",
         "duration_ms": 244870,
         "explicit": false,
         "id": "4qkAApWcCWyhDvQ5d1fsUc",
         "popularity": 46,
         "release_date": "2021-07-30",
         "release_date_precision": "day",
         "total_tracks": 11,
         "danceability": 0.85,
         "energy": 0.7,
         "key": 8,
         "loudness": -5.287,
         "mode": 1,
         "speechiness": 0.131,
         "acousticness": 0.0629,
         "instrumentalness": 0.00000177,
         "liveness": 0.0616,
         "valence": 0.74,
         "tempo": 139.98,
         "time_signature": 4,
         "_deepnote_index_column": 6915
        },
        {
         "Genre": "r&b",
         "Title": "Innocent",
         "Album_cover_link": "https://i.scdn.co/image/ab67616d0000b2733cb656dd067ce27a38b50886",
         "Artist": "Justine Skye",
         "duration_ms": 173341,
         "explicit": true,
         "id": "7A1xtIabfrZ5X3xIa7KqWj",
         "popularity": 47,
         "release_date": "2021-06-25",
         "release_date_precision": "day",
         "total_tracks": 11,
         "danceability": 0.528,
         "energy": 0.349,
         "key": 0,
         "loudness": -8.568,
         "mode": 0,
         "speechiness": 0.11,
         "acousticness": 0.13,
         "instrumentalness": 0.00000901,
         "liveness": 0.175,
         "valence": 0.195,
         "tempo": 89.347,
         "time_signature": 4,
         "_deepnote_index_column": 6916
        }
       ]
      },
      "text/plain": "     Genre                   Title  \\\n6186   r&b            When I See U   \n6187   r&b                    Love   \n6188   r&b           Angel of Mine   \n6189   r&b  Officially Missing You   \n6190   r&b   Pick Up Your Feelings   \n...    ...                     ...   \n6912   r&b                  Moment   \n6913   r&b        If I Was the One   \n6914   r&b            I Don't Care   \n6915   r&b             Complicated   \n6916   r&b                Innocent   \n\n                                       Album_cover_link            Artist  \\\n6186  https://i.scdn.co/image/ab67616d0000b273484cce...          Fantasia   \n6187  https://i.scdn.co/image/ab67616d0000b2732cc232...      Keyshia Cole   \n6188  https://i.scdn.co/image/ab67616d0000b273fb8bce...            Monica   \n6189  https://i.scdn.co/image/ab67616d0000b273738910...             Tamia   \n6190  https://i.scdn.co/image/ab67616d0000b273293ac9...  Jazmine Sullivan   \n...                                                 ...               ...   \n6912  https://i.scdn.co/image/ab67616d0000b27350aa87...   Victoria MonÃ©t   \n6913  https://i.scdn.co/image/ab67616d0000b2733abb01...         Ruff Endz   \n6914  https://i.scdn.co/image/ab67616d0000b273436ead...       Elle Varner   \n6915  https://i.scdn.co/image/ab67616d0000b273dc377a...       Leela James   \n6916  https://i.scdn.co/image/ab67616d0000b2733cb656...      Justine Skye   \n\n      duration_ms  explicit                      id  popularity release_date  \\\n6186       217346     False  4iuNZTcvT9diFySSzVsnVS          70   2006-12-09   \n6187       255333     False  0W4NhJhcqKCqEP2GIpDCDq          74   2005-01-01   \n6188       250173     False  1AM1o0mKbgAK5oMpY8B3Z7          66   1998-07-13   \n6189       242466     False  4IFYR5smTnHYCLP82AiDrJ          55         2004   \n6190       229413     False  2I7CJZLo2nDqGuzZJA1XlZ          61   2021-01-07   \n...           ...       ...                     ...         ...          ...   \n6912       179413      True  6rSUrh8ErKSKfbH0t0IzCM          62   2020-08-07   \n6913       266866     False  1iNO6V1JBTSy9aaiLrOHkZ           1   2000-07-22   \n6914       186466     False  6PxzCYqI60zgJLxxgs1vme          34   2012-08-03   \n6915       244870     False  4qkAApWcCWyhDvQ5d1fsUc          46   2021-07-30   \n6916       173341      True  7A1xtIabfrZ5X3xIa7KqWj          47   2021-06-25   \n\n     release_date_precision  ...  key  loudness  mode  speechiness  \\\n6186                    day  ...    8    -6.486     1       0.1720   \n6187                    day  ...    5    -4.285     1       0.0283   \n6188                    day  ...   10    -6.869     0       0.0239   \n6189                   year  ...    4    -9.239     0       0.0368   \n6190                    day  ...    2    -6.239     0       0.0464   \n...                     ...  ...  ...       ...   ...          ...   \n6912                    day  ...    1    -8.889     1       0.0547   \n6913                    day  ...   10    -7.189     1       0.0335   \n6914                    day  ...    9    -4.746     1       0.2110   \n6915                    day  ...    8    -5.287     1       0.1310   \n6916                    day  ...    0    -8.568     0       0.1100   \n\n      acousticness  instrumentalness  liveness  valence    tempo  \\\n6186       0.45200          0.000079    0.2050    0.754   93.135   \n6187       0.06400          0.000000    0.1000    0.318  116.714   \n6188       0.00373          0.000032    0.2230    0.208   90.160   \n6189       0.24700          0.000000    0.1440    0.226  178.258   \n6190       0.32100          0.000000    0.1170    0.599   85.460   \n...            ...               ...       ...      ...      ...   \n6912       0.63700          0.005240    0.1220    0.361  130.111   \n6913       0.36800          0.000000    0.0972    0.298  111.832   \n6914       0.09010          0.000000    0.1640    0.578   84.917   \n6915       0.06290          0.000002    0.0616    0.740  139.980   \n6916       0.13000          0.000009    0.1750    0.195   89.347   \n\n      time_signature  \n6186               4  \n6187               4  \n6188               4  \n6189               4  \n6190               3  \n...              ...  \n6912               4  \n6913               4  \n6914               4  \n6915               4  \n6916               4  \n\n[731 rows x 23 columns]",
      "text/html": "<div>\n<style scoped>\n    .dataframe tbody tr th:only-of-type {\n        vertical-align: middle;\n    }\n\n    .dataframe tbody tr th {\n        vertical-align: top;\n    }\n\n    .dataframe thead th {\n        text-align: right;\n    }\n</style>\n<table border=\"1\" class=\"dataframe\">\n  <thead>\n    <tr style=\"text-align: right;\">\n      <th></th>\n      <th>Genre</th>\n      <th>Title</th>\n      <th>Album_cover_link</th>\n      <th>Artist</th>\n      <th>duration_ms</th>\n      <th>explicit</th>\n      <th>id</th>\n      <th>popularity</th>\n      <th>release_date</th>\n      <th>release_date_precision</th>\n      <th>...</th>\n      <th>key</th>\n      <th>loudness</th>\n      <th>mode</th>\n      <th>speechiness</th>\n      <th>acousticness</th>\n      <th>instrumentalness</th>\n      <th>liveness</th>\n      <th>valence</th>\n      <th>tempo</th>\n      <th>time_signature</th>\n    </tr>\n  </thead>\n  <tbody>\n    <tr>\n      <th>6186</th>\n      <td>r&amp;b</td>\n      <td>When I See U</td>\n      <td>https://i.scdn.co/image/ab67616d0000b273484cce...</td>\n      <td>Fantasia</td>\n      <td>217346</td>\n      <td>False</td>\n      <td>4iuNZTcvT9diFySSzVsnVS</td>\n      <td>70</td>\n      <td>2006-12-09</td>\n      <td>day</td>\n      <td>...</td>\n      <td>8</td>\n      <td>-6.486</td>\n      <td>1</td>\n      <td>0.1720</td>\n      <td>0.45200</td>\n      <td>0.000079</td>\n      <td>0.2050</td>\n      <td>0.754</td>\n      <td>93.135</td>\n      <td>4</td>\n    </tr>\n    <tr>\n      <th>6187</th>\n      <td>r&amp;b</td>\n      <td>Love</td>\n      <td>https://i.scdn.co/image/ab67616d0000b2732cc232...</td>\n      <td>Keyshia Cole</td>\n      <td>255333</td>\n      <td>False</td>\n      <td>0W4NhJhcqKCqEP2GIpDCDq</td>\n      <td>74</td>\n      <td>2005-01-01</td>\n      <td>day</td>\n      <td>...</td>\n      <td>5</td>\n      <td>-4.285</td>\n      <td>1</td>\n      <td>0.0283</td>\n      <td>0.06400</td>\n      <td>0.000000</td>\n      <td>0.1000</td>\n      <td>0.318</td>\n      <td>116.714</td>\n      <td>4</td>\n    </tr>\n    <tr>\n      <th>6188</th>\n      <td>r&amp;b</td>\n      <td>Angel of Mine</td>\n      <td>https://i.scdn.co/image/ab67616d0000b273fb8bce...</td>\n      <td>Monica</td>\n      <td>250173</td>\n      <td>False</td>\n      <td>1AM1o0mKbgAK5oMpY8B3Z7</td>\n      <td>66</td>\n      <td>1998-07-13</td>\n      <td>day</td>\n      <td>...</td>\n      <td>10</td>\n      <td>-6.869</td>\n      <td>0</td>\n      <td>0.0239</td>\n      <td>0.00373</td>\n      <td>0.000032</td>\n      <td>0.2230</td>\n      <td>0.208</td>\n      <td>90.160</td>\n      <td>4</td>\n    </tr>\n    <tr>\n      <th>6189</th>\n      <td>r&amp;b</td>\n      <td>Officially Missing You</td>\n      <td>https://i.scdn.co/image/ab67616d0000b273738910...</td>\n      <td>Tamia</td>\n      <td>242466</td>\n      <td>False</td>\n      <td>4IFYR5smTnHYCLP82AiDrJ</td>\n      <td>55</td>\n      <td>2004</td>\n      <td>year</td>\n      <td>...</td>\n      <td>4</td>\n      <td>-9.239</td>\n      <td>0</td>\n      <td>0.0368</td>\n      <td>0.24700</td>\n      <td>0.000000</td>\n      <td>0.1440</td>\n      <td>0.226</td>\n      <td>178.258</td>\n      <td>4</td>\n    </tr>\n    <tr>\n      <th>6190</th>\n      <td>r&amp;b</td>\n      <td>Pick Up Your Feelings</td>\n      <td>https://i.scdn.co/image/ab67616d0000b273293ac9...</td>\n      <td>Jazmine Sullivan</td>\n      <td>229413</td>\n      <td>False</td>\n      <td>2I7CJZLo2nDqGuzZJA1XlZ</td>\n      <td>61</td>\n      <td>2021-01-07</td>\n      <td>day</td>\n      <td>...</td>\n      <td>2</td>\n      <td>-6.239</td>\n      <td>0</td>\n      <td>0.0464</td>\n      <td>0.32100</td>\n      <td>0.000000</td>\n      <td>0.1170</td>\n      <td>0.599</td>\n      <td>85.460</td>\n      <td>3</td>\n    </tr>\n    <tr>\n      <th>...</th>\n      <td>...</td>\n      <td>...</td>\n      <td>...</td>\n      <td>...</td>\n      <td>...</td>\n      <td>...</td>\n      <td>...</td>\n      <td>...</td>\n      <td>...</td>\n      <td>...</td>\n      <td>...</td>\n      <td>...</td>\n      <td>...</td>\n      <td>...</td>\n      <td>...</td>\n      <td>...</td>\n      <td>...</td>\n      <td>...</td>\n      <td>...</td>\n      <td>...</td>\n      <td>...</td>\n    </tr>\n    <tr>\n      <th>6912</th>\n      <td>r&amp;b</td>\n      <td>Moment</td>\n      <td>https://i.scdn.co/image/ab67616d0000b27350aa87...</td>\n      <td>Victoria MonÃ©t</td>\n      <td>179413</td>\n      <td>True</td>\n      <td>6rSUrh8ErKSKfbH0t0IzCM</td>\n      <td>62</td>\n      <td>2020-08-07</td>\n      <td>day</td>\n      <td>...</td>\n      <td>1</td>\n      <td>-8.889</td>\n      <td>1</td>\n      <td>0.0547</td>\n      <td>0.63700</td>\n      <td>0.005240</td>\n      <td>0.1220</td>\n      <td>0.361</td>\n      <td>130.111</td>\n      <td>4</td>\n    </tr>\n    <tr>\n      <th>6913</th>\n      <td>r&amp;b</td>\n      <td>If I Was the One</td>\n      <td>https://i.scdn.co/image/ab67616d0000b2733abb01...</td>\n      <td>Ruff Endz</td>\n      <td>266866</td>\n      <td>False</td>\n      <td>1iNO6V1JBTSy9aaiLrOHkZ</td>\n      <td>1</td>\n      <td>2000-07-22</td>\n      <td>day</td>\n      <td>...</td>\n      <td>10</td>\n      <td>-7.189</td>\n      <td>1</td>\n      <td>0.0335</td>\n      <td>0.36800</td>\n      <td>0.000000</td>\n      <td>0.0972</td>\n      <td>0.298</td>\n      <td>111.832</td>\n      <td>4</td>\n    </tr>\n    <tr>\n      <th>6914</th>\n      <td>r&amp;b</td>\n      <td>I Don't Care</td>\n      <td>https://i.scdn.co/image/ab67616d0000b273436ead...</td>\n      <td>Elle Varner</td>\n      <td>186466</td>\n      <td>False</td>\n      <td>6PxzCYqI60zgJLxxgs1vme</td>\n      <td>34</td>\n      <td>2012-08-03</td>\n      <td>day</td>\n      <td>...</td>\n      <td>9</td>\n      <td>-4.746</td>\n      <td>1</td>\n      <td>0.2110</td>\n      <td>0.09010</td>\n      <td>0.000000</td>\n      <td>0.1640</td>\n      <td>0.578</td>\n      <td>84.917</td>\n      <td>4</td>\n    </tr>\n    <tr>\n      <th>6915</th>\n      <td>r&amp;b</td>\n      <td>Complicated</td>\n      <td>https://i.scdn.co/image/ab67616d0000b273dc377a...</td>\n      <td>Leela James</td>\n      <td>244870</td>\n      <td>False</td>\n      <td>4qkAApWcCWyhDvQ5d1fsUc</td>\n      <td>46</td>\n      <td>2021-07-30</td>\n      <td>day</td>\n      <td>...</td>\n      <td>8</td>\n      <td>-5.287</td>\n      <td>1</td>\n      <td>0.1310</td>\n      <td>0.06290</td>\n      <td>0.000002</td>\n      <td>0.0616</td>\n      <td>0.740</td>\n      <td>139.980</td>\n      <td>4</td>\n    </tr>\n    <tr>\n      <th>6916</th>\n      <td>r&amp;b</td>\n      <td>Innocent</td>\n      <td>https://i.scdn.co/image/ab67616d0000b2733cb656...</td>\n      <td>Justine Skye</td>\n      <td>173341</td>\n      <td>True</td>\n      <td>7A1xtIabfrZ5X3xIa7KqWj</td>\n      <td>47</td>\n      <td>2021-06-25</td>\n      <td>day</td>\n      <td>...</td>\n      <td>0</td>\n      <td>-8.568</td>\n      <td>0</td>\n      <td>0.1100</td>\n      <td>0.13000</td>\n      <td>0.000009</td>\n      <td>0.1750</td>\n      <td>0.195</td>\n      <td>89.347</td>\n      <td>4</td>\n    </tr>\n  </tbody>\n</table>\n<p>731 rows × 23 columns</p>\n</div>"
     },
     "metadata": {},
     "output_type": "display_data"
    },
    {
     "name": "stdout",
     "text": "rap\n",
     "output_type": "stream",
     "data": {}
    },
    {
     "data": {
      "application/vnd.deepnote.dataframe.v2+json": {
       "row_count": 926,
       "column_count": 23,
       "columns": [
        {
         "name": "Genre",
         "dtype": "object",
         "stats": {
          "unique_count": 1,
          "nan_count": 0,
          "categories": [
           {
            "name": "rap",
            "count": 926
           }
          ]
         }
        },
        {
         "name": "Title",
         "dtype": "object",
         "stats": {
          "unique_count": 923,
          "nan_count": 0,
          "categories": [
           {
            "name": "White Girl",
            "count": 2
           },
           {
            "name": "Smile",
            "count": 2
           },
           {
            "name": "921 others",
            "count": 922
           }
          ]
         }
        },
        {
         "name": "Album_cover_link",
         "dtype": "object",
         "stats": {
          "unique_count": 790,
          "nan_count": 0,
          "categories": [
           {
            "name": "https://i.scdn.co/image/ab67616d0000b27336977e237a8f70ec6c990636",
            "count": 3
           },
           {
            "name": "https://i.scdn.co/image/fade577145599daff924bb7b28386a84f67bd1db",
            "count": 3
           },
           {
            "name": "788 others",
            "count": 920
           }
          ]
         }
        },
        {
         "name": "Artist",
         "dtype": "object",
         "stats": {
          "unique_count": 462,
          "nan_count": 0,
          "categories": [
           {
            "name": "French Montana",
            "count": 3
           },
           {
            "name": "Meek Mill",
            "count": 3
           },
           {
            "name": "460 others",
            "count": 920
           }
          ]
         }
        },
        {
         "name": "duration_ms",
         "dtype": "int64",
         "stats": {
          "unique_count": 908,
          "nan_count": 0,
          "min": "120133",
          "max": "537813",
          "histogram": [
           {
            "bin_start": 120133,
            "bin_end": 161901,
            "count": 88
           },
           {
            "bin_start": 161901,
            "bin_end": 203669,
            "count": 210
           },
           {
            "bin_start": 203669,
            "bin_end": 245437,
            "count": 279
           },
           {
            "bin_start": 245437,
            "bin_end": 287205,
            "count": 227
           },
           {
            "bin_start": 287205,
            "bin_end": 328973,
            "count": 88
           },
           {
            "bin_start": 328973,
            "bin_end": 370741,
            "count": 25
           },
           {
            "bin_start": 370741,
            "bin_end": 412509,
            "count": 5
           },
           {
            "bin_start": 412509,
            "bin_end": 454277,
            "count": 0
           },
           {
            "bin_start": 454277,
            "bin_end": 496045,
            "count": 3
           },
           {
            "bin_start": 496045,
            "bin_end": 537813,
            "count": 1
           }
          ]
         }
        },
        {
         "name": "explicit",
         "dtype": "bool",
         "stats": {
          "unique_count": 2,
          "nan_count": 0,
          "categories": [
           {
            "name": "True",
            "count": 803
           },
           {
            "name": "False",
            "count": 123
           }
          ]
         }
        },
        {
         "name": "id",
         "dtype": "object",
         "stats": {
          "unique_count": 926,
          "nan_count": 0,
          "categories": [
           {
            "name": "3B54sVLJ402zGa6Xm4YGNe",
            "count": 1
           },
           {
            "name": "3T9BKc4kB7ukeNQrCqv6ZV",
            "count": 1
           },
           {
            "name": "924 others",
            "count": 924
           }
          ]
         }
        },
        {
         "name": "popularity",
         "dtype": "int64",
         "stats": {
          "unique_count": 67,
          "nan_count": 0,
          "min": "8",
          "max": "91",
          "histogram": [
           {
            "bin_start": 8,
            "bin_end": 16.3,
            "count": 4
           },
           {
            "bin_start": 16.3,
            "bin_end": 24.6,
            "count": 3
           },
           {
            "bin_start": 24.6,
            "bin_end": 32.900000000000006,
            "count": 3
           },
           {
            "bin_start": 32.900000000000006,
            "bin_end": 41.2,
            "count": 28
           },
           {
            "bin_start": 41.2,
            "bin_end": 49.5,
            "count": 67
           },
           {
            "bin_start": 49.5,
            "bin_end": 57.800000000000004,
            "count": 171
           },
           {
            "bin_start": 57.800000000000004,
            "bin_end": 66.10000000000001,
            "count": 286
           },
           {
            "bin_start": 66.10000000000001,
            "bin_end": 74.4,
            "count": 214
           },
           {
            "bin_start": 74.4,
            "bin_end": 82.7,
            "count": 131
           },
           {
            "bin_start": 82.7,
            "bin_end": 91,
            "count": 19
           }
          ]
         }
        },
        {
         "name": "release_date",
         "dtype": "object",
         "stats": {
          "unique_count": 544,
          "nan_count": 0,
          "categories": [
           {
            "name": "2003-01-01",
            "count": 13
           },
           {
            "name": "2006-01-01",
            "count": 12
           },
           {
            "name": "542 others",
            "count": 901
           }
          ]
         }
        },
        {
         "name": "release_date_precision",
         "dtype": "object",
         "stats": {
          "unique_count": 2,
          "nan_count": 0,
          "categories": [
           {
            "name": "day",
            "count": 867
           },
           {
            "name": "year",
            "count": 59
           }
          ]
         }
        },
        {
         "name": "total_tracks",
         "dtype": "int64",
         "stats": {
          "unique_count": 36,
          "nan_count": 0,
          "min": "1",
          "max": "56",
          "histogram": [
           {
            "bin_start": 1,
            "bin_end": 6.5,
            "count": 118
           },
           {
            "bin_start": 6.5,
            "bin_end": 12,
            "count": 90
           },
           {
            "bin_start": 12,
            "bin_end": 17.5,
            "count": 469
           },
           {
            "bin_start": 17.5,
            "bin_end": 23,
            "count": 189
           },
           {
            "bin_start": 23,
            "bin_end": 28.5,
            "count": 45
           },
           {
            "bin_start": 28.5,
            "bin_end": 34,
            "count": 7
           },
           {
            "bin_start": 34,
            "bin_end": 39.5,
            "count": 5
           },
           {
            "bin_start": 39.5,
            "bin_end": 45,
            "count": 2
           },
           {
            "bin_start": 45,
            "bin_end": 50.5,
            "count": 0
           },
           {
            "bin_start": 50.5,
            "bin_end": 56,
            "count": 1
           }
          ]
         }
        },
        {
         "name": "danceability",
         "dtype": "float64",
         "stats": {
          "unique_count": 401,
          "nan_count": 0,
          "min": "0.322",
          "max": "0.981",
          "histogram": [
           {
            "bin_start": 0.322,
            "bin_end": 0.3879,
            "count": 9
           },
           {
            "bin_start": 0.3879,
            "bin_end": 0.4538,
            "count": 17
           },
           {
            "bin_start": 0.4538,
            "bin_end": 0.5197,
            "count": 40
           },
           {
            "bin_start": 0.5197,
            "bin_end": 0.5856,
            "count": 40
           },
           {
            "bin_start": 0.5856,
            "bin_end": 0.6515,
            "count": 63
           },
           {
            "bin_start": 0.6515,
            "bin_end": 0.7174,
            "count": 130
           },
           {
            "bin_start": 0.7174,
            "bin_end": 0.7833,
            "count": 178
           },
           {
            "bin_start": 0.7833,
            "bin_end": 0.8492,
            "count": 209
           },
           {
            "bin_start": 0.8492,
            "bin_end": 0.9151,
            "count": 175
           },
           {
            "bin_start": 0.9151,
            "bin_end": 0.981,
            "count": 65
           }
          ]
         }
        },
        {
         "name": "energy",
         "dtype": "float64",
         "stats": {
          "unique_count": 453,
          "nan_count": 0,
          "min": "0.225",
          "max": "0.983",
          "histogram": [
           {
            "bin_start": 0.225,
            "bin_end": 0.3008,
            "count": 5
           },
           {
            "bin_start": 0.3008,
            "bin_end": 0.37660000000000005,
            "count": 26
           },
           {
            "bin_start": 0.37660000000000005,
            "bin_end": 0.4524,
            "count": 48
           },
           {
            "bin_start": 0.4524,
            "bin_end": 0.5282,
            "count": 109
           },
           {
            "bin_start": 0.5282,
            "bin_end": 0.604,
            "count": 159
           },
           {
            "bin_start": 0.604,
            "bin_end": 0.6798000000000001,
            "count": 194
           },
           {
            "bin_start": 0.6798000000000001,
            "bin_end": 0.7556,
            "count": 163
           },
           {
            "bin_start": 0.7556,
            "bin_end": 0.8314,
            "count": 107
           },
           {
            "bin_start": 0.8314,
            "bin_end": 0.9072,
            "count": 88
           },
           {
            "bin_start": 0.9072,
            "bin_end": 0.983,
            "count": 27
           }
          ]
         }
        },
        {
         "name": "key",
         "dtype": "int64",
         "stats": {
          "unique_count": 12,
          "nan_count": 0,
          "min": "0",
          "max": "11",
          "histogram": [
           {
            "bin_start": 0,
            "bin_end": 1.1,
            "count": 267
           },
           {
            "bin_start": 1.1,
            "bin_end": 2.2,
            "count": 63
           },
           {
            "bin_start": 2.2,
            "bin_end": 3.3000000000000003,
            "count": 12
           },
           {
            "bin_start": 3.3000000000000003,
            "bin_end": 4.4,
            "count": 62
           },
           {
            "bin_start": 4.4,
            "bin_end": 5.5,
            "count": 49
           },
           {
            "bin_start": 5.5,
            "bin_end": 6.6000000000000005,
            "count": 77
           },
           {
            "bin_start": 6.6000000000000005,
            "bin_end": 7.700000000000001,
            "count": 94
           },
           {
            "bin_start": 7.700000000000001,
            "bin_end": 8.8,
            "count": 75
           },
           {
            "bin_start": 8.8,
            "bin_end": 9.9,
            "count": 55
           },
           {
            "bin_start": 9.9,
            "bin_end": 11,
            "count": 172
           }
          ]
         }
        },
        {
         "name": "loudness",
         "dtype": "float64",
         "stats": {
          "unique_count": 860,
          "nan_count": 0,
          "min": "-19.72",
          "max": "-0.839",
          "histogram": [
           {
            "bin_start": -19.72,
            "bin_end": -17.831899999999997,
            "count": 3
           },
           {
            "bin_start": -17.831899999999997,
            "bin_end": -15.9438,
            "count": 3
           },
           {
            "bin_start": -15.9438,
            "bin_end": -14.055699999999998,
            "count": 9
           },
           {
            "bin_start": -14.055699999999998,
            "bin_end": -12.167599999999998,
            "count": 20
           },
           {
            "bin_start": -12.167599999999998,
            "bin_end": -10.279499999999999,
            "count": 53
           },
           {
            "bin_start": -10.279499999999999,
            "bin_end": -8.391399999999997,
            "count": 110
           },
           {
            "bin_start": -8.391399999999997,
            "bin_end": -6.503299999999998,
            "count": 273
           },
           {
            "bin_start": -6.503299999999998,
            "bin_end": -4.615199999999998,
            "count": 302
           },
           {
            "bin_start": -4.615199999999998,
            "bin_end": -2.7270999999999965,
            "count": 139
           },
           {
            "bin_start": -2.7270999999999965,
            "bin_end": -0.839,
            "count": 14
           }
          ]
         }
        },
        {
         "name": "mode",
         "dtype": "int64",
         "stats": {
          "unique_count": 2,
          "nan_count": 0,
          "min": "0",
          "max": "1",
          "histogram": [
           {
            "bin_start": 0,
            "bin_end": 0.1,
            "count": 430
           },
           {
            "bin_start": 0.1,
            "bin_end": 0.2,
            "count": 0
           },
           {
            "bin_start": 0.2,
            "bin_end": 0.30000000000000004,
            "count": 0
           },
           {
            "bin_start": 0.30000000000000004,
            "bin_end": 0.4,
            "count": 0
           },
           {
            "bin_start": 0.4,
            "bin_end": 0.5,
            "count": 0
           },
           {
            "bin_start": 0.5,
            "bin_end": 0.6000000000000001,
            "count": 0
           },
           {
            "bin_start": 0.6000000000000001,
            "bin_end": 0.7000000000000001,
            "count": 0
           },
           {
            "bin_start": 0.7000000000000001,
            "bin_end": 0.8,
            "count": 0
           },
           {
            "bin_start": 0.8,
            "bin_end": 0.9,
            "count": 0
           },
           {
            "bin_start": 0.9,
            "bin_end": 1,
            "count": 496
           }
          ]
         }
        },
        {
         "name": "speechiness",
         "dtype": "float64",
         "stats": {
          "unique_count": 473,
          "nan_count": 0,
          "min": "0.0294",
          "max": "0.399",
          "histogram": [
           {
            "bin_start": 0.0294,
            "bin_end": 0.06636,
            "count": 133
           },
           {
            "bin_start": 0.06636,
            "bin_end": 0.10332000000000001,
            "count": 111
           },
           {
            "bin_start": 0.10332000000000001,
            "bin_end": 0.14028000000000002,
            "count": 100
           },
           {
            "bin_start": 0.14028000000000002,
            "bin_end": 0.17724000000000004,
            "count": 77
           },
           {
            "bin_start": 0.17724000000000004,
            "bin_end": 0.21420000000000003,
            "count": 83
           },
           {
            "bin_start": 0.21420000000000003,
            "bin_end": 0.25116000000000005,
            "count": 105
           },
           {
            "bin_start": 0.25116000000000005,
            "bin_end": 0.28812000000000004,
            "count": 98
           },
           {
            "bin_start": 0.28812000000000004,
            "bin_end": 0.32508000000000004,
            "count": 93
           },
           {
            "bin_start": 0.32508000000000004,
            "bin_end": 0.36204000000000003,
            "count": 77
           },
           {
            "bin_start": 0.36204000000000003,
            "bin_end": 0.399,
            "count": 49
           }
          ]
         }
        },
        {
         "name": "acousticness",
         "dtype": "float64",
         "stats": {
          "unique_count": 685,
          "nan_count": 0,
          "min": "0.000107",
          "max": "0.853",
          "histogram": [
           {
            "bin_start": 0.000107,
            "bin_end": 0.0853963,
            "count": 512
           },
           {
            "bin_start": 0.0853963,
            "bin_end": 0.1706856,
            "count": 155
           },
           {
            "bin_start": 0.1706856,
            "bin_end": 0.2559749,
            "count": 103
           },
           {
            "bin_start": 0.2559749,
            "bin_end": 0.3412642,
            "count": 57
           },
           {
            "bin_start": 0.3412642,
            "bin_end": 0.42655350000000003,
            "count": 34
           },
           {
            "bin_start": 0.42655350000000003,
            "bin_end": 0.5118427999999999,
            "count": 21
           },
           {
            "bin_start": 0.5118427999999999,
            "bin_end": 0.5971320999999999,
            "count": 25
           },
           {
            "bin_start": 0.5971320999999999,
            "bin_end": 0.6824214,
            "count": 8
           },
           {
            "bin_start": 0.6824214,
            "bin_end": 0.7677107,
            "count": 6
           },
           {
            "bin_start": 0.7677107,
            "bin_end": 0.853,
            "count": 5
           }
          ]
         }
        },
        {
         "name": "instrumentalness",
         "dtype": "float64",
         "stats": {
          "unique_count": 296,
          "nan_count": 0,
          "min": "0.0",
          "max": "0.674",
          "histogram": [
           {
            "bin_start": 0,
            "bin_end": 0.0674,
            "count": 909
           },
           {
            "bin_start": 0.0674,
            "bin_end": 0.1348,
            "count": 8
           },
           {
            "bin_start": 0.1348,
            "bin_end": 0.2022,
            "count": 2
           },
           {
            "bin_start": 0.2022,
            "bin_end": 0.2696,
            "count": 1
           },
           {
            "bin_start": 0.2696,
            "bin_end": 0.337,
            "count": 4
           },
           {
            "bin_start": 0.337,
            "bin_end": 0.4044,
            "count": 0
           },
           {
            "bin_start": 0.4044,
            "bin_end": 0.4718,
            "count": 1
           },
           {
            "bin_start": 0.4718,
            "bin_end": 0.5392,
            "count": 0
           },
           {
            "bin_start": 0.5392,
            "bin_end": 0.6066,
            "count": 0
           },
           {
            "bin_start": 0.6066,
            "bin_end": 0.674,
            "count": 1
           }
          ]
         }
        },
        {
         "name": "liveness",
         "dtype": "float64",
         "stats": {
          "unique_count": 504,
          "nan_count": 0,
          "min": "0.0264",
          "max": "0.918",
          "histogram": [
           {
            "bin_start": 0.0264,
            "bin_end": 0.11556,
            "count": 370
           },
           {
            "bin_start": 0.11556,
            "bin_end": 0.20472,
            "count": 245
           },
           {
            "bin_start": 0.20472,
            "bin_end": 0.29388,
            "count": 112
           },
           {
            "bin_start": 0.29388,
            "bin_end": 0.38304,
            "count": 109
           },
           {
            "bin_start": 0.38304,
            "bin_end": 0.4722,
            "count": 32
           },
           {
            "bin_start": 0.4722,
            "bin_end": 0.56136,
            "count": 18
           },
           {
            "bin_start": 0.56136,
            "bin_end": 0.65052,
            "count": 17
           },
           {
            "bin_start": 0.65052,
            "bin_end": 0.73968,
            "count": 9
           },
           {
            "bin_start": 0.73968,
            "bin_end": 0.82884,
            "count": 10
           },
           {
            "bin_start": 0.82884,
            "bin_end": 0.918,
            "count": 4
           }
          ]
         }
        },
        {
         "name": "valence",
         "dtype": "float64",
         "stats": {
          "unique_count": 543,
          "nan_count": 0,
          "min": "0.0384",
          "max": "0.965",
          "histogram": [
           {
            "bin_start": 0.0384,
            "bin_end": 0.13105999999999998,
            "count": 30
           },
           {
            "bin_start": 0.13105999999999998,
            "bin_end": 0.22371999999999997,
            "count": 74
           },
           {
            "bin_start": 0.22371999999999997,
            "bin_end": 0.31638,
            "count": 63
           },
           {
            "bin_start": 0.31638,
            "bin_end": 0.40903999999999996,
            "count": 105
           },
           {
            "bin_start": 0.40903999999999996,
            "bin_end": 0.5016999999999999,
            "count": 109
           },
           {
            "bin_start": 0.5016999999999999,
            "bin_end": 0.59436,
            "count": 131
           },
           {
            "bin_start": 0.59436,
            "bin_end": 0.68702,
            "count": 144
           },
           {
            "bin_start": 0.68702,
            "bin_end": 0.7796799999999999,
            "count": 136
           },
           {
            "bin_start": 0.7796799999999999,
            "bin_end": 0.8723399999999999,
            "count": 88
           },
           {
            "bin_start": 0.8723399999999999,
            "bin_end": 0.965,
            "count": 46
           }
          ]
         }
        },
        {
         "name": "tempo",
         "dtype": "float64",
         "stats": {
          "unique_count": 902,
          "nan_count": 0,
          "min": "52.145",
          "max": "203.911",
          "histogram": [
           {
            "bin_start": 52.145,
            "bin_end": 67.3216,
            "count": 4
           },
           {
            "bin_start": 67.3216,
            "bin_end": 82.4982,
            "count": 67
           },
           {
            "bin_start": 82.4982,
            "bin_end": 97.6748,
            "count": 227
           },
           {
            "bin_start": 97.6748,
            "bin_end": 112.8514,
            "count": 169
           },
           {
            "bin_start": 112.8514,
            "bin_end": 128.028,
            "count": 103
           },
           {
            "bin_start": 128.028,
            "bin_end": 143.2046,
            "count": 153
           },
           {
            "bin_start": 143.2046,
            "bin_end": 158.3812,
            "count": 115
           },
           {
            "bin_start": 158.3812,
            "bin_end": 173.5578,
            "count": 53
           },
           {
            "bin_start": 173.5578,
            "bin_end": 188.7344,
            "count": 25
           },
           {
            "bin_start": 188.7344,
            "bin_end": 203.911,
            "count": 10
           }
          ]
         }
        },
        {
         "name": "time_signature",
         "dtype": "int64",
         "stats": {
          "unique_count": 4,
          "nan_count": 0,
          "min": "1",
          "max": "5",
          "histogram": [
           {
            "bin_start": 1,
            "bin_end": 1.4,
            "count": 2
           },
           {
            "bin_start": 1.4,
            "bin_end": 1.8,
            "count": 0
           },
           {
            "bin_start": 1.8,
            "bin_end": 2.2,
            "count": 0
           },
           {
            "bin_start": 2.2,
            "bin_end": 2.6,
            "count": 0
           },
           {
            "bin_start": 2.6,
            "bin_end": 3,
            "count": 0
           },
           {
            "bin_start": 3,
            "bin_end": 3.4000000000000004,
            "count": 14
           },
           {
            "bin_start": 3.4000000000000004,
            "bin_end": 3.8000000000000003,
            "count": 0
           },
           {
            "bin_start": 3.8000000000000003,
            "bin_end": 4.2,
            "count": 898
           },
           {
            "bin_start": 4.2,
            "bin_end": 4.6,
            "count": 0
           },
           {
            "bin_start": 4.6,
            "bin_end": 5,
            "count": 12
           }
          ]
         }
        },
        {
         "name": "_deepnote_index_column",
         "dtype": "int64"
        }
       ],
       "rows_top": [
        {
         "Genre": "rap",
         "Title": "Unforgettable",
         "Album_cover_link": "https://i.scdn.co/image/ab67616d0000b2738a31195a371b2233456f6c07",
         "Artist": "French Montana",
         "duration_ms": 233901,
         "explicit": true,
         "id": "3B54sVLJ402zGa6Xm4YGNe",
         "popularity": 81,
         "release_date": "2017-07-14",
         "release_date_precision": "day",
         "total_tracks": 18,
         "danceability": 0.726,
         "energy": 0.769,
         "key": 6,
         "loudness": -5.043,
         "mode": 1,
         "speechiness": 0.123,
         "acousticness": 0.0293,
         "instrumentalness": 0.0101,
         "liveness": 0.104,
         "valence": 0.733,
         "tempo": 97.985,
         "time_signature": 4,
         "_deepnote_index_column": 1136
        },
        {
         "Genre": "rap",
         "Title": "Sharing Locations (feat. Lil Baby & Lil Durk)",
         "Album_cover_link": "https://i.scdn.co/image/ab67616d0000b273716d715fe3a1e25e1c6d1487",
         "Artist": "Meek Mill",
         "duration_ms": 161052,
         "explicit": true,
         "id": "3T9BKc4kB7ukeNQrCqv6ZV",
         "popularity": 70,
         "release_date": "2021-10-01",
         "release_date_precision": "day",
         "total_tracks": 18,
         "danceability": 0.681,
         "energy": 0.63,
         "key": 1,
         "loudness": -5.585,
         "mode": 1,
         "speechiness": 0.0385,
         "acousticness": 0.00383,
         "instrumentalness": 0,
         "liveness": 0.139,
         "valence": 0.183,
         "tempo": 151.951,
         "time_signature": 4,
         "_deepnote_index_column": 1137
        },
        {
         "Genre": "rap",
         "Title": "Wake Up in the Sky",
         "Album_cover_link": "https://i.scdn.co/image/ab67616d0000b2736e4366b5308fd1c5462eb3ab",
         "Artist": "Gucci Mane",
         "duration_ms": 203161,
         "explicit": true,
         "id": "2G1tXoGBaEMJ7FKGnkf6ud",
         "popularity": 70,
         "release_date": "2018-12-07",
         "release_date_precision": "day",
         "total_tracks": 18,
         "danceability": 0.8,
         "energy": 0.578,
         "key": 4,
         "loudness": -5.144,
         "mode": 0,
         "speechiness": 0.0485,
         "acousticness": 0.00381,
         "instrumentalness": 0,
         "liveness": 0.367,
         "valence": 0.367,
         "tempo": 143.01,
         "time_signature": 4,
         "_deepnote_index_column": 1138
        },
        {
         "Genre": "rap",
         "Title": "Plain Jane",
         "Album_cover_link": "https://i.scdn.co/image/ab67616d0000b273d79cfa3155b50beb5dbeeb9a",
         "Artist": "A$AP Ferg",
         "duration_ms": 173600,
         "explicit": true,
         "id": "4dVpf9jZjcORqGTLUaeYj9",
         "popularity": 75,
         "release_date": "2017-08-18",
         "release_date_precision": "day",
         "total_tracks": 14,
         "danceability": 0.797,
         "energy": 0.844,
         "key": 11,
         "loudness": -5.482,
         "mode": 1,
         "speechiness": 0.275,
         "acousticness": 0.0651,
         "instrumentalness": 0,
         "liveness": 0.087,
         "valence": 0.52,
         "tempo": 170.142,
         "time_signature": 4,
         "_deepnote_index_column": 1139
        },
        {
         "Genre": "rap",
         "Title": "Collard Greens",
         "Album_cover_link": "https://i.scdn.co/image/ab67616d0000b27336977e237a8f70ec6c990636",
         "Artist": "ScHoolboy Q",
         "duration_ms": 299960,
         "explicit": true,
         "id": "0zO8ctW0UiuOefR87OeJOZ",
         "popularity": 82,
         "release_date": "2014-01-01",
         "release_date_precision": "day",
         "total_tracks": 15,
         "danceability": 0.825,
         "energy": 0.575,
         "key": 11,
         "loudness": -4.87,
         "mode": 1,
         "speechiness": 0.0633,
         "acousticness": 0.025,
         "instrumentalness": 0.00000994,
         "liveness": 0.205,
         "valence": 0.65,
         "tempo": 153.954,
         "time_signature": 4,
         "_deepnote_index_column": 1140
        },
        {
         "Genre": "rap",
         "Title": "It's A Vibe",
         "Album_cover_link": "https://i.scdn.co/image/ab67616d0000b273c0c05243a846dda6c84607f9",
         "Artist": "2 Chainz",
         "duration_ms": 210200,
         "explicit": true,
         "id": "6H0AwSQ20mo62jGlPGB8S6",
         "popularity": 73,
         "release_date": "2017-06-16",
         "release_date_precision": "day",
         "total_tracks": 16,
         "danceability": 0.822,
         "energy": 0.502,
         "key": 7,
         "loudness": -7.38,
         "mode": 1,
         "speechiness": 0.148,
         "acousticness": 0.0312,
         "instrumentalness": 0.000887,
         "liveness": 0.114,
         "valence": 0.525,
         "tempo": 73.003,
         "time_signature": 4,
         "_deepnote_index_column": 1141
        },
        {
         "Genre": "rap",
         "Title": "Wolves (feat. Post Malone)",
         "Album_cover_link": "https://i.scdn.co/image/ab67616d0000b273b1b3fdd23be4c158d4d2c32f",
         "Artist": "Big Sean",
         "duration_ms": 199758,
         "explicit": true,
         "id": "33gwZOGJWEZ7dRWPqPxBEZ",
         "popularity": 78,
         "release_date": "2020-09-04",
         "release_date_precision": "day",
         "total_tracks": 21,
         "danceability": 0.724,
         "energy": 0.675,
         "key": 2,
         "loudness": -5.267,
         "mode": 1,
         "speechiness": 0.0867,
         "acousticness": 0.0978,
         "instrumentalness": 0.00000941,
         "liveness": 0.351,
         "valence": 0.325,
         "tempo": 160.048,
         "time_signature": 4,
         "_deepnote_index_column": 1142
        },
        {
         "Genre": "rap",
         "Title": "See You Again (feat. Charlie Puth)",
         "Album_cover_link": "https://i.scdn.co/image/ab67616d0000b2734e5df11b17b2727da2b718d8",
         "Artist": "Wiz Khalifa",
         "duration_ms": 229525,
         "explicit": false,
         "id": "2JzZzZUQj3Qff7wapcbKjc",
         "popularity": 81,
         "release_date": "2015",
         "release_date_precision": "year",
         "total_tracks": 1,
         "danceability": 0.689,
         "energy": 0.481,
         "key": 10,
         "loudness": -7.503,
         "mode": 1,
         "speechiness": 0.0815,
         "acousticness": 0.369,
         "instrumentalness": 0.00000103,
         "liveness": 0.0649,
         "valence": 0.283,
         "tempo": 80.025,
         "time_signature": 4,
         "_deepnote_index_column": 1143
        },
        {
         "Genre": "rap",
         "Title": "Aston Martin Music",
         "Album_cover_link": "https://i.scdn.co/image/ab67616d0000b2730fbb5046ac2211a4aab5ecfa",
         "Artist": "Rick Ross",
         "duration_ms": 270626,
         "explicit": true,
         "id": "5W7xC99N2Zzfh69r7I7zWK",
         "popularity": 69,
         "release_date": "2010-01-01",
         "release_date_precision": "day",
         "total_tracks": 11,
         "danceability": 0.57,
         "energy": 0.58,
         "key": 1,
         "loudness": -5.547,
         "mode": 1,
         "speechiness": 0.21,
         "acousticness": 0.0124,
         "instrumentalness": 0,
         "liveness": 0.0498,
         "valence": 0.404,
         "tempo": 171.812,
         "time_signature": 4,
         "_deepnote_index_column": 1144
        },
        {
         "Genre": "rap",
         "Title": "Trophies",
         "Album_cover_link": "https://i.scdn.co/image/ab67616d0000b273842e732b778998eef17b405f",
         "Artist": "Young Money",
         "duration_ms": 188320,
         "explicit": true,
         "id": "6HfOzLLjsaXsehIFEsrxTk",
         "popularity": 74,
         "release_date": "2014-01-01",
         "release_date_precision": "day",
         "total_tracks": 14,
         "danceability": 0.746,
         "energy": 0.687,
         "key": 1,
         "loudness": -7.475,
         "mode": 1,
         "speechiness": 0.382,
         "acousticness": 0.155,
         "instrumentalness": 0,
         "liveness": 0.137,
         "valence": 0.283,
         "tempo": 143.931,
         "time_signature": 4,
         "_deepnote_index_column": 1145
        },
        {
         "Genre": "rap",
         "Title": "Poke It Out (feat. J. Cole)",
         "Album_cover_link": "https://i.scdn.co/image/ab67616d0000b2738ed0d66bd4f617ea8bcaba3d",
         "Artist": "Wale",
         "duration_ms": 183333,
         "explicit": true,
         "id": "0wi5NYT0upjIHOG4FWSqdH",
         "popularity": 59,
         "release_date": "2021-10-22",
         "release_date_precision": "day",
         "total_tracks": 15,
         "danceability": 0.778,
         "energy": 0.934,
         "key": 9,
         "loudness": -3.488,
         "mode": 1,
         "speechiness": 0.321,
         "acousticness": 0.184,
         "instrumentalness": 0,
         "liveness": 0.123,
         "valence": 0.803,
         "tempo": 98.97,
         "time_signature": 4,
         "_deepnote_index_column": 1146
        },
        {
         "Genre": "rap",
         "Title": "King's Dead (with Kendrick Lamar, Future & James Blake)",
         "Album_cover_link": "https://i.scdn.co/image/ab67616d0000b2739edc391d911405ea9f5c320e",
         "Artist": "Jay Rock",
         "duration_ms": 229670,
         "explicit": true,
         "id": "51rXHuKN8Loc4sUlKPODgH",
         "popularity": 72,
         "release_date": "2018-01-12",
         "release_date_precision": "day",
         "total_tracks": 1,
         "danceability": 0.645,
         "energy": 0.705,
         "key": 1,
         "loudness": -5.008,
         "mode": 1,
         "speechiness": 0.299,
         "acousticness": 0.000813,
         "instrumentalness": 0,
         "liveness": 0.128,
         "valence": 0.376,
         "tempo": 137.133,
         "time_signature": 4,
         "_deepnote_index_column": 1147
        },
        {
         "Genre": "rap",
         "Title": "Bubbly (with Drake & Travis Scott)",
         "Album_cover_link": "https://i.scdn.co/image/ab67616d0000b273f8d415dab5ed7e3747bd38dd",
         "Artist": "Young Thug",
         "duration_ms": 165066,
         "explicit": true,
         "id": "4KDNRh9Oor80z3XIxdWlui",
         "popularity": 83,
         "release_date": "2021-10-15",
         "release_date_precision": "day",
         "total_tracks": 20,
         "danceability": 0.91,
         "energy": 0.585,
         "key": 11,
         "loudness": -7.572,
         "mode": 0,
         "speechiness": 0.257,
         "acousticness": 0.0536,
         "instrumentalness": 0,
         "liveness": 0.127,
         "valence": 0.599,
         "tempo": 129.011,
         "time_signature": 4,
         "_deepnote_index_column": 1148
        },
        {
         "Genre": "rap",
         "Title": "No Hands (feat. Roscoe Dash & Wale)",
         "Album_cover_link": "https://i.scdn.co/image/fade577145599daff924bb7b28386a84f67bd1db",
         "Artist": "Waka Flocka Flame",
         "duration_ms": 263773,
         "explicit": true,
         "id": "03tqyYWC9Um2ZqU0ZN849H",
         "popularity": 76,
         "release_date": "2010-10-01",
         "release_date_precision": "day",
         "total_tracks": 17,
         "danceability": 0.76,
         "energy": 0.595,
         "key": 1,
         "loudness": -6.366,
         "mode": 1,
         "speechiness": 0.0391,
         "acousticness": 0.00544,
         "instrumentalness": 0,
         "liveness": 0.241,
         "valence": 0.361,
         "tempo": 131.497,
         "time_signature": 4,
         "_deepnote_index_column": 1149
        },
        {
         "Genre": "rap",
         "Title": "The Count (feat. Wiz Khalifa)",
         "Album_cover_link": "https://i.scdn.co/image/ab67616d0000b273fce2d3ea8dfc78fb1a9723a2",
         "Artist": "Curren$y",
         "duration_ms": 194594,
         "explicit": true,
         "id": "171PWhxgdrIOgcAiBPO3Gr",
         "popularity": 75,
         "release_date": "2018-05-30",
         "release_date_precision": "day",
         "total_tracks": 8,
         "danceability": 0.385,
         "energy": 0.757,
         "key": 0,
         "loudness": -5.96,
         "mode": 1,
         "speechiness": 0.167,
         "acousticness": 0.709,
         "instrumentalness": 0,
         "liveness": 0.235,
         "valence": 0.469,
         "tempo": 82.673,
         "time_signature": 4,
         "_deepnote_index_column": 1150
        },
        {
         "Genre": "rap",
         "Title": "BIG BANK (feat. 2 Chainz, Big Sean, Nicki Minaj)",
         "Album_cover_link": "https://i.scdn.co/image/ab67616d0000b273f43405f32dfe1c07777c06af",
         "Artist": "YG",
         "duration_ms": 237240,
         "explicit": true,
         "id": "0ZNrc4kNeQYD9koZ3KvCsy",
         "popularity": 69,
         "release_date": "2018-08-03",
         "release_date_precision": "day",
         "total_tracks": 15,
         "danceability": 0.745,
         "energy": 0.346,
         "key": 1,
         "loudness": -7.709,
         "mode": 1,
         "speechiness": 0.331,
         "acousticness": 0.00552,
         "instrumentalness": 0,
         "liveness": 0.0881,
         "valence": 0.112,
         "tempo": 203.911,
         "time_signature": 4,
         "_deepnote_index_column": 1151
        },
        {
         "Genre": "rap",
         "Title": "Shell Shocked (feat. Kill The Noise & Madsonik) - From \"Teenage Mutant Ninja Turtles\"",
         "Album_cover_link": "https://i.scdn.co/image/ab67616d0000b273abe98b7f16e9daf02961a180",
         "Artist": "Juicy J",
         "duration_ms": 206566,
         "explicit": false,
         "id": "7zBQRGpYImAdIZc97FNj3V",
         "popularity": 67,
         "release_date": "2014-07-22",
         "release_date_precision": "day",
         "total_tracks": 1,
         "danceability": 0.596,
         "energy": 0.815,
         "key": 6,
         "loudness": -5.668,
         "mode": 0,
         "speechiness": 0.0755,
         "acousticness": 0.0111,
         "instrumentalness": 0,
         "liveness": 0.174,
         "valence": 0.459,
         "tempo": 165.015,
         "time_signature": 4,
         "_deepnote_index_column": 1152
        },
        {
         "Genre": "rap",
         "Title": "Ballin' (with Roddy Ricch)",
         "Album_cover_link": "https://i.scdn.co/image/ab67616d0000b27393b1e96fad758869d0974162",
         "Artist": "Mustard",
         "duration_ms": 180434,
         "explicit": true,
         "id": "3QzAOrNlsabgbMwlZt7TAY",
         "popularity": 79,
         "release_date": "2019-06-28",
         "release_date_precision": "day",
         "total_tracks": 10,
         "danceability": 0.809,
         "energy": 0.545,
         "key": 7,
         "loudness": -6.678,
         "mode": 1,
         "speechiness": 0.0735,
         "acousticness": 0.392,
         "instrumentalness": 0,
         "liveness": 0.151,
         "valence": 0.244,
         "tempo": 97.008,
         "time_signature": 4,
         "_deepnote_index_column": 1153
        },
        {
         "Genre": "rap",
         "Title": "Into You (feat. Tamia) - Main Mix",
         "Album_cover_link": "https://i.scdn.co/image/ab67616d0000b273f60b98d303657fd171d57f09",
         "Artist": "Fabolous",
         "duration_ms": 293840,
         "explicit": true,
         "id": "1Jm1I3APcmVz3MqPr5vfTx",
         "popularity": 53,
         "release_date": "2003-01-14",
         "release_date_precision": "day",
         "total_tracks": 20,
         "danceability": 0.681,
         "energy": 0.529,
         "key": 7,
         "loudness": -7.897,
         "mode": 0,
         "speechiness": 0.0341,
         "acousticness": 0.201,
         "instrumentalness": 0,
         "liveness": 0.184,
         "valence": 0.568,
         "tempo": 91.081,
         "time_signature": 4,
         "_deepnote_index_column": 1154
        },
        {
         "Genre": "rap",
         "Title": "Praise The Lord (Da Shine) (feat. Skepta)",
         "Album_cover_link": "https://i.scdn.co/image/ab67616d0000b2739feadc48ab0661e9b3a9170b",
         "Artist": "A$AP Rocky",
         "duration_ms": 205040,
         "explicit": true,
         "id": "7ycWLEP1GsNjVvcjawXz3z",
         "popularity": 82,
         "release_date": "2018-05-25",
         "release_date_precision": "day",
         "total_tracks": 15,
         "danceability": 0.854,
         "energy": 0.569,
         "key": 5,
         "loudness": -8.151,
         "mode": 0,
         "speechiness": 0.106,
         "acousticness": 0.0609,
         "instrumentalness": 0.0816,
         "liveness": 0.1,
         "valence": 0.294,
         "tempo": 80.015,
         "time_signature": 4,
         "_deepnote_index_column": 1155
        }
       ],
       "rows_bottom": [
        {
         "Genre": "rap",
         "Title": "Fight The Power",
         "Album_cover_link": "https://i.scdn.co/image/ab67616d0000b2732e3d1de8b2f61a477ae1ed6c",
         "Artist": "Public Enemy",
         "duration_ms": 282640,
         "explicit": true,
         "id": "1yo16b3u0lptm6Cs7lx4AD",
         "popularity": 57,
         "release_date": "1990-04-10",
         "release_date_precision": "day",
         "total_tracks": 20,
         "danceability": 0.797,
         "energy": 0.582,
         "key": 2,
         "loudness": -12.97,
         "mode": 1,
         "speechiness": 0.255,
         "acousticness": 0.00484,
         "instrumentalness": 0.00000204,
         "liveness": 0.517,
         "valence": 0.415,
         "tempo": 105.974,
         "time_signature": 4,
         "_deepnote_index_column": 2041
        },
        {
         "Genre": "rap",
         "Title": "Throw It Up",
         "Album_cover_link": "https://i.scdn.co/image/ab67616d0000b2733ba0e7112f965bfda72b1c5b",
         "Artist": "Lil Jon & The East Side Boyz",
         "duration_ms": 372973,
         "explicit": true,
         "id": "7MSwclTvW6KLLkTbmw9FUQ",
         "popularity": 54,
         "release_date": "2002-10-29",
         "release_date_precision": "day",
         "total_tracks": 19,
         "danceability": 0.698,
         "energy": 0.602,
         "key": 3,
         "loudness": -3.183,
         "mode": 1,
         "speechiness": 0.0889,
         "acousticness": 0.0515,
         "instrumentalness": 0,
         "liveness": 0.32,
         "valence": 0.138,
         "tempo": 145.941,
         "time_signature": 4,
         "_deepnote_index_column": 2042
        },
        {
         "Genre": "rap",
         "Title": "Squares Out Your Circle",
         "Album_cover_link": "https://i.scdn.co/image/ab67616d0000b273f5dae371eb2cc60a42b335ac",
         "Artist": "Rocko",
         "duration_ms": 240039,
         "explicit": true,
         "id": "21FXFLVjdWXp4RNAGc4zZ7",
         "popularity": 40,
         "release_date": "2011-12-13",
         "release_date_precision": "day",
         "total_tracks": 19,
         "danceability": 0.496,
         "energy": 0.689,
         "key": 8,
         "loudness": -8.624,
         "mode": 1,
         "speechiness": 0.357,
         "acousticness": 0.0349,
         "instrumentalness": 0,
         "liveness": 0.109,
         "valence": 0.539,
         "tempo": 65.647,
         "time_signature": 4,
         "_deepnote_index_column": 2043
        },
        {
         "Genre": "rap",
         "Title": "Off Deez (with J. Cole)",
         "Album_cover_link": "https://i.scdn.co/image/ab67616d0000b273f5991f6f1f0de2277bb8d948",
         "Artist": "JID",
         "duration_ms": 213357,
         "explicit": true,
         "id": "3JAeYOjyJodI4PRs44lx2l",
         "popularity": 64,
         "release_date": "2018-11-26",
         "release_date_precision": "day",
         "total_tracks": 14,
         "danceability": 0.836,
         "energy": 0.579,
         "key": 9,
         "loudness": -6.164,
         "mode": 1,
         "speechiness": 0.243,
         "acousticness": 0.00207,
         "instrumentalness": 0,
         "liveness": 0.11,
         "valence": 0.431,
         "tempo": 85.486,
         "time_signature": 4,
         "_deepnote_index_column": 2044
        },
        {
         "Genre": "rap",
         "Title": "#1 Stunna",
         "Album_cover_link": "https://i.scdn.co/image/ab67616d0000b27384bbad2a8b3031bb46d67573",
         "Artist": "Big Tymers",
         "duration_ms": 281960,
         "explicit": true,
         "id": "7kBdenpTmgWfAz9clmBcok",
         "popularity": 50,
         "release_date": "2000-01-01",
         "release_date_precision": "day",
         "total_tracks": 18,
         "danceability": 0.552,
         "energy": 0.842,
         "key": 8,
         "loudness": -4.961,
         "mode": 1,
         "speechiness": 0.285,
         "acousticness": 0.0176,
         "instrumentalness": 0.00327,
         "liveness": 0.258,
         "valence": 0.561,
         "tempo": 89.017,
         "time_signature": 4,
         "_deepnote_index_column": 2045
        },
        {
         "Genre": "rap",
         "Title": "Six 12's (feat. Mouse On Tha Track)",
         "Album_cover_link": "https://i.scdn.co/image/ab67616d0000b27334edf359b2d8619db7455c6f",
         "Artist": "Webbie",
         "duration_ms": 241040,
         "explicit": true,
         "id": "4lzxZnxRLgyheIqHfJ4YRk",
         "popularity": 47,
         "release_date": "2008-02-25",
         "release_date_precision": "day",
         "total_tracks": 16,
         "danceability": 0.667,
         "energy": 0.703,
         "key": 4,
         "loudness": -5.347,
         "mode": 0,
         "speechiness": 0.152,
         "acousticness": 0.0276,
         "instrumentalness": 0,
         "liveness": 0.268,
         "valence": 0.518,
         "tempo": 85.476,
         "time_signature": 4,
         "_deepnote_index_column": 2046
        },
        {
         "Genre": "rap",
         "Title": "Wanna Get To Know You",
         "Album_cover_link": "https://i.scdn.co/image/ab67616d0000b2735763a1ac1bce68a1af55b6e3",
         "Artist": "G-Unit",
         "duration_ms": 265026,
         "explicit": true,
         "id": "1dHJETCn2X1R1YwVlMvSza",
         "popularity": 62,
         "release_date": "2003-01-01",
         "release_date_precision": "day",
         "total_tracks": 19,
         "danceability": 0.513,
         "energy": 0.826,
         "key": 10,
         "loudness": -3.651,
         "mode": 0,
         "speechiness": 0.132,
         "acousticness": 0.106,
         "instrumentalness": 0,
         "liveness": 0.0675,
         "valence": 0.889,
         "tempo": 76.91,
         "time_signature": 1,
         "_deepnote_index_column": 2047
        },
        {
         "Genre": "rap",
         "Title": "O.G. Original Gangster",
         "Album_cover_link": "https://i.scdn.co/image/ab67616d0000b273130dcab9b9d160b5d9352c78",
         "Artist": "ICE-T",
         "duration_ms": 283293,
         "explicit": true,
         "id": "0G3ImRQDWtOTwTK1oL5uWF",
         "popularity": 44,
         "release_date": "1991",
         "release_date_precision": "year",
         "total_tracks": 24,
         "danceability": 0.887,
         "energy": 0.847,
         "key": 7,
         "loudness": -10.885,
         "mode": 1,
         "speechiness": 0.253,
         "acousticness": 0.115,
         "instrumentalness": 0.0000824,
         "liveness": 0.216,
         "valence": 0.739,
         "tempo": 103.008,
         "time_signature": 4,
         "_deepnote_index_column": 2048
        },
        {
         "Genre": "rap",
         "Title": "Party We Will Throw Now!",
         "Album_cover_link": "https://i.scdn.co/image/ab67616d0000b273d8c761c644d392d97702c165",
         "Artist": "Warren G",
         "duration_ms": 209412,
         "explicit": true,
         "id": "0KbIwqCAHmXWu7hrszXY6j",
         "popularity": 65,
         "release_date": "2012-04-24",
         "release_date_precision": "day",
         "total_tracks": 1,
         "danceability": 0.934,
         "energy": 0.562,
         "key": 4,
         "loudness": -4.609,
         "mode": 0,
         "speechiness": 0.24,
         "acousticness": 0.0476,
         "instrumentalness": 0.00000131,
         "liveness": 0.0608,
         "valence": 0.712,
         "tempo": 96.792,
         "time_signature": 4,
         "_deepnote_index_column": 2049
        },
        {
         "Genre": "rap",
         "Title": "Headstone",
         "Album_cover_link": "https://i.scdn.co/image/ab67616d0000b273b4e320aee99bd87662d85178",
         "Artist": "Flatbush Zombies",
         "duration_ms": 258765,
         "explicit": true,
         "id": "0PWP4LIOI5xjVkaWqES7ek",
         "popularity": 55,
         "release_date": "2018-04-06",
         "release_date_precision": "day",
         "total_tracks": 19,
         "danceability": 0.792,
         "energy": 0.665,
         "key": 10,
         "loudness": -5.676,
         "mode": 0,
         "speechiness": 0.1,
         "acousticness": 0.0196,
         "instrumentalness": 0.00000508,
         "liveness": 0.597,
         "valence": 0.786,
         "tempo": 90.001,
         "time_signature": 4,
         "_deepnote_index_column": 2050
        },
        {
         "Genre": "rap",
         "Title": "We In Da City",
         "Album_cover_link": "https://i.scdn.co/image/ab67616d0000b273746a9a94e3e227982989de7c",
         "Artist": "Young Dro",
         "duration_ms": 205812,
         "explicit": true,
         "id": "3kK1rjPGWTgBzhGkwlJuAJ",
         "popularity": 43,
         "release_date": "2015-09-18",
         "release_date_precision": "day",
         "total_tracks": 12,
         "danceability": 0.737,
         "energy": 0.673,
         "key": 1,
         "loudness": -5.381,
         "mode": 0,
         "speechiness": 0.0682,
         "acousticness": 0.000233,
         "instrumentalness": 0,
         "liveness": 0.092,
         "valence": 0.266,
         "tempo": 139.985,
         "time_signature": 4,
         "_deepnote_index_column": 2051
        },
        {
         "Genre": "rap",
         "Title": "PradadaBang",
         "Album_cover_link": "https://i.scdn.co/image/ab67616d0000b2734cbb85cdf8b93d2285d4d384",
         "Artist": "IDK",
         "duration_ms": 145897,
         "explicit": true,
         "id": "3DydI7vEHRh15tntt2aWJY",
         "popularity": 52,
         "release_date": "2021-06-04",
         "release_date_precision": "day",
         "total_tracks": 34,
         "danceability": 0.85,
         "energy": 0.615,
         "key": 9,
         "loudness": -6.6,
         "mode": 0,
         "speechiness": 0.271,
         "acousticness": 0.0329,
         "instrumentalness": 0,
         "liveness": 0.429,
         "valence": 0.546,
         "tempo": 120.053,
         "time_signature": 4,
         "_deepnote_index_column": 2052
        },
        {
         "Genre": "rap",
         "Title": "Hell on Earth (Front Lines)",
         "Album_cover_link": "https://i.scdn.co/image/ab67616d0000b273aaade0aecd37f7c8311e11c7",
         "Artist": "Mobb Deep",
         "duration_ms": 274093,
         "explicit": true,
         "id": "1RjU7UhRICmdFPKxCucLgq",
         "popularity": 65,
         "release_date": "1996-11-19",
         "release_date_precision": "day",
         "total_tracks": 14,
         "danceability": 0.875,
         "energy": 0.658,
         "key": 0,
         "loudness": -3.641,
         "mode": 1,
         "speechiness": 0.359,
         "acousticness": 0.275,
         "instrumentalness": 0,
         "liveness": 0.122,
         "valence": 0.661,
         "tempo": 92.038,
         "time_signature": 4,
         "_deepnote_index_column": 2053
        },
        {
         "Genre": "rap",
         "Title": "I'm Throwed (feat. Jermaine Dupri)",
         "Album_cover_link": "https://i.scdn.co/image/ab67616d0000b273ea751bc056d88d9665a96777",
         "Artist": "Paul Wall",
         "duration_ms": 231306,
         "explicit": true,
         "id": "3n5rIcC04MiNx4T2GOS06g",
         "popularity": 49,
         "release_date": "2007-04-02",
         "release_date_precision": "day",
         "total_tracks": 14,
         "danceability": 0.739,
         "energy": 0.777,
         "key": 4,
         "loudness": -5.7,
         "mode": 0,
         "speechiness": 0.239,
         "acousticness": 0.0135,
         "instrumentalness": 0,
         "liveness": 0.134,
         "valence": 0.756,
         "tempo": 82.01,
         "time_signature": 4,
         "_deepnote_index_column": 2054
        },
        {
         "Genre": "rap",
         "Title": "Front, Back & Side to Side",
         "Album_cover_link": "https://i.scdn.co/image/ab67616d0000b273946ed4bb24cc31e9ade66b0f",
         "Artist": "UGK",
         "duration_ms": 313800,
         "explicit": true,
         "id": "1BVTXeq3Hv4K1QamHvrt6A",
         "popularity": 34,
         "release_date": "1994-04-11",
         "release_date_precision": "day",
         "total_tracks": 11,
         "danceability": 0.818,
         "energy": 0.633,
         "key": 2,
         "loudness": -5.598,
         "mode": 1,
         "speechiness": 0.105,
         "acousticness": 0.0192,
         "instrumentalness": 0.0000147,
         "liveness": 0.0444,
         "valence": 0.803,
         "tempo": 150,
         "time_signature": 4,
         "_deepnote_index_column": 2055
        },
        {
         "Genre": "rap",
         "Title": "Nas Is Like",
         "Album_cover_link": "https://i.scdn.co/image/ab67616d0000b273e80a5aa8d7224edc04b1dc28",
         "Artist": "Nas",
         "duration_ms": 237026,
         "explicit": true,
         "id": "3gY6tiCNsuVi6s8kPV6aQg",
         "popularity": 66,
         "release_date": "1999-04-06",
         "release_date_precision": "day",
         "total_tracks": 16,
         "danceability": 0.634,
         "energy": 0.845,
         "key": 11,
         "loudness": -5.058,
         "mode": 0,
         "speechiness": 0.352,
         "acousticness": 0.00602,
         "instrumentalness": 0.00000529,
         "liveness": 0.0598,
         "valence": 0.929,
         "tempo": 94,
         "time_signature": 4,
         "_deepnote_index_column": 2056
        },
        {
         "Genre": "rap",
         "Title": "Ninety",
         "Album_cover_link": "https://i.scdn.co/image/ab67616d0000b2736aafb01504b69173c877bdca",
         "Artist": "Jaden",
         "duration_ms": 468168,
         "explicit": true,
         "id": "2jdw2tc29bqJwToyGvKgJm",
         "popularity": 67,
         "release_date": "2017-11-17",
         "release_date_precision": "day",
         "total_tracks": 17,
         "danceability": 0.398,
         "energy": 0.69,
         "key": 1,
         "loudness": -6.809,
         "mode": 0,
         "speechiness": 0.0631,
         "acousticness": 0.384,
         "instrumentalness": 0.000437,
         "liveness": 0.129,
         "valence": 0.174,
         "tempo": 129.904,
         "time_signature": 4,
         "_deepnote_index_column": 2057
        },
        {
         "Genre": "rap",
         "Title": "Mind Playin' Tricks",
         "Album_cover_link": "https://i.scdn.co/image/ab67616d0000b2732675141082ba4bbc5d50af08",
         "Artist": "Geto Boys",
         "duration_ms": 148053,
         "explicit": true,
         "id": "3myrzRJNm3fOLWliErE7GF",
         "popularity": 44,
         "release_date": "2013-08-15",
         "release_date_precision": "day",
         "total_tracks": 21,
         "danceability": 0.891,
         "energy": 0.607,
         "key": 10,
         "loudness": -8.64,
         "mode": 0,
         "speechiness": 0.238,
         "acousticness": 0.285,
         "instrumentalness": 0,
         "liveness": 0.168,
         "valence": 0.509,
         "tempo": 94.028,
         "time_signature": 4,
         "_deepnote_index_column": 2058
        },
        {
         "Genre": "rap",
         "Title": "Shattered Dreams",
         "Album_cover_link": "https://i.scdn.co/image/ab67616d0000b2732b688ab63b1a5f281cfdf451",
         "Artist": "Earl Sweatshirt",
         "duration_ms": 141000,
         "explicit": true,
         "id": "2LQb3iYBzoxbxct2IexjBc",
         "popularity": 60,
         "release_date": "2018-11-30",
         "release_date_precision": "day",
         "total_tracks": 15,
         "danceability": 0.377,
         "energy": 0.506,
         "key": 11,
         "loudness": -4.773,
         "mode": 0,
         "speechiness": 0.157,
         "acousticness": 0.00889,
         "instrumentalness": 0.00000115,
         "liveness": 0.482,
         "valence": 0.787,
         "tempo": 145.254,
         "time_signature": 4,
         "_deepnote_index_column": 2059
        },
        {
         "Genre": "rap",
         "Title": "Bout It, Bout It II",
         "Album_cover_link": "https://i.scdn.co/image/ab67616d0000b273ff6769d508c5628a2c2a6137",
         "Artist": "Master P",
         "duration_ms": 308973,
         "explicit": true,
         "id": "2ohf5urBpT8bieYr8kq3kt",
         "popularity": 48,
         "release_date": "1996",
         "release_date_precision": "year",
         "total_tracks": 19,
         "danceability": 0.484,
         "energy": 0.69,
         "key": 6,
         "loudness": -6.339,
         "mode": 1,
         "speechiness": 0.316,
         "acousticness": 0.00757,
         "instrumentalness": 0,
         "liveness": 0.181,
         "valence": 0.657,
         "tempo": 80.862,
         "time_signature": 3,
         "_deepnote_index_column": 2060
        },
        {
         "Genre": "rap",
         "Title": "Smooth Operator",
         "Album_cover_link": "https://i.scdn.co/image/ab67616d0000b27375f7661c21b85aab0126f80c",
         "Artist": "Big Daddy Kane",
         "duration_ms": 284466,
         "explicit": false,
         "id": "1Z4mVNtYGnpjHUoZVo3IMU",
         "popularity": 50,
         "release_date": "1989",
         "release_date_precision": "year",
         "total_tracks": 17,
         "danceability": 0.891,
         "energy": 0.319,
         "key": 4,
         "loudness": -16.099,
         "mode": 0,
         "speechiness": 0.333,
         "acousticness": 0.0933,
         "instrumentalness": 0.000104,
         "liveness": 0.0482,
         "valence": 0.687,
         "tempo": 92.649,
         "time_signature": 4,
         "_deepnote_index_column": 2061
        }
       ]
      },
      "text/plain": "     Genre                                          Title  \\\n1136   rap                                  Unforgettable   \n1137   rap  Sharing Locations (feat. Lil Baby & Lil Durk)   \n1138   rap                             Wake Up in the Sky   \n1139   rap                                     Plain Jane   \n1140   rap                                 Collard Greens   \n...    ...                                            ...   \n2057   rap                                         Ninety   \n2058   rap                            Mind Playin' Tricks   \n2059   rap                               Shattered Dreams   \n2060   rap                            Bout It, Bout It II   \n2061   rap                                Smooth Operator   \n\n                                       Album_cover_link           Artist  \\\n1136  https://i.scdn.co/image/ab67616d0000b2738a3119...   French Montana   \n1137  https://i.scdn.co/image/ab67616d0000b273716d71...        Meek Mill   \n1138  https://i.scdn.co/image/ab67616d0000b2736e4366...       Gucci Mane   \n1139  https://i.scdn.co/image/ab67616d0000b273d79cfa...        A$AP Ferg   \n1140  https://i.scdn.co/image/ab67616d0000b27336977e...      ScHoolboy Q   \n...                                                 ...              ...   \n2057  https://i.scdn.co/image/ab67616d0000b2736aafb0...            Jaden   \n2058  https://i.scdn.co/image/ab67616d0000b273267514...        Geto Boys   \n2059  https://i.scdn.co/image/ab67616d0000b2732b688a...  Earl Sweatshirt   \n2060  https://i.scdn.co/image/ab67616d0000b273ff6769...         Master P   \n2061  https://i.scdn.co/image/ab67616d0000b27375f766...   Big Daddy Kane   \n\n      duration_ms  explicit                      id  popularity release_date  \\\n1136       233901      True  3B54sVLJ402zGa6Xm4YGNe          81   2017-07-14   \n1137       161052      True  3T9BKc4kB7ukeNQrCqv6ZV          70   2021-10-01   \n1138       203161      True  2G1tXoGBaEMJ7FKGnkf6ud          70   2018-12-07   \n1139       173600      True  4dVpf9jZjcORqGTLUaeYj9          75   2017-08-18   \n1140       299960      True  0zO8ctW0UiuOefR87OeJOZ          82   2014-01-01   \n...           ...       ...                     ...         ...          ...   \n2057       468168      True  2jdw2tc29bqJwToyGvKgJm          67   2017-11-17   \n2058       148053      True  3myrzRJNm3fOLWliErE7GF          44   2013-08-15   \n2059       141000      True  2LQb3iYBzoxbxct2IexjBc          60   2018-11-30   \n2060       308973      True  2ohf5urBpT8bieYr8kq3kt          48         1996   \n2061       284466     False  1Z4mVNtYGnpjHUoZVo3IMU          50         1989   \n\n     release_date_precision  ...  key  loudness  mode  speechiness  \\\n1136                    day  ...    6    -5.043     1       0.1230   \n1137                    day  ...    1    -5.585     1       0.0385   \n1138                    day  ...    4    -5.144     0       0.0485   \n1139                    day  ...   11    -5.482     1       0.2750   \n1140                    day  ...   11    -4.870     1       0.0633   \n...                     ...  ...  ...       ...   ...          ...   \n2057                    day  ...    1    -6.809     0       0.0631   \n2058                    day  ...   10    -8.640     0       0.2380   \n2059                    day  ...   11    -4.773     0       0.1570   \n2060                   year  ...    6    -6.339     1       0.3160   \n2061                   year  ...    4   -16.099     0       0.3330   \n\n      acousticness  instrumentalness  liveness  valence    tempo  \\\n1136       0.02930          0.010100    0.1040    0.733   97.985   \n1137       0.00383          0.000000    0.1390    0.183  151.951   \n1138       0.00381          0.000000    0.3670    0.367  143.010   \n1139       0.06510          0.000000    0.0870    0.520  170.142   \n1140       0.02500          0.000010    0.2050    0.650  153.954   \n...            ...               ...       ...      ...      ...   \n2057       0.38400          0.000437    0.1290    0.174  129.904   \n2058       0.28500          0.000000    0.1680    0.509   94.028   \n2059       0.00889          0.000001    0.4820    0.787  145.254   \n2060       0.00757          0.000000    0.1810    0.657   80.862   \n2061       0.09330          0.000104    0.0482    0.687   92.649   \n\n      time_signature  \n1136               4  \n1137               4  \n1138               4  \n1139               4  \n1140               4  \n...              ...  \n2057               4  \n2058               4  \n2059               4  \n2060               3  \n2061               4  \n\n[926 rows x 23 columns]",
      "text/html": "<div>\n<style scoped>\n    .dataframe tbody tr th:only-of-type {\n        vertical-align: middle;\n    }\n\n    .dataframe tbody tr th {\n        vertical-align: top;\n    }\n\n    .dataframe thead th {\n        text-align: right;\n    }\n</style>\n<table border=\"1\" class=\"dataframe\">\n  <thead>\n    <tr style=\"text-align: right;\">\n      <th></th>\n      <th>Genre</th>\n      <th>Title</th>\n      <th>Album_cover_link</th>\n      <th>Artist</th>\n      <th>duration_ms</th>\n      <th>explicit</th>\n      <th>id</th>\n      <th>popularity</th>\n      <th>release_date</th>\n      <th>release_date_precision</th>\n      <th>...</th>\n      <th>key</th>\n      <th>loudness</th>\n      <th>mode</th>\n      <th>speechiness</th>\n      <th>acousticness</th>\n      <th>instrumentalness</th>\n      <th>liveness</th>\n      <th>valence</th>\n      <th>tempo</th>\n      <th>time_signature</th>\n    </tr>\n  </thead>\n  <tbody>\n    <tr>\n      <th>1136</th>\n      <td>rap</td>\n      <td>Unforgettable</td>\n      <td>https://i.scdn.co/image/ab67616d0000b2738a3119...</td>\n      <td>French Montana</td>\n      <td>233901</td>\n      <td>True</td>\n      <td>3B54sVLJ402zGa6Xm4YGNe</td>\n      <td>81</td>\n      <td>2017-07-14</td>\n      <td>day</td>\n      <td>...</td>\n      <td>6</td>\n      <td>-5.043</td>\n      <td>1</td>\n      <td>0.1230</td>\n      <td>0.02930</td>\n      <td>0.010100</td>\n      <td>0.1040</td>\n      <td>0.733</td>\n      <td>97.985</td>\n      <td>4</td>\n    </tr>\n    <tr>\n      <th>1137</th>\n      <td>rap</td>\n      <td>Sharing Locations (feat. Lil Baby &amp; Lil Durk)</td>\n      <td>https://i.scdn.co/image/ab67616d0000b273716d71...</td>\n      <td>Meek Mill</td>\n      <td>161052</td>\n      <td>True</td>\n      <td>3T9BKc4kB7ukeNQrCqv6ZV</td>\n      <td>70</td>\n      <td>2021-10-01</td>\n      <td>day</td>\n      <td>...</td>\n      <td>1</td>\n      <td>-5.585</td>\n      <td>1</td>\n      <td>0.0385</td>\n      <td>0.00383</td>\n      <td>0.000000</td>\n      <td>0.1390</td>\n      <td>0.183</td>\n      <td>151.951</td>\n      <td>4</td>\n    </tr>\n    <tr>\n      <th>1138</th>\n      <td>rap</td>\n      <td>Wake Up in the Sky</td>\n      <td>https://i.scdn.co/image/ab67616d0000b2736e4366...</td>\n      <td>Gucci Mane</td>\n      <td>203161</td>\n      <td>True</td>\n      <td>2G1tXoGBaEMJ7FKGnkf6ud</td>\n      <td>70</td>\n      <td>2018-12-07</td>\n      <td>day</td>\n      <td>...</td>\n      <td>4</td>\n      <td>-5.144</td>\n      <td>0</td>\n      <td>0.0485</td>\n      <td>0.00381</td>\n      <td>0.000000</td>\n      <td>0.3670</td>\n      <td>0.367</td>\n      <td>143.010</td>\n      <td>4</td>\n    </tr>\n    <tr>\n      <th>1139</th>\n      <td>rap</td>\n      <td>Plain Jane</td>\n      <td>https://i.scdn.co/image/ab67616d0000b273d79cfa...</td>\n      <td>A$AP Ferg</td>\n      <td>173600</td>\n      <td>True</td>\n      <td>4dVpf9jZjcORqGTLUaeYj9</td>\n      <td>75</td>\n      <td>2017-08-18</td>\n      <td>day</td>\n      <td>...</td>\n      <td>11</td>\n      <td>-5.482</td>\n      <td>1</td>\n      <td>0.2750</td>\n      <td>0.06510</td>\n      <td>0.000000</td>\n      <td>0.0870</td>\n      <td>0.520</td>\n      <td>170.142</td>\n      <td>4</td>\n    </tr>\n    <tr>\n      <th>1140</th>\n      <td>rap</td>\n      <td>Collard Greens</td>\n      <td>https://i.scdn.co/image/ab67616d0000b27336977e...</td>\n      <td>ScHoolboy Q</td>\n      <td>299960</td>\n      <td>True</td>\n      <td>0zO8ctW0UiuOefR87OeJOZ</td>\n      <td>82</td>\n      <td>2014-01-01</td>\n      <td>day</td>\n      <td>...</td>\n      <td>11</td>\n      <td>-4.870</td>\n      <td>1</td>\n      <td>0.0633</td>\n      <td>0.02500</td>\n      <td>0.000010</td>\n      <td>0.2050</td>\n      <td>0.650</td>\n      <td>153.954</td>\n      <td>4</td>\n    </tr>\n    <tr>\n      <th>...</th>\n      <td>...</td>\n      <td>...</td>\n      <td>...</td>\n      <td>...</td>\n      <td>...</td>\n      <td>...</td>\n      <td>...</td>\n      <td>...</td>\n      <td>...</td>\n      <td>...</td>\n      <td>...</td>\n      <td>...</td>\n      <td>...</td>\n      <td>...</td>\n      <td>...</td>\n      <td>...</td>\n      <td>...</td>\n      <td>...</td>\n      <td>...</td>\n      <td>...</td>\n      <td>...</td>\n    </tr>\n    <tr>\n      <th>2057</th>\n      <td>rap</td>\n      <td>Ninety</td>\n      <td>https://i.scdn.co/image/ab67616d0000b2736aafb0...</td>\n      <td>Jaden</td>\n      <td>468168</td>\n      <td>True</td>\n      <td>2jdw2tc29bqJwToyGvKgJm</td>\n      <td>67</td>\n      <td>2017-11-17</td>\n      <td>day</td>\n      <td>...</td>\n      <td>1</td>\n      <td>-6.809</td>\n      <td>0</td>\n      <td>0.0631</td>\n      <td>0.38400</td>\n      <td>0.000437</td>\n      <td>0.1290</td>\n      <td>0.174</td>\n      <td>129.904</td>\n      <td>4</td>\n    </tr>\n    <tr>\n      <th>2058</th>\n      <td>rap</td>\n      <td>Mind Playin' Tricks</td>\n      <td>https://i.scdn.co/image/ab67616d0000b273267514...</td>\n      <td>Geto Boys</td>\n      <td>148053</td>\n      <td>True</td>\n      <td>3myrzRJNm3fOLWliErE7GF</td>\n      <td>44</td>\n      <td>2013-08-15</td>\n      <td>day</td>\n      <td>...</td>\n      <td>10</td>\n      <td>-8.640</td>\n      <td>0</td>\n      <td>0.2380</td>\n      <td>0.28500</td>\n      <td>0.000000</td>\n      <td>0.1680</td>\n      <td>0.509</td>\n      <td>94.028</td>\n      <td>4</td>\n    </tr>\n    <tr>\n      <th>2059</th>\n      <td>rap</td>\n      <td>Shattered Dreams</td>\n      <td>https://i.scdn.co/image/ab67616d0000b2732b688a...</td>\n      <td>Earl Sweatshirt</td>\n      <td>141000</td>\n      <td>True</td>\n      <td>2LQb3iYBzoxbxct2IexjBc</td>\n      <td>60</td>\n      <td>2018-11-30</td>\n      <td>day</td>\n      <td>...</td>\n      <td>11</td>\n      <td>-4.773</td>\n      <td>0</td>\n      <td>0.1570</td>\n      <td>0.00889</td>\n      <td>0.000001</td>\n      <td>0.4820</td>\n      <td>0.787</td>\n      <td>145.254</td>\n      <td>4</td>\n    </tr>\n    <tr>\n      <th>2060</th>\n      <td>rap</td>\n      <td>Bout It, Bout It II</td>\n      <td>https://i.scdn.co/image/ab67616d0000b273ff6769...</td>\n      <td>Master P</td>\n      <td>308973</td>\n      <td>True</td>\n      <td>2ohf5urBpT8bieYr8kq3kt</td>\n      <td>48</td>\n      <td>1996</td>\n      <td>year</td>\n      <td>...</td>\n      <td>6</td>\n      <td>-6.339</td>\n      <td>1</td>\n      <td>0.3160</td>\n      <td>0.00757</td>\n      <td>0.000000</td>\n      <td>0.1810</td>\n      <td>0.657</td>\n      <td>80.862</td>\n      <td>3</td>\n    </tr>\n    <tr>\n      <th>2061</th>\n      <td>rap</td>\n      <td>Smooth Operator</td>\n      <td>https://i.scdn.co/image/ab67616d0000b27375f766...</td>\n      <td>Big Daddy Kane</td>\n      <td>284466</td>\n      <td>False</td>\n      <td>1Z4mVNtYGnpjHUoZVo3IMU</td>\n      <td>50</td>\n      <td>1989</td>\n      <td>year</td>\n      <td>...</td>\n      <td>4</td>\n      <td>-16.099</td>\n      <td>0</td>\n      <td>0.3330</td>\n      <td>0.09330</td>\n      <td>0.000104</td>\n      <td>0.0482</td>\n      <td>0.687</td>\n      <td>92.649</td>\n      <td>4</td>\n    </tr>\n  </tbody>\n</table>\n<p>926 rows × 23 columns</p>\n</div>"
     },
     "metadata": {},
     "output_type": "display_data"
    },
    {
     "name": "stdout",
     "text": "rock\n",
     "output_type": "stream",
     "data": {}
    },
    {
     "data": {
      "application/vnd.deepnote.dataframe.v3+json": {
       "column_count": 23,
       "row_count": 1136,
       "columns": [
        {
         "name": "Genre",
         "dtype": "object",
         "stats": {
          "unique_count": 1,
          "nan_count": 0,
          "categories": [
           {
            "name": "rock",
            "count": 1136
           }
          ]
         }
        },
        {
         "name": "Title",
         "dtype": "object",
         "stats": {
          "unique_count": 1129,
          "nan_count": 0,
          "categories": [
           {
            "name": "Wish You Were Here",
            "count": 3
           },
           {
            "name": "Fire",
            "count": 2
           },
           {
            "name": "1127 others",
            "count": 1131
           }
          ]
         }
        },
        {
         "name": "Album_cover_link",
         "dtype": "object",
         "stats": {
          "unique_count": 964,
          "nan_count": 0,
          "categories": [
           {
            "name": "https://i.scdn.co/image/ab67616d0000b273a54d51e8578d020ef3dd7113",
            "count": 3
           },
           {
            "name": "https://i.scdn.co/image/ab67616d0000b273f4822f8034e697410a14a297",
            "count": 3
           },
           {
            "name": "962 others",
            "count": 1130
           }
          ]
         }
        },
        {
         "name": "Artist",
         "dtype": "object",
         "stats": {
          "unique_count": 567,
          "nan_count": 0,
          "categories": [
           {
            "name": "The Who",
            "count": 3
           },
           {
            "name": "Boston",
            "count": 3
           },
           {
            "name": "565 others",
            "count": 1130
           }
          ]
         }
        },
        {
         "name": "duration_ms",
         "dtype": "int64",
         "stats": {
          "unique_count": 1105,
          "nan_count": 0,
          "min": "121160",
          "max": "591693",
          "histogram": [
           {
            "bin_start": 121160,
            "bin_end": 168213.3,
            "count": 85
           },
           {
            "bin_start": 168213.3,
            "bin_end": 215266.6,
            "count": 300
           },
           {
            "bin_start": 215266.6,
            "bin_end": 262319.9,
            "count": 358
           },
           {
            "bin_start": 262319.9,
            "bin_end": 309373.2,
            "count": 218
           },
           {
            "bin_start": 309373.2,
            "bin_end": 356426.5,
            "count": 96
           },
           {
            "bin_start": 356426.5,
            "bin_end": 403479.80000000005,
            "count": 34
           },
           {
            "bin_start": 403479.80000000005,
            "bin_end": 450533.10000000003,
            "count": 28
           },
           {
            "bin_start": 450533.10000000003,
            "bin_end": 497586.4,
            "count": 7
           },
           {
            "bin_start": 497586.4,
            "bin_end": 544639.7,
            "count": 7
           },
           {
            "bin_start": 544639.7,
            "bin_end": 591693,
            "count": 3
           }
          ]
         }
        },
        {
         "name": "explicit",
         "dtype": "bool",
         "stats": {
          "unique_count": 2,
          "nan_count": 0,
          "categories": [
           {
            "name": "False",
            "count": 1066
           },
           {
            "name": "True",
            "count": 70
           }
          ]
         }
        },
        {
         "name": "id",
         "dtype": "object",
         "stats": {
          "unique_count": 1136,
          "nan_count": 0,
          "categories": [
           {
            "name": "3qiyyUfYe7CRYLucrPmulD",
            "count": 1
           },
           {
            "name": "1QEEqeFIZktqIpPI4jSVSF",
            "count": 1
           },
           {
            "name": "1134 others",
            "count": 1134
           }
          ]
         }
        },
        {
         "name": "popularity",
         "dtype": "int64",
         "stats": {
          "unique_count": 62,
          "nan_count": 0,
          "min": "5",
          "max": "90",
          "histogram": [
           {
            "bin_start": 5,
            "bin_end": 13.5,
            "count": 2
           },
           {
            "bin_start": 13.5,
            "bin_end": 22,
            "count": 1
           },
           {
            "bin_start": 22,
            "bin_end": 30.5,
            "count": 10
           },
           {
            "bin_start": 30.5,
            "bin_end": 39,
            "count": 10
           },
           {
            "bin_start": 39,
            "bin_end": 47.5,
            "count": 38
           },
           {
            "bin_start": 47.5,
            "bin_end": 56,
            "count": 136
           },
           {
            "bin_start": 56,
            "bin_end": 64.5,
            "count": 368
           },
           {
            "bin_start": 64.5,
            "bin_end": 73,
            "count": 380
           },
           {
            "bin_start": 73,
            "bin_end": 81.5,
            "count": 170
           },
           {
            "bin_start": 81.5,
            "bin_end": 90,
            "count": 21
           }
          ]
         }
        },
        {
         "name": "release_date",
         "dtype": "object",
         "stats": {
          "unique_count": 632,
          "nan_count": 0,
          "categories": [
           {
            "name": "1981",
            "count": 16
           },
           {
            "name": "1992-01-01",
            "count": 16
           },
           {
            "name": "630 others",
            "count": 1104
           }
          ]
         }
        },
        {
         "name": "release_date_precision",
         "dtype": "object",
         "stats": {
          "unique_count": 3,
          "nan_count": 0,
          "categories": [
           {
            "name": "day",
            "count": 875
           },
           {
            "name": "year",
            "count": 246
           },
           {
            "name": "month",
            "count": 15
           }
          ]
         }
        },
        {
         "name": "total_tracks",
         "dtype": "int64",
         "stats": {
          "unique_count": 49,
          "nan_count": 0,
          "min": "1",
          "max": "92",
          "histogram": [
           {
            "bin_start": 1,
            "bin_end": 10.1,
            "count": 363
           },
           {
            "bin_start": 10.1,
            "bin_end": 19.2,
            "count": 662
           },
           {
            "bin_start": 19.2,
            "bin_end": 28.299999999999997,
            "count": 60
           },
           {
            "bin_start": 28.299999999999997,
            "bin_end": 37.4,
            "count": 26
           },
           {
            "bin_start": 37.4,
            "bin_end": 46.5,
            "count": 7
           },
           {
            "bin_start": 46.5,
            "bin_end": 55.599999999999994,
            "count": 6
           },
           {
            "bin_start": 55.599999999999994,
            "bin_end": 64.69999999999999,
            "count": 3
           },
           {
            "bin_start": 64.69999999999999,
            "bin_end": 73.8,
            "count": 0
           },
           {
            "bin_start": 73.8,
            "bin_end": 82.89999999999999,
            "count": 6
           },
           {
            "bin_start": 82.89999999999999,
            "bin_end": 92,
            "count": 3
           }
          ]
         }
        },
        {
         "name": "danceability",
         "dtype": "float64",
         "stats": {
          "unique_count": 476,
          "nan_count": 0,
          "min": "0.142",
          "max": "0.855",
          "histogram": [
           {
            "bin_start": 0.142,
            "bin_end": 0.2133,
            "count": 15
           },
           {
            "bin_start": 0.2133,
            "bin_end": 0.28459999999999996,
            "count": 52
           },
           {
            "bin_start": 0.28459999999999996,
            "bin_end": 0.3559,
            "count": 85
           },
           {
            "bin_start": 0.3559,
            "bin_end": 0.4272,
            "count": 153
           },
           {
            "bin_start": 0.4272,
            "bin_end": 0.49850000000000005,
            "count": 193
           },
           {
            "bin_start": 0.49850000000000005,
            "bin_end": 0.5698,
            "count": 252
           },
           {
            "bin_start": 0.5698,
            "bin_end": 0.6411,
            "count": 181
           },
           {
            "bin_start": 0.6411,
            "bin_end": 0.7124,
            "count": 129
           },
           {
            "bin_start": 0.7124,
            "bin_end": 0.7837000000000001,
            "count": 50
           },
           {
            "bin_start": 0.7837000000000001,
            "bin_end": 0.855,
            "count": 26
           }
          ]
         }
        },
        {
         "name": "energy",
         "dtype": "float64",
         "stats": {
          "unique_count": 537,
          "nan_count": 0,
          "min": "0.0993",
          "max": "0.996",
          "histogram": [
           {
            "bin_start": 0.0993,
            "bin_end": 0.18897,
            "count": 10
           },
           {
            "bin_start": 0.18897,
            "bin_end": 0.27864,
            "count": 17
           },
           {
            "bin_start": 0.27864,
            "bin_end": 0.36830999999999997,
            "count": 42
           },
           {
            "bin_start": 0.36830999999999997,
            "bin_end": 0.45798,
            "count": 61
           },
           {
            "bin_start": 0.45798,
            "bin_end": 0.54765,
            "count": 99
           },
           {
            "bin_start": 0.54765,
            "bin_end": 0.6373199999999999,
            "count": 103
           },
           {
            "bin_start": 0.6373199999999999,
            "bin_end": 0.72699,
            "count": 167
           },
           {
            "bin_start": 0.72699,
            "bin_end": 0.8166599999999999,
            "count": 190
           },
           {
            "bin_start": 0.8166599999999999,
            "bin_end": 0.9063300000000001,
            "count": 236
           },
           {
            "bin_start": 0.9063300000000001,
            "bin_end": 0.996,
            "count": 211
           }
          ]
         }
        },
        {
         "name": "key",
         "dtype": "int64",
         "stats": {
          "unique_count": 12,
          "nan_count": 0,
          "min": "0",
          "max": "11",
          "histogram": [
           {
            "bin_start": 0,
            "bin_end": 1.1,
            "count": 221
           },
           {
            "bin_start": 1.1,
            "bin_end": 2.2,
            "count": 160
           },
           {
            "bin_start": 2.2,
            "bin_end": 3.3000000000000003,
            "count": 27
           },
           {
            "bin_start": 3.3000000000000003,
            "bin_end": 4.4,
            "count": 124
           },
           {
            "bin_start": 4.4,
            "bin_end": 5.5,
            "count": 80
           },
           {
            "bin_start": 5.5,
            "bin_end": 6.6000000000000005,
            "count": 68
           },
           {
            "bin_start": 6.6000000000000005,
            "bin_end": 7.700000000000001,
            "count": 144
           },
           {
            "bin_start": 7.700000000000001,
            "bin_end": 8.8,
            "count": 48
           },
           {
            "bin_start": 8.8,
            "bin_end": 9.9,
            "count": 151
           },
           {
            "bin_start": 9.9,
            "bin_end": 11,
            "count": 113
           }
          ]
         }
        },
        {
         "name": "loudness",
         "dtype": "float64",
         "stats": {
          "unique_count": 1090,
          "nan_count": 0,
          "min": "-20.567",
          "max": "0.878",
          "histogram": [
           {
            "bin_start": -20.567,
            "bin_end": -18.4225,
            "count": 5
           },
           {
            "bin_start": -18.4225,
            "bin_end": -16.278,
            "count": 7
           },
           {
            "bin_start": -16.278,
            "bin_end": -14.133500000000002,
            "count": 39
           },
           {
            "bin_start": -14.133500000000002,
            "bin_end": -11.989,
            "count": 103
           },
           {
            "bin_start": -11.989,
            "bin_end": -9.8445,
            "count": 149
           },
           {
            "bin_start": -9.8445,
            "bin_end": -7.700000000000001,
            "count": 202
           },
           {
            "bin_start": -7.700000000000001,
            "bin_end": -5.555500000000002,
            "count": 279
           },
           {
            "bin_start": -5.555500000000002,
            "bin_end": -3.4110000000000014,
            "count": 290
           },
           {
            "bin_start": -3.4110000000000014,
            "bin_end": -1.2665000000000006,
            "count": 60
           },
           {
            "bin_start": -1.2665000000000006,
            "bin_end": 0.878,
            "count": 2
           }
          ]
         }
        },
        {
         "name": "mode",
         "dtype": "int64",
         "stats": {
          "unique_count": 2,
          "nan_count": 0,
          "min": "0",
          "max": "1",
          "histogram": [
           {
            "bin_start": 0,
            "bin_end": 0.1,
            "count": 339
           },
           {
            "bin_start": 0.1,
            "bin_end": 0.2,
            "count": 0
           },
           {
            "bin_start": 0.2,
            "bin_end": 0.30000000000000004,
            "count": 0
           },
           {
            "bin_start": 0.30000000000000004,
            "bin_end": 0.4,
            "count": 0
           },
           {
            "bin_start": 0.4,
            "bin_end": 0.5,
            "count": 0
           },
           {
            "bin_start": 0.5,
            "bin_end": 0.6000000000000001,
            "count": 0
           },
           {
            "bin_start": 0.6000000000000001,
            "bin_end": 0.7000000000000001,
            "count": 0
           },
           {
            "bin_start": 0.7000000000000001,
            "bin_end": 0.8,
            "count": 0
           },
           {
            "bin_start": 0.8,
            "bin_end": 0.9,
            "count": 0
           },
           {
            "bin_start": 0.9,
            "bin_end": 1,
            "count": 797
           }
          ]
         }
        },
        {
         "name": "speechiness",
         "dtype": "float64",
         "stats": {
          "unique_count": 514,
          "nan_count": 0,
          "min": "0.0224",
          "max": "0.365",
          "histogram": [
           {
            "bin_start": 0.0224,
            "bin_end": 0.05666,
            "count": 826
           },
           {
            "bin_start": 0.05666,
            "bin_end": 0.09092,
            "count": 183
           },
           {
            "bin_start": 0.09092,
            "bin_end": 0.12517999999999999,
            "count": 67
           },
           {
            "bin_start": 0.12517999999999999,
            "bin_end": 0.15944,
            "count": 31
           },
           {
            "bin_start": 0.15944,
            "bin_end": 0.1937,
            "count": 14
           },
           {
            "bin_start": 0.1937,
            "bin_end": 0.22796,
            "count": 6
           },
           {
            "bin_start": 0.22796,
            "bin_end": 0.26221999999999995,
            "count": 2
           },
           {
            "bin_start": 0.26221999999999995,
            "bin_end": 0.29647999999999997,
            "count": 2
           },
           {
            "bin_start": 0.29647999999999997,
            "bin_end": 0.33074,
            "count": 2
           },
           {
            "bin_start": 0.33074,
            "bin_end": 0.365,
            "count": 3
           }
          ]
         }
        },
        {
         "name": "acousticness",
         "dtype": "float64",
         "stats": {
          "unique_count": 914,
          "nan_count": 0,
          "min": "4.76e-06",
          "max": "0.931",
          "histogram": [
           {
            "bin_start": 0.00000476,
            "bin_end": 0.09310428400000001,
            "count": 718
           },
           {
            "bin_start": 0.09310428400000001,
            "bin_end": 0.186203808,
            "count": 122
           },
           {
            "bin_start": 0.186203808,
            "bin_end": 0.279303332,
            "count": 75
           },
           {
            "bin_start": 0.279303332,
            "bin_end": 0.372402856,
            "count": 58
           },
           {
            "bin_start": 0.372402856,
            "bin_end": 0.46550238,
            "count": 52
           },
           {
            "bin_start": 0.46550238,
            "bin_end": 0.5586019040000001,
            "count": 26
           },
           {
            "bin_start": 0.5586019040000001,
            "bin_end": 0.6517014280000001,
            "count": 35
           },
           {
            "bin_start": 0.6517014280000001,
            "bin_end": 0.7448009520000001,
            "count": 25
           },
           {
            "bin_start": 0.7448009520000001,
            "bin_end": 0.8379004760000001,
            "count": 10
           },
           {
            "bin_start": 0.8379004760000001,
            "bin_end": 0.931,
            "count": 15
           }
          ]
         }
        },
        {
         "name": "instrumentalness",
         "dtype": "float64",
         "stats": {
          "unique_count": 823,
          "nan_count": 0,
          "min": "0.0",
          "max": "0.893",
          "histogram": [
           {
            "bin_start": 0,
            "bin_end": 0.0893,
            "count": 989
           },
           {
            "bin_start": 0.0893,
            "bin_end": 0.1786,
            "count": 41
           },
           {
            "bin_start": 0.1786,
            "bin_end": 0.2679,
            "count": 23
           },
           {
            "bin_start": 0.2679,
            "bin_end": 0.3572,
            "count": 13
           },
           {
            "bin_start": 0.3572,
            "bin_end": 0.4465,
            "count": 13
           },
           {
            "bin_start": 0.4465,
            "bin_end": 0.5358,
            "count": 6
           },
           {
            "bin_start": 0.5358,
            "bin_end": 0.6251,
            "count": 16
           },
           {
            "bin_start": 0.6251,
            "bin_end": 0.7144,
            "count": 9
           },
           {
            "bin_start": 0.7144,
            "bin_end": 0.8037000000000001,
            "count": 17
           },
           {
            "bin_start": 0.8037000000000001,
            "bin_end": 0.893,
            "count": 9
           }
          ]
         }
        },
        {
         "name": "liveness",
         "dtype": "float64",
         "stats": {
          "unique_count": 601,
          "nan_count": 0,
          "min": "0.0136",
          "max": "0.979",
          "histogram": [
           {
            "bin_start": 0.0136,
            "bin_end": 0.11014,
            "count": 456
           },
           {
            "bin_start": 0.11014,
            "bin_end": 0.20668,
            "count": 322
           },
           {
            "bin_start": 0.20668,
            "bin_end": 0.30322,
            "count": 147
           },
           {
            "bin_start": 0.30322,
            "bin_end": 0.39976,
            "count": 115
           },
           {
            "bin_start": 0.39976,
            "bin_end": 0.4963,
            "count": 42
           },
           {
            "bin_start": 0.4963,
            "bin_end": 0.5928399999999999,
            "count": 11
           },
           {
            "bin_start": 0.5928399999999999,
            "bin_end": 0.68938,
            "count": 23
           },
           {
            "bin_start": 0.68938,
            "bin_end": 0.78592,
            "count": 11
           },
           {
            "bin_start": 0.78592,
            "bin_end": 0.8824599999999999,
            "count": 7
           },
           {
            "bin_start": 0.8824599999999999,
            "bin_end": 0.979,
            "count": 2
           }
          ]
         }
        },
        {
         "name": "valence",
         "dtype": "float64",
         "stats": {
          "unique_count": 646,
          "nan_count": 0,
          "min": "0.0379",
          "max": "0.985",
          "histogram": [
           {
            "bin_start": 0.0379,
            "bin_end": 0.13261,
            "count": 25
           },
           {
            "bin_start": 0.13261,
            "bin_end": 0.22731999999999997,
            "count": 74
           },
           {
            "bin_start": 0.22731999999999997,
            "bin_end": 0.32203,
            "count": 113
           },
           {
            "bin_start": 0.32203,
            "bin_end": 0.41673999999999994,
            "count": 131
           },
           {
            "bin_start": 0.41673999999999994,
            "bin_end": 0.51145,
            "count": 137
           },
           {
            "bin_start": 0.51145,
            "bin_end": 0.60616,
            "count": 175
           },
           {
            "bin_start": 0.60616,
            "bin_end": 0.70087,
            "count": 139
           },
           {
            "bin_start": 0.70087,
            "bin_end": 0.79558,
            "count": 149
           },
           {
            "bin_start": 0.79558,
            "bin_end": 0.8902899999999999,
            "count": 94
           },
           {
            "bin_start": 0.8902899999999999,
            "bin_end": 0.985,
            "count": 99
           }
          ]
         }
        },
        {
         "name": "tempo",
         "dtype": "float64",
         "stats": {
          "unique_count": 1133,
          "nan_count": 0,
          "min": "61.207",
          "max": "208.282",
          "histogram": [
           {
            "bin_start": 61.207,
            "bin_end": 75.9145,
            "count": 18
           },
           {
            "bin_start": 75.9145,
            "bin_end": 90.622,
            "count": 105
           },
           {
            "bin_start": 90.622,
            "bin_end": 105.3295,
            "count": 166
           },
           {
            "bin_start": 105.3295,
            "bin_end": 120.037,
            "count": 210
           },
           {
            "bin_start": 120.037,
            "bin_end": 134.74450000000002,
            "count": 249
           },
           {
            "bin_start": 134.74450000000002,
            "bin_end": 149.452,
            "count": 154
           },
           {
            "bin_start": 149.452,
            "bin_end": 164.1595,
            "count": 95
           },
           {
            "bin_start": 164.1595,
            "bin_end": 178.86700000000002,
            "count": 103
           },
           {
            "bin_start": 178.86700000000002,
            "bin_end": 193.5745,
            "count": 26
           },
           {
            "bin_start": 193.5745,
            "bin_end": 208.282,
            "count": 10
           }
          ]
         }
        },
        {
         "name": "time_signature",
         "dtype": "int64",
         "stats": {
          "unique_count": 4,
          "nan_count": 0,
          "min": "1",
          "max": "5",
          "histogram": [
           {
            "bin_start": 1,
            "bin_end": 1.4,
            "count": 3
           },
           {
            "bin_start": 1.4,
            "bin_end": 1.8,
            "count": 0
           },
           {
            "bin_start": 1.8,
            "bin_end": 2.2,
            "count": 0
           },
           {
            "bin_start": 2.2,
            "bin_end": 2.6,
            "count": 0
           },
           {
            "bin_start": 2.6,
            "bin_end": 3,
            "count": 0
           },
           {
            "bin_start": 3,
            "bin_end": 3.4000000000000004,
            "count": 45
           },
           {
            "bin_start": 3.4000000000000004,
            "bin_end": 3.8000000000000003,
            "count": 0
           },
           {
            "bin_start": 3.8000000000000003,
            "bin_end": 4.2,
            "count": 1086
           },
           {
            "bin_start": 4.2,
            "bin_end": 4.6,
            "count": 0
           },
           {
            "bin_start": 4.6,
            "bin_end": 5,
            "count": 2
           }
          ]
         }
        },
        {
         "name": "_deepnote_index_column",
         "dtype": "int64"
        }
       ],
       "rows": [
        {
         "Genre": "rock",
         "Title": "Baba O'Riley",
         "Album_cover_link": "https://i.scdn.co/image/ab67616d0000b273fe24dcd263c08c6dd84b6e8c",
         "Artist": "The Who",
         "duration_ms": 300400,
         "explicit": false,
         "id": "3qiyyUfYe7CRYLucrPmulD",
         "popularity": 75,
         "release_date": "1971-08-14",
         "release_date_precision": "day",
         "total_tracks": 29,
         "danceability": 0.489,
         "energy": 0.724,
         "key": 5,
         "loudness": -8.367,
         "mode": 1,
         "speechiness": 0.0352,
         "acousticness": 0.313,
         "instrumentalness": 0.185,
         "liveness": 0.287,
         "valence": 0.15,
         "tempo": 117.292,
         "time_signature": 4,
         "_deepnote_index_column": 0
        },
        {
         "Genre": "rock",
         "Title": "More Than a Feeling",
         "Album_cover_link": "https://i.scdn.co/image/ab67616d0000b27390ef9760e57fafd8f966d17a",
         "Artist": "Boston",
         "duration_ms": 285133,
         "explicit": false,
         "id": "1QEEqeFIZktqIpPI4jSVSF",
         "popularity": 78,
         "release_date": "1976",
         "release_date_precision": "year",
         "total_tracks": 8,
         "danceability": 0.377,
         "energy": 0.681,
         "key": 7,
         "loudness": -8.039,
         "mode": 1,
         "speechiness": 0.0298,
         "acousticness": 0.00088,
         "instrumentalness": 0.0023,
         "liveness": 0.0504,
         "valence": 0.285,
         "tempo": 108.789,
         "time_signature": 4,
         "_deepnote_index_column": 1
        },
        {
         "Genre": "rock",
         "Title": "(Don't Fear) The Reaper",
         "Album_cover_link": "https://i.scdn.co/image/ab67616d0000b2733ac318439ae56ce048d7bf5d",
         "Artist": "Blue Öyster Cult",
         "duration_ms": 308120,
         "explicit": false,
         "id": "5QTxFnGygVM4jFQiBovmRo",
         "popularity": 76,
         "release_date": "1976",
         "release_date_precision": "year",
         "total_tracks": 10,
         "danceability": 0.333,
         "energy": 0.927,
         "key": 9,
         "loudness": -8.55,
         "mode": 0,
         "speechiness": 0.0733,
         "acousticness": 0.0029,
         "instrumentalness": 0.000208,
         "liveness": 0.297,
         "valence": 0.385,
         "tempo": 141.466,
         "time_signature": 4,
         "_deepnote_index_column": 2
        },
        {
         "Genre": "rock",
         "Title": "Jump - 2015 Remaster",
         "Album_cover_link": "https://i.scdn.co/image/ab67616d0000b273b414c63fb435b622238c15ed",
         "Artist": "Van Halen",
         "duration_ms": 241599,
         "explicit": false,
         "id": "7N3PAbqfTjSEU1edb2tY8j",
         "popularity": 78,
         "release_date": "1984-01-04",
         "release_date_precision": "day",
         "total_tracks": 9,
         "danceability": 0.572,
         "energy": 0.835,
         "key": 0,
         "loudness": -6.219,
         "mode": 1,
         "speechiness": 0.0317,
         "acousticness": 0.171,
         "instrumentalness": 0.000377,
         "liveness": 0.0702,
         "valence": 0.795,
         "tempo": 129.981,
         "time_signature": 4,
         "_deepnote_index_column": 3
        },
        {
         "Genre": "rock",
         "Title": "Stairway to Heaven - Remaster",
         "Album_cover_link": "https://i.scdn.co/image/ab67616d0000b273c8a11e48c91a982d086afc69",
         "Artist": "Led Zeppelin",
         "duration_ms": 482830,
         "explicit": false,
         "id": "5CQ30WqJwcep0pYcV4AMNc",
         "popularity": 79,
         "release_date": "1971-11-08",
         "release_date_precision": "day",
         "total_tracks": 16,
         "danceability": 0.338,
         "energy": 0.34,
         "key": 9,
         "loudness": -12.049,
         "mode": 0,
         "speechiness": 0.0339,
         "acousticness": 0.58,
         "instrumentalness": 0.0032,
         "liveness": 0.116,
         "valence": 0.197,
         "tempo": 82.433,
         "time_signature": 4,
         "_deepnote_index_column": 4
        },
        {
         "Genre": "rock",
         "Title": "American Girl",
         "Album_cover_link": "https://i.scdn.co/image/ab67616d0000b2737e42a53ea7f2ad4f36ab23a5",
         "Artist": "Tom Petty and the Heartbreakers",
         "duration_ms": 214733,
         "explicit": false,
         "id": "7MRyJPksH3G2cXHN8UKYzP",
         "popularity": 73,
         "release_date": "1976-11-09",
         "release_date_precision": "day",
         "total_tracks": 10,
         "danceability": 0.55,
         "energy": 0.824,
         "key": 2,
         "loudness": -5.988,
         "mode": 1,
         "speechiness": 0.0334,
         "acousticness": 0.448,
         "instrumentalness": 0.000127,
         "liveness": 0.366,
         "valence": 0.777,
         "tempo": 114.512,
         "time_signature": 4,
         "_deepnote_index_column": 5
        },
        {
         "Genre": "rock",
         "Title": "The Joker",
         "Album_cover_link": "https://i.scdn.co/image/ab67616d0000b273375445cc7a2aedff11361b51",
         "Artist": "Steve Miller Band",
         "duration_ms": 264503,
         "explicit": false,
         "id": "1bp2IO61zbQrbWNmKKxg3f",
         "popularity": 75,
         "release_date": "1973-01-01",
         "release_date_precision": "day",
         "total_tracks": 9,
         "danceability": 0.596,
         "energy": 0.448,
         "key": 5,
         "loudness": -9.616,
         "mode": 1,
         "speechiness": 0.0396,
         "acousticness": 0.365,
         "instrumentalness": 0.0000053,
         "liveness": 0.206,
         "valence": 0.796,
         "tempo": 83.293,
         "time_signature": 4,
         "_deepnote_index_column": 6
        },
        {
         "Genre": "rock",
         "Title": "Drive - 2017 Remaster",
         "Album_cover_link": "https://i.scdn.co/image/ab67616d0000b273f607580794ed5b352884fd47",
         "Artist": "The Cars",
         "duration_ms": 234332,
         "explicit": false,
         "id": "2lFFiNm0XtgJ6wkdncTB4k",
         "popularity": 67,
         "release_date": "1984",
         "release_date_precision": "year",
         "total_tracks": 17,
         "danceability": 0.261,
         "energy": 0.703,
         "key": 6,
         "loudness": -7.871,
         "mode": 1,
         "speechiness": 0.0414,
         "acousticness": 0.115,
         "instrumentalness": 0.00078,
         "liveness": 0.102,
         "valence": 0.405,
         "tempo": 83.495,
         "time_signature": 4,
         "_deepnote_index_column": 7
        },
        {
         "Genre": "rock",
         "Title": "Hard To Handle",
         "Album_cover_link": "https://i.scdn.co/image/ab67616d0000b273a4d2cb95d3ea17f773db23ee",
         "Artist": "The Black Crowes",
         "duration_ms": 188066,
         "explicit": false,
         "id": "05NYcsjJwOYq4jIiKPVj9p",
         "popularity": 71,
         "release_date": "1990-02-13",
         "release_date_precision": "day",
         "total_tracks": 10,
         "danceability": 0.599,
         "energy": 0.79,
         "key": 4,
         "loudness": -3.58,
         "mode": 1,
         "speechiness": 0.043,
         "acousticness": 0.00257,
         "instrumentalness": 0.00181,
         "liveness": 0.312,
         "valence": 0.961,
         "tempo": 103.783,
         "time_signature": 4,
         "_deepnote_index_column": 8
        },
        {
         "Genre": "rock",
         "Title": "Sunshine Of Your Love",
         "Album_cover_link": "https://i.scdn.co/image/ab67616d0000b273f7d3ba2473d4452b83ba61c4",
         "Artist": "Cream",
         "duration_ms": 250000,
         "explicit": false,
         "id": "6FRwDxXsvSasw0y2eDArsz",
         "popularity": 68,
         "release_date": "1967-11-02",
         "release_date_precision": "day",
         "total_tracks": 11,
         "danceability": 0.684,
         "energy": 0.481,
         "key": 2,
         "loudness": -12.59,
         "mode": 1,
         "speechiness": 0.0384,
         "acousticness": 0.475,
         "instrumentalness": 0.0000657,
         "liveness": 0.118,
         "valence": 0.784,
         "tempo": 115.078,
         "time_signature": 4,
         "_deepnote_index_column": 9
        }
       ]
      },
      "text/plain": "     Genre                                              Title  \\\n0     rock                                       Baba O'Riley   \n1     rock                                More Than a Feeling   \n2     rock                            (Don't Fear) The Reaper   \n3     rock                               Jump - 2015 Remaster   \n4     rock                      Stairway to Heaven - Remaster   \n...    ...                                                ...   \n1131  rock                                    Bring The Noise   \n1132  rock                                    Walk Idiot Walk   \n1133  rock                                       Spanish Moon   \n1134  rock  (What's So Funny 'Bout) Peace, Love And Unders...   \n1135  rock          I Don't Believe In Love - Remastered 2003   \n\n                                       Album_cover_link  \\\n0     https://i.scdn.co/image/ab67616d0000b273fe24dc...   \n1     https://i.scdn.co/image/ab67616d0000b27390ef97...   \n2     https://i.scdn.co/image/ab67616d0000b2733ac318...   \n3     https://i.scdn.co/image/ab67616d0000b273b414c6...   \n4     https://i.scdn.co/image/ab67616d0000b273c8a11e...   \n...                                                 ...   \n1131  https://i.scdn.co/image/ab67616d0000b273ba9ef4...   \n1132  https://i.scdn.co/image/ab67616d0000b27368fb48...   \n1133  https://i.scdn.co/image/ab67616d0000b2732eeed8...   \n1134  https://i.scdn.co/image/ab67616d0000b273d94c45...   \n1135  https://i.scdn.co/image/ab67616d0000b273dcd005...   \n\n                                Artist  duration_ms  explicit  \\\n0                              The Who       300400     False   \n1                               Boston       285133     False   \n2                     Blue Öyster Cult       308120     False   \n3                            Van Halen       241599     False   \n4                         Led Zeppelin       482830     False   \n...                                ...          ...       ...   \n1131                           Anthrax       211786     False   \n1132                         The Hives       211813     False   \n1133                       Little Feat       186266     False   \n1134  Elvis Costello & The Attractions       211630     False   \n1135                       Queensrÿche       263560     False   \n\n                          id  popularity release_date release_date_precision  \\\n0     3qiyyUfYe7CRYLucrPmulD          75   1971-08-14                    day   \n1     1QEEqeFIZktqIpPI4jSVSF          78         1976                   year   \n2     5QTxFnGygVM4jFQiBovmRo          76         1976                   year   \n3     7N3PAbqfTjSEU1edb2tY8j          78   1984-01-04                    day   \n4     5CQ30WqJwcep0pYcV4AMNc          79   1971-11-08                    day   \n...                      ...         ...          ...                    ...   \n1131  1p50Ir1Hm6Sa1urjaLGi7L          55   1991-01-01                    day   \n1132  5Pdd4QCr0rREXM03zBM2Eh          61   2004-01-01                    day   \n1133  24eRthJ3VWBI7B9cuFBdMG          53         1974                   year   \n1134  77XzsYwTkvLoveW01Lanrk          52   2020-11-06                    day   \n1135  0U2TocFjqul3sis3sE5jZl          54         1988                   year   \n\n      ...  key  loudness  mode  speechiness  acousticness  instrumentalness  \\\n0     ...    5    -8.367     1       0.0352      0.313000          0.185000   \n1     ...    7    -8.039     1       0.0298      0.000880          0.002300   \n2     ...    9    -8.550     0       0.0733      0.002900          0.000208   \n3     ...    0    -6.219     1       0.0317      0.171000          0.000377   \n4     ...    9   -12.049     0       0.0339      0.580000          0.003200   \n...   ...  ...       ...   ...          ...           ...               ...   \n1131  ...    2    -8.582     1       0.1700      0.000860          0.000000   \n1132  ...    9    -3.934     1       0.1030      0.003860          0.005750   \n1133  ...   11   -15.678     1       0.0828      0.421000          0.614000   \n1134  ...    7    -9.451     1       0.0803      0.000466          0.051100   \n1135  ...    7    -2.654     1       0.0745      0.037300          0.000011   \n\n      liveness  valence    tempo  time_signature  \n0       0.2870    0.150  117.292               4  \n1       0.0504    0.285  108.789               4  \n2       0.2970    0.385  141.466               4  \n3       0.0702    0.795  129.981               4  \n4       0.1160    0.197   82.433               4  \n...        ...      ...      ...             ...  \n1131    0.1020    0.296  120.962               4  \n1132    0.5820    0.684  146.318               4  \n1133    0.0566    0.738   89.846               4  \n1134    0.3210    0.368  142.340               4  \n1135    0.4250    0.266  118.004               4  \n\n[1136 rows x 23 columns]",
      "text/html": "<div>\n<style scoped>\n    .dataframe tbody tr th:only-of-type {\n        vertical-align: middle;\n    }\n\n    .dataframe tbody tr th {\n        vertical-align: top;\n    }\n\n    .dataframe thead th {\n        text-align: right;\n    }\n</style>\n<table border=\"1\" class=\"dataframe\">\n  <thead>\n    <tr style=\"text-align: right;\">\n      <th></th>\n      <th>Genre</th>\n      <th>Title</th>\n      <th>Album_cover_link</th>\n      <th>Artist</th>\n      <th>duration_ms</th>\n      <th>explicit</th>\n      <th>id</th>\n      <th>popularity</th>\n      <th>release_date</th>\n      <th>release_date_precision</th>\n      <th>...</th>\n      <th>key</th>\n      <th>loudness</th>\n      <th>mode</th>\n      <th>speechiness</th>\n      <th>acousticness</th>\n      <th>instrumentalness</th>\n      <th>liveness</th>\n      <th>valence</th>\n      <th>tempo</th>\n      <th>time_signature</th>\n    </tr>\n  </thead>\n  <tbody>\n    <tr>\n      <th>0</th>\n      <td>rock</td>\n      <td>Baba O'Riley</td>\n      <td>https://i.scdn.co/image/ab67616d0000b273fe24dc...</td>\n      <td>The Who</td>\n      <td>300400</td>\n      <td>False</td>\n      <td>3qiyyUfYe7CRYLucrPmulD</td>\n      <td>75</td>\n      <td>1971-08-14</td>\n      <td>day</td>\n      <td>...</td>\n      <td>5</td>\n      <td>-8.367</td>\n      <td>1</td>\n      <td>0.0352</td>\n      <td>0.313000</td>\n      <td>0.185000</td>\n      <td>0.2870</td>\n      <td>0.150</td>\n      <td>117.292</td>\n      <td>4</td>\n    </tr>\n    <tr>\n      <th>1</th>\n      <td>rock</td>\n      <td>More Than a Feeling</td>\n      <td>https://i.scdn.co/image/ab67616d0000b27390ef97...</td>\n      <td>Boston</td>\n      <td>285133</td>\n      <td>False</td>\n      <td>1QEEqeFIZktqIpPI4jSVSF</td>\n      <td>78</td>\n      <td>1976</td>\n      <td>year</td>\n      <td>...</td>\n      <td>7</td>\n      <td>-8.039</td>\n      <td>1</td>\n      <td>0.0298</td>\n      <td>0.000880</td>\n      <td>0.002300</td>\n      <td>0.0504</td>\n      <td>0.285</td>\n      <td>108.789</td>\n      <td>4</td>\n    </tr>\n    <tr>\n      <th>2</th>\n      <td>rock</td>\n      <td>(Don't Fear) The Reaper</td>\n      <td>https://i.scdn.co/image/ab67616d0000b2733ac318...</td>\n      <td>Blue Öyster Cult</td>\n      <td>308120</td>\n      <td>False</td>\n      <td>5QTxFnGygVM4jFQiBovmRo</td>\n      <td>76</td>\n      <td>1976</td>\n      <td>year</td>\n      <td>...</td>\n      <td>9</td>\n      <td>-8.550</td>\n      <td>0</td>\n      <td>0.0733</td>\n      <td>0.002900</td>\n      <td>0.000208</td>\n      <td>0.2970</td>\n      <td>0.385</td>\n      <td>141.466</td>\n      <td>4</td>\n    </tr>\n    <tr>\n      <th>3</th>\n      <td>rock</td>\n      <td>Jump - 2015 Remaster</td>\n      <td>https://i.scdn.co/image/ab67616d0000b273b414c6...</td>\n      <td>Van Halen</td>\n      <td>241599</td>\n      <td>False</td>\n      <td>7N3PAbqfTjSEU1edb2tY8j</td>\n      <td>78</td>\n      <td>1984-01-04</td>\n      <td>day</td>\n      <td>...</td>\n      <td>0</td>\n      <td>-6.219</td>\n      <td>1</td>\n      <td>0.0317</td>\n      <td>0.171000</td>\n      <td>0.000377</td>\n      <td>0.0702</td>\n      <td>0.795</td>\n      <td>129.981</td>\n      <td>4</td>\n    </tr>\n    <tr>\n      <th>4</th>\n      <td>rock</td>\n      <td>Stairway to Heaven - Remaster</td>\n      <td>https://i.scdn.co/image/ab67616d0000b273c8a11e...</td>\n      <td>Led Zeppelin</td>\n      <td>482830</td>\n      <td>False</td>\n      <td>5CQ30WqJwcep0pYcV4AMNc</td>\n      <td>79</td>\n      <td>1971-11-08</td>\n      <td>day</td>\n      <td>...</td>\n      <td>9</td>\n      <td>-12.049</td>\n      <td>0</td>\n      <td>0.0339</td>\n      <td>0.580000</td>\n      <td>0.003200</td>\n      <td>0.1160</td>\n      <td>0.197</td>\n      <td>82.433</td>\n      <td>4</td>\n    </tr>\n    <tr>\n      <th>...</th>\n      <td>...</td>\n      <td>...</td>\n      <td>...</td>\n      <td>...</td>\n      <td>...</td>\n      <td>...</td>\n      <td>...</td>\n      <td>...</td>\n      <td>...</td>\n      <td>...</td>\n      <td>...</td>\n      <td>...</td>\n      <td>...</td>\n      <td>...</td>\n      <td>...</td>\n      <td>...</td>\n      <td>...</td>\n      <td>...</td>\n      <td>...</td>\n      <td>...</td>\n      <td>...</td>\n    </tr>\n    <tr>\n      <th>1131</th>\n      <td>rock</td>\n      <td>Bring The Noise</td>\n      <td>https://i.scdn.co/image/ab67616d0000b273ba9ef4...</td>\n      <td>Anthrax</td>\n      <td>211786</td>\n      <td>False</td>\n      <td>1p50Ir1Hm6Sa1urjaLGi7L</td>\n      <td>55</td>\n      <td>1991-01-01</td>\n      <td>day</td>\n      <td>...</td>\n      <td>2</td>\n      <td>-8.582</td>\n      <td>1</td>\n      <td>0.1700</td>\n      <td>0.000860</td>\n      <td>0.000000</td>\n      <td>0.1020</td>\n      <td>0.296</td>\n      <td>120.962</td>\n      <td>4</td>\n    </tr>\n    <tr>\n      <th>1132</th>\n      <td>rock</td>\n      <td>Walk Idiot Walk</td>\n      <td>https://i.scdn.co/image/ab67616d0000b27368fb48...</td>\n      <td>The Hives</td>\n      <td>211813</td>\n      <td>False</td>\n      <td>5Pdd4QCr0rREXM03zBM2Eh</td>\n      <td>61</td>\n      <td>2004-01-01</td>\n      <td>day</td>\n      <td>...</td>\n      <td>9</td>\n      <td>-3.934</td>\n      <td>1</td>\n      <td>0.1030</td>\n      <td>0.003860</td>\n      <td>0.005750</td>\n      <td>0.5820</td>\n      <td>0.684</td>\n      <td>146.318</td>\n      <td>4</td>\n    </tr>\n    <tr>\n      <th>1133</th>\n      <td>rock</td>\n      <td>Spanish Moon</td>\n      <td>https://i.scdn.co/image/ab67616d0000b2732eeed8...</td>\n      <td>Little Feat</td>\n      <td>186266</td>\n      <td>False</td>\n      <td>24eRthJ3VWBI7B9cuFBdMG</td>\n      <td>53</td>\n      <td>1974</td>\n      <td>year</td>\n      <td>...</td>\n      <td>11</td>\n      <td>-15.678</td>\n      <td>1</td>\n      <td>0.0828</td>\n      <td>0.421000</td>\n      <td>0.614000</td>\n      <td>0.0566</td>\n      <td>0.738</td>\n      <td>89.846</td>\n      <td>4</td>\n    </tr>\n    <tr>\n      <th>1134</th>\n      <td>rock</td>\n      <td>(What's So Funny 'Bout) Peace, Love And Unders...</td>\n      <td>https://i.scdn.co/image/ab67616d0000b273d94c45...</td>\n      <td>Elvis Costello &amp; The Attractions</td>\n      <td>211630</td>\n      <td>False</td>\n      <td>77XzsYwTkvLoveW01Lanrk</td>\n      <td>52</td>\n      <td>2020-11-06</td>\n      <td>day</td>\n      <td>...</td>\n      <td>7</td>\n      <td>-9.451</td>\n      <td>1</td>\n      <td>0.0803</td>\n      <td>0.000466</td>\n      <td>0.051100</td>\n      <td>0.3210</td>\n      <td>0.368</td>\n      <td>142.340</td>\n      <td>4</td>\n    </tr>\n    <tr>\n      <th>1135</th>\n      <td>rock</td>\n      <td>I Don't Believe In Love - Remastered 2003</td>\n      <td>https://i.scdn.co/image/ab67616d0000b273dcd005...</td>\n      <td>Queensrÿche</td>\n      <td>263560</td>\n      <td>False</td>\n      <td>0U2TocFjqul3sis3sE5jZl</td>\n      <td>54</td>\n      <td>1988</td>\n      <td>year</td>\n      <td>...</td>\n      <td>7</td>\n      <td>-2.654</td>\n      <td>1</td>\n      <td>0.0745</td>\n      <td>0.037300</td>\n      <td>0.000011</td>\n      <td>0.4250</td>\n      <td>0.266</td>\n      <td>118.004</td>\n      <td>4</td>\n    </tr>\n  </tbody>\n</table>\n<p>1136 rows × 23 columns</p>\n</div>"
     },
     "metadata": {},
     "output_type": "display_data"
    }
   ]
  },
  {
   "cell_type": "code",
   "source": "",
   "metadata": {
    "cell_id": "00007-7116226f-42be-45e0-9751-12bd629ea984",
    "deepnote_to_be_reexecuted": false,
    "source_hash": "b623e53d",
    "execution_start": 1641336033074,
    "deepnote_cell_type": "visualization"
   },
   "outputs": [],
   "execution_count": 6
  },
  {
   "cell_type": "code",
   "metadata": {
    "colab": {
     "base_uri": "https://localhost:8080/"
    },
    "id": "LzCHbstNEY38",
    "outputId": "05cbe66e-f839-4aa6-9265-c357e956058a",
    "cell_id": "00007-6f16eb61-2f34-4a61-84f9-e3c372c6a9d0",
    "deepnote_to_be_reexecuted": false,
    "source_hash": "5de4005d",
    "execution_start": 1641336033079,
    "execution_millis": 2140385,
    "deepnote_cell_type": "code"
   },
   "source": "songs[\"Genre\"].value_counts()\nprint(songs.columns.tolist())",
   "execution_count": 7,
   "outputs": [
    {
     "name": "stdout",
     "text": "['Genre', 'Title', 'Album_cover_link', 'Artist', 'duration_ms', 'explicit', 'id', 'popularity', 'release_date', 'release_date_precision', 'total_tracks', 'danceability', 'energy', 'key', 'loudness', 'mode', 'speechiness', 'acousticness', 'instrumentalness', 'liveness', 'valence', 'tempo', 'time_signature']\n",
     "output_type": "stream",
     "data": {}
    }
   ]
  },
  {
   "cell_type": "code",
   "metadata": {
    "cell_id": "00008-363feeb8-1c7f-45cb-bd28-500220295dcb",
    "deepnote_to_be_reexecuted": false,
    "source_hash": "e39634c8",
    "execution_start": 1641336033086,
    "execution_millis": 5266,
    "deepnote_cell_type": "code"
   },
   "source": "# radsej songy prenacitam znova lebo to grupovanie potom robilo problemy\nsongs = pd.read_excel(\"spotify_genre_final.xlsx\")\nsongs_clean = songs.drop(columns=['Title', 'Album_cover_link', 'id', 'release_date', 'release_date_precision'])\nsongs_clean.info()",
   "execution_count": 8,
   "outputs": [
    {
     "name": "stdout",
     "text": "<class 'pandas.core.frame.DataFrame'>\nRangeIndex: 6917 entries, 0 to 6916\nData columns (total 18 columns):\n #   Column            Non-Null Count  Dtype  \n---  ------            --------------  -----  \n 0   Genre             6917 non-null   object \n 1   Artist            6917 non-null   object \n 2   duration_ms       6917 non-null   int64  \n 3   explicit          6917 non-null   bool   \n 4   popularity        6917 non-null   int64  \n 5   total_tracks      6917 non-null   int64  \n 6   danceability      6917 non-null   float64\n 7   energy            6917 non-null   float64\n 8   key               6917 non-null   int64  \n 9   loudness          6917 non-null   float64\n 10  mode              6917 non-null   int64  \n 11  speechiness       6917 non-null   float64\n 12  acousticness      6917 non-null   float64\n 13  instrumentalness  6917 non-null   float64\n 14  liveness          6917 non-null   float64\n 15  valence           6917 non-null   float64\n 16  tempo             6917 non-null   float64\n 17  time_signature    6917 non-null   int64  \ndtypes: bool(1), float64(9), int64(6), object(2)\nmemory usage: 925.5+ KB\n",
     "output_type": "stream",
     "data": {}
    }
   ]
  },
  {
   "cell_type": "code",
   "metadata": {
    "cell_id": "00009-9457d99a-7c1f-4fc5-b289-93d04110f862",
    "deepnote_to_be_reexecuted": false,
    "source_hash": "322cf1cc",
    "execution_start": 1641336038281,
    "execution_millis": 75,
    "deepnote_output_heights": [
     155.625
    ],
    "deepnote_cell_type": "code"
   },
   "source": "genre_categories = CategoricalDtype(genres)\nsongs_clean['GenreInt'] = songs_clean['Genre'].astype(genre_categories).cat.codes\nsongs_clean['GenreInt'].value_counts()",
   "execution_count": 9,
   "outputs": [
    {
     "output_type": "execute_result",
     "execution_count": 9,
     "data": {
      "text/plain": "3    1161\n6    1136\n2    1036\n1     971\n0     956\n5     926\n4     731\nName: GenreInt, dtype: int64"
     },
     "metadata": {}
    }
   ]
  },
  {
   "cell_type": "code",
   "metadata": {
    "cell_id": "00010-ac8840e9-6440-4ecd-a261-d9d78f140b82",
    "deepnote_to_be_reexecuted": false,
    "source_hash": "825cb0a5",
    "execution_start": 1641336038294,
    "execution_millis": 64,
    "deepnote_output_heights": [
     232.4375
    ],
    "deepnote_cell_type": "code"
   },
   "source": "artist_categories = CategoricalDtype(artists)\nsongs_clean['ArtistInt'] = songs_clean['Artist'].astype(artist_categories).cat.codes\nsongs_clean['ArtistInt'].value_counts()",
   "execution_count": 10,
   "outputs": [
    {
     "output_type": "execute_result",
     "execution_count": 10,
     "data": {
      "text/plain": "2762    8\n2418    8\n851     7\n1534    7\n1963    7\n       ..\n1850    1\n421     1\n2468    1\n417     1\n0       1\nName: ArtistInt, Length: 2912, dtype: int64"
     },
     "metadata": {}
    }
   ]
  },
  {
   "cell_type": "code",
   "metadata": {
    "cell_id": "00011-3005dbe5-e2ff-4212-97f4-add373299d06",
    "deepnote_to_be_reexecuted": false,
    "source_hash": "ac0d594",
    "execution_start": 1641336038322,
    "execution_millis": 40,
    "deepnote_output_heights": [
     59.59375
    ],
    "deepnote_cell_type": "code"
   },
   "source": "songs_clean['explicit'] = songs_clean['explicit'].astype(int)\nsongs_clean['explicit'].value_counts()",
   "execution_count": 11,
   "outputs": [
    {
     "output_type": "execute_result",
     "execution_count": 11,
     "data": {
      "text/plain": "0    4719\n1    2198\nName: explicit, dtype: int64"
     },
     "metadata": {}
    }
   ]
  },
  {
   "cell_type": "code",
   "metadata": {
    "cell_id": "00012-0d34ec2d-6d33-4bbb-9106-c3998e1db962",
    "deepnote_to_be_reexecuted": false,
    "source_hash": "bef49059",
    "execution_start": 1641336038363,
    "execution_millis": 60,
    "deepnote_cell_type": "code"
   },
   "source": "songs_clean = songs_clean.drop(columns=['Artist', 'Genre'])\nsongs_clean.info()",
   "execution_count": 12,
   "outputs": [
    {
     "name": "stdout",
     "text": "<class 'pandas.core.frame.DataFrame'>\nRangeIndex: 6917 entries, 0 to 6916\nData columns (total 18 columns):\n #   Column            Non-Null Count  Dtype  \n---  ------            --------------  -----  \n 0   duration_ms       6917 non-null   int64  \n 1   explicit          6917 non-null   int64  \n 2   popularity        6917 non-null   int64  \n 3   total_tracks      6917 non-null   int64  \n 4   danceability      6917 non-null   float64\n 5   energy            6917 non-null   float64\n 6   key               6917 non-null   int64  \n 7   loudness          6917 non-null   float64\n 8   mode              6917 non-null   int64  \n 9   speechiness       6917 non-null   float64\n 10  acousticness      6917 non-null   float64\n 11  instrumentalness  6917 non-null   float64\n 12  liveness          6917 non-null   float64\n 13  valence           6917 non-null   float64\n 14  tempo             6917 non-null   float64\n 15  time_signature    6917 non-null   int64  \n 16  GenreInt          6917 non-null   int8   \n 17  ArtistInt         6917 non-null   int16  \ndtypes: float64(9), int16(1), int64(7), int8(1)\nmemory usage: 885.0 KB\n",
     "output_type": "stream",
     "data": {}
    }
   ]
  },
  {
   "cell_type": "markdown",
   "source": "transformace dat je tady imo spatne, min neni vzdy 0.\nPouzil bych nejaky sklearn scaler",
   "metadata": {
    "tags": [],
    "cell_id": "00014-760347b2-848c-4816-bab3-021c10920cef",
    "deepnote_cell_type": "markdown"
   }
  },
  {
   "cell_type": "code",
   "metadata": {
    "cell_id": "00013-0a986f4c-4219-48d2-b205-da588724f91a",
    "deepnote_to_be_reexecuted": false,
    "source_hash": "379d6db5",
    "execution_start": 1641336038422,
    "execution_millis": 203,
    "deepnote_cell_type": "code"
   },
   "source": "target_column = ['GenreInt'] \npredictors = list(set(list(songs_clean.columns)) - set(target_column))\n\nsongs_clean[predictors] = songs_clean[predictors]/songs_clean[predictors].max()\ndisplay(songs_clean[predictors].describe())\n\nX = songs_clean[predictors].values\ny = songs_clean[target_column].values.ravel()\nX_train, X_test, y_train, y_test = train_test_split(X, y, test_size=0.20, random_state=42)\nprint(\"X_train.shape\", X_train.shape)\nprint(\"y_train.shape\", y_train.shape)\nprint(\"X_test.shape\",X_test.shape)\nprint(\"y_test.shape\",y_test.shape)",
   "execution_count": 13,
   "outputs": [
    {
     "data": {
      "application/vnd.deepnote.dataframe.v2+json": {
       "row_count": 8,
       "column_count": 17,
       "columns": [
        {
         "name": "acousticness",
         "dtype": "float64",
         "stats": {
          "unique_count": 8,
          "nan_count": 0,
          "min": "1.688708036622584e-06",
          "max": "6917.0",
          "histogram": [
           {
            "bin_start": 0.000001688708036622584,
            "bin_end": 691.7000015198372,
            "count": 7
           },
           {
            "bin_start": 691.7000015198372,
            "bin_end": 1383.4000013509662,
            "count": 0
           },
           {
            "bin_start": 1383.4000013509662,
            "bin_end": 2075.100001182095,
            "count": 0
           },
           {
            "bin_start": 2075.100001182095,
            "bin_end": 2766.8000010132246,
            "count": 0
           },
           {
            "bin_start": 2766.8000010132246,
            "bin_end": 3458.500000844354,
            "count": 0
           },
           {
            "bin_start": 3458.500000844354,
            "bin_end": 4150.200000675482,
            "count": 0
           },
           {
            "bin_start": 4150.200000675482,
            "bin_end": 4841.900000506612,
            "count": 0
           },
           {
            "bin_start": 4841.900000506612,
            "bin_end": 5533.600000337741,
            "count": 0
           },
           {
            "bin_start": 5533.600000337741,
            "bin_end": 6225.300000168871,
            "count": 0
           },
           {
            "bin_start": 6225.300000168871,
            "bin_end": 6917,
            "count": 1
           }
          ]
         }
        },
        {
         "name": "explicit",
         "dtype": "float64",
         "stats": {
          "unique_count": 5,
          "nan_count": 0,
          "min": "0.0",
          "max": "6917.0",
          "histogram": [
           {
            "bin_start": 0,
            "bin_end": 691.7,
            "count": 7
           },
           {
            "bin_start": 691.7,
            "bin_end": 1383.4,
            "count": 0
           },
           {
            "bin_start": 1383.4,
            "bin_end": 2075.1000000000004,
            "count": 0
           },
           {
            "bin_start": 2075.1000000000004,
            "bin_end": 2766.8,
            "count": 0
           },
           {
            "bin_start": 2766.8,
            "bin_end": 3458.5,
            "count": 0
           },
           {
            "bin_start": 3458.5,
            "bin_end": 4150.200000000001,
            "count": 0
           },
           {
            "bin_start": 4150.200000000001,
            "bin_end": 4841.900000000001,
            "count": 0
           },
           {
            "bin_start": 4841.900000000001,
            "bin_end": 5533.6,
            "count": 0
           },
           {
            "bin_start": 5533.6,
            "bin_end": 6225.3,
            "count": 0
           },
           {
            "bin_start": 6225.3,
            "bin_end": 6917,
            "count": 1
           }
          ]
         }
        },
        {
         "name": "duration_ms",
         "dtype": "float64",
         "stats": {
          "unique_count": 8,
          "nan_count": 0,
          "min": "0.09183262808070351",
          "max": "6917.0",
          "histogram": [
           {
            "bin_start": 0.09183262808070351,
            "bin_end": 691.7826493652726,
            "count": 7
           },
           {
            "bin_start": 691.7826493652726,
            "bin_end": 1383.4734661024645,
            "count": 0
           },
           {
            "bin_start": 1383.4734661024645,
            "bin_end": 2075.164282839656,
            "count": 0
           },
           {
            "bin_start": 2075.164282839656,
            "bin_end": 2766.8550995768483,
            "count": 0
           },
           {
            "bin_start": 2766.8550995768483,
            "bin_end": 3458.5459163140404,
            "count": 0
           },
           {
            "bin_start": 3458.5459163140404,
            "bin_end": 4150.236733051232,
            "count": 0
           },
           {
            "bin_start": 4150.236733051232,
            "bin_end": 4841.927549788424,
            "count": 0
           },
           {
            "bin_start": 4841.927549788424,
            "bin_end": 5533.618366525616,
            "count": 0
           },
           {
            "bin_start": 5533.618366525616,
            "bin_end": 6225.309183262808,
            "count": 0
           },
           {
            "bin_start": 6225.309183262808,
            "bin_end": 6917,
            "count": 1
           }
          ]
         }
        },
        {
         "name": "ArtistInt",
         "dtype": "float64",
         "stats": {
          "unique_count": 8,
          "nan_count": 0,
          "min": "0.0",
          "max": "6917.0",
          "histogram": [
           {
            "bin_start": 0,
            "bin_end": 691.7,
            "count": 7
           },
           {
            "bin_start": 691.7,
            "bin_end": 1383.4,
            "count": 0
           },
           {
            "bin_start": 1383.4,
            "bin_end": 2075.1000000000004,
            "count": 0
           },
           {
            "bin_start": 2075.1000000000004,
            "bin_end": 2766.8,
            "count": 0
           },
           {
            "bin_start": 2766.8,
            "bin_end": 3458.5,
            "count": 0
           },
           {
            "bin_start": 3458.5,
            "bin_end": 4150.200000000001,
            "count": 0
           },
           {
            "bin_start": 4150.200000000001,
            "bin_end": 4841.900000000001,
            "count": 0
           },
           {
            "bin_start": 4841.900000000001,
            "bin_end": 5533.6,
            "count": 0
           },
           {
            "bin_start": 5533.6,
            "bin_end": 6225.3,
            "count": 0
           },
           {
            "bin_start": 6225.3,
            "bin_end": 6917,
            "count": 1
           }
          ]
         }
        },
        {
         "name": "mode",
         "dtype": "float64",
         "stats": {
          "unique_count": 5,
          "nan_count": 0,
          "min": "0.0",
          "max": "6917.0",
          "histogram": [
           {
            "bin_start": 0,
            "bin_end": 691.7,
            "count": 7
           },
           {
            "bin_start": 691.7,
            "bin_end": 1383.4,
            "count": 0
           },
           {
            "bin_start": 1383.4,
            "bin_end": 2075.1000000000004,
            "count": 0
           },
           {
            "bin_start": 2075.1000000000004,
            "bin_end": 2766.8,
            "count": 0
           },
           {
            "bin_start": 2766.8,
            "bin_end": 3458.5,
            "count": 0
           },
           {
            "bin_start": 3458.5,
            "bin_end": 4150.200000000001,
            "count": 0
           },
           {
            "bin_start": 4150.200000000001,
            "bin_end": 4841.900000000001,
            "count": 0
           },
           {
            "bin_start": 4841.900000000001,
            "bin_end": 5533.6,
            "count": 0
           },
           {
            "bin_start": 5533.6,
            "bin_end": 6225.3,
            "count": 0
           },
           {
            "bin_start": 6225.3,
            "bin_end": 6917,
            "count": 1
           }
          ]
         }
        },
        {
         "name": "time_signature",
         "dtype": "float64",
         "stats": {
          "unique_count": 6,
          "nan_count": 0,
          "min": "0.0494493083009781",
          "max": "6917.0",
          "histogram": [
           {
            "bin_start": 0.0494493083009781,
            "bin_end": 691.7445043774709,
            "count": 7
           },
           {
            "bin_start": 691.7445043774709,
            "bin_end": 1383.439559446641,
            "count": 0
           },
           {
            "bin_start": 1383.439559446641,
            "bin_end": 2075.134614515811,
            "count": 0
           },
           {
            "bin_start": 2075.134614515811,
            "bin_end": 2766.829669584981,
            "count": 0
           },
           {
            "bin_start": 2766.829669584981,
            "bin_end": 3458.5247246541508,
            "count": 0
           },
           {
            "bin_start": 3458.5247246541508,
            "bin_end": 4150.21977972332,
            "count": 0
           },
           {
            "bin_start": 4150.21977972332,
            "bin_end": 4841.91483479249,
            "count": 0
           },
           {
            "bin_start": 4841.91483479249,
            "bin_end": 5533.60988986166,
            "count": 0
           },
           {
            "bin_start": 5533.60988986166,
            "bin_end": 6225.30494493083,
            "count": 0
           },
           {
            "bin_start": 6225.30494493083,
            "bin_end": 6917,
            "count": 1
           }
          ]
         }
        },
        {
         "name": "total_tracks",
         "dtype": "float64",
         "stats": {
          "unique_count": 8,
          "nan_count": 0,
          "min": "0.008",
          "max": "6917.0",
          "histogram": [
           {
            "bin_start": 0.008,
            "bin_end": 691.7072000000001,
            "count": 7
           },
           {
            "bin_start": 691.7072000000001,
            "bin_end": 1383.4064,
            "count": 0
           },
           {
            "bin_start": 1383.4064,
            "bin_end": 2075.1056,
            "count": 0
           },
           {
            "bin_start": 2075.1056,
            "bin_end": 2766.8048,
            "count": 0
           },
           {
            "bin_start": 2766.8048,
            "bin_end": 3458.504,
            "count": 0
           },
           {
            "bin_start": 3458.504,
            "bin_end": 4150.2032,
            "count": 0
           },
           {
            "bin_start": 4150.2032,
            "bin_end": 4841.9024,
            "count": 0
           },
           {
            "bin_start": 4841.9024,
            "bin_end": 5533.6016,
            "count": 0
           },
           {
            "bin_start": 5533.6016,
            "bin_end": 6225.3008,
            "count": 0
           },
           {
            "bin_start": 6225.3008,
            "bin_end": 6917,
            "count": 1
           }
          ]
         }
        },
        {
         "name": "key",
         "dtype": "float64",
         "stats": {
          "unique_count": 8,
          "nan_count": 0,
          "min": "0.0",
          "max": "6917.0",
          "histogram": [
           {
            "bin_start": 0,
            "bin_end": 691.7,
            "count": 7
           },
           {
            "bin_start": 691.7,
            "bin_end": 1383.4,
            "count": 0
           },
           {
            "bin_start": 1383.4,
            "bin_end": 2075.1000000000004,
            "count": 0
           },
           {
            "bin_start": 2075.1000000000004,
            "bin_end": 2766.8,
            "count": 0
           },
           {
            "bin_start": 2766.8,
            "bin_end": 3458.5,
            "count": 0
           },
           {
            "bin_start": 3458.5,
            "bin_end": 4150.200000000001,
            "count": 0
           },
           {
            "bin_start": 4150.200000000001,
            "bin_end": 4841.900000000001,
            "count": 0
           },
           {
            "bin_start": 4841.900000000001,
            "bin_end": 5533.6,
            "count": 0
           },
           {
            "bin_start": 5533.6,
            "bin_end": 6225.3,
            "count": 0
           },
           {
            "bin_start": 6225.3,
            "bin_end": 6917,
            "count": 1
           }
          ]
         }
        },
        {
         "name": "valence",
         "dtype": "float64",
         "stats": {
          "unique_count": 8,
          "nan_count": 0,
          "min": "0.026395939086294416",
          "max": "6917.0",
          "histogram": [
           {
            "bin_start": 0.026395939086294416,
            "bin_end": 691.7237563451778,
            "count": 7
           },
           {
            "bin_start": 691.7237563451778,
            "bin_end": 1383.4211167512692,
            "count": 0
           },
           {
            "bin_start": 1383.4211167512692,
            "bin_end": 2075.1184771573608,
            "count": 0
           },
           {
            "bin_start": 2075.1184771573608,
            "bin_end": 2766.815837563452,
            "count": 0
           },
           {
            "bin_start": 2766.815837563452,
            "bin_end": 3458.5131979695434,
            "count": 0
           },
           {
            "bin_start": 3458.5131979695434,
            "bin_end": 4150.210558375635,
            "count": 0
           },
           {
            "bin_start": 4150.210558375635,
            "bin_end": 4841.907918781726,
            "count": 0
           },
           {
            "bin_start": 4841.907918781726,
            "bin_end": 5533.605279187817,
            "count": 0
           },
           {
            "bin_start": 5533.605279187817,
            "bin_end": 6225.302639593909,
            "count": 0
           },
           {
            "bin_start": 6225.302639593909,
            "bin_end": 6917,
            "count": 1
           }
          ]
         }
        },
        {
         "name": "energy",
         "dtype": "float64",
         "stats": {
          "unique_count": 8,
          "nan_count": 0,
          "min": "0.08496993987975952",
          "max": "6917.0",
          "histogram": [
           {
            "bin_start": 0.08496993987975952,
            "bin_end": 691.7764729458918,
            "count": 7
           },
           {
            "bin_start": 691.7764729458918,
            "bin_end": 1383.4679759519038,
            "count": 0
           },
           {
            "bin_start": 1383.4679759519038,
            "bin_end": 2075.159478957916,
            "count": 0
           },
           {
            "bin_start": 2075.159478957916,
            "bin_end": 2766.8509819639276,
            "count": 0
           },
           {
            "bin_start": 2766.8509819639276,
            "bin_end": 3458.5424849699393,
            "count": 0
           },
           {
            "bin_start": 3458.5424849699393,
            "bin_end": 4150.233987975952,
            "count": 0
           },
           {
            "bin_start": 4150.233987975952,
            "bin_end": 4841.925490981964,
            "count": 0
           },
           {
            "bin_start": 4841.925490981964,
            "bin_end": 5533.616993987976,
            "count": 0
           },
           {
            "bin_start": 5533.616993987976,
            "bin_end": 6225.308496993987,
            "count": 0
           },
           {
            "bin_start": 6225.308496993987,
            "bin_end": 6917,
            "count": 1
           }
          ]
         }
        },
        {
         "name": "liveness",
         "dtype": "float64",
         "stats": {
          "unique_count": 8,
          "nan_count": 0,
          "min": "0.013891726251276812",
          "max": "6917.0",
          "histogram": [
           {
            "bin_start": 0.013891726251276812,
            "bin_end": 691.7125025536261,
            "count": 7
           },
           {
            "bin_start": 691.7125025536261,
            "bin_end": 1383.411113381001,
            "count": 0
           },
           {
            "bin_start": 1383.411113381001,
            "bin_end": 2075.1097242083756,
            "count": 0
           },
           {
            "bin_start": 2075.1097242083756,
            "bin_end": 2766.8083350357506,
            "count": 0
           },
           {
            "bin_start": 2766.8083350357506,
            "bin_end": 3458.5069458631256,
            "count": 0
           },
           {
            "bin_start": 3458.5069458631256,
            "bin_end": 4150.2055566905,
            "count": 0
           },
           {
            "bin_start": 4150.2055566905,
            "bin_end": 4841.904167517875,
            "count": 0
           },
           {
            "bin_start": 4841.904167517875,
            "bin_end": 5533.60277834525,
            "count": 0
           },
           {
            "bin_start": 5533.60277834525,
            "bin_end": 6225.301389172625,
            "count": 0
           },
           {
            "bin_start": 6225.301389172625,
            "bin_end": 6917,
            "count": 1
           }
          ]
         }
        },
        {
         "name": "danceability",
         "dtype": "float64",
         "stats": {
          "unique_count": 8,
          "nan_count": 0,
          "min": "0.1444557477110885",
          "max": "6917.0",
          "histogram": [
           {
            "bin_start": 0.1444557477110885,
            "bin_end": 691.83001017294,
            "count": 7
           },
           {
            "bin_start": 691.83001017294,
            "bin_end": 1383.515564598169,
            "count": 0
           },
           {
            "bin_start": 1383.515564598169,
            "bin_end": 2075.201119023398,
            "count": 0
           },
           {
            "bin_start": 2075.201119023398,
            "bin_end": 2766.886673448627,
            "count": 0
           },
           {
            "bin_start": 2766.886673448627,
            "bin_end": 3458.572227873856,
            "count": 0
           },
           {
            "bin_start": 3458.572227873856,
            "bin_end": 4150.257782299084,
            "count": 0
           },
           {
            "bin_start": 4150.257782299084,
            "bin_end": 4841.943336724314,
            "count": 0
           },
           {
            "bin_start": 4841.943336724314,
            "bin_end": 5533.628891149542,
            "count": 0
           },
           {
            "bin_start": 5533.628891149542,
            "bin_end": 6225.314445574771,
            "count": 0
           },
           {
            "bin_start": 6225.314445574771,
            "bin_end": 6917,
            "count": 1
           }
          ]
         }
        },
        {
         "name": "loudness",
         "dtype": "float64",
         "stats": {
          "unique_count": 8,
          "nan_count": 0,
          "min": "-23.4248291571754",
          "max": "6917.0",
          "histogram": [
           {
            "bin_start": -23.4248291571754,
            "bin_end": 670.6176537585421,
            "count": 7
           },
           {
            "bin_start": 670.6176537585421,
            "bin_end": 1364.6601366742595,
            "count": 0
           },
           {
            "bin_start": 1364.6601366742595,
            "bin_end": 2058.7026195899775,
            "count": 0
           },
           {
            "bin_start": 2058.7026195899775,
            "bin_end": 2752.745102505695,
            "count": 0
           },
           {
            "bin_start": 2752.745102505695,
            "bin_end": 3446.787585421412,
            "count": 0
           },
           {
            "bin_start": 3446.787585421412,
            "bin_end": 4140.83006833713,
            "count": 0
           },
           {
            "bin_start": 4140.83006833713,
            "bin_end": 4834.872551252847,
            "count": 0
           },
           {
            "bin_start": 4834.872551252847,
            "bin_end": 5528.9150341685645,
            "count": 0
           },
           {
            "bin_start": 5528.9150341685645,
            "bin_end": 6222.957517084282,
            "count": 0
           },
           {
            "bin_start": 6222.957517084282,
            "bin_end": 6917,
            "count": 1
           }
          ]
         }
        },
        {
         "name": "speechiness",
         "dtype": "float64",
         "stats": {
          "unique_count": 8,
          "nan_count": 0,
          "min": "0.05614035087719298",
          "max": "6917.0",
          "histogram": [
           {
            "bin_start": 0.05614035087719298,
            "bin_end": 691.7505263157894,
            "count": 7
           },
           {
            "bin_start": 691.7505263157894,
            "bin_end": 1383.4449122807018,
            "count": 0
           },
           {
            "bin_start": 1383.4449122807018,
            "bin_end": 2075.139298245614,
            "count": 0
           },
           {
            "bin_start": 2075.139298245614,
            "bin_end": 2766.8336842105264,
            "count": 0
           },
           {
            "bin_start": 2766.8336842105264,
            "bin_end": 3458.5280701754386,
            "count": 0
           },
           {
            "bin_start": 3458.5280701754386,
            "bin_end": 4150.222456140351,
            "count": 0
           },
           {
            "bin_start": 4150.222456140351,
            "bin_end": 4841.916842105263,
            "count": 0
           },
           {
            "bin_start": 4841.916842105263,
            "bin_end": 5533.6112280701755,
            "count": 0
           },
           {
            "bin_start": 5533.6112280701755,
            "bin_end": 6225.305614035088,
            "count": 0
           },
           {
            "bin_start": 6225.305614035088,
            "bin_end": 6917,
            "count": 1
           }
          ]
         }
        },
        {
         "name": "tempo",
         "dtype": "float64",
         "stats": {
          "unique_count": 8,
          "nan_count": 0,
          "min": "0.13089731015034856",
          "max": "6917.0",
          "histogram": [
           {
            "bin_start": 0.13089731015034856,
            "bin_end": 691.8178075791353,
            "count": 7
           },
           {
            "bin_start": 691.8178075791353,
            "bin_end": 1383.5047178481204,
            "count": 0
           },
           {
            "bin_start": 1383.5047178481204,
            "bin_end": 2075.191628117105,
            "count": 0
           },
           {
            "bin_start": 2075.191628117105,
            "bin_end": 2766.8785383860904,
            "count": 0
           },
           {
            "bin_start": 2766.8785383860904,
            "bin_end": 3458.5654486550757,
            "count": 0
           },
           {
            "bin_start": 3458.5654486550757,
            "bin_end": 4150.25235892406,
            "count": 0
           },
           {
            "bin_start": 4150.25235892406,
            "bin_end": 4841.939269193045,
            "count": 0
           },
           {
            "bin_start": 4841.939269193045,
            "bin_end": 5533.62617946203,
            "count": 0
           },
           {
            "bin_start": 5533.62617946203,
            "bin_end": 6225.313089731016,
            "count": 0
           },
           {
            "bin_start": 6225.313089731016,
            "bin_end": 6917,
            "count": 1
           }
          ]
         }
        },
        {
         "name": "popularity",
         "dtype": "float64",
         "stats": {
          "unique_count": 8,
          "nan_count": 0,
          "min": "0.0",
          "max": "6917.0",
          "histogram": [
           {
            "bin_start": 0,
            "bin_end": 691.7,
            "count": 7
           },
           {
            "bin_start": 691.7,
            "bin_end": 1383.4,
            "count": 0
           },
           {
            "bin_start": 1383.4,
            "bin_end": 2075.1000000000004,
            "count": 0
           },
           {
            "bin_start": 2075.1000000000004,
            "bin_end": 2766.8,
            "count": 0
           },
           {
            "bin_start": 2766.8,
            "bin_end": 3458.5,
            "count": 0
           },
           {
            "bin_start": 3458.5,
            "bin_end": 4150.200000000001,
            "count": 0
           },
           {
            "bin_start": 4150.200000000001,
            "bin_end": 4841.900000000001,
            "count": 0
           },
           {
            "bin_start": 4841.900000000001,
            "bin_end": 5533.6,
            "count": 0
           },
           {
            "bin_start": 5533.6,
            "bin_end": 6225.3,
            "count": 0
           },
           {
            "bin_start": 6225.3,
            "bin_end": 6917,
            "count": 1
           }
          ]
         }
        },
        {
         "name": "instrumentalness",
         "dtype": "float64",
         "stats": {
          "unique_count": 7,
          "nan_count": 0,
          "min": "0.0",
          "max": "6917.0",
          "histogram": [
           {
            "bin_start": 0,
            "bin_end": 691.7,
            "count": 7
           },
           {
            "bin_start": 691.7,
            "bin_end": 1383.4,
            "count": 0
           },
           {
            "bin_start": 1383.4,
            "bin_end": 2075.1000000000004,
            "count": 0
           },
           {
            "bin_start": 2075.1000000000004,
            "bin_end": 2766.8,
            "count": 0
           },
           {
            "bin_start": 2766.8,
            "bin_end": 3458.5,
            "count": 0
           },
           {
            "bin_start": 3458.5,
            "bin_end": 4150.200000000001,
            "count": 0
           },
           {
            "bin_start": 4150.200000000001,
            "bin_end": 4841.900000000001,
            "count": 0
           },
           {
            "bin_start": 4841.900000000001,
            "bin_end": 5533.6,
            "count": 0
           },
           {
            "bin_start": 5533.6,
            "bin_end": 6225.3,
            "count": 0
           },
           {
            "bin_start": 6225.3,
            "bin_end": 6917,
            "count": 1
           }
          ]
         }
        },
        {
         "name": "_deepnote_index_column",
         "dtype": "object"
        }
       ],
       "rows_top": [
        {
         "acousticness": 6917,
         "explicit": 6917,
         "duration_ms": 6917,
         "ArtistInt": 6917,
         "mode": 6917,
         "time_signature": 6917,
         "total_tracks": 6917,
         "key": 6917,
         "valence": 6917,
         "energy": 6917,
         "liveness": 6917,
         "danceability": 6917,
         "loudness": 6917,
         "speechiness": 6917,
         "tempo": 6917,
         "popularity": 6917,
         "instrumentalness": 6917,
         "_deepnote_index_column": "count"
        },
        {
         "acousticness": 0.18189737374604947,
         "explicit": 0.31776781841838947,
         "duration_ms": 0.3892660156186434,
         "ArtistInt": 0.4961695546253966,
         "mode": 0.5843573803672112,
         "time_signature": 0.7945062888535492,
         "total_tracks": 0.09424432557467112,
         "key": 0.48625915070905673,
         "valence": 0.5463033547157045,
         "energy": 0.681577424039926,
         "liveness": 0.18833140891495734,
         "danceability": 0.6745143071951379,
         "loudness": -7.660526555846199,
         "speechiness": 0.27877453500746224,
         "tempo": 0.5608447046552294,
         "popularity": 0.6049154257626139,
         "instrumentalness": 0.035748261653631715,
         "_deepnote_index_column": "mean"
        },
        {
         "acousticness": 0.21787842429383136,
         "explicit": 0.46564232878563416,
         "duration_ms": 0.09183262808070351,
         "ArtistInt": 0.28831007492613187,
         "mode": 0.49286808731886733,
         "time_signature": 0.0494493083009781,
         "total_tracks": 0.06615185648136417,
         "key": 0.32886423471307347,
         "valence": 0.2368266060373108,
         "energy": 0.17417196332163937,
         "liveness": 0.150933748430273,
         "danceability": 0.1542761258624699,
         "loudness": 3.170647919053156,
         "speechiness": 0.24163552230681828,
         "tempo": 0.13089731015034856,
         "popularity": 0.12944707988165985,
         "instrumentalness": 0.1424861647993701,
         "_deepnote_index_column": "std"
        },
        {
         "acousticness": 0.000001688708036622584,
         "explicit": 0,
         "duration_ms": 0.2030326537579454,
         "ArtistInt": 0,
         "mode": 0,
         "time_signature": 0.2,
         "total_tracks": 0.008,
         "key": 0,
         "valence": 0.026395939086294416,
         "energy": 0.08496993987975952,
         "liveness": 0.013891726251276812,
         "danceability": 0.1444557477110885,
         "loudness": -23.4248291571754,
         "speechiness": 0.05614035087719298,
         "tempo": 0.24363976171008062,
         "popularity": 0,
         "instrumentalness": 0,
         "_deepnote_index_column": "min"
        },
        {
         "acousticness": 0.020752797558494407,
         "explicit": 0,
         "duration_ms": 0.32697023625427374,
         "ArtistInt": 0.24562006183442117,
         "mode": 0,
         "time_signature": 0.8,
         "total_tracks": 0.064,
         "key": 0.18181818181818182,
         "valence": 0.3614213197969543,
         "energy": 0.56312625250501,
         "liveness": 0.09356486210418795,
         "danceability": 0.5717192268565616,
         "loudness": -9.300683371298406,
         "speechiness": 0.10175438596491226,
         "tempo": 0.4512136432659736,
         "popularity": 0.53,
         "instrumentalness": 0,
         "_deepnote_index_column": "25%"
        },
        {
         "acousticness": 0.08952187182095625,
         "explicit": 0,
         "duration_ms": 0.37812345253366186,
         "ArtistInt": 0.4936447956028856,
         "mode": 1,
         "time_signature": 0.8,
         "total_tracks": 0.096,
         "key": 0.5454545454545454,
         "valence": 0.5543147208121828,
         "energy": 0.6973947895791582,
         "liveness": 0.12768130745658834,
         "danceability": 0.6907426246185148,
         "loudness": -7.12756264236902,
         "speechiness": 0.16165413533834586,
         "tempo": 0.5607288868122883,
         "popularity": 0.62,
         "instrumentalness": 0.0000023329907502569373,
         "_deepnote_index_column": "50%"
        },
        {
         "acousticness": 0.26551373346897256,
         "explicit": 1,
         "duration_ms": 0.43916862291762787,
         "ArtistInt": 0.7440742013053934,
         "mode": 1,
         "time_signature": 0.8,
         "total_tracks": 0.128,
         "key": 0.7272727272727273,
         "valence": 0.7390862944162436,
         "energy": 0.8196392785571142,
         "liveness": 0.2410623084780388,
         "danceability": 0.7884028484231943,
         "loudness": -5.452164009111617,
         "speechiness": 0.39348370927318294,
         "tempo": 0.6355752832613012,
         "popularity": 0.69,
         "instrumentalness": 0.00048304213771839673,
         "_deepnote_index_column": "75%"
        },
        {
         "acousticness": 1,
         "explicit": 1,
         "duration_ms": 1,
         "ArtistInt": 1,
         "mode": 1,
         "time_signature": 1,
         "total_tracks": 1,
         "key": 1,
         "valence": 1,
         "energy": 1,
         "liveness": 1,
         "danceability": 1,
         "loudness": 1,
         "speechiness": 1,
         "tempo": 1,
         "popularity": 1,
         "instrumentalness": 1,
         "_deepnote_index_column": "max"
        }
       ],
       "rows_bottom": null
      },
      "text/plain": "       acousticness     explicit  duration_ms    ArtistInt         mode  \\\ncount   6917.000000  6917.000000  6917.000000  6917.000000  6917.000000   \nmean       0.181897     0.317768     0.389266     0.496170     0.584357   \nstd        0.217878     0.465642     0.091833     0.288310     0.492868   \nmin        0.000002     0.000000     0.203033     0.000000     0.000000   \n25%        0.020753     0.000000     0.326970     0.245620     0.000000   \n50%        0.089522     0.000000     0.378123     0.493645     1.000000   \n75%        0.265514     1.000000     0.439169     0.744074     1.000000   \nmax        1.000000     1.000000     1.000000     1.000000     1.000000   \n\n       time_signature  total_tracks          key      valence       energy  \\\ncount     6917.000000   6917.000000  6917.000000  6917.000000  6917.000000   \nmean         0.794506      0.094244     0.486259     0.546303     0.681577   \nstd          0.049449      0.066152     0.328864     0.236827     0.174172   \nmin          0.200000      0.008000     0.000000     0.026396     0.084970   \n25%          0.800000      0.064000     0.181818     0.361421     0.563126   \n50%          0.800000      0.096000     0.545455     0.554315     0.697395   \n75%          0.800000      0.128000     0.727273     0.739086     0.819639   \nmax          1.000000      1.000000     1.000000     1.000000     1.000000   \n\n          liveness  danceability     loudness  speechiness        tempo  \\\ncount  6917.000000   6917.000000  6917.000000  6917.000000  6917.000000   \nmean      0.188331      0.674514    -7.660527     0.278775     0.560845   \nstd       0.150934      0.154276     3.170648     0.241636     0.130897   \nmin       0.013892      0.144456   -23.424829     0.056140     0.243640   \n25%       0.093565      0.571719    -9.300683     0.101754     0.451214   \n50%       0.127681      0.690743    -7.127563     0.161654     0.560729   \n75%       0.241062      0.788403    -5.452164     0.393484     0.635575   \nmax       1.000000      1.000000     1.000000     1.000000     1.000000   \n\n        popularity  instrumentalness  \ncount  6917.000000       6917.000000  \nmean      0.604915          0.035748  \nstd       0.129447          0.142486  \nmin       0.000000          0.000000  \n25%       0.530000          0.000000  \n50%       0.620000          0.000002  \n75%       0.690000          0.000483  \nmax       1.000000          1.000000  ",
      "text/html": "<div>\n<style scoped>\n    .dataframe tbody tr th:only-of-type {\n        vertical-align: middle;\n    }\n\n    .dataframe tbody tr th {\n        vertical-align: top;\n    }\n\n    .dataframe thead th {\n        text-align: right;\n    }\n</style>\n<table border=\"1\" class=\"dataframe\">\n  <thead>\n    <tr style=\"text-align: right;\">\n      <th></th>\n      <th>acousticness</th>\n      <th>explicit</th>\n      <th>duration_ms</th>\n      <th>ArtistInt</th>\n      <th>mode</th>\n      <th>time_signature</th>\n      <th>total_tracks</th>\n      <th>key</th>\n      <th>valence</th>\n      <th>energy</th>\n      <th>liveness</th>\n      <th>danceability</th>\n      <th>loudness</th>\n      <th>speechiness</th>\n      <th>tempo</th>\n      <th>popularity</th>\n      <th>instrumentalness</th>\n    </tr>\n  </thead>\n  <tbody>\n    <tr>\n      <th>count</th>\n      <td>6917.000000</td>\n      <td>6917.000000</td>\n      <td>6917.000000</td>\n      <td>6917.000000</td>\n      <td>6917.000000</td>\n      <td>6917.000000</td>\n      <td>6917.000000</td>\n      <td>6917.000000</td>\n      <td>6917.000000</td>\n      <td>6917.000000</td>\n      <td>6917.000000</td>\n      <td>6917.000000</td>\n      <td>6917.000000</td>\n      <td>6917.000000</td>\n      <td>6917.000000</td>\n      <td>6917.000000</td>\n      <td>6917.000000</td>\n    </tr>\n    <tr>\n      <th>mean</th>\n      <td>0.181897</td>\n      <td>0.317768</td>\n      <td>0.389266</td>\n      <td>0.496170</td>\n      <td>0.584357</td>\n      <td>0.794506</td>\n      <td>0.094244</td>\n      <td>0.486259</td>\n      <td>0.546303</td>\n      <td>0.681577</td>\n      <td>0.188331</td>\n      <td>0.674514</td>\n      <td>-7.660527</td>\n      <td>0.278775</td>\n      <td>0.560845</td>\n      <td>0.604915</td>\n      <td>0.035748</td>\n    </tr>\n    <tr>\n      <th>std</th>\n      <td>0.217878</td>\n      <td>0.465642</td>\n      <td>0.091833</td>\n      <td>0.288310</td>\n      <td>0.492868</td>\n      <td>0.049449</td>\n      <td>0.066152</td>\n      <td>0.328864</td>\n      <td>0.236827</td>\n      <td>0.174172</td>\n      <td>0.150934</td>\n      <td>0.154276</td>\n      <td>3.170648</td>\n      <td>0.241636</td>\n      <td>0.130897</td>\n      <td>0.129447</td>\n      <td>0.142486</td>\n    </tr>\n    <tr>\n      <th>min</th>\n      <td>0.000002</td>\n      <td>0.000000</td>\n      <td>0.203033</td>\n      <td>0.000000</td>\n      <td>0.000000</td>\n      <td>0.200000</td>\n      <td>0.008000</td>\n      <td>0.000000</td>\n      <td>0.026396</td>\n      <td>0.084970</td>\n      <td>0.013892</td>\n      <td>0.144456</td>\n      <td>-23.424829</td>\n      <td>0.056140</td>\n      <td>0.243640</td>\n      <td>0.000000</td>\n      <td>0.000000</td>\n    </tr>\n    <tr>\n      <th>25%</th>\n      <td>0.020753</td>\n      <td>0.000000</td>\n      <td>0.326970</td>\n      <td>0.245620</td>\n      <td>0.000000</td>\n      <td>0.800000</td>\n      <td>0.064000</td>\n      <td>0.181818</td>\n      <td>0.361421</td>\n      <td>0.563126</td>\n      <td>0.093565</td>\n      <td>0.571719</td>\n      <td>-9.300683</td>\n      <td>0.101754</td>\n      <td>0.451214</td>\n      <td>0.530000</td>\n      <td>0.000000</td>\n    </tr>\n    <tr>\n      <th>50%</th>\n      <td>0.089522</td>\n      <td>0.000000</td>\n      <td>0.378123</td>\n      <td>0.493645</td>\n      <td>1.000000</td>\n      <td>0.800000</td>\n      <td>0.096000</td>\n      <td>0.545455</td>\n      <td>0.554315</td>\n      <td>0.697395</td>\n      <td>0.127681</td>\n      <td>0.690743</td>\n      <td>-7.127563</td>\n      <td>0.161654</td>\n      <td>0.560729</td>\n      <td>0.620000</td>\n      <td>0.000002</td>\n    </tr>\n    <tr>\n      <th>75%</th>\n      <td>0.265514</td>\n      <td>1.000000</td>\n      <td>0.439169</td>\n      <td>0.744074</td>\n      <td>1.000000</td>\n      <td>0.800000</td>\n      <td>0.128000</td>\n      <td>0.727273</td>\n      <td>0.739086</td>\n      <td>0.819639</td>\n      <td>0.241062</td>\n      <td>0.788403</td>\n      <td>-5.452164</td>\n      <td>0.393484</td>\n      <td>0.635575</td>\n      <td>0.690000</td>\n      <td>0.000483</td>\n    </tr>\n    <tr>\n      <th>max</th>\n      <td>1.000000</td>\n      <td>1.000000</td>\n      <td>1.000000</td>\n      <td>1.000000</td>\n      <td>1.000000</td>\n      <td>1.000000</td>\n      <td>1.000000</td>\n      <td>1.000000</td>\n      <td>1.000000</td>\n      <td>1.000000</td>\n      <td>1.000000</td>\n      <td>1.000000</td>\n      <td>1.000000</td>\n      <td>1.000000</td>\n      <td>1.000000</td>\n      <td>1.000000</td>\n      <td>1.000000</td>\n    </tr>\n  </tbody>\n</table>\n</div>"
     },
     "metadata": {},
     "output_type": "display_data"
    },
    {
     "name": "stdout",
     "text": "X_train.shape (5533, 17)\ny_train.shape (5533,)\nX_test.shape (1384, 17)\ny_test.shape (1384,)\n",
     "output_type": "stream",
     "data": {}
    }
   ]
  },
  {
   "cell_type": "code",
   "source": "",
   "metadata": {
    "tags": [],
    "cell_id": "00016-c4618d6f-6cd1-4e81-b2ed-c59d8692efb2",
    "deepnote_to_be_reexecuted": false,
    "source_hash": "b623e53d",
    "execution_start": 1641336038630,
    "deepnote_cell_type": "code"
   },
   "outputs": [],
   "execution_count": 13
  },
  {
   "cell_type": "code",
   "metadata": {
    "cell_id": "00014-ede340b9-c184-4dbe-a589-adfd8af2f286",
    "deepnote_to_be_reexecuted": false,
    "source_hash": "11cc6cf5",
    "execution_start": 1641336038679,
    "execution_millis": 53849,
    "deepnote_cell_type": "code"
   },
   "source": "from sklearn.neural_network import MLPClassifier\nfrom sklearn.model_selection import GridSearchCV\nimport itertools\n\nparams = {'activation': ['tanh', 'logistic', 'relu'],\n          'hidden_layer_sizes':list(itertools.permutations([10,20,50, 100, 200],2))+ [10, 20, 30, 50],\n          'solver': ['adam','lbfgs'],\n         }\n\nparams = {'activation': ['relu'],\n          'hidden_layer_sizes':list(itertools.permutations([10,20],2)),\n          'solver': ['adam'],\n         }\nprint(params)\n\nmlp = GridSearchCV(MLPClassifier(random_state=123,max_iter=1000, solver='adam'), param_grid=params, n_jobs=-1, cv=5, verbose=5)\nmlp.fit(X_train,y_train)\n\npredict_train = mlp.predict(X_train)\npredict_test = mlp.predict(X_test)\nprint('Report: ', classification_report(y_test,predict_test))\nprint('Best Parameters : ', mlp.best_params_)",
   "execution_count": 14,
   "outputs": [
    {
     "name": "stdout",
     "text": "{'activation': ['relu'], 'hidden_layer_sizes': [(10, 20), (20, 10)], 'solver': ['adam']}\nFitting 5 folds for each of 2 candidates, totalling 10 fits\nReport:                precision    recall  f1-score   support\n\n           0       0.75      0.70      0.72       188\n           1       0.49      0.54      0.51       192\n           2       0.46      0.49      0.47       201\n           3       0.50      0.49      0.50       238\n           4       0.38      0.26      0.31       137\n           5       0.47      0.49      0.48       194\n           6       0.68      0.73      0.70       234\n\n    accuracy                           0.54      1384\n   macro avg       0.53      0.53      0.53      1384\nweighted avg       0.54      0.54      0.54      1384\n\nBest Parameters :  {'activation': 'relu', 'hidden_layer_sizes': (10, 20), 'solver': 'adam'}\n",
     "output_type": "stream",
     "data": {}
    }
   ]
  },
  {
   "cell_type": "code",
   "metadata": {
    "cell_id": "00015-8dcc883e-da6e-4141-982a-a3b7d226a0a7",
    "deepnote_to_be_reexecuted": false,
    "source_hash": "5a4bdb8",
    "execution_start": 1641336092528,
    "execution_millis": 124,
    "deepnote_cell_type": "code"
   },
   "source": "\nprint(confusion_matrix(y_train,predict_train))",
   "execution_count": 15,
   "outputs": [
    {
     "name": "stdout",
     "text": "[[551  10  46  99   9  11  42]\n [  5 417  50  45  42 208  12]\n [ 18  44 482 115  44  28 104]\n [ 65  11  90 527  46  89  95]\n [ 10  51 143  91 159  89  51]\n [  6 238  22  79  23 352  12]\n [ 28   8  65  77  11   4 709]]\n",
     "output_type": "stream",
     "data": {}
    }
   ]
  },
  {
   "cell_type": "code",
   "metadata": {
    "cell_id": "00016-ff84e1e0-cbbd-4b6f-b3b3-98249b96da7f",
    "deepnote_to_be_reexecuted": false,
    "source_hash": "59512440",
    "execution_start": 1641336135674,
    "execution_millis": 6,
    "deepnote_cell_type": "code"
   },
   "source": "# from imblearn.over_sampling import SMOTE\n# from imblearn.under_sampling import RandomUnderSampler\n# from imblearn.pipeline import Pipeline, make_pipeline",
   "execution_count": 17,
   "outputs": []
  },
  {
   "cell_type": "code",
   "source": "from sklearn.utils import class_weight\nclass_weight = class_weight.compute_class_weight(class_weight='balanced',\n                                                 classes=np.unique(y_test),\n                                                 y=y_test)\nclass_weight",
   "metadata": {
    "tags": [],
    "cell_id": "00020-aada84eb-dd90-4ef3-bc06-5f4d7db7e631",
    "deepnote_to_be_reexecuted": false,
    "source_hash": "cc07d3fc",
    "execution_start": 1641336135684,
    "execution_millis": 18,
    "deepnote_output_heights": [
     40.390625
    ],
    "deepnote_cell_type": "code"
   },
   "outputs": [
    {
     "output_type": "execute_result",
     "execution_count": 18,
     "data": {
      "text/plain": "array([1.05167173, 1.0297619 , 0.98365316, 0.83073229, 1.44316997,\n       1.0191458 , 0.84493284])"
     },
     "metadata": {}
    }
   ],
   "execution_count": 18
  },
  {
   "cell_type": "code",
   "source": "from sklearn.neural_network import MLPClassifier\nfrom sklearn.model_selection import GridSearchCV\nimport itertools\n\nparams = {'activation': ['tanh', 'logistic', 'relu'],\n          'hidden_layer_sizes':list(itertools.permutations([10,20,50, 100, 200],2))+ [10, 20, 30, 50],\n          'solver': ['adam','lbfgs'],\n         }\n\nparams = {'activation': ['relu'],\n          'hidden_layer_sizes':list(itertools.permutations([10,20],2)),\n          'solver': ['adam'],\n         }\nprint(params)\n# , class_weight=class_weight\nmlp = GridSearchCV(MLPClassifier(random_state=123,max_iter=1000, solver='adam'), param_grid=params, n_jobs=-1, cv=5, verbose=5)\nmlp.fit(X_train,y_train)\n\npredict_train = mlp.predict(X_train)\npredict_test = mlp.predict(X_test)\nprint('Report: ', classification_report(y_test,predict_test))\nprint('Best Parameters : ', mlp.best_params_)",
   "metadata": {
    "tags": [],
    "cell_id": "00021-6d0ae66c-da33-409c-a53f-fabc98e95b41",
    "deepnote_to_be_reexecuted": false,
    "source_hash": "1fac93dd",
    "execution_start": 1641336386759,
    "execution_millis": 53006,
    "deepnote_cell_type": "code"
   },
   "outputs": [
    {
     "name": "stdout",
     "text": "{'activation': ['relu'], 'hidden_layer_sizes': [(10, 20), (20, 10)], 'solver': ['adam']}\nFitting 5 folds for each of 2 candidates, totalling 10 fits\nReport:                precision    recall  f1-score   support\n\n           0       0.75      0.70      0.72       188\n           1       0.49      0.54      0.51       192\n           2       0.46      0.49      0.47       201\n           3       0.50      0.49      0.50       238\n           4       0.38      0.26      0.31       137\n           5       0.47      0.49      0.48       194\n           6       0.68      0.73      0.70       234\n\n    accuracy                           0.54      1384\n   macro avg       0.53      0.53      0.53      1384\nweighted avg       0.54      0.54      0.54      1384\n\nBest Parameters :  {'activation': 'relu', 'hidden_layer_sizes': (10, 20), 'solver': 'adam'}\n",
     "output_type": "stream",
     "data": {}
    }
   ],
   "execution_count": 41
  },
  {
   "cell_type": "code",
   "source": "y_test[0]",
   "metadata": {
    "tags": [],
    "cell_id": "00022-8b20898e-e16f-4b85-91f5-8d873fef4da9",
    "deepnote_to_be_reexecuted": true,
    "source_hash": "11521f57",
    "execution_start": 1641335536391,
    "execution_millis": 10,
    "deepnote_output_heights": [
     21.1875
    ],
    "deepnote_cell_type": "code"
   },
   "outputs": [
    {
     "output_type": "execute_result",
     "execution_count": 70,
     "data": {
      "text/plain": "6"
     },
     "metadata": {}
    }
   ],
   "execution_count": null
  },
  {
   "cell_type": "code",
   "source": "mlp.best_estimator_.score(X=X_test, y=y_test, sample_weight=class_weight[y_test])",
   "metadata": {
    "tags": [],
    "cell_id": "00024-6c77800b-1cfc-49c8-819c-a43f4398e21e",
    "deepnote_to_be_reexecuted": false,
    "source_hash": "e91b9d3c",
    "execution_start": 1641336261391,
    "execution_millis": 11,
    "deepnote_output_heights": [
     21.1875
    ],
    "deepnote_cell_type": "code"
   },
   "outputs": [
    {
     "output_type": "execute_result",
     "execution_count": 23,
     "data": {
      "text/plain": "0.5294475906913857"
     },
     "metadata": {}
    }
   ],
   "execution_count": 23
  },
  {
   "cell_type": "code",
   "source": "print(confusion_matrix(y_train,predict_train))\n",
   "metadata": {
    "tags": [],
    "cell_id": "00022-295b9d45-2f01-420e-bd87-92bf69d2f4bc",
    "deepnote_to_be_reexecuted": false,
    "source_hash": "ea8f446a",
    "execution_start": 1641336262779,
    "execution_millis": 23,
    "deepnote_cell_type": "code"
   },
   "outputs": [
    {
     "name": "stdout",
     "text": "[[551  10  46  99   9  11  42]\n [  5 417  50  45  42 208  12]\n [ 18  44 482 115  44  28 104]\n [ 65  11  90 527  46  89  95]\n [ 10  51 143  91 159  89  51]\n [  6 238  22  79  23 352  12]\n [ 28   8  65  77  11   4 709]]\n",
     "output_type": "stream",
     "data": {}
    }
   ],
   "execution_count": 24
  },
  {
   "cell_type": "code",
   "source": "from sklearn.preprocessing import StandardScaler  \nscaler = StandardScaler()  \n# Don't cheat - fit only on training data\nscaler.fit(X_train)  \nX_train_scaled = scaler.transform(X_train)\n# apply same transformation to test data\nX_test_scaled = scaler.transform(X_test)  ",
   "metadata": {
    "tags": [],
    "cell_id": "00027-05f0a572-9a70-45b3-9a7d-7d7360220901",
    "deepnote_to_be_reexecuted": false,
    "source_hash": "62a8f2b4",
    "execution_start": 1641336309527,
    "execution_millis": 5,
    "deepnote_cell_type": "code"
   },
   "outputs": [],
   "execution_count": 33
  },
  {
   "cell_type": "code",
   "source": "X_train_scaled.describe()",
   "metadata": {
    "tags": [],
    "cell_id": "00028-48a3ab55-858e-412c-9c77-d30e31908ae0",
    "deepnote_to_be_reexecuted": false,
    "source_hash": "87ee9eb",
    "execution_start": 1641336310575,
    "execution_millis": 326,
    "deepnote_output_heights": [
     251.640625
    ],
    "deepnote_cell_type": "code"
   },
   "outputs": [
    {
     "output_type": "error",
     "ename": "AttributeError",
     "evalue": "'numpy.ndarray' object has no attribute 'describe'",
     "traceback": [
      "\u001b[0;31m---------------------------------------------------------------------------\u001b[0m",
      "\u001b[0;31mAttributeError\u001b[0m                            Traceback (most recent call last)",
      "\u001b[0;32m<ipython-input-34-177fbe8a553d>\u001b[0m in \u001b[0;36m<module>\u001b[0;34m\u001b[0m\n\u001b[0;32m----> 1\u001b[0;31m \u001b[0mX_train_scaled\u001b[0m\u001b[0;34m.\u001b[0m\u001b[0mdescribe\u001b[0m\u001b[0;34m(\u001b[0m\u001b[0;34m)\u001b[0m\u001b[0;34m\u001b[0m\u001b[0;34m\u001b[0m\u001b[0m\n\u001b[0m",
      "\u001b[0;31mAttributeError\u001b[0m: 'numpy.ndarray' object has no attribute 'describe'"
     ],
     "data": {}
    }
   ],
   "execution_count": 34
  },
  {
   "cell_type": "code",
   "source": "X_train_scaled.max()",
   "metadata": {
    "tags": [],
    "cell_id": "00029-4aaa7158-a877-42c8-9cbb-733a6e184e89",
    "deepnote_to_be_reexecuted": false,
    "source_hash": "cc5879d1",
    "execution_start": 1641336374013,
    "execution_millis": 9,
    "deepnote_output_heights": [
     21.1875
    ],
    "deepnote_cell_type": "code"
   },
   "outputs": [
    {
     "output_type": "execute_result",
     "execution_count": 40,
     "data": {
      "text/plain": "13.771323424508234"
     },
     "metadata": {}
    }
   ],
   "execution_count": 40
  },
  {
   "cell_type": "code",
   "source": "from sklearn.neural_network import MLPClassifier\nfrom sklearn.model_selection import GridSearchCV\nimport itertools\n\nparams = {'activation': ['tanh', 'logistic', 'relu'],\n          'hidden_layer_sizes':list(itertools.permutations([10,20,50, 100, 200],2))+ [10, 20, 30, 50],\n          'solver': ['adam','lbfgs'],\n         }\n\nparams = {'activation': ['relu'],\n          'hidden_layer_sizes':list(itertools.permutations([10,20],2)),\n          'solver': ['adam'],\n         }\nprint(params)\n# , class_weight=class_weight\nmlp = GridSearchCV(MLPClassifier(random_state=123,max_iter=1000, solver='adam'), param_grid=params, n_jobs=-1, cv=5, verbose=5)\nmlp.fit(X_train_scaled,y_train)\n\npredict_train = mlp.predict(X_train_scaled)\npredict_test = mlp.predict(X_test_scaled)\nprint('Report: ', classification_report(y_test,predict_test))\nprint('Best Parameters : ', mlp.best_params_)",
   "metadata": {
    "tags": [],
    "cell_id": "00031-1df7d238-573a-4078-89cf-2f686b60b53f",
    "deepnote_to_be_reexecuted": false,
    "source_hash": "4feb86e6",
    "execution_start": 1641336504598,
    "execution_millis": 118508,
    "deepnote_cell_type": "code"
   },
   "outputs": [
    {
     "name": "stdout",
     "text": "{'activation': ['relu'], 'hidden_layer_sizes': [(10, 20), (20, 10)], 'solver': ['adam']}\nFitting 5 folds for each of 2 candidates, totalling 10 fits\nReport:                precision    recall  f1-score   support\n\n           0       0.77      0.80      0.78       188\n           1       0.51      0.54      0.52       192\n           2       0.52      0.52      0.52       201\n           3       0.56      0.51      0.54       238\n           4       0.44      0.44      0.44       137\n           5       0.50      0.50      0.50       194\n           6       0.72      0.73      0.72       234\n\n    accuracy                           0.58      1384\n   macro avg       0.57      0.58      0.58      1384\nweighted avg       0.58      0.58      0.58      1384\n\nBest Parameters :  {'activation': 'relu', 'hidden_layer_sizes': (10, 20), 'solver': 'adam'}\n",
     "output_type": "stream",
     "data": {}
    }
   ],
   "execution_count": 42
  },
  {
   "cell_type": "code",
   "source": "print(confusion_matrix(y_train,predict_train))\n",
   "metadata": {
    "tags": [],
    "cell_id": "00032-6fc3a578-1d2c-4d06-9ac5-28fcbe88e65a",
    "deepnote_to_be_reexecuted": false,
    "source_hash": "ea8f446a",
    "execution_start": 1641336641932,
    "execution_millis": 12,
    "deepnote_cell_type": "code"
   },
   "outputs": [
    {
     "name": "stdout",
     "text": "[[597   4  27  75  17   8  40]\n [  3 450  36  31  51 201   7]\n [ 18  33 532  84  62  34  72]\n [ 91   6  74 528  60  90  74]\n [ 12  53  76  89 275  63  26]\n [  8 239  21  53  45 362   4]\n [ 30   7  56  62  20   5 722]]\n",
     "output_type": "stream",
     "data": {}
    }
   ],
   "execution_count": 43
  },
  {
   "cell_type": "code",
   "source": "mlp.best_estimator_.score(X=X_test_scaled, y=y_test, sample_weight=class_weight[y_test])",
   "metadata": {
    "tags": [],
    "cell_id": "00033-15d4340b-450d-4750-8f10-38fe4658add7",
    "deepnote_to_be_reexecuted": false,
    "source_hash": "75237462",
    "execution_start": 1641336670131,
    "execution_millis": 12,
    "deepnote_output_heights": [
     21.1875
    ],
    "deepnote_cell_type": "code"
   },
   "outputs": [
    {
     "output_type": "execute_result",
     "execution_count": 45,
     "data": {
      "text/plain": "0.5768641729465653"
     },
     "metadata": {}
    }
   ],
   "execution_count": 45
  },
  {
   "cell_type": "code",
   "source": "",
   "metadata": {
    "tags": [],
    "cell_id": "00034-70029148-7bd0-492c-9b4f-639c224a01dd",
    "deepnote_to_be_reexecuted": true,
    "source_hash": "b623e53d",
    "deepnote_cell_type": "code"
   },
   "outputs": [],
   "execution_count": null
  },
  {
   "cell_type": "code",
   "source": "",
   "metadata": {
    "tags": [],
    "cell_id": "00035-aff40b61-61b1-449b-b543-26c43466af98",
    "deepnote_to_be_reexecuted": true,
    "source_hash": "b623e53d",
    "deepnote_cell_type": "code"
   },
   "outputs": [],
   "execution_count": null
  },
  {
   "cell_type": "code",
   "source": "",
   "metadata": {
    "tags": [],
    "cell_id": "00036-dbd508e3-1988-4c90-9337-0c3913024cf5",
    "deepnote_cell_type": "code"
   },
   "outputs": [],
   "execution_count": null
  },
  {
   "cell_type": "markdown",
   "source": "<a style='text-decoration:none;line-height:16px;display:flex;color:#5B5B62;padding:10px;justify-content:end;' href='https://deepnote.com?utm_source=created-in-deepnote-cell&projectId=5dbf8dab-f1d9-40b3-bdba-bfa490588cc7' target=\"_blank\">\n<img alt='Created in deepnote.com' style='display:inline;max-height:16px;margin:0px;margin-right:7.5px;' src='data:image/svg+xml;base64,PD94bWwgdmVyc2lvbj0iMS4wIiBlbmNvZGluZz0iVVRGLTgiPz4KPHN2ZyB3aWR0aD0iODBweCIgaGVpZ2h0PSI4MHB4IiB2aWV3Qm94PSIwIDAgODAgODAiIHZlcnNpb249IjEuMSIgeG1sbnM9Imh0dHA6Ly93d3cudzMub3JnLzIwMDAvc3ZnIiB4bWxuczp4bGluaz0iaHR0cDovL3d3dy53My5vcmcvMTk5OS94bGluayI+CiAgICA8IS0tIEdlbmVyYXRvcjogU2tldGNoIDU0LjEgKDc2NDkwKSAtIGh0dHBzOi8vc2tldGNoYXBwLmNvbSAtLT4KICAgIDx0aXRsZT5Hcm91cCAzPC90aXRsZT4KICAgIDxkZXNjPkNyZWF0ZWQgd2l0aCBTa2V0Y2guPC9kZXNjPgogICAgPGcgaWQ9IkxhbmRpbmciIHN0cm9rZT0ibm9uZSIgc3Ryb2tlLXdpZHRoPSIxIiBmaWxsPSJub25lIiBmaWxsLXJ1bGU9ImV2ZW5vZGQiPgogICAgICAgIDxnIGlkPSJBcnRib2FyZCIgdHJhbnNmb3JtPSJ0cmFuc2xhdGUoLTEyMzUuMDAwMDAwLCAtNzkuMDAwMDAwKSI+CiAgICAgICAgICAgIDxnIGlkPSJHcm91cC0zIiB0cmFuc2Zvcm09InRyYW5zbGF0ZSgxMjM1LjAwMDAwMCwgNzkuMDAwMDAwKSI+CiAgICAgICAgICAgICAgICA8cG9seWdvbiBpZD0iUGF0aC0yMCIgZmlsbD0iIzAyNjVCNCIgcG9pbnRzPSIyLjM3NjIzNzYyIDgwIDM4LjA0NzY2NjcgODAgNTcuODIxNzgyMiA3My44MDU3NTkyIDU3LjgyMTc4MjIgMzIuNzU5MjczOSAzOS4xNDAyMjc4IDMxLjY4MzE2ODMiPjwvcG9seWdvbj4KICAgICAgICAgICAgICAgIDxwYXRoIGQ9Ik0zNS4wMDc3MTgsODAgQzQyLjkwNjIwMDcsNzYuNDU0OTM1OCA0Ny41NjQ5MTY3LDcxLjU0MjI2NzEgNDguOTgzODY2LDY1LjI2MTk5MzkgQzUxLjExMjI4OTksNTUuODQxNTg0MiA0MS42NzcxNzk1LDQ5LjIxMjIyODQgMjUuNjIzOTg0Niw0OS4yMTIyMjg0IEMyNS40ODQ5Mjg5LDQ5LjEyNjg0NDggMjkuODI2MTI5Niw0My4yODM4MjQ4IDM4LjY0NzU4NjksMzEuNjgzMTY4MyBMNzIuODcxMjg3MSwzMi41NTQ0MjUgTDY1LjI4MDk3Myw2Ny42NzYzNDIxIEw1MS4xMTIyODk5LDc3LjM3NjE0NCBMMzUuMDA3NzE4LDgwIFoiIGlkPSJQYXRoLTIyIiBmaWxsPSIjMDAyODY4Ij48L3BhdGg+CiAgICAgICAgICAgICAgICA8cGF0aCBkPSJNMCwzNy43MzA0NDA1IEwyNy4xMTQ1MzcsMC4yNTcxMTE0MzYgQzYyLjM3MTUxMjMsLTEuOTkwNzE3MDEgODAsMTAuNTAwMzkyNyA4MCwzNy43MzA0NDA1IEM4MCw2NC45NjA0ODgyIDY0Ljc3NjUwMzgsNzkuMDUwMzQxNCAzNC4zMjk1MTEzLDgwIEM0Ny4wNTUzNDg5LDc3LjU2NzA4MDggNTMuNDE4MjY3Nyw3MC4zMTM2MTAzIDUzLjQxODI2NzcsNTguMjM5NTg4NSBDNTMuNDE4MjY3Nyw0MC4xMjg1NTU3IDM2LjMwMzk1NDQsMzcuNzMwNDQwNSAyNS4yMjc0MTcsMzcuNzMwNDQwNSBDMTcuODQzMDU4NiwzNy43MzA0NDA1IDkuNDMzOTE5NjYsMzcuNzMwNDQwNSAwLDM3LjczMDQ0MDUgWiIgaWQ9IlBhdGgtMTkiIGZpbGw9IiMzNzkzRUYiPjwvcGF0aD4KICAgICAgICAgICAgPC9nPgogICAgICAgIDwvZz4KICAgIDwvZz4KPC9zdmc+' > </img>\nCreated in <span style='font-weight:600;margin-left:4px;'>Deepnote</span></a>",
   "metadata": {
    "tags": [],
    "created_in_deepnote_cell": true,
    "deepnote_cell_type": "markdown"
   }
  }
 ],
 "nbformat": 4,
 "nbformat_minor": 4,
 "metadata": {
  "colab": {
   "authorship_tag": "ABX9TyPuNClh1/xvE/djERVe9sho",
   "name": "Untitled1.ipynb",
   "provenance": []
  },
  "kernelspec": {
   "display_name": "Python 3 (ipykernel)",
   "language": "python",
   "name": "python3"
  },
  "language_info": {
   "codemirror_mode": {
    "name": "ipython",
    "version": 3
   },
   "file_extension": ".py",
   "mimetype": "text/x-python",
   "name": "python",
   "nbconvert_exporter": "python",
   "pygments_lexer": "ipython3",
   "version": "3.8.3"
  },
  "deepnote_notebook_id": "aa0c216f-8081-4039-86ea-ac255f10a3b0",
  "deepnote": {},
  "deepnote_execution_queue": []
 }
}