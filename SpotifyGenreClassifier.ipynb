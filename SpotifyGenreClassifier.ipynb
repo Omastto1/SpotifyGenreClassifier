{
  "nbformat": 4,
  "nbformat_minor": 0,
  "metadata": {
    "colab": {
      "name": "Untitled1.ipynb",
      "provenance": [],
      "authorship_tag": "ABX9TyPuNClh1/xvE/djERVe9sho"
    },
    "kernelspec": {
      "name": "python3",
      "display_name": "Python 3"
    },
    "language_info": {
      "name": "python"
    }
  },
  "cells": [
    {
      "cell_type": "code",
      "metadata": {
        "id": "2mEgTWaVCCps"
      },
      "source": [
        "import pandas as pd\n",
        "import seaborn as sns"
      ],
      "execution_count": 6,
      "outputs": []
    },
    {
      "cell_type": "markdown",
      "metadata": {
        "id": "-ZZY1R4HC2Ss"
      },
      "source": [
        "# New section"
      ]
    },
    {
      "cell_type": "code",
      "metadata": {
        "id": "wSMYrMmhDq6N"
      },
      "source": [
        "songs = pd.read_excel(\"spotify_genre_final.xlsx\")"
      ],
      "execution_count": 7,
      "outputs": []
    },
    {
      "cell_type": "code",
      "metadata": {
        "id": "PHFtC5dQD4Ed"
      },
      "source": [
        "songs"
      ],
      "execution_count": null,
      "outputs": []
    },
    {
      "cell_type": "code",
      "metadata": {
        "id": "h0jsdVegD8xN"
      },
      "source": [
        "songs_by_genre = songs.groupby(\"Genre\")"
      ],
      "execution_count": null,
      "outputs": []
    },
    {
      "cell_type": "code",
      "metadata": {
        "id": "vJP50oukEGPd"
      },
      "source": [
        "for genre, songs_group in songs_by_genre:\n",
        "  print(genre)\n",
        "  display(songs_group)"
      ],
      "execution_count": null,
      "outputs": []
    },
    {
      "cell_type": "code",
      "metadata": {
        "colab": {
          "base_uri": "https://localhost:8080/"
        },
        "id": "LzCHbstNEY38",
        "outputId": "05cbe66e-f839-4aa6-9265-c357e956058a"
      },
      "source": [
        "songs[\"Genre\"].value_counts()"
      ],
      "execution_count": 12,
      "outputs": [
        {
          "output_type": "execute_result",
          "data": {
            "text/plain": [
              "pop       1161\n",
              "rock      1136\n",
              "latin     1036\n",
              "hiphop     971\n",
              "edm        956\n",
              "rap        926\n",
              "r&b        731\n",
              "Name: Genre, dtype: int64"
            ]
          },
          "metadata": {},
          "execution_count": 12
        }
      ]
    }
  ]
}